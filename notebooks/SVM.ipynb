{
 "cells": [
  {
   "cell_type": "code",
   "execution_count": 1,
   "metadata": {},
   "outputs": [],
   "source": [
    "import pandas as pd\n",
    "import matplotlib.pyplot as plt\n",
    "from sklearn.svm import SVC,LinearSVC\n",
    "import numpy as np\n",
    "import seaborn as sns\n",
    "from sklearn.metrics import make_scorer, f1_score\n",
    "from sklearn.metrics import confusion_matrix, precision_score, recall_score, roc_auc_score\n",
    "from sklearn.metrics import classification_report, precision_recall_curve\n",
    "from sklearn.model_selection import StratifiedKFold, KFold,RandomizedSearchCV\n",
    "from sklearn.model_selection import train_test_split"
   ]
  },
  {
   "cell_type": "markdown",
   "metadata": {},
   "source": [
    "## Support Vector Machines (lineal y polinomico)"
   ]
  },
  {
   "cell_type": "code",
   "execution_count": 2,
   "metadata": {},
   "outputs": [
    {
     "data": {
      "text/plain": [
       "Index(['Unnamed: 0', 'customer_ID', 'S_2', 'P_2', 'D_39', 'B_1', 'B_2', 'R_1',\n",
       "       'S_3', 'D_41',\n",
       "       ...\n",
       "       'D_137', 'D_138', 'D_139', 'D_140', 'D_141', 'D_142', 'D_143', 'D_144',\n",
       "       'D_145', 'target'],\n",
       "      dtype='object', length=192)"
      ]
     },
     "execution_count": 2,
     "metadata": {},
     "output_type": "execute_result"
    }
   ],
   "source": [
    "#No recuerdo como utilizar el df directamente desde visual studio asi que lo baje a un csv y lo subi de vuelta\n",
    "df = pd.read_csv(\"train_data_final.csv\")\n",
    "\n",
    "\n",
    "\n",
    "df.shape\n",
    "\n",
    "df.columns"
   ]
  },
  {
   "cell_type": "code",
   "execution_count": 3,
   "metadata": {},
   "outputs": [],
   "source": [
    "categorical_variables = ['B_30', 'B_38', 'D_114', 'D_116', 'D_117', 'D_120', 'D_126', 'D_63', 'D_64', 'D_66', 'D_68'] \n",
    "\n",
    "df.drop(categorical_variables,axis=1,inplace=True)\n",
    "\n",
    "payment_variables = []\n",
    "spending_variables = []\n",
    "delinquency_variables = []\n",
    "balance_variables = []\n",
    "risk_variables = []\n",
    "for column in df.columns:\n",
    "    if 'P' in column:\n",
    "        payment_variables.append(column)\n",
    "    if 'S' in column:\n",
    "        spending_variables.append(column)\n",
    "    if 'D' in column and 'ID' not in column:\n",
    "        delinquency_variables.append(column)\n",
    "    if 'B' in column:\n",
    "        balance_variables.append(column)\n",
    "    if 'R' in column:\n",
    "        risk_variables.append(column)"
   ]
  },
  {
   "cell_type": "code",
   "execution_count": 4,
   "metadata": {},
   "outputs": [],
   "source": [
    "df.drop('customer_ID',axis=1,inplace=True)"
   ]
  },
  {
   "cell_type": "code",
   "execution_count": 5,
   "metadata": {},
   "outputs": [
    {
     "name": "stdout",
     "output_type": "stream",
     "text": [
      "Unnamed: 0\n",
      "P_2\n",
      "D_39\n",
      "B_1\n",
      "B_2\n",
      "R_1\n",
      "S_3\n",
      "D_41\n",
      "B_3\n",
      "D_43\n",
      "D_44\n",
      "B_4\n",
      "D_45\n",
      "B_5\n",
      "R_2\n",
      "D_46\n",
      "D_47\n",
      "D_48\n",
      "B_6\n",
      "B_7\n",
      "B_8\n",
      "D_50\n",
      "D_51\n",
      "B_9\n",
      "R_3\n",
      "D_52\n",
      "P_3\n",
      "B_10\n",
      "S_5\n",
      "B_11\n",
      "S_6\n",
      "D_54\n",
      "R_4\n",
      "S_7\n",
      "B_12\n",
      "S_8\n",
      "D_55\n",
      "D_56\n",
      "B_13\n",
      "R_5\n",
      "D_58\n",
      "S_9\n",
      "B_14\n",
      "D_59\n",
      "D_60\n",
      "D_61\n",
      "B_15\n",
      "S_11\n",
      "D_62\n",
      "D_65\n",
      "B_16\n",
      "B_17\n",
      "B_18\n",
      "B_19\n",
      "B_20\n",
      "S_12\n",
      "R_6\n",
      "S_13\n",
      "B_21\n",
      "D_69\n",
      "B_22\n",
      "D_70\n",
      "D_71\n",
      "D_72\n",
      "S_15\n",
      "B_23\n",
      "P_4\n",
      "D_74\n",
      "D_75\n",
      "B_24\n",
      "R_7\n",
      "D_77\n",
      "B_25\n",
      "B_26\n",
      "D_78\n",
      "D_79\n",
      "R_8\n",
      "S_16\n",
      "D_80\n",
      "R_10\n",
      "R_11\n",
      "B_27\n",
      "D_81\n",
      "S_17\n",
      "R_12\n",
      "B_28\n",
      "R_13\n",
      "D_83\n",
      "R_14\n",
      "R_15\n",
      "D_84\n",
      "R_16\n",
      "S_18\n",
      "D_86\n",
      "R_17\n",
      "R_18\n",
      "B_31\n",
      "S_19\n",
      "R_19\n",
      "B_32\n",
      "S_20\n",
      "R_20\n",
      "R_21\n",
      "B_33\n",
      "D_89\n",
      "R_22\n",
      "R_23\n",
      "D_91\n",
      "D_92\n",
      "D_93\n",
      "D_94\n",
      "R_24\n",
      "R_25\n",
      "D_96\n",
      "S_22\n",
      "S_23\n",
      "S_24\n",
      "S_25\n",
      "S_26\n",
      "D_102\n",
      "D_103\n",
      "D_104\n",
      "D_105\n",
      "D_107\n",
      "B_36\n",
      "B_37\n",
      "R_27\n",
      "D_109\n",
      "D_112\n",
      "B_40\n",
      "S_27\n",
      "D_113\n",
      "D_115\n",
      "D_118\n",
      "D_119\n",
      "D_121\n",
      "D_122\n",
      "D_123\n",
      "D_124\n",
      "D_125\n",
      "D_127\n",
      "D_128\n",
      "D_129\n",
      "B_41\n",
      "D_130\n",
      "D_131\n",
      "D_133\n",
      "R_28\n",
      "D_139\n",
      "D_140\n",
      "D_141\n",
      "D_143\n",
      "D_144\n",
      "D_145\n",
      "target\n"
     ]
    }
   ],
   "source": [
    "df = df.drop('S_2',axis=1)\\\n",
    ".drop('D_42',axis=1) \\\n",
    ".drop('D_49',axis=1) \\\n",
    ".drop('D_53',axis=1) \\\n",
    ".drop('D_73',axis=1) \\\n",
    ".drop('D_76',axis=1) \\\n",
    ".drop('R_9',axis=1)  \\\n",
    ".drop('D_82',axis=1) \\\n",
    ".drop('B_29',axis=1) \\\n",
    ".drop('D_87',axis=1) \\\n",
    ".drop('D_88',axis=1) \\\n",
    ".drop('D_106',axis=1)\\\n",
    ".drop('R_26',axis=1) \\\n",
    ".drop('D_108',axis=1)\\\n",
    ".drop('D_110',axis=1)\\\n",
    ".drop('D_111',axis=1)\\\n",
    ".drop('B_39',axis=1) \\\n",
    ".drop('B_42',axis=1) \\\n",
    ".drop('D_132',axis=1)\\\n",
    ".drop('D_134',axis=1)\\\n",
    ".drop('D_135',axis=1)\\\n",
    ".drop('D_136',axis=1)\\\n",
    ".drop('D_137',axis=1)\\\n",
    ".drop('D_138',axis=1)\\\n",
    ".drop('D_142',axis=1)\\\n",
    "\n",
    "\n",
    "delinquency_variables_redux = delinquency_variables.copy()\n",
    "\n",
    "\n",
    "\n",
    "delinquency_variables_redux.remove('D_42') \n",
    "delinquency_variables_redux.remove('D_49') \n",
    "delinquency_variables_redux.remove('D_53') \n",
    "delinquency_variables_redux.remove('D_73') \n",
    "delinquency_variables_redux.remove('D_76') \n",
    "delinquency_variables_redux.remove('D_82') \n",
    "delinquency_variables_redux.remove('D_87') \n",
    "delinquency_variables_redux.remove('D_88') \n",
    "delinquency_variables_redux.remove('D_106')\n",
    "delinquency_variables_redux.remove('D_108')\n",
    "delinquency_variables_redux.remove('D_110')\n",
    "delinquency_variables_redux.remove('D_111')\n",
    "delinquency_variables_redux.remove('D_132')\n",
    "delinquency_variables_redux.remove('D_134')\n",
    "delinquency_variables_redux.remove('D_135')\n",
    "delinquency_variables_redux.remove('D_136')\n",
    "delinquency_variables_redux.remove('D_137')\n",
    "delinquency_variables_redux.remove('D_138')\n",
    "delinquency_variables_redux.remove('D_142')\n",
    "\n",
    "\n",
    "df.loc[:,delinquency_variables_redux].fillna(0,inplace=True)\n",
    "\n",
    "for col in df.columns:\n",
    "    print(col)\n",
    "    df[col].fillna(df[col].mean(),inplace=True)"
   ]
  },
  {
   "cell_type": "markdown",
   "metadata": {},
   "source": [
    "#### Armado del train_test"
   ]
  },
  {
   "cell_type": "code",
   "execution_count": 6,
   "metadata": {},
   "outputs": [
    {
     "name": "stdout",
     "output_type": "stream",
     "text": [
      "<class 'pandas.core.frame.DataFrame'>\n",
      "RangeIndex: 20000 entries, 0 to 19999\n",
      "Columns: 153 entries, P_2 to D_145\n",
      "dtypes: float64(152), int64(1)\n",
      "memory usage: 23.3 MB\n"
     ]
    }
   ],
   "source": [
    "train_variables = []\n",
    "\n",
    "for v in payment_variables:\n",
    "    if v in df.columns:\n",
    "        train_variables.append(v)\n",
    "for v in balance_variables:\n",
    "    if v in df.columns:        \n",
    "        train_variables.append(v)\n",
    "for v in risk_variables:\n",
    "    if v in df.columns:        \n",
    "        train_variables.append(v)     \n",
    "for v in spending_variables:\n",
    "    if v in df.columns:        \n",
    "        train_variables.append(v)       \n",
    "for v in delinquency_variables_redux:\n",
    "    if v in df.columns:        \n",
    "        train_variables.append(v)        \n",
    "        \n",
    "        \n",
    "\n",
    "X = df.iloc[0:20000,:][train_variables]\n",
    "#X = df[train_variables]\n",
    "        \n",
    "#X = df.drop(['target'],axis=1)\n",
    "#X = X.drop(delinquency_variables_redux,axis=1)\n",
    "#X = df[payment_variables]\n",
    "y = df.iloc[0:20000,:].target\n",
    "#y = df.target\n",
    "features = X.columns\n",
    "\n",
    "\n",
    "\n",
    "\n",
    "\n",
    "X_train, X_test, y_train, y_test = train_test_split(X, y, test_size = 0.2)\n",
    "\n",
    "from sklearn.preprocessing import StandardScaler\n",
    "\n",
    "scaler=StandardScaler()\n",
    "X_train_norm=scaler.fit_transform(X_train)\n",
    "X_test_norm=scaler.fit_transform(X_test)\n",
    "\n",
    "X.info()"
   ]
  },
  {
   "cell_type": "markdown",
   "metadata": {},
   "source": [
    "### Hiperparametros lineales y polinomicos para el svm"
   ]
  },
  {
   "cell_type": "code",
   "execution_count": 7,
   "metadata": {},
   "outputs": [],
   "source": [
    "#Seteo hyperparametros lineales y polinomicas\n",
    "param_dist_polinomic = {\"kernel\" : ['poly'] ,\n",
    "            \"C\" : [1e+0,1e+1,1e+2,1e+3,1e+4,1e+5,1e+6,1e+7,1e+8,1e+9],\n",
    "            \"degree\": [1e-4,1e-3,1e-2,1e-1,1e+0,1e+1,1e+2,1e+3,1e+4],\n",
    "            \"gamma\": [1e-4,1e-3,1e-2,1e-1,1e+0,1e+1,1e+2,1e+3,1e+4],\n",
    "            \"coef0\": [1e-4,1e-3,1e-2,1e-1,1e+0,1e+1,1e+2,1e+3,1e+4]\n",
    "              }\n",
    "\n",
    "#param_dist_linear = {\"kernel\":['linear'],\n",
    "#             \"C\" : [1e+0,1e+1,1e+2,1e+3,1e+4,1e+5,1e+6,1e+7,1e+8,1e+9] }\n",
    "\n",
    "param_dist_linear = {\n",
    "             \"C\" : [1e+0,1e+1,1e+2,1e+3,1e+4,1e+5,1e+6,1e+7,1e+8,1e+9] }"
   ]
  },
  {
   "cell_type": "code",
   "execution_count": 16,
   "metadata": {},
   "outputs": [],
   "source": [
    "random_search_polynomic_svc = RandomizedSearchCV(SVC(random_state=0),\n",
    "                                       param_distributions = param_dist_polinomic,\n",
    "                                       n_iter = 2,\n",
    "                                       scoring = 'roc_auc',\n",
    "                                       cv = 5,\n",
    "                                       n_jobs = 2)\n",
    "\n",
    "\n",
    "\n",
    "random_search_linear_svc = RandomizedSearchCV(SVC(random_state=0,tol=1e-3,max_iter=10000),\n",
    "                                       param_distributions = param_dist_linear,\n",
    "                                       n_iter = 2,\n",
    "                                       scoring = 'roc_auc',\n",
    "                                       cv = 5,\n",
    "                                       n_jobs = 2)"
   ]
  },
  {
   "cell_type": "code",
   "execution_count": 9,
   "metadata": {},
   "outputs": [
    {
     "data": {
      "text/plain": [
       "dict_keys(['cv', 'error_score', 'estimator__C', 'estimator__break_ties', 'estimator__cache_size', 'estimator__class_weight', 'estimator__coef0', 'estimator__decision_function_shape', 'estimator__degree', 'estimator__gamma', 'estimator__kernel', 'estimator__max_iter', 'estimator__probability', 'estimator__random_state', 'estimator__shrinking', 'estimator__tol', 'estimator__verbose', 'estimator', 'n_iter', 'n_jobs', 'param_distributions', 'pre_dispatch', 'random_state', 'refit', 'return_train_score', 'scoring', 'verbose'])"
      ]
     },
     "execution_count": 9,
     "metadata": {},
     "output_type": "execute_result"
    }
   ],
   "source": [
    "random_search_linear_svc.get_params().keys()"
   ]
  },
  {
   "cell_type": "markdown",
   "metadata": {},
   "source": [
    "## Entrenamiento de los modelos (sin probar porque no me los termina)"
   ]
  },
  {
   "cell_type": "code",
   "execution_count": 18,
   "metadata": {},
   "outputs": [
    {
     "name": "stderr",
     "output_type": "stream",
     "text": [
      "/home/bear/.local/lib/python3.8/site-packages/sklearn/svm/_base.py:255: ConvergenceWarning: Solver terminated early (max_iter=10000).  Consider pre-processing your data with StandardScaler or MinMaxScaler.\n",
      "  warnings.warn('Solver terminated early (max_iter=%i).'\n"
     ]
    },
    {
     "data": {
      "text/plain": [
       "RandomizedSearchCV(cv=5, estimator=SVC(max_iter=10000, random_state=0),\n",
       "                   n_iter=2, n_jobs=2,\n",
       "                   param_distributions={'C': [1.0, 10.0, 100.0, 1000.0, 10000.0,\n",
       "                                              100000.0, 1000000.0, 10000000.0,\n",
       "                                              100000000.0, 1000000000.0]},\n",
       "                   scoring='roc_auc')"
      ]
     },
     "execution_count": 18,
     "metadata": {},
     "output_type": "execute_result"
    }
   ],
   "source": [
    "#%time\n",
    "random_search_linear_svc.fit(X_train_norm, y_train) #descomentar\n",
    "\n",
    "\n",
    "#random_search_polynomic_svc.fit(X_train,y_train)"
   ]
  },
  {
   "cell_type": "markdown",
   "metadata": {},
   "source": [
    "#### Conseguimos los nuevos hiperparametros"
   ]
  },
  {
   "cell_type": "code",
   "execution_count": 11,
   "metadata": {},
   "outputs": [],
   "source": [
    "params_opt_linear_svm = random_search_linear_svc.best_params_\n",
    "params_opt_linear_svm\n",
    "\n",
    "#params_opt_polynomial_svm = random_search_polynomic_svc.best_params_"
   ]
  },
  {
   "cell_type": "code",
   "execution_count": 12,
   "metadata": {},
   "outputs": [],
   "source": [
    "#linear_svc = SVC().set_params(**params_opt_linear_svm)\n",
    "linear_svc = SVC(C=1,tol=1e-3,max_iter=10000)\n",
    "#polynomial_svc = SVC().set_params(**params_opt_polynomial_svm)\n"
   ]
  },
  {
   "cell_type": "markdown",
   "metadata": {},
   "source": [
    "## Entrenamos de vuelta con svm y los nuevos parametros"
   ]
  },
  {
   "cell_type": "code",
   "execution_count": 13,
   "metadata": {},
   "outputs": [
    {
     "data": {
      "text/plain": [
       "SVC(C=1, max_iter=10000)"
      ]
     },
     "execution_count": 13,
     "metadata": {},
     "output_type": "execute_result"
    }
   ],
   "source": [
    "linear_svc.fit(X_train_norm,y_train)\n",
    "\n",
    "#polynomial_svc.fit(X_train,y_train)"
   ]
  },
  {
   "cell_type": "markdown",
   "metadata": {},
   "source": [
    "#### Muestra de los resultados"
   ]
  },
  {
   "cell_type": "code",
   "execution_count": 14,
   "metadata": {},
   "outputs": [
    {
     "name": "stdout",
     "output_type": "stream",
     "text": [
      "precision =  0.8459556929417826\n",
      "recall =  0.8116658428077114\n",
      "auc =  0.8808203733028016\n",
      "f1 score =  0.8284561049445006\n"
     ]
    },
    {
     "data": {
      "text/plain": [
       "array([[11356,   598],\n",
       "       [  762,  3284]])"
      ]
     },
     "execution_count": 14,
     "metadata": {},
     "output_type": "execute_result"
    }
   ],
   "source": [
    "#AGREGAR METODOS DE RECALL, PRECICSION Y FSCORE\n",
    "y_pred = linear_svc.predict(X_train_norm)\n",
    "y_pred_test = linear_svc.predict(X_test_norm)\n",
    "\n",
    "\n",
    "\n",
    "#Usando el entrenado\n",
    "print(\"precision = \", precision_score(y_train, y_pred))\n",
    "print(\"recall = \", recall_score(y_train, y_pred))\n",
    "print(\"auc = \", roc_auc_score(y_train, y_pred))\n",
    "print(\"f1 score = \", f1_score(y_train, y_pred))\n",
    "\n",
    "\n",
    "confusion_matrix(y_train, y_pred)"
   ]
  },
  {
   "cell_type": "code",
   "execution_count": 15,
   "metadata": {},
   "outputs": [
    {
     "name": "stdout",
     "output_type": "stream",
     "text": [
      "precision =  0.7337917485265226\n",
      "recall =  0.7455089820359282\n",
      "auc =  0.8275576931527207\n",
      "f1 score =  0.7396039603960396\n"
     ]
    }
   ],
   "source": [
    "#Usando el test\n",
    "\n",
    "confusion_matrix(y_test, y_pred_test)\n",
    "\n",
    "\n",
    "print(\"precision = \", precision_score(y_test, y_pred_test))\n",
    "print(\"recall = \", recall_score(y_test, y_pred_test))\n",
    "print(\"auc = \", roc_auc_score(y_test, y_pred_test))\n",
    "print(\"f1 score = \", f1_score(y_test, y_pred_test))"
   ]
  },
  {
   "cell_type": "code",
   "execution_count": null,
   "metadata": {},
   "outputs": [],
   "source": []
  }
 ],
 "metadata": {
  "kernelspec": {
   "display_name": "Python 3",
   "language": "python",
   "name": "python3"
  },
  "language_info": {
   "codemirror_mode": {
    "name": "ipython",
    "version": 3
   },
   "file_extension": ".py",
   "mimetype": "text/x-python",
   "name": "python",
   "nbconvert_exporter": "python",
   "pygments_lexer": "ipython3",
   "version": "3.8.10"
  },
  "vscode": {
   "interpreter": {
    "hash": "1712a3e48da3334829ccbf0affceb95c1cc536e666a8c49a1f0262dd902fac97"
   }
  }
 },
 "nbformat": 4,
 "nbformat_minor": 4
}
