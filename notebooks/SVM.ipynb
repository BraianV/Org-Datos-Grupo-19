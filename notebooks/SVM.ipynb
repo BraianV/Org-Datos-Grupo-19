{
 "cells": [
  {
   "cell_type": "code",
   "execution_count": 1,
   "metadata": {},
   "outputs": [],
   "source": [
    "import pandas as pd\n",
    "import matplotlib.pyplot as plt\n",
    "from sklearn.svm import SVC,LinearSVC\n",
    "import numpy as np\n",
    "import seaborn as sns\n",
    "from sklearn.metrics import make_scorer, f1_score\n",
    "from sklearn.metrics import confusion_matrix, precision_score, recall_score, roc_auc_score\n",
    "from sklearn.metrics import classification_report, precision_recall_curve\n",
    "from sklearn.model_selection import StratifiedKFold, KFold,RandomizedSearchCV, GridSearchCV\n",
    "from sklearn.model_selection import train_test_split"
   ]
  },
  {
   "cell_type": "markdown",
   "metadata": {},
   "source": [
    "## Support Vector Machines (lineal y polinomico)"
   ]
  },
  {
   "cell_type": "code",
   "execution_count": 2,
   "metadata": {},
   "outputs": [
    {
     "data": {
      "text/plain": [
       "Index(['Unnamed: 0', 'customer_ID', 'S_2', 'P_2', 'D_39', 'B_1', 'B_2', 'R_1',\n",
       "       'S_3', 'D_41',\n",
       "       ...\n",
       "       'D_137', 'D_138', 'D_139', 'D_140', 'D_141', 'D_142', 'D_143', 'D_144',\n",
       "       'D_145', 'target'],\n",
       "      dtype='object', length=192)"
      ]
     },
     "execution_count": 2,
     "metadata": {},
     "output_type": "execute_result"
    }
   ],
   "source": [
    "df = pd.read_csv(\"../data/train_data_final.csv\")\n",
    "\n",
    "outliers = pd.read_csv(\"outliers.csv\")\n",
    "\n",
    "df.shape\n",
    "\n",
    "df.columns"
   ]
  },
  {
   "cell_type": "code",
   "execution_count": 3,
   "metadata": {},
   "outputs": [],
   "source": [
    "#outliers.merge(df,left_on='Unnamed: 0.1',right_on='Unnamed: 0')"
   ]
  },
  {
   "cell_type": "code",
   "execution_count": 4,
   "metadata": {},
   "outputs": [],
   "source": [
    "df = df[~df['Unnamed: 0'].isin(outliers['Unnamed: 0.1'])]"
   ]
  },
  {
   "cell_type": "code",
   "execution_count": 5,
   "metadata": {},
   "outputs": [],
   "source": [
    "categorical_variables = ['B_30', 'B_38', 'D_114', 'D_116', 'D_117', 'D_120', 'D_126', 'D_63', 'D_64', 'D_66', 'D_68'] \n",
    "\n",
    "df.drop(categorical_variables,axis=1,inplace=True)\n",
    "\n",
    "payment_variables = []\n",
    "spending_variables = []\n",
    "delinquency_variables = []\n",
    "balance_variables = []\n",
    "risk_variables = []\n",
    "for column in df.columns:\n",
    "    if 'P' in column:\n",
    "        payment_variables.append(column)\n",
    "    if 'S' in column:\n",
    "        spending_variables.append(column)\n",
    "    if 'D' in column and 'ID' not in column:\n",
    "        delinquency_variables.append(column)\n",
    "    if 'B' in column:\n",
    "        balance_variables.append(column)\n",
    "    if 'R' in column:\n",
    "        risk_variables.append(column)"
   ]
  },
  {
   "cell_type": "code",
   "execution_count": 6,
   "metadata": {},
   "outputs": [],
   "source": [
    "df.drop('customer_ID',axis=1,inplace=True)"
   ]
  },
  {
   "cell_type": "code",
   "execution_count": 7,
   "metadata": {},
   "outputs": [],
   "source": [
    "df = df.drop('S_2',axis=1)\\\n",
    ".drop('D_42',axis=1) \\\n",
    ".drop('D_49',axis=1) \\\n",
    ".drop('D_53',axis=1) \\\n",
    ".drop('D_73',axis=1) \\\n",
    ".drop('D_76',axis=1) \\\n",
    ".drop('R_9',axis=1)  \\\n",
    ".drop('D_82',axis=1) \\\n",
    ".drop('B_29',axis=1) \\\n",
    ".drop('D_87',axis=1) \\\n",
    ".drop('D_88',axis=1) \\\n",
    ".drop('D_106',axis=1)\\\n",
    ".drop('R_26',axis=1) \\\n",
    ".drop('D_108',axis=1)\\\n",
    ".drop('D_110',axis=1)\\\n",
    ".drop('D_111',axis=1)\\\n",
    ".drop('B_39',axis=1) \\\n",
    ".drop('B_42',axis=1) \\\n",
    ".drop('D_132',axis=1)\\\n",
    ".drop('D_134',axis=1)\\\n",
    ".drop('D_135',axis=1)\\\n",
    ".drop('D_136',axis=1)\\\n",
    ".drop('D_137',axis=1)\\\n",
    ".drop('D_138',axis=1)\\\n",
    ".drop('D_142',axis=1)\\\n",
    "\n",
    "\n",
    "delinquency_variables_redux = delinquency_variables.copy()\n",
    "\n",
    "\n",
    "\n",
    "delinquency_variables_redux.remove('D_42') \n",
    "delinquency_variables_redux.remove('D_49') \n",
    "delinquency_variables_redux.remove('D_53') \n",
    "delinquency_variables_redux.remove('D_73') \n",
    "delinquency_variables_redux.remove('D_76') \n",
    "delinquency_variables_redux.remove('D_82') \n",
    "delinquency_variables_redux.remove('D_87') \n",
    "delinquency_variables_redux.remove('D_88') \n",
    "delinquency_variables_redux.remove('D_106')\n",
    "delinquency_variables_redux.remove('D_108')\n",
    "delinquency_variables_redux.remove('D_110')\n",
    "delinquency_variables_redux.remove('D_111')\n",
    "delinquency_variables_redux.remove('D_132')\n",
    "delinquency_variables_redux.remove('D_134')\n",
    "delinquency_variables_redux.remove('D_135')\n",
    "delinquency_variables_redux.remove('D_136')\n",
    "delinquency_variables_redux.remove('D_137')\n",
    "delinquency_variables_redux.remove('D_138')\n",
    "delinquency_variables_redux.remove('D_142')\n",
    "\n",
    "\n",
    "df.loc[:,delinquency_variables_redux].fillna(0,inplace=True)\n",
    "\n",
    "for col in df.columns:\n",
    "    #print(col)\n",
    "    df[col].fillna(df[col].mean(),inplace=True)"
   ]
  },
  {
   "cell_type": "markdown",
   "metadata": {},
   "source": [
    "#### Armado del train_test"
   ]
  },
  {
   "cell_type": "code",
   "execution_count": 8,
   "metadata": {},
   "outputs": [
    {
     "name": "stdout",
     "output_type": "stream",
     "text": [
      "<class 'pandas.core.frame.DataFrame'>\n",
      "Int64Index: 262743 entries, 0 to 276571\n",
      "Data columns (total 85 columns):\n",
      " #   Column  Non-Null Count   Dtype  \n",
      "---  ------  --------------   -----  \n",
      " 0   P_2     262743 non-null  float64\n",
      " 1   P_3     262743 non-null  float64\n",
      " 2   P_4     262743 non-null  float64\n",
      " 3   B_1     262743 non-null  float64\n",
      " 4   B_2     262743 non-null  float64\n",
      " 5   B_3     262743 non-null  float64\n",
      " 6   B_4     262743 non-null  float64\n",
      " 7   B_5     262743 non-null  float64\n",
      " 8   B_6     262743 non-null  float64\n",
      " 9   B_7     262743 non-null  float64\n",
      " 10  B_8     262743 non-null  float64\n",
      " 11  B_9     262743 non-null  float64\n",
      " 12  B_10    262743 non-null  float64\n",
      " 13  B_11    262743 non-null  float64\n",
      " 14  B_12    262743 non-null  float64\n",
      " 15  B_13    262743 non-null  float64\n",
      " 16  B_14    262743 non-null  float64\n",
      " 17  B_15    262743 non-null  float64\n",
      " 18  B_16    262743 non-null  float64\n",
      " 19  B_17    262743 non-null  float64\n",
      " 20  B_18    262743 non-null  float64\n",
      " 21  B_19    262743 non-null  float64\n",
      " 22  B_20    262743 non-null  float64\n",
      " 23  B_21    262743 non-null  float64\n",
      " 24  B_22    262743 non-null  float64\n",
      " 25  B_23    262743 non-null  float64\n",
      " 26  B_24    262743 non-null  float64\n",
      " 27  B_25    262743 non-null  float64\n",
      " 28  B_26    262743 non-null  float64\n",
      " 29  B_27    262743 non-null  float64\n",
      " 30  B_28    262743 non-null  float64\n",
      " 31  B_31    262743 non-null  int64  \n",
      " 32  B_32    262743 non-null  float64\n",
      " 33  B_33    262743 non-null  float64\n",
      " 34  B_36    262743 non-null  float64\n",
      " 35  B_37    262743 non-null  float64\n",
      " 36  B_40    262743 non-null  float64\n",
      " 37  B_41    262743 non-null  float64\n",
      " 38  R_1     262743 non-null  float64\n",
      " 39  R_2     262743 non-null  float64\n",
      " 40  R_3     262743 non-null  float64\n",
      " 41  R_4     262743 non-null  float64\n",
      " 42  R_5     262743 non-null  float64\n",
      " 43  R_6     262743 non-null  float64\n",
      " 44  R_7     262743 non-null  float64\n",
      " 45  R_8     262743 non-null  float64\n",
      " 46  R_10    262743 non-null  float64\n",
      " 47  R_11    262743 non-null  float64\n",
      " 48  R_12    262743 non-null  float64\n",
      " 49  R_13    262743 non-null  float64\n",
      " 50  R_14    262743 non-null  float64\n",
      " 51  R_15    262743 non-null  float64\n",
      " 52  R_16    262743 non-null  float64\n",
      " 53  R_17    262743 non-null  float64\n",
      " 54  R_18    262743 non-null  float64\n",
      " 55  R_19    262743 non-null  float64\n",
      " 56  R_20    262743 non-null  float64\n",
      " 57  R_21    262743 non-null  float64\n",
      " 58  R_22    262743 non-null  float64\n",
      " 59  R_23    262743 non-null  float64\n",
      " 60  R_24    262743 non-null  float64\n",
      " 61  R_25    262743 non-null  float64\n",
      " 62  R_27    262743 non-null  float64\n",
      " 63  R_28    262743 non-null  float64\n",
      " 64  S_3     262743 non-null  float64\n",
      " 65  S_5     262743 non-null  float64\n",
      " 66  S_6     262743 non-null  float64\n",
      " 67  S_7     262743 non-null  float64\n",
      " 68  S_8     262743 non-null  float64\n",
      " 69  S_9     262743 non-null  float64\n",
      " 70  S_11    262743 non-null  float64\n",
      " 71  S_12    262743 non-null  float64\n",
      " 72  S_13    262743 non-null  float64\n",
      " 73  S_15    262743 non-null  float64\n",
      " 74  S_16    262743 non-null  float64\n",
      " 75  S_17    262743 non-null  float64\n",
      " 76  S_18    262743 non-null  float64\n",
      " 77  S_19    262743 non-null  float64\n",
      " 78  S_20    262743 non-null  float64\n",
      " 79  S_22    262743 non-null  float64\n",
      " 80  S_23    262743 non-null  float64\n",
      " 81  S_24    262743 non-null  float64\n",
      " 82  S_25    262743 non-null  float64\n",
      " 83  S_26    262743 non-null  float64\n",
      " 84  S_27    262743 non-null  float64\n",
      "dtypes: float64(84), int64(1)\n",
      "memory usage: 172.4 MB\n"
     ]
    }
   ],
   "source": [
    "train_variables = []\n",
    "\n",
    "for v in payment_variables:\n",
    "    if v in df.columns:\n",
    "        train_variables.append(v)\n",
    "for v in balance_variables:\n",
    "    if v in df.columns:        \n",
    "        train_variables.append(v)\n",
    "for v in risk_variables:\n",
    "    if v in df.columns:        \n",
    "        train_variables.append(v)     \n",
    "for v in spending_variables:\n",
    "    if v in df.columns:        \n",
    "        train_variables.append(v)       \n",
    "#for v in delinquency_variables_redux:\n",
    "#    if v in df.columns:        \n",
    "#        train_variables.append(v)        \n",
    "        \n",
    "        \n",
    "\n",
    "X_reducido = df.iloc[0:20000,:][train_variables]\n",
    "X = df[train_variables]\n",
    "y_reducido = df.iloc[0:20000,:].target\n",
    "y = df.target\n",
    "features = X.columns\n",
    "\n",
    "\n",
    "\n",
    "\n",
    "\n",
    "X_train, X_test, y_train, y_test = train_test_split(X, y, test_size = 0.2)\n",
    "\n",
    "X_train_reducido, X_test_reducido, y_train_reducido, y_test_reducido = train_test_split(X_reducido, y_reducido, test_size = 0.2)\n",
    "\n",
    "from sklearn.preprocessing import StandardScaler\n",
    "\n",
    "scaler=StandardScaler()\n",
    "X_train_norm=scaler.fit_transform(X_train)\n",
    "X_test_norm=scaler.fit_transform(X_test)\n",
    "\n",
    "X_train_reducido_norm=scaler.fit_transform(X_train_reducido)\n",
    "X_test_reducido_norm=scaler.fit_transform(X_test_reducido)\n",
    "\n",
    "X.info()"
   ]
  },
  {
   "cell_type": "markdown",
   "metadata": {},
   "source": [
    "### Hiperparametros lineales y polinomicos para el svm"
   ]
  },
  {
   "cell_type": "code",
   "execution_count": 9,
   "metadata": {},
   "outputs": [],
   "source": [
    "#primera busqueda:\n",
    "#parameters = {'kernel':('linear','rbf','poly'),'C':[1,1e+7],'degree':[3,8],'tol':[1,1e-7],'max_iter':[1,100000]}\n",
    "parameters = {'kernel':('rbf','poly'),'C':[1,1e+7],'degree':[8],'tol':[1e-7],'max_iter':[50000,100000]}\n",
    "\n",
    "svc_gridsearch = SVC(random_state=0)\n",
    "\n",
    "grid_search_svc = GridSearchCV(svc_gridsearch,parameters,verbose=4,n_jobs=-1,cv=2)"
   ]
  },
  {
   "cell_type": "code",
   "execution_count": 10,
   "metadata": {},
   "outputs": [
    {
     "data": {
      "text/plain": [
       "dict_keys(['cv', 'error_score', 'estimator__C', 'estimator__break_ties', 'estimator__cache_size', 'estimator__class_weight', 'estimator__coef0', 'estimator__decision_function_shape', 'estimator__degree', 'estimator__gamma', 'estimator__kernel', 'estimator__max_iter', 'estimator__probability', 'estimator__random_state', 'estimator__shrinking', 'estimator__tol', 'estimator__verbose', 'estimator', 'n_jobs', 'param_grid', 'pre_dispatch', 'refit', 'return_train_score', 'scoring', 'verbose'])"
      ]
     },
     "execution_count": 10,
     "metadata": {},
     "output_type": "execute_result"
    }
   ],
   "source": [
    "grid_search_svc.get_params().keys()"
   ]
  },
  {
   "cell_type": "markdown",
   "metadata": {},
   "source": [
    "## Entrenamiento de los modelos por CV"
   ]
  },
  {
   "cell_type": "code",
   "execution_count": 11,
   "metadata": {},
   "outputs": [
    {
     "name": "stdout",
     "output_type": "stream",
     "text": [
      "Fitting 2 folds for each of 8 candidates, totalling 16 fits\n"
     ]
    },
    {
     "data": {
      "text/plain": [
       "GridSearchCV(cv=2, estimator=SVC(random_state=0), n_jobs=-1,\n",
       "             param_grid={'C': [1, 10000000.0], 'degree': [8],\n",
       "                         'kernel': ('rbf', 'poly'), 'max_iter': [50000, 100000],\n",
       "                         'tol': [1e-07]},\n",
       "             verbose=4)"
      ]
     },
     "execution_count": 11,
     "metadata": {},
     "output_type": "execute_result"
    }
   ],
   "source": [
    "#%time\n",
    "\n",
    "grid_search_svc.fit(X_train_reducido_norm, y_train_reducido) "
   ]
  },
  {
   "cell_type": "markdown",
   "metadata": {},
   "source": [
    "#### Conseguimos los nuevos hiperparametros"
   ]
  },
  {
   "cell_type": "code",
   "execution_count": 12,
   "metadata": {},
   "outputs": [
    {
     "data": {
      "text/plain": [
       "{'C': 1, 'degree': 8, 'kernel': 'rbf', 'max_iter': 50000, 'tol': 1e-07}"
      ]
     },
     "execution_count": 12,
     "metadata": {},
     "output_type": "execute_result"
    }
   ],
   "source": [
    "params_opt_linear_svm = grid_search_svc.best_params_\n",
    "params_opt_linear_svm\n",
    "\n",
    "#obtuve {'C': 1, 'degree': 8, 'kernel': 'rbf', 'max_iter': 50000, 'tol': 1e-07} y lograba converger, con kernel= linear no.\n"
   ]
  },
  {
   "cell_type": "code",
   "execution_count": 13,
   "metadata": {},
   "outputs": [],
   "source": [
    "#svc = SVC(C=1,tol=1e-7,kernel= 'rbf',max_iter=50000,random_state=0) #tarda mucho\n",
    "svc = SVC(C=1,tol=1e-7,kernel= 'poly',max_iter=100000,degree=3,random_state=0)\n"
   ]
  },
  {
   "cell_type": "markdown",
   "metadata": {},
   "source": [
    "## Aproximacion de Kernel por Nystroem reduciendo a 30 components (no ayudo, demora mucho en el dataset completo)"
   ]
  },
  {
   "cell_type": "code",
   "execution_count": 14,
   "metadata": {},
   "outputs": [],
   "source": [
    "from sklearn.kernel_approximation import Nystroem\n",
    "\n",
    "feature_map_nystroem = Nystroem(kernel='poly',degree=3,gamma=.2,random_state=0,n_components=10)\n",
    "\n",
    "data_transformed = feature_map_nystroem.fit_transform(X_train_norm)"
   ]
  },
  {
   "cell_type": "markdown",
   "metadata": {},
   "source": [
    "## Entrenamos de vuelta con svm y los nuevos parametros"
   ]
  },
  {
   "cell_type": "code",
   "execution_count": 15,
   "metadata": {},
   "outputs": [
    {
     "name": "stderr",
     "output_type": "stream",
     "text": [
      "/home/bear/.local/lib/python3.8/site-packages/sklearn/svm/_base.py:255: ConvergenceWarning: Solver terminated early (max_iter=100000).  Consider pre-processing your data with StandardScaler or MinMaxScaler.\n",
      "  warnings.warn('Solver terminated early (max_iter=%i).'\n"
     ]
    },
    {
     "data": {
      "text/plain": [
       "SVC(C=1, kernel='poly', max_iter=100000, random_state=0, tol=1e-07)"
      ]
     },
     "execution_count": 15,
     "metadata": {},
     "output_type": "execute_result"
    }
   ],
   "source": [
    "\n",
    "\n",
    "svc.fit(data_transformed,y_train)"
   ]
  },
  {
   "cell_type": "markdown",
   "metadata": {},
   "source": [
    "#### Muestra de los resultados"
   ]
  },
  {
   "cell_type": "code",
   "execution_count": 17,
   "metadata": {},
   "outputs": [
    {
     "name": "stdout",
     "output_type": "stream",
     "text": [
      "precision =  0.22221957914868715\n",
      "recall =  1.0\n",
      "auc =  0.5000030583845613\n",
      "f1 score =  0.3636328249682758\n"
     ]
    },
    {
     "data": {
      "text/plain": [
       "array([[     1, 163484],\n",
       "       [     0,  46709]])"
      ]
     },
     "execution_count": 17,
     "metadata": {},
     "output_type": "execute_result"
    }
   ],
   "source": [
    "test_transformed = feature_map_nystroem.fit_transform(X_test_norm)\n",
    "\n",
    "y_pred = svc.predict(data_transformed)\n",
    "y_pred_test = svc.predict(test_transformed)\n",
    "\n",
    "#Usando el entrenado\n",
    "print(\"precision = \", precision_score(y_train, y_pred))\n",
    "print(\"recall = \", recall_score(y_train, y_pred))\n",
    "print(\"auc = \", roc_auc_score(y_train, y_pred))\n",
    "print(\"f1 score = \", f1_score(y_train, y_pred))\n",
    "\n",
    "\n",
    "confusion_matrix(y_train, y_pred)"
   ]
  },
  {
   "cell_type": "code",
   "execution_count": 18,
   "metadata": {},
   "outputs": [
    {
     "name": "stdout",
     "output_type": "stream",
     "text": [
      "precision =  0.22120306761308492\n",
      "recall =  1.0\n",
      "auc =  0.5\n",
      "f1 score =  0.3622707369142786\n"
     ]
    }
   ],
   "source": [
    "#Usando el test\n",
    "\n",
    "confusion_matrix(y_test, y_pred_test)\n",
    "\n",
    "\n",
    "print(\"precision = \", precision_score(y_test, y_pred_test))\n",
    "print(\"recall = \", recall_score(y_test, y_pred_test))\n",
    "print(\"auc = \", roc_auc_score(y_test, y_pred_test))\n",
    "print(\"f1 score = \", f1_score(y_test, y_pred_test))"
   ]
  },
  {
   "cell_type": "code",
   "execution_count": 19,
   "metadata": {},
   "outputs": [
    {
     "data": {
      "text/plain": [
       "['svm.joblib']"
      ]
     },
     "execution_count": 19,
     "metadata": {},
     "output_type": "execute_result"
    }
   ],
   "source": [
    "from joblib import dump, load\n",
    "dump(svc, 'svm.joblib') "
   ]
  }
 ],
 "metadata": {
  "kernelspec": {
   "display_name": "Python 3",
   "language": "python",
   "name": "python3"
  },
  "language_info": {
   "codemirror_mode": {
    "name": "ipython",
    "version": 3
   },
   "file_extension": ".py",
   "mimetype": "text/x-python",
   "name": "python",
   "nbconvert_exporter": "python",
   "pygments_lexer": "ipython3",
   "version": "3.8.10"
  },
  "vscode": {
   "interpreter": {
    "hash": "1712a3e48da3334829ccbf0affceb95c1cc536e666a8c49a1f0262dd902fac97"
   }
  }
 },
 "nbformat": 4,
 "nbformat_minor": 4
}
