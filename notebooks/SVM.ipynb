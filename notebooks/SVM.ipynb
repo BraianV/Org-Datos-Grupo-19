{
 "cells": [
  {
   "cell_type": "code",
   "execution_count": 1,
   "metadata": {},
   "outputs": [],
   "source": [
    "import pandas as pd\n",
    "import matplotlib.pyplot as plt\n",
    "from sklearn.svm import SVC,LinearSVC\n",
    "import numpy as np\n",
    "import seaborn as sns\n",
    "from sklearn.metrics import make_scorer, f1_score\n",
    "from sklearn.metrics import confusion_matrix, precision_score, recall_score, roc_auc_score\n",
    "from sklearn.metrics import classification_report, precision_recall_curve\n",
    "from sklearn.model_selection import StratifiedKFold, KFold,RandomizedSearchCV, GridSearchCV\n",
    "from sklearn.model_selection import train_test_split"
   ]
  },
  {
   "cell_type": "markdown",
   "metadata": {},
   "source": [
    "## Support Vector Machines (lineal y polinomico)"
   ]
  },
  {
   "cell_type": "code",
   "execution_count": null,
   "metadata": {},
   "outputs": [],
   "source": [
    "df = pd.read_csv(\"../data/train_data_final.csv\")\n",
    "\n",
    "outliers = pd.read_csv(\"outliers.csv\")\n",
    "\n",
    "df.shape\n",
    "\n",
    "df.columns"
   ]
  },
  {
   "cell_type": "code",
   "execution_count": null,
   "metadata": {},
   "outputs": [],
   "source": [
    "outliers.merge(df,left_on='Unnamed: 0.1',right_on='Unnamed: 0')"
   ]
  },
  {
   "cell_type": "code",
   "execution_count": null,
   "metadata": {},
   "outputs": [],
   "source": [
    "df = df[~df['Unnamed: 0'].isin(outliers['Unnamed: 0.1'])]"
   ]
  },
  {
   "cell_type": "code",
   "execution_count": null,
   "metadata": {},
   "outputs": [],
   "source": [
    "categorical_variables = ['B_30', 'B_38', 'D_114', 'D_116', 'D_117', 'D_120', 'D_126', 'D_63', 'D_64', 'D_66', 'D_68'] \n",
    "\n",
    "df.drop(categorical_variables,axis=1,inplace=True)\n",
    "\n",
    "payment_variables = []\n",
    "spending_variables = []\n",
    "delinquency_variables = []\n",
    "balance_variables = []\n",
    "risk_variables = []\n",
    "for column in df.columns:\n",
    "    if 'P' in column:\n",
    "        payment_variables.append(column)\n",
    "    if 'S' in column:\n",
    "        spending_variables.append(column)\n",
    "    if 'D' in column and 'ID' not in column:\n",
    "        delinquency_variables.append(column)\n",
    "    if 'B' in column:\n",
    "        balance_variables.append(column)\n",
    "    if 'R' in column:\n",
    "        risk_variables.append(column)"
   ]
  },
  {
   "cell_type": "code",
   "execution_count": null,
   "metadata": {},
   "outputs": [],
   "source": [
    "df.drop('customer_ID',axis=1,inplace=True)"
   ]
  },
  {
   "cell_type": "code",
   "execution_count": null,
   "metadata": {},
   "outputs": [],
   "source": [
    "df = df.drop('S_2',axis=1)\\\n",
    ".drop('D_42',axis=1) \\\n",
    ".drop('D_49',axis=1) \\\n",
    ".drop('D_53',axis=1) \\\n",
    ".drop('D_73',axis=1) \\\n",
    ".drop('D_76',axis=1) \\\n",
    ".drop('R_9',axis=1)  \\\n",
    ".drop('D_82',axis=1) \\\n",
    ".drop('B_29',axis=1) \\\n",
    ".drop('D_87',axis=1) \\\n",
    ".drop('D_88',axis=1) \\\n",
    ".drop('D_106',axis=1)\\\n",
    ".drop('R_26',axis=1) \\\n",
    ".drop('D_108',axis=1)\\\n",
    ".drop('D_110',axis=1)\\\n",
    ".drop('D_111',axis=1)\\\n",
    ".drop('B_39',axis=1) \\\n",
    ".drop('B_42',axis=1) \\\n",
    ".drop('D_132',axis=1)\\\n",
    ".drop('D_134',axis=1)\\\n",
    ".drop('D_135',axis=1)\\\n",
    ".drop('D_136',axis=1)\\\n",
    ".drop('D_137',axis=1)\\\n",
    ".drop('D_138',axis=1)\\\n",
    ".drop('D_142',axis=1)\\\n",
    "\n",
    "\n",
    "delinquency_variables_redux = delinquency_variables.copy()\n",
    "\n",
    "\n",
    "\n",
    "delinquency_variables_redux.remove('D_42') \n",
    "delinquency_variables_redux.remove('D_49') \n",
    "delinquency_variables_redux.remove('D_53') \n",
    "delinquency_variables_redux.remove('D_73') \n",
    "delinquency_variables_redux.remove('D_76') \n",
    "delinquency_variables_redux.remove('D_82') \n",
    "delinquency_variables_redux.remove('D_87') \n",
    "delinquency_variables_redux.remove('D_88') \n",
    "delinquency_variables_redux.remove('D_106')\n",
    "delinquency_variables_redux.remove('D_108')\n",
    "delinquency_variables_redux.remove('D_110')\n",
    "delinquency_variables_redux.remove('D_111')\n",
    "delinquency_variables_redux.remove('D_132')\n",
    "delinquency_variables_redux.remove('D_134')\n",
    "delinquency_variables_redux.remove('D_135')\n",
    "delinquency_variables_redux.remove('D_136')\n",
    "delinquency_variables_redux.remove('D_137')\n",
    "delinquency_variables_redux.remove('D_138')\n",
    "delinquency_variables_redux.remove('D_142')\n",
    "\n",
    "\n",
    "df.loc[:,delinquency_variables_redux].fillna(0,inplace=True)\n",
    "\n",
    "for col in df.columns:\n",
    "    #print(col)\n",
    "    df[col].fillna(df[col].mean(),inplace=True)"
   ]
  },
  {
   "cell_type": "markdown",
   "metadata": {},
   "source": [
    "#### Armado del train_test"
   ]
  },
  {
   "cell_type": "code",
   "execution_count": null,
   "metadata": {},
   "outputs": [],
   "source": [
    "train_variables = []\n",
    "\n",
    "for v in payment_variables:\n",
    "    if v in df.columns:\n",
    "        train_variables.append(v)\n",
    "for v in balance_variables:\n",
    "    if v in df.columns:        \n",
    "        train_variables.append(v)\n",
    "for v in risk_variables:\n",
    "    if v in df.columns:        \n",
    "        train_variables.append(v)     \n",
    "for v in spending_variables:\n",
    "    if v in df.columns:        \n",
    "        train_variables.append(v)       \n",
    "#for v in delinquency_variables_redux:\n",
    "#    if v in df.columns:        \n",
    "#        train_variables.append(v)        \n",
    "        \n",
    "        \n",
    "\n",
    "#X = df.iloc[0:20000,:][train_variables]\n",
    "X = df[train_variables]\n",
    "#y = df.iloc[0:20000,:].target\n",
    "y = df.target\n",
    "features = X.columns\n",
    "\n",
    "\n",
    "\n",
    "\n",
    "\n",
    "X_train, X_test, y_train, y_test = train_test_split(X, y, test_size = 0.2)\n",
    "\n",
    "from sklearn.preprocessing import StandardScaler\n",
    "\n",
    "scaler=StandardScaler()\n",
    "X_train_norm=scaler.fit_transform(X_train)\n",
    "X_test_norm=scaler.fit_transform(X_test)\n",
    "\n",
    "X.info()"
   ]
  },
  {
   "cell_type": "markdown",
   "metadata": {},
   "source": [
    "### Hiperparametros lineales y polinomicos para el svm"
   ]
  },
  {
   "cell_type": "code",
   "execution_count": null,
   "metadata": {},
   "outputs": [],
   "source": [
    "#primera busqueda:\n",
    "#parameters = {'kernel':('linear','rbf','poly'),'C':[1,1e+7],'degree':[3,8],'tol':[1,1e-7],'max_iter':[1,100000]}\n",
    "parameters = {'kernel':('rbf','poly'),'C':[1,1e+7],'degree':[8],'tol':[1e-7],'max_iter':[50000,100000]}\n",
    "\n",
    "svc_gridsearch = SVC(random_state=0)\n",
    "\n",
    "grid_search_svc = GridSearchCV(svc_gridsearch,parameters,verbose=4,n_jobs=-1,cv=2)"
   ]
  },
  {
   "cell_type": "code",
   "execution_count": null,
   "metadata": {},
   "outputs": [],
   "source": [
    "grid_search_svc.get_params().keys()"
   ]
  },
  {
   "cell_type": "markdown",
   "metadata": {},
   "source": [
    "## Entrenamiento de los modelos por CV"
   ]
  },
  {
   "cell_type": "code",
   "execution_count": null,
   "metadata": {},
   "outputs": [],
   "source": [
    "#%time\n",
    "\n",
    "grid_search_svc.fit(X_train_norm, y_train) "
   ]
  },
  {
   "cell_type": "markdown",
   "metadata": {},
   "source": [
    "#### Conseguimos los nuevos hiperparametros"
   ]
  },
  {
   "cell_type": "code",
   "execution_count": null,
   "metadata": {},
   "outputs": [],
   "source": [
    "params_opt_linear_svm = grid_search_svc.best_params_\n",
    "params_opt_linear_svm\n",
    "\n",
    "#obtuve {'C': 1, 'degree': 8, 'kernel': 'rbf', 'max_iter': 50000, 'tol': 1e-07} y lograba converger, con kernel= linear no.\n"
   ]
  },
  {
   "cell_type": "code",
   "execution_count": null,
   "metadata": {},
   "outputs": [],
   "source": [
    "#svc = SVC(C=1,tol=1e-7,kernel= 'rbf',max_iter=50000,random_state=0) #tarda mucho\n",
    "svc = SVC(C=1,tol=1e-7,kernel= 'poly',max_iter=100000,degree=3,random_state=0)\n"
   ]
  },
  {
   "cell_type": "markdown",
   "metadata": {},
   "source": [
    "## Aproximacion de Kernel por Nystroem reduciendo a 30 components (no ayudo, demora mucho en el dataset completo)"
   ]
  },
  {
   "cell_type": "code",
   "execution_count": null,
   "metadata": {},
   "outputs": [],
   "source": [
    "from sklearn.kernel_approximation import Nystroem\n",
    "\n",
    "feature_map_nystroem = Nystroem(kernel='poly',degree=3,gamma=.2,random_state=0,n_components=10)\n",
    "\n",
    "data_transformed = feature_map_nystroem.fit_transform(X_train_norm)"
   ]
  },
  {
   "cell_type": "markdown",
   "metadata": {},
   "source": [
    "## Entrenamos de vuelta con svm y los nuevos parametros"
   ]
  },
  {
   "cell_type": "code",
   "execution_count": null,
   "metadata": {},
   "outputs": [],
   "source": [
    "\n",
    "\n",
    "svc.fit(data_transformed,y_train)"
   ]
  },
  {
   "cell_type": "markdown",
   "metadata": {},
   "source": [
    "#### Muestra de los resultados"
   ]
  },
  {
   "cell_type": "code",
   "execution_count": null,
   "metadata": {},
   "outputs": [],
   "source": [
    "y_pred = svc.predict(data_transformed)\n",
    "y_pred_test = svc.predict(X_test_norm)\n",
    "\n",
    "#Usando el entrenado\n",
    "print(\"precision = \", precision_score(y_train, y_pred))\n",
    "print(\"recall = \", recall_score(y_train, y_pred))\n",
    "print(\"auc = \", roc_auc_score(y_train, y_pred))\n",
    "print(\"f1 score = \", f1_score(y_train, y_pred))\n",
    "\n",
    "\n",
    "confusion_matrix(y_train, y_pred)"
   ]
  },
  {
   "cell_type": "code",
   "execution_count": null,
   "metadata": {},
   "outputs": [],
   "source": [
    "#Usando el test\n",
    "\n",
    "confusion_matrix(y_test, y_pred_test)\n",
    "\n",
    "\n",
    "print(\"precision = \", precision_score(y_test, y_pred_test))\n",
    "print(\"recall = \", recall_score(y_test, y_pred_test))\n",
    "print(\"auc = \", roc_auc_score(y_test, y_pred_test))\n",
    "print(\"f1 score = \", f1_score(y_test, y_pred_test))"
   ]
  },
  {
   "cell_type": "code",
   "execution_count": null,
   "metadata": {},
   "outputs": [],
   "source": []
  }
 ],
 "metadata": {
  "kernelspec": {
   "display_name": "Python 3",
   "language": "python",
   "name": "python3"
  },
  "language_info": {
   "codemirror_mode": {
    "name": "ipython",
    "version": 3
   },
   "file_extension": ".py",
   "mimetype": "text/x-python",
   "name": "python",
   "nbconvert_exporter": "python",
   "pygments_lexer": "ipython3",
   "version": "3.8.10"
  },
  "vscode": {
   "interpreter": {
    "hash": "1712a3e48da3334829ccbf0affceb95c1cc536e666a8c49a1f0262dd902fac97"
   }
  }
 },
 "nbformat": 4,
 "nbformat_minor": 4
}
