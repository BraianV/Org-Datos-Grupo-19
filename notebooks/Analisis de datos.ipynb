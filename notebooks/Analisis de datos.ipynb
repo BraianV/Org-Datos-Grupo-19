{
 "cells": [
  {
   "cell_type": "code",
   "execution_count": 52,
   "metadata": {},
   "outputs": [],
   "source": [
    "#IMPORTAMOS LO NECESARIO\n",
    "import pandas as pd\n",
    "import matplotlib.pyplot as plt\n",
    "import numpy as np\n",
    "import seaborn as sns\n",
    "from scipy import stats\n",
    "from sklearn.preprocessing import OneHotEncoder"
   ]
  },
  {
   "cell_type": "markdown",
   "metadata": {},
   "source": [
    "## Resumen de mi analisis de datos y un 'merge manual' con algunas cosas de Braian."
   ]
  },
  {
   "cell_type": "code",
   "execution_count": 18,
   "metadata": {},
   "outputs": [
    {
     "data": {
      "text/html": [
       "<div>\n",
       "<style scoped>\n",
       "    .dataframe tbody tr th:only-of-type {\n",
       "        vertical-align: middle;\n",
       "    }\n",
       "\n",
       "    .dataframe tbody tr th {\n",
       "        vertical-align: top;\n",
       "    }\n",
       "\n",
       "    .dataframe thead th {\n",
       "        text-align: right;\n",
       "    }\n",
       "</style>\n",
       "<table border=\"1\" class=\"dataframe\">\n",
       "  <thead>\n",
       "    <tr style=\"text-align: right;\">\n",
       "      <th></th>\n",
       "      <th>Unnamed: 0</th>\n",
       "      <th>customer_ID</th>\n",
       "      <th>S_2</th>\n",
       "      <th>P_2</th>\n",
       "      <th>D_39</th>\n",
       "      <th>B_1</th>\n",
       "      <th>B_2</th>\n",
       "      <th>R_1</th>\n",
       "      <th>S_3</th>\n",
       "      <th>D_41</th>\n",
       "      <th>...</th>\n",
       "      <th>D_137</th>\n",
       "      <th>D_138</th>\n",
       "      <th>D_139</th>\n",
       "      <th>D_140</th>\n",
       "      <th>D_141</th>\n",
       "      <th>D_142</th>\n",
       "      <th>D_143</th>\n",
       "      <th>D_144</th>\n",
       "      <th>D_145</th>\n",
       "      <th>target</th>\n",
       "    </tr>\n",
       "  </thead>\n",
       "  <tbody>\n",
       "    <tr>\n",
       "      <th>276567</th>\n",
       "      <td>873580</td>\n",
       "      <td>288144823325d823e5f8a47dda65d2e0ed09a9f78bebcb...</td>\n",
       "      <td>2017-03-10</td>\n",
       "      <td>0.193743</td>\n",
       "      <td>0.533914</td>\n",
       "      <td>0.140841</td>\n",
       "      <td>0.126221</td>\n",
       "      <td>0.500161</td>\n",
       "      <td>0.158571</td>\n",
       "      <td>0.165877</td>\n",
       "      <td>...</td>\n",
       "      <td>NaN</td>\n",
       "      <td>NaN</td>\n",
       "      <td>1.008759</td>\n",
       "      <td>0.009847</td>\n",
       "      <td>0.979542</td>\n",
       "      <td>0.735387</td>\n",
       "      <td>1.000480</td>\n",
       "      <td>0.150231</td>\n",
       "      <td>0.276447</td>\n",
       "      <td>1</td>\n",
       "    </tr>\n",
       "    <tr>\n",
       "      <th>276568</th>\n",
       "      <td>262686</td>\n",
       "      <td>0c3757cb750959c88f6edf19609e7195ca8ff2b6f72a30...</td>\n",
       "      <td>2017-09-29</td>\n",
       "      <td>0.402107</td>\n",
       "      <td>0.914917</td>\n",
       "      <td>0.442733</td>\n",
       "      <td>0.000432</td>\n",
       "      <td>0.003491</td>\n",
       "      <td>NaN</td>\n",
       "      <td>0.436728</td>\n",
       "      <td>...</td>\n",
       "      <td>NaN</td>\n",
       "      <td>NaN</td>\n",
       "      <td>0.000951</td>\n",
       "      <td>0.006729</td>\n",
       "      <td>0.005159</td>\n",
       "      <td>NaN</td>\n",
       "      <td>0.007615</td>\n",
       "      <td>0.008715</td>\n",
       "      <td>0.005995</td>\n",
       "      <td>0</td>\n",
       "    </tr>\n",
       "    <tr>\n",
       "      <th>276569</th>\n",
       "      <td>5441718</td>\n",
       "      <td>fbd8d187c9f8a05016512f66707160b600434293b06ecf...</td>\n",
       "      <td>2017-09-23</td>\n",
       "      <td>0.841845</td>\n",
       "      <td>0.004404</td>\n",
       "      <td>0.010854</td>\n",
       "      <td>1.001861</td>\n",
       "      <td>0.004759</td>\n",
       "      <td>0.163909</td>\n",
       "      <td>0.007592</td>\n",
       "      <td>...</td>\n",
       "      <td>NaN</td>\n",
       "      <td>NaN</td>\n",
       "      <td>0.003941</td>\n",
       "      <td>0.007252</td>\n",
       "      <td>0.006897</td>\n",
       "      <td>NaN</td>\n",
       "      <td>0.008909</td>\n",
       "      <td>0.000816</td>\n",
       "      <td>0.006528</td>\n",
       "      <td>0</td>\n",
       "    </tr>\n",
       "    <tr>\n",
       "      <th>276570</th>\n",
       "      <td>2296570</td>\n",
       "      <td>6a1c7ee2ef483998bd91b42107b18b84ab3012f57e9f81...</td>\n",
       "      <td>2017-04-30</td>\n",
       "      <td>0.393324</td>\n",
       "      <td>0.117837</td>\n",
       "      <td>0.205245</td>\n",
       "      <td>0.015611</td>\n",
       "      <td>0.004225</td>\n",
       "      <td>0.564817</td>\n",
       "      <td>0.008934</td>\n",
       "      <td>...</td>\n",
       "      <td>NaN</td>\n",
       "      <td>NaN</td>\n",
       "      <td>0.008293</td>\n",
       "      <td>0.000285</td>\n",
       "      <td>0.009883</td>\n",
       "      <td>NaN</td>\n",
       "      <td>0.008599</td>\n",
       "      <td>0.004125</td>\n",
       "      <td>0.009582</td>\n",
       "      <td>1</td>\n",
       "    </tr>\n",
       "    <tr>\n",
       "      <th>276571</th>\n",
       "      <td>868216</td>\n",
       "      <td>28414f3556fae6250e04f6d0523d68f3a87fafa1e12c15...</td>\n",
       "      <td>2017-03-03</td>\n",
       "      <td>0.281986</td>\n",
       "      <td>0.000776</td>\n",
       "      <td>0.126253</td>\n",
       "      <td>0.157348</td>\n",
       "      <td>0.509473</td>\n",
       "      <td>0.267404</td>\n",
       "      <td>0.001177</td>\n",
       "      <td>...</td>\n",
       "      <td>NaN</td>\n",
       "      <td>NaN</td>\n",
       "      <td>0.005667</td>\n",
       "      <td>0.002016</td>\n",
       "      <td>0.002501</td>\n",
       "      <td>NaN</td>\n",
       "      <td>0.009089</td>\n",
       "      <td>0.008158</td>\n",
       "      <td>0.000012</td>\n",
       "      <td>1</td>\n",
       "    </tr>\n",
       "  </tbody>\n",
       "</table>\n",
       "<p>5 rows × 192 columns</p>\n",
       "</div>"
      ],
      "text/plain": [
       "        Unnamed: 0                                        customer_ID  \\\n",
       "276567      873580  288144823325d823e5f8a47dda65d2e0ed09a9f78bebcb...   \n",
       "276568      262686  0c3757cb750959c88f6edf19609e7195ca8ff2b6f72a30...   \n",
       "276569     5441718  fbd8d187c9f8a05016512f66707160b600434293b06ecf...   \n",
       "276570     2296570  6a1c7ee2ef483998bd91b42107b18b84ab3012f57e9f81...   \n",
       "276571      868216  28414f3556fae6250e04f6d0523d68f3a87fafa1e12c15...   \n",
       "\n",
       "               S_2       P_2      D_39       B_1       B_2       R_1  \\\n",
       "276567  2017-03-10  0.193743  0.533914  0.140841  0.126221  0.500161   \n",
       "276568  2017-09-29  0.402107  0.914917  0.442733  0.000432  0.003491   \n",
       "276569  2017-09-23  0.841845  0.004404  0.010854  1.001861  0.004759   \n",
       "276570  2017-04-30  0.393324  0.117837  0.205245  0.015611  0.004225   \n",
       "276571  2017-03-03  0.281986  0.000776  0.126253  0.157348  0.509473   \n",
       "\n",
       "             S_3      D_41  ...  D_137  D_138     D_139     D_140     D_141  \\\n",
       "276567  0.158571  0.165877  ...    NaN    NaN  1.008759  0.009847  0.979542   \n",
       "276568       NaN  0.436728  ...    NaN    NaN  0.000951  0.006729  0.005159   \n",
       "276569  0.163909  0.007592  ...    NaN    NaN  0.003941  0.007252  0.006897   \n",
       "276570  0.564817  0.008934  ...    NaN    NaN  0.008293  0.000285  0.009883   \n",
       "276571  0.267404  0.001177  ...    NaN    NaN  0.005667  0.002016  0.002501   \n",
       "\n",
       "           D_142     D_143     D_144     D_145  target  \n",
       "276567  0.735387  1.000480  0.150231  0.276447       1  \n",
       "276568       NaN  0.007615  0.008715  0.005995       0  \n",
       "276569       NaN  0.008909  0.000816  0.006528       0  \n",
       "276570       NaN  0.008599  0.004125  0.009582       1  \n",
       "276571       NaN  0.009089  0.008158  0.000012       1  \n",
       "\n",
       "[5 rows x 192 columns]"
      ]
     },
     "execution_count": 18,
     "metadata": {},
     "output_type": "execute_result"
    }
   ],
   "source": [
    "#CARGAMOS LAS VARIABLES EN UN DF\n",
    "df = pd.read_csv(\"C:/Users/Fran/Desktop/Facultad/Orga/tp3/Org-Datos-Grupo-19/train_data_final.csv\")\n",
    "\n",
    "\n",
    "#VERIFICO QUE SE HAYA CARGADO BIEN\n",
    "df.tail()"
   ]
  },
  {
   "cell_type": "markdown",
   "metadata": {},
   "source": [
    "Todo lo que es principios no esta, esta la parte de nulls y outliers. Este ultimo con z-score"
   ]
  },
  {
   "cell_type": "code",
   "execution_count": 19,
   "metadata": {},
   "outputs": [
    {
     "data": {
      "text/html": [
       "<div>\n",
       "<style scoped>\n",
       "    .dataframe tbody tr th:only-of-type {\n",
       "        vertical-align: middle;\n",
       "    }\n",
       "\n",
       "    .dataframe tbody tr th {\n",
       "        vertical-align: top;\n",
       "    }\n",
       "\n",
       "    .dataframe thead th {\n",
       "        text-align: right;\n",
       "    }\n",
       "</style>\n",
       "<table border=\"1\" class=\"dataframe\">\n",
       "  <thead>\n",
       "    <tr style=\"text-align: right;\">\n",
       "      <th></th>\n",
       "      <th>Cantidad de Nulos</th>\n",
       "      <th>Porcentaje Nulos</th>\n",
       "      <th>Porcentaje de nulos</th>\n",
       "    </tr>\n",
       "  </thead>\n",
       "  <tbody>\n",
       "    <tr>\n",
       "      <th>Unnamed: 0</th>\n",
       "      <td>0</td>\n",
       "      <td>0.00</td>\n",
       "      <td>Menores o iguales a 45%</td>\n",
       "    </tr>\n",
       "    <tr>\n",
       "      <th>customer_ID</th>\n",
       "      <td>0</td>\n",
       "      <td>0.00</td>\n",
       "      <td>Menores o iguales a 45%</td>\n",
       "    </tr>\n",
       "    <tr>\n",
       "      <th>S_2</th>\n",
       "      <td>0</td>\n",
       "      <td>0.00</td>\n",
       "      <td>Menores o iguales a 45%</td>\n",
       "    </tr>\n",
       "    <tr>\n",
       "      <th>P_2</th>\n",
       "      <td>2295</td>\n",
       "      <td>0.83</td>\n",
       "      <td>Menores o iguales a 45%</td>\n",
       "    </tr>\n",
       "    <tr>\n",
       "      <th>D_39</th>\n",
       "      <td>0</td>\n",
       "      <td>0.00</td>\n",
       "      <td>Menores o iguales a 45%</td>\n",
       "    </tr>\n",
       "    <tr>\n",
       "      <th>...</th>\n",
       "      <td>...</td>\n",
       "      <td>...</td>\n",
       "      <td>...</td>\n",
       "    </tr>\n",
       "    <tr>\n",
       "      <th>D_142</th>\n",
       "      <td>229717</td>\n",
       "      <td>83.06</td>\n",
       "      <td>Mayores a 45%</td>\n",
       "    </tr>\n",
       "    <tr>\n",
       "      <th>D_143</th>\n",
       "      <td>5139</td>\n",
       "      <td>1.86</td>\n",
       "      <td>Menores o iguales a 45%</td>\n",
       "    </tr>\n",
       "    <tr>\n",
       "      <th>D_144</th>\n",
       "      <td>2049</td>\n",
       "      <td>0.74</td>\n",
       "      <td>Menores o iguales a 45%</td>\n",
       "    </tr>\n",
       "    <tr>\n",
       "      <th>D_145</th>\n",
       "      <td>5139</td>\n",
       "      <td>1.86</td>\n",
       "      <td>Menores o iguales a 45%</td>\n",
       "    </tr>\n",
       "    <tr>\n",
       "      <th>target</th>\n",
       "      <td>0</td>\n",
       "      <td>0.00</td>\n",
       "      <td>Menores o iguales a 45%</td>\n",
       "    </tr>\n",
       "  </tbody>\n",
       "</table>\n",
       "<p>192 rows × 3 columns</p>\n",
       "</div>"
      ],
      "text/plain": [
       "             Cantidad de Nulos  Porcentaje Nulos      Porcentaje de nulos\n",
       "Unnamed: 0                   0              0.00  Menores o iguales a 45%\n",
       "customer_ID                  0              0.00  Menores o iguales a 45%\n",
       "S_2                          0              0.00  Menores o iguales a 45%\n",
       "P_2                       2295              0.83  Menores o iguales a 45%\n",
       "D_39                         0              0.00  Menores o iguales a 45%\n",
       "...                        ...               ...                      ...\n",
       "D_142                   229717             83.06            Mayores a 45%\n",
       "D_143                     5139              1.86  Menores o iguales a 45%\n",
       "D_144                     2049              0.74  Menores o iguales a 45%\n",
       "D_145                     5139              1.86  Menores o iguales a 45%\n",
       "target                       0              0.00  Menores o iguales a 45%\n",
       "\n",
       "[192 rows x 3 columns]"
      ]
     },
     "execution_count": 19,
     "metadata": {},
     "output_type": "execute_result"
    }
   ],
   "source": [
    "cantidad_nulos = df.isnull().sum()\n",
    "porcentaje_nulos = round(cantidad_nulos/len(df)*100,2)\n",
    "\n",
    "\n",
    "#Creo un dataframe aparte con los nulos y sus porcentajes.Si son mayores a 70, como grupo decidimos que se borra la columna.\n",
    "total_nulos = pd.DataFrame(cantidad_nulos,columns=[\"Cantidad de Nulos\"])\n",
    "total_nulos['Porcentaje Nulos']=porcentaje_nulos\n",
    "\n",
    "\n",
    "#Donde 1=True, 0=False\n",
    "total_nulos['Porcentaje de nulos'] = np.where(total_nulos['Porcentaje Nulos']>45,'Mayores a 45%',\n",
    "    'Menores o iguales a 45%')\n",
    "\n",
    "total_nulos"
   ]
  },
  {
   "cell_type": "markdown",
   "metadata": {},
   "source": [
    "###  Grafico de los porcentajes de nulos por columnas"
   ]
  },
  {
   "cell_type": "code",
   "execution_count": 20,
   "metadata": {},
   "outputs": [
    {
     "data": {
      "text/plain": [
       "Text(0.5, 0, 'Cantidad de Columnas')"
      ]
     },
     "execution_count": 20,
     "metadata": {},
     "output_type": "execute_result"
    },
    {
     "data": {
      "image/png": "[encoded data removed]",
      "text/plain": [
       "<Figure size 432x288 with 1 Axes>"
      ]
     },
     "metadata": {
      "needs_background": "light"
     },
     "output_type": "display_data"
    }
   ],
   "source": [
    "total_nulos['Porcentaje de nulos'].value_counts().plot.barh(color=['lightblue','orange'])\n",
    "plt.title(\"Porcentaje de todas las columnas\")\n",
    "plt.xlabel('Cantidad de Columnas')"
   ]
  },
  {
   "cell_type": "markdown",
   "metadata": {},
   "source": [
    "Agrego la parte de Braian donde borra las columnas. Iba a hacerlo de vuelta, pero si uso lo mismo es mas facil unirlo despues."
   ]
  },
  {
   "cell_type": "code",
   "execution_count": 21,
   "metadata": {},
   "outputs": [],
   "source": [
    "#Funcion que elimina columnas segun el porcentaje de nulos que tengan\n",
    "\n",
    "def rmissingvaluecol(dataframe, porcentaje):\n",
    "    l = []\n",
    "    l = list(dataframe.drop(dataframe.loc[:,list((100*(dataframe.isnull().sum()/len(dataframe.index)) >= porcentaje))].columns, 1).columns.values)\n",
    "    print(\"# Columns having more than %s percent missing values: \"%porcentaje, (dataframe.shape[1] - len(l)))\n",
    "    print(\"Columns:\\n\", list(set(list((dataframe.columns.values))) - set(l)))\n",
    "    return l"
   ]
  },
  {
   "cell_type": "code",
   "execution_count": 22,
   "metadata": {},
   "outputs": [
    {
     "name": "stdout",
     "output_type": "stream",
     "text": [
      "# Columns having more than 45 percent missing values:  31\n",
      "Columns:\n",
      " ['D_50', 'D_76', 'B_39', 'D_135', 'D_137', 'D_42', 'R_9', 'D_105', 'D_110', 'D_53', 'D_82', 'D_136', 'D_73', 'D_77', 'D_134', 'B_17', 'D_132', 'D_87', 'D_108', 'D_56', 'D_106', 'D_111', 'D_138', 'R_26', 'B_29', 'B_42', 'D_49', 'S_9', 'D_142', 'D_88', 'D_66']\n"
     ]
    },
    {
     "data": {
      "text/plain": [
       "(276572, 161)"
      ]
     },
     "execution_count": 22,
     "metadata": {},
     "output_type": "execute_result"
    }
   ],
   "source": [
    "filtrar_columnas = rmissingvaluecol(df,45)\n",
    "\n",
    "df_filtrado = df[filtrar_columnas]\n",
    "\n",
    "df_filtrado.shape"
   ]
  },
  {
   "cell_type": "markdown",
   "metadata": {},
   "source": [
    "Borrado de las correlativas"
   ]
  },
  {
   "cell_type": "code",
   "execution_count": 23,
   "metadata": {},
   "outputs": [],
   "source": [
    "corr = df_filtrado.drop(['target', 'Unnamed: 0'], axis=1).corr()\n",
    "correlated_features = set()\n",
    "\n",
    "for i in range(len(corr.columns)):\n",
    "    for j in range(i):\n",
    "        if abs(corr.iloc[i, j]) > 0.7:\n",
    "            colname = corr.columns[i]\n",
    "            correlated_features.add(colname)\n",
    "correlated_features.update(['Unnamed: 0'])\n",
    "corr = df_filtrado.drop(correlated_features, axis = 1).corr()\n",
    "\n",
    "\n",
    "df_reducido = df_filtrado.loc[:,list(corr.columns)]\n",
    "\n",
    "\n"
   ]
  },
  {
   "cell_type": "code",
   "execution_count": 24,
   "metadata": {},
   "outputs": [
    {
     "data": {
      "text/plain": [
       "(276572, 109)"
      ]
     },
     "execution_count": 24,
     "metadata": {},
     "output_type": "execute_result"
    }
   ],
   "source": [
    "columnas_categoricas = ['B_30', 'B_38', 'D_114', 'D_116', 'D_117', 'D_120', 'D_126', 'D_63', 'D_64', 'D_66', 'D_68']\n",
    "columnas_cuantitativas = []\n",
    "for columna in df_reducido.columns:\n",
    "    if columna not in columnas_categoricas:\n",
    "        columnas_cuantitativas.append(columna)\n",
    "df_cuantitativas = df_reducido[columnas_cuantitativas].copy()\n",
    "\n",
    "df_cuantitativas.shape"
   ]
  },
  {
   "cell_type": "markdown",
   "metadata": {},
   "source": [
    "Rellenando 'Nans' para variables numericas con su media"
   ]
  },
  {
   "cell_type": "code",
   "execution_count": 25,
   "metadata": {},
   "outputs": [],
   "source": [
    "from sklearn.impute import SimpleImputer\n",
    "columnas = df_cuantitativas.columns\n",
    "imp = SimpleImputer(missing_values = np.nan, strategy = 'mean')\n",
    "imp.fit(df_cuantitativas)\n",
    "df_sin_null = pd.DataFrame(imp.transform(df_cuantitativas), columns=columnas)\n",
    "#df_sin_null.drop('P_2')"
   ]
  },
  {
   "cell_type": "markdown",
   "metadata": {},
   "source": [
    "#### Ya teniendo el df necesario para el z-score, vemos outliers."
   ]
  },
  {
   "cell_type": "markdown",
   "metadata": {},
   "source": [
    "*Ahora que eliminamos los nulos queda trabajar con los outliers.\n",
    "Evaluamos la posibilidad de que todos los valores restantes del dataframe esten entre 0 y 1 pero cuando haces un df.sample ya ves que algunos casos no\n",
    "por lo que descartamos esa idea.*\n",
    "\n",
    "Proseguimos viendo un caso de ejemplo para ver Outliers."
   ]
  },
  {
   "cell_type": "code",
   "execution_count": 26,
   "metadata": {},
   "outputs": [
    {
     "name": "stdout",
     "output_type": "stream",
     "text": [
      "El valor maximo de la columna es:  4.81966993844126\n",
      "El valor minimo de la columna es:  1.2950453317506216e-08\n",
      "La cantidad de valores mayores a 3 son:  16\n"
     ]
    },
    {
     "data": {
      "image/png": "[encoded data removed]",
      "text/plain": [
       "<Figure size 432x288 with 1 Axes>"
      ]
     },
     "metadata": {
      "needs_background": "light"
     },
     "output_type": "display_data"
    }
   ],
   "source": [
    "#Usando como ejemplo la columna D_145\n",
    "#Busco los valores maximos y minimos de otro ejemplo\n",
    "print(\"El valor maximo de la columna es: \",df_filtrado['D_145'].max())\n",
    "print(\"El valor minimo de la columna es: \",df_filtrado['D_145'].min())\n",
    "\n",
    "d_145=df_filtrado['D_145']\n",
    "sns.boxplot(d_145).set(title='Boxplot 1')\n",
    "print(\"La cantidad de valores mayores a 3 son: \",(d_145[d_145>3]).count())\n",
    "\n",
    "\n",
    "#En este caso lo logico seria borrar esos 16 valores ya que son considerados outliers."
   ]
  },
  {
   "cell_type": "code",
   "execution_count": 27,
   "metadata": {},
   "outputs": [
    {
     "data": {
      "text/plain": [
       "[Text(0.5, 1.0, 'Boxplot 2')]"
      ]
     },
     "execution_count": 27,
     "metadata": {},
     "output_type": "execute_result"
    },
    {
     "data": {
      "image/png": "[encoded data removed]",
      "text/plain": [
       "<Figure size 432x288 with 1 Axes>"
      ]
     },
     "metadata": {
      "needs_background": "light"
     },
     "output_type": "display_data"
    }
   ],
   "source": [
    "#Le hago 'zoom' a la parte entre 0 y 1 para que se vea mejor el boxplot\n",
    "sns.boxplot(d_145[d_145<1]).set(title='Boxplot 2')\n",
    "\n",
    "#Volvemos a ver que la gran concentracion de datos esta entre valores muy cercanos a 0 y luego pega saltos de aproximadamente 0.1"
   ]
  },
  {
   "cell_type": "code",
   "execution_count": 28,
   "metadata": {},
   "outputs": [
    {
     "data": {
      "text/plain": [
       "[Text(0.5, 1.0, 'Boxplot 3')]"
      ]
     },
     "execution_count": 28,
     "metadata": {},
     "output_type": "execute_result"
    },
    {
     "data": {
      "image/png": "[encoded data removed]",
      "text/plain": [
       "<Figure size 432x288 with 1 Axes>"
      ]
     },
     "metadata": {
      "needs_background": "light"
     },
     "output_type": "display_data"
    }
   ],
   "source": [
    "#Por ultimo grafico la misma columna para valores muy cercanos a 0\n",
    "sns.boxplot(d_145[d_145<.1]).set(title='Boxplot 3')"
   ]
  },
  {
   "cell_type": "markdown",
   "metadata": {},
   "source": [
    "Usando como ejemplo la columna D_145, vemos que segun el boxplot 3, se podrian 'considerar outliers' todos los valores que sean mayores a 0.02 pero como\n",
    "esta cantidad en proporcion a los datos es grande, decidimos no eliminar dichos valores. Aunque si podria ser de eliminar los 16 valores mayores a 3 del\n",
    "boxplot 1."
   ]
  },
  {
   "cell_type": "markdown",
   "metadata": {},
   "source": [
    "### Empiezo a utilizar z-score"
   ]
  },
  {
   "cell_type": "markdown",
   "metadata": {},
   "source": [
    "Comenzamos usando como ejemplo a la misma columna D_145 para evaluar el z-score de la columna"
   ]
  },
  {
   "cell_type": "code",
   "execution_count": 29,
   "metadata": {},
   "outputs": [
    {
     "data": {
      "text/html": [
       "<div>\n",
       "<style scoped>\n",
       "    .dataframe tbody tr th:only-of-type {\n",
       "        vertical-align: middle;\n",
       "    }\n",
       "\n",
       "    .dataframe tbody tr th {\n",
       "        vertical-align: top;\n",
       "    }\n",
       "\n",
       "    .dataframe thead th {\n",
       "        text-align: right;\n",
       "    }\n",
       "</style>\n",
       "<table border=\"1\" class=\"dataframe\">\n",
       "  <thead>\n",
       "    <tr style=\"text-align: right;\">\n",
       "      <th></th>\n",
       "      <th>D_145</th>\n",
       "      <th>Z-Score</th>\n",
       "      <th>Cumple?</th>\n",
       "      <th>Finalizado</th>\n",
       "    </tr>\n",
       "  </thead>\n",
       "  <tbody>\n",
       "    <tr>\n",
       "      <th>0</th>\n",
       "      <td>0.002719</td>\n",
       "      <td>-3.093681e-01</td>\n",
       "      <td>True</td>\n",
       "      <td>0.002719</td>\n",
       "    </tr>\n",
       "    <tr>\n",
       "      <th>1</th>\n",
       "      <td>0.095926</td>\n",
       "      <td>1.842965e-01</td>\n",
       "      <td>True</td>\n",
       "      <td>0.095926</td>\n",
       "    </tr>\n",
       "    <tr>\n",
       "      <th>2</th>\n",
       "      <td>0.061130</td>\n",
       "      <td>-3.675140e-17</td>\n",
       "      <td>True</td>\n",
       "      <td>0.061130</td>\n",
       "    </tr>\n",
       "    <tr>\n",
       "      <th>3</th>\n",
       "      <td>0.002798</td>\n",
       "      <td>-3.089509e-01</td>\n",
       "      <td>True</td>\n",
       "      <td>0.002798</td>\n",
       "    </tr>\n",
       "    <tr>\n",
       "      <th>4</th>\n",
       "      <td>0.000342</td>\n",
       "      <td>-3.219595e-01</td>\n",
       "      <td>True</td>\n",
       "      <td>0.000342</td>\n",
       "    </tr>\n",
       "    <tr>\n",
       "      <th>...</th>\n",
       "      <td>...</td>\n",
       "      <td>...</td>\n",
       "      <td>...</td>\n",
       "      <td>...</td>\n",
       "    </tr>\n",
       "    <tr>\n",
       "      <th>276567</th>\n",
       "      <td>0.276447</td>\n",
       "      <td>1.140413e+00</td>\n",
       "      <td>True</td>\n",
       "      <td>0.276447</td>\n",
       "    </tr>\n",
       "    <tr>\n",
       "      <th>276568</th>\n",
       "      <td>0.005995</td>\n",
       "      <td>-2.920201e-01</td>\n",
       "      <td>True</td>\n",
       "      <td>0.005995</td>\n",
       "    </tr>\n",
       "    <tr>\n",
       "      <th>276569</th>\n",
       "      <td>0.006528</td>\n",
       "      <td>-2.891979e-01</td>\n",
       "      <td>True</td>\n",
       "      <td>0.006528</td>\n",
       "    </tr>\n",
       "    <tr>\n",
       "      <th>276570</th>\n",
       "      <td>0.009582</td>\n",
       "      <td>-2.730215e-01</td>\n",
       "      <td>True</td>\n",
       "      <td>0.009582</td>\n",
       "    </tr>\n",
       "    <tr>\n",
       "      <th>276571</th>\n",
       "      <td>0.000012</td>\n",
       "      <td>-3.237087e-01</td>\n",
       "      <td>True</td>\n",
       "      <td>0.000012</td>\n",
       "    </tr>\n",
       "  </tbody>\n",
       "</table>\n",
       "<p>276572 rows × 4 columns</p>\n",
       "</div>"
      ],
      "text/plain": [
       "           D_145       Z-Score  Cumple?  Finalizado\n",
       "0       0.002719 -3.093681e-01     True    0.002719\n",
       "1       0.095926  1.842965e-01     True    0.095926\n",
       "2       0.061130 -3.675140e-17     True    0.061130\n",
       "3       0.002798 -3.089509e-01     True    0.002798\n",
       "4       0.000342 -3.219595e-01     True    0.000342\n",
       "...          ...           ...      ...         ...\n",
       "276567  0.276447  1.140413e+00     True    0.276447\n",
       "276568  0.005995 -2.920201e-01     True    0.005995\n",
       "276569  0.006528 -2.891979e-01     True    0.006528\n",
       "276570  0.009582 -2.730215e-01     True    0.009582\n",
       "276571  0.000012 -3.237087e-01     True    0.000012\n",
       "\n",
       "[276572 rows x 4 columns]"
      ]
     },
     "metadata": {},
     "output_type": "display_data"
    },
    {
     "data": {
      "text/plain": [
       "<matplotlib.lines.Line2D at 0x1ec944e8700>"
      ]
     },
     "execution_count": 29,
     "metadata": {},
     "output_type": "execute_result"
    },
    {
     "data": {
      "image/png": "[encoded data removed]",
      "text/plain": [
       "<Figure size 432x288 with 1 Axes>"
      ]
     },
     "metadata": {
      "needs_background": "light"
     },
     "output_type": "display_data"
    }
   ],
   "source": [
    "df_xd = pd.DataFrame(df_sin_null['D_145'])\n",
    "df_xd['Z-Score'] = stats.zscore(df_sin_null['D_145'])\n",
    "df_xd['Cumple?'] = np.where( (-3< df_xd['Z-Score']) & (df_xd['Z-Score']<3),True,False)\n",
    "\n",
    "#Relaciona la primera y tercer columna para crear una cuarta con valores originales cuando Cumple = True y nan si cumple igual = False\n",
    "#df_xd['Finalizado'] = [ele if stats.zscore(ele) <= 3 else np.nan() for ele in df_xd['D_145']]\n",
    "#df_xd['Finalizado'] = df_xd['D_145'].loc[abs(df_xd['Z-Score']) > 3] = np.nan()\n",
    "df_xd['Finalizado']= df_xd['D_145'].loc[abs(stats.zscore(df_xd['D_145'])) <= 3] \n",
    "\n",
    "display(df_xd)\n",
    "\n",
    "sns.boxplot(df_xd['Z-Score'])\n",
    "plt.axvline(3, 0)\n",
    "plt.axvline(-3, 0)\n",
    "\n",
    "#Donde para esta columna, consideramos outliers a todos los valores que tengan un | z_score | <=3\n"
   ]
  },
  {
   "cell_type": "markdown",
   "metadata": {},
   "source": [
    "### Llevando lo anterior a todo el dataframe"
   ]
  },
  {
   "cell_type": "code",
   "execution_count": 30,
   "metadata": {},
   "outputs": [],
   "source": [
    "\n",
    "def eliminar_por_zscore(df):\n",
    "    result = pd.DataFrame()\n",
    "    for col in df:    \n",
    "        result[col] = df[col].loc[abs(stats.zscore(df[col])) <= 3] \n",
    "    return result\n",
    "    \n",
    "\n"
   ]
  },
  {
   "cell_type": "code",
   "execution_count": 31,
   "metadata": {},
   "outputs": [
    {
     "data": {
      "text/plain": [
       "(113896, 109)"
      ]
     },
     "metadata": {},
     "output_type": "display_data"
    },
    {
     "name": "stdout",
     "output_type": "stream",
     "text": [
      "Fueron eliminadas:  162676 filas\n"
     ]
    }
   ],
   "source": [
    "df_zscore = eliminar_por_zscore(df_sin_null)\n",
    "df_zscore.isnull().sum()\n",
    "\n",
    "#Evito que me muestre los warnings\n",
    "import warnings\n",
    "warnings.filterwarnings('ignore')\n",
    "warnings.simplefilter(action='ignore', category=FutureWarning)\n",
    "\n",
    "df_zscore=df_zscore.dropna()\n",
    "display(df_zscore.shape)\n",
    "\n",
    "#Tenemos el dataframe final sin outliers ni nulls. Me fijo la diferencia entre la cantidad de filas\n",
    "\n",
    "print(\"Fueron eliminadas: \",df_sin_null.shape[0] - df_zscore.shape[0],\"filas\")\n",
    "\n",
    "\n"
   ]
  },
  {
   "cell_type": "markdown",
   "metadata": {},
   "source": [
    "### One hot encoding"
   ]
  },
  {
   "cell_type": "markdown",
   "metadata": {},
   "source": [
    "Estoy usando el df original, sin modificaciones de outliers ni nans."
   ]
  },
  {
   "cell_type": "code",
   "execution_count": 42,
   "metadata": {},
   "outputs": [
    {
     "data": {
      "text/plain": [
       "B_30         96\n",
       "B_38         96\n",
       "D_114      8928\n",
       "D_116      8928\n",
       "D_117      8928\n",
       "D_120      8928\n",
       "D_126      5927\n",
       "D_63          0\n",
       "D_64      11049\n",
       "D_66     245464\n",
       "D_68      10984\n",
       "dtype: int64"
      ]
     },
     "metadata": {},
     "output_type": "display_data"
    },
    {
     "data": {
      "text/plain": [
       "0    245464\n",
       "1     31108\n",
       "Name: D_66, dtype: int64"
      ]
     },
     "metadata": {},
     "output_type": "display_data"
    },
    {
     "data": {
      "text/plain": [
       "(276572, 11)"
      ]
     },
     "execution_count": 42,
     "metadata": {},
     "output_type": "execute_result"
    }
   ],
   "source": [
    "df_cat = df[columnas_categoricas]\n",
    "display(df_cat.isna().sum())\n",
    "df_cat['D_66'] = 1-df_cat['D_66'].isna().astype(int)\n",
    "display(df_cat['D_66'].value_counts())\n",
    "\n",
    "df_cat.shape\n",
    "\n",
    "#En la columna D_66 reemplaza por 0 si no tiene info, 1 eoc"
   ]
  },
  {
   "cell_type": "code",
   "execution_count": 50,
   "metadata": {},
   "outputs": [
    {
     "data": {
      "text/plain": [
       "0.0    235265\n",
       "1.0     38480\n",
       "2.0      2731\n",
       "Name: B_30, dtype: int64"
      ]
     },
     "metadata": {},
     "output_type": "display_data"
    },
    {
     "data": {
      "text/plain": [
       "2.0    97555\n",
       "3.0    62724\n",
       "1.0    57955\n",
       "5.0    22137\n",
       "4.0    14769\n",
       "7.0    13097\n",
       "6.0     8239\n",
       "Name: B_38, dtype: int64"
      ]
     },
     "metadata": {},
     "output_type": "display_data"
    },
    {
     "data": {
      "text/plain": [
       "1.0    165566\n",
       "0.0    102078\n",
       "Name: D_114, dtype: int64"
      ]
     },
     "metadata": {},
     "output_type": "display_data"
    },
    {
     "data": {
      "text/plain": [
       "0.0    267288\n",
       "1.0       356\n",
       "Name: D_116, dtype: int64"
      ]
     },
     "metadata": {},
     "output_type": "display_data"
    },
    {
     "data": {
      "text/plain": [
       "-1.0    72562\n",
       " 3.0    58465\n",
       " 4.0    56895\n",
       " 2.0    33344\n",
       " 5.0    22940\n",
       " 6.0    17227\n",
       " 1.0     6211\n",
       "Name: D_117, dtype: int64"
      ]
     },
     "metadata": {},
     "output_type": "display_data"
    },
    {
     "data": {
      "text/plain": [
       "0.0    236870\n",
       "1.0     30774\n",
       "Name: D_120, dtype: int64"
      ]
     },
     "metadata": {},
     "output_type": "display_data"
    },
    {
     "data": {
      "text/plain": [
       " 1.0    213132\n",
       " 0.0     44292\n",
       "-1.0     13221\n",
       "Name: D_126, dtype: int64"
      ]
     },
     "metadata": {},
     "output_type": "display_data"
    },
    {
     "data": {
      "text/plain": [
       "CO    205794\n",
       "CR     46609\n",
       "CL     22019\n",
       "XZ      1328\n",
       "XM       530\n",
       "XL       292\n",
       "Name: D_63, dtype: int64"
      ]
     },
     "metadata": {},
     "output_type": "display_data"
    },
    {
     "data": {
      "text/plain": [
       "O     145706\n",
       "U      76180\n",
       "R      41794\n",
       "-1      1843\n",
       "Name: D_64, dtype: int64"
      ]
     },
     "metadata": {},
     "output_type": "display_data"
    },
    {
     "data": {
      "text/plain": [
       "1.0    30809\n",
       "0.0      299\n",
       "Name: D_66, dtype: int64"
      ]
     },
     "metadata": {},
     "output_type": "display_data"
    },
    {
     "data": {
      "text/plain": [
       "6.0    139326\n",
       "5.0     60126\n",
       "3.0     24113\n",
       "4.0     23718\n",
       "2.0     11032\n",
       "1.0      6468\n",
       "0.0       805\n",
       "Name: D_68, dtype: int64"
      ]
     },
     "metadata": {},
     "output_type": "display_data"
    }
   ],
   "source": [
    "for columna in df_cat:\n",
    "    display(df[columna].value_counts())\n",
    "    \n"
   ]
  },
  {
   "cell_type": "code",
   "execution_count": 48,
   "metadata": {},
   "outputs": [
    {
     "data": {
      "text/plain": [
       "O     145706\n",
       "U      76180\n",
       "R      41794\n",
       "-1      1843\n",
       "Name: D_64, dtype: int64"
      ]
     },
     "metadata": {},
     "output_type": "display_data"
    },
    {
     "data": {
      "text/plain": [
       "<bound method Series.info of 0           O\n",
       "1           O\n",
       "2         NaN\n",
       "3           R\n",
       "4           O\n",
       "         ... \n",
       "276567      U\n",
       "276568      R\n",
       "276569      O\n",
       "276570    NaN\n",
       "276571      R\n",
       "Name: D_64, Length: 276572, dtype: object>"
      ]
     },
     "execution_count": 48,
     "metadata": {},
     "output_type": "execute_result"
    }
   ],
   "source": [
    "display(df_cat['D_64'].value_counts())\n",
    "df_cat['D_64'].info\n",
    "\n"
   ]
  },
  {
   "cell_type": "markdown",
   "metadata": {},
   "source": [
    "### Codigo del one hot encoding"
   ]
  },
  {
   "cell_type": "code",
   "execution_count": 80,
   "metadata": {},
   "outputs": [
    {
     "name": "stdout",
     "output_type": "stream",
     "text": [
      "Shape: (276572, 54)\n",
      "Size: 14934888\n"
     ]
    },
    {
     "data": {
      "text/html": [
       "<div>\n",
       "<style scoped>\n",
       "    .dataframe tbody tr th:only-of-type {\n",
       "        vertical-align: middle;\n",
       "    }\n",
       "\n",
       "    .dataframe tbody tr th {\n",
       "        vertical-align: top;\n",
       "    }\n",
       "\n",
       "    .dataframe thead th {\n",
       "        text-align: right;\n",
       "    }\n",
       "</style>\n",
       "<table border=\"1\" class=\"dataframe\">\n",
       "  <thead>\n",
       "    <tr style=\"text-align: right;\">\n",
       "      <th></th>\n",
       "      <th>B_30_0.0</th>\n",
       "      <th>B_30_1.0</th>\n",
       "      <th>B_30_2.0</th>\n",
       "      <th>B_30_nan</th>\n",
       "      <th>B_38_1.0</th>\n",
       "      <th>B_38_2.0</th>\n",
       "      <th>B_38_3.0</th>\n",
       "      <th>B_38_4.0</th>\n",
       "      <th>B_38_5.0</th>\n",
       "      <th>B_38_6.0</th>\n",
       "      <th>...</th>\n",
       "      <th>D_66_0</th>\n",
       "      <th>D_66_1</th>\n",
       "      <th>D_68_0.0</th>\n",
       "      <th>D_68_1.0</th>\n",
       "      <th>D_68_2.0</th>\n",
       "      <th>D_68_3.0</th>\n",
       "      <th>D_68_4.0</th>\n",
       "      <th>D_68_5.0</th>\n",
       "      <th>D_68_6.0</th>\n",
       "      <th>D_68_nan</th>\n",
       "    </tr>\n",
       "  </thead>\n",
       "  <tbody>\n",
       "    <tr>\n",
       "      <th>0</th>\n",
       "      <td>1.0</td>\n",
       "      <td>0.0</td>\n",
       "      <td>0.0</td>\n",
       "      <td>0.0</td>\n",
       "      <td>0.0</td>\n",
       "      <td>1.0</td>\n",
       "      <td>0.0</td>\n",
       "      <td>0.0</td>\n",
       "      <td>0.0</td>\n",
       "      <td>0.0</td>\n",
       "      <td>...</td>\n",
       "      <td>1.0</td>\n",
       "      <td>0.0</td>\n",
       "      <td>0.0</td>\n",
       "      <td>0.0</td>\n",
       "      <td>0.0</td>\n",
       "      <td>0.0</td>\n",
       "      <td>0.0</td>\n",
       "      <td>0.0</td>\n",
       "      <td>1.0</td>\n",
       "      <td>0.0</td>\n",
       "    </tr>\n",
       "    <tr>\n",
       "      <th>1</th>\n",
       "      <td>1.0</td>\n",
       "      <td>0.0</td>\n",
       "      <td>0.0</td>\n",
       "      <td>0.0</td>\n",
       "      <td>0.0</td>\n",
       "      <td>1.0</td>\n",
       "      <td>0.0</td>\n",
       "      <td>0.0</td>\n",
       "      <td>0.0</td>\n",
       "      <td>0.0</td>\n",
       "      <td>...</td>\n",
       "      <td>1.0</td>\n",
       "      <td>0.0</td>\n",
       "      <td>0.0</td>\n",
       "      <td>0.0</td>\n",
       "      <td>0.0</td>\n",
       "      <td>0.0</td>\n",
       "      <td>0.0</td>\n",
       "      <td>1.0</td>\n",
       "      <td>0.0</td>\n",
       "      <td>0.0</td>\n",
       "    </tr>\n",
       "    <tr>\n",
       "      <th>2</th>\n",
       "      <td>1.0</td>\n",
       "      <td>0.0</td>\n",
       "      <td>0.0</td>\n",
       "      <td>0.0</td>\n",
       "      <td>1.0</td>\n",
       "      <td>0.0</td>\n",
       "      <td>0.0</td>\n",
       "      <td>0.0</td>\n",
       "      <td>0.0</td>\n",
       "      <td>0.0</td>\n",
       "      <td>...</td>\n",
       "      <td>1.0</td>\n",
       "      <td>0.0</td>\n",
       "      <td>0.0</td>\n",
       "      <td>0.0</td>\n",
       "      <td>0.0</td>\n",
       "      <td>0.0</td>\n",
       "      <td>0.0</td>\n",
       "      <td>0.0</td>\n",
       "      <td>0.0</td>\n",
       "      <td>1.0</td>\n",
       "    </tr>\n",
       "    <tr>\n",
       "      <th>3</th>\n",
       "      <td>0.0</td>\n",
       "      <td>1.0</td>\n",
       "      <td>0.0</td>\n",
       "      <td>0.0</td>\n",
       "      <td>0.0</td>\n",
       "      <td>0.0</td>\n",
       "      <td>1.0</td>\n",
       "      <td>0.0</td>\n",
       "      <td>0.0</td>\n",
       "      <td>0.0</td>\n",
       "      <td>...</td>\n",
       "      <td>1.0</td>\n",
       "      <td>0.0</td>\n",
       "      <td>0.0</td>\n",
       "      <td>0.0</td>\n",
       "      <td>0.0</td>\n",
       "      <td>0.0</td>\n",
       "      <td>0.0</td>\n",
       "      <td>0.0</td>\n",
       "      <td>1.0</td>\n",
       "      <td>0.0</td>\n",
       "    </tr>\n",
       "    <tr>\n",
       "      <th>4</th>\n",
       "      <td>1.0</td>\n",
       "      <td>0.0</td>\n",
       "      <td>0.0</td>\n",
       "      <td>0.0</td>\n",
       "      <td>1.0</td>\n",
       "      <td>0.0</td>\n",
       "      <td>0.0</td>\n",
       "      <td>0.0</td>\n",
       "      <td>0.0</td>\n",
       "      <td>0.0</td>\n",
       "      <td>...</td>\n",
       "      <td>1.0</td>\n",
       "      <td>0.0</td>\n",
       "      <td>0.0</td>\n",
       "      <td>0.0</td>\n",
       "      <td>0.0</td>\n",
       "      <td>0.0</td>\n",
       "      <td>1.0</td>\n",
       "      <td>0.0</td>\n",
       "      <td>0.0</td>\n",
       "      <td>0.0</td>\n",
       "    </tr>\n",
       "    <tr>\n",
       "      <th>...</th>\n",
       "      <td>...</td>\n",
       "      <td>...</td>\n",
       "      <td>...</td>\n",
       "      <td>...</td>\n",
       "      <td>...</td>\n",
       "      <td>...</td>\n",
       "      <td>...</td>\n",
       "      <td>...</td>\n",
       "      <td>...</td>\n",
       "      <td>...</td>\n",
       "      <td>...</td>\n",
       "      <td>...</td>\n",
       "      <td>...</td>\n",
       "      <td>...</td>\n",
       "      <td>...</td>\n",
       "      <td>...</td>\n",
       "      <td>...</td>\n",
       "      <td>...</td>\n",
       "      <td>...</td>\n",
       "      <td>...</td>\n",
       "      <td>...</td>\n",
       "    </tr>\n",
       "    <tr>\n",
       "      <th>276567</th>\n",
       "      <td>1.0</td>\n",
       "      <td>0.0</td>\n",
       "      <td>0.0</td>\n",
       "      <td>0.0</td>\n",
       "      <td>0.0</td>\n",
       "      <td>0.0</td>\n",
       "      <td>1.0</td>\n",
       "      <td>0.0</td>\n",
       "      <td>0.0</td>\n",
       "      <td>0.0</td>\n",
       "      <td>...</td>\n",
       "      <td>1.0</td>\n",
       "      <td>0.0</td>\n",
       "      <td>0.0</td>\n",
       "      <td>0.0</td>\n",
       "      <td>0.0</td>\n",
       "      <td>0.0</td>\n",
       "      <td>0.0</td>\n",
       "      <td>1.0</td>\n",
       "      <td>0.0</td>\n",
       "      <td>0.0</td>\n",
       "    </tr>\n",
       "    <tr>\n",
       "      <th>276568</th>\n",
       "      <td>0.0</td>\n",
       "      <td>1.0</td>\n",
       "      <td>0.0</td>\n",
       "      <td>0.0</td>\n",
       "      <td>0.0</td>\n",
       "      <td>0.0</td>\n",
       "      <td>0.0</td>\n",
       "      <td>0.0</td>\n",
       "      <td>0.0</td>\n",
       "      <td>0.0</td>\n",
       "      <td>...</td>\n",
       "      <td>1.0</td>\n",
       "      <td>0.0</td>\n",
       "      <td>0.0</td>\n",
       "      <td>0.0</td>\n",
       "      <td>0.0</td>\n",
       "      <td>1.0</td>\n",
       "      <td>0.0</td>\n",
       "      <td>0.0</td>\n",
       "      <td>0.0</td>\n",
       "      <td>0.0</td>\n",
       "    </tr>\n",
       "    <tr>\n",
       "      <th>276569</th>\n",
       "      <td>1.0</td>\n",
       "      <td>0.0</td>\n",
       "      <td>0.0</td>\n",
       "      <td>0.0</td>\n",
       "      <td>0.0</td>\n",
       "      <td>1.0</td>\n",
       "      <td>0.0</td>\n",
       "      <td>0.0</td>\n",
       "      <td>0.0</td>\n",
       "      <td>0.0</td>\n",
       "      <td>...</td>\n",
       "      <td>1.0</td>\n",
       "      <td>0.0</td>\n",
       "      <td>0.0</td>\n",
       "      <td>0.0</td>\n",
       "      <td>0.0</td>\n",
       "      <td>0.0</td>\n",
       "      <td>0.0</td>\n",
       "      <td>0.0</td>\n",
       "      <td>1.0</td>\n",
       "      <td>0.0</td>\n",
       "    </tr>\n",
       "    <tr>\n",
       "      <th>276570</th>\n",
       "      <td>0.0</td>\n",
       "      <td>0.0</td>\n",
       "      <td>1.0</td>\n",
       "      <td>0.0</td>\n",
       "      <td>1.0</td>\n",
       "      <td>0.0</td>\n",
       "      <td>0.0</td>\n",
       "      <td>0.0</td>\n",
       "      <td>0.0</td>\n",
       "      <td>0.0</td>\n",
       "      <td>...</td>\n",
       "      <td>1.0</td>\n",
       "      <td>0.0</td>\n",
       "      <td>0.0</td>\n",
       "      <td>0.0</td>\n",
       "      <td>0.0</td>\n",
       "      <td>0.0</td>\n",
       "      <td>0.0</td>\n",
       "      <td>0.0</td>\n",
       "      <td>0.0</td>\n",
       "      <td>1.0</td>\n",
       "    </tr>\n",
       "    <tr>\n",
       "      <th>276571</th>\n",
       "      <td>1.0</td>\n",
       "      <td>0.0</td>\n",
       "      <td>0.0</td>\n",
       "      <td>0.0</td>\n",
       "      <td>0.0</td>\n",
       "      <td>0.0</td>\n",
       "      <td>1.0</td>\n",
       "      <td>0.0</td>\n",
       "      <td>0.0</td>\n",
       "      <td>0.0</td>\n",
       "      <td>...</td>\n",
       "      <td>1.0</td>\n",
       "      <td>0.0</td>\n",
       "      <td>0.0</td>\n",
       "      <td>0.0</td>\n",
       "      <td>0.0</td>\n",
       "      <td>1.0</td>\n",
       "      <td>0.0</td>\n",
       "      <td>0.0</td>\n",
       "      <td>0.0</td>\n",
       "      <td>0.0</td>\n",
       "    </tr>\n",
       "  </tbody>\n",
       "</table>\n",
       "<p>276572 rows × 54 columns</p>\n",
       "</div>"
      ],
      "text/plain": [
       "        B_30_0.0  B_30_1.0  B_30_2.0  B_30_nan  B_38_1.0  B_38_2.0  B_38_3.0  \\\n",
       "0            1.0       0.0       0.0       0.0       0.0       1.0       0.0   \n",
       "1            1.0       0.0       0.0       0.0       0.0       1.0       0.0   \n",
       "2            1.0       0.0       0.0       0.0       1.0       0.0       0.0   \n",
       "3            0.0       1.0       0.0       0.0       0.0       0.0       1.0   \n",
       "4            1.0       0.0       0.0       0.0       1.0       0.0       0.0   \n",
       "...          ...       ...       ...       ...       ...       ...       ...   \n",
       "276567       1.0       0.0       0.0       0.0       0.0       0.0       1.0   \n",
       "276568       0.0       1.0       0.0       0.0       0.0       0.0       0.0   \n",
       "276569       1.0       0.0       0.0       0.0       0.0       1.0       0.0   \n",
       "276570       0.0       0.0       1.0       0.0       1.0       0.0       0.0   \n",
       "276571       1.0       0.0       0.0       0.0       0.0       0.0       1.0   \n",
       "\n",
       "        B_38_4.0  B_38_5.0  B_38_6.0  ...  D_66_0  D_66_1  D_68_0.0  D_68_1.0  \\\n",
       "0            0.0       0.0       0.0  ...     1.0     0.0       0.0       0.0   \n",
       "1            0.0       0.0       0.0  ...     1.0     0.0       0.0       0.0   \n",
       "2            0.0       0.0       0.0  ...     1.0     0.0       0.0       0.0   \n",
       "3            0.0       0.0       0.0  ...     1.0     0.0       0.0       0.0   \n",
       "4            0.0       0.0       0.0  ...     1.0     0.0       0.0       0.0   \n",
       "...          ...       ...       ...  ...     ...     ...       ...       ...   \n",
       "276567       0.0       0.0       0.0  ...     1.0     0.0       0.0       0.0   \n",
       "276568       0.0       0.0       0.0  ...     1.0     0.0       0.0       0.0   \n",
       "276569       0.0       0.0       0.0  ...     1.0     0.0       0.0       0.0   \n",
       "276570       0.0       0.0       0.0  ...     1.0     0.0       0.0       0.0   \n",
       "276571       0.0       0.0       0.0  ...     1.0     0.0       0.0       0.0   \n",
       "\n",
       "        D_68_2.0  D_68_3.0  D_68_4.0  D_68_5.0  D_68_6.0  D_68_nan  \n",
       "0            0.0       0.0       0.0       0.0       1.0       0.0  \n",
       "1            0.0       0.0       0.0       1.0       0.0       0.0  \n",
       "2            0.0       0.0       0.0       0.0       0.0       1.0  \n",
       "3            0.0       0.0       0.0       0.0       1.0       0.0  \n",
       "4            0.0       0.0       1.0       0.0       0.0       0.0  \n",
       "...          ...       ...       ...       ...       ...       ...  \n",
       "276567       0.0       0.0       0.0       1.0       0.0       0.0  \n",
       "276568       0.0       1.0       0.0       0.0       0.0       0.0  \n",
       "276569       0.0       0.0       0.0       0.0       1.0       0.0  \n",
       "276570       0.0       0.0       0.0       0.0       0.0       1.0  \n",
       "276571       0.0       1.0       0.0       0.0       0.0       0.0  \n",
       "\n",
       "[276572 rows x 54 columns]"
      ]
     },
     "metadata": {},
     "output_type": "display_data"
    }
   ],
   "source": [
    "to_enc = columnas_categoricas\n",
    "enc = OneHotEncoder()\n",
    "enc.fit(df_cat[to_enc])\n",
    "ohed = pd.DataFrame(enc.transform(df_cat[to_enc]).toarray())\n",
    "print(f\"Shape: {ohed.shape}\")\n",
    "print(f\"Size: {ohed.size}\")\n",
    "\n",
    "ohed.columns = [name+\"_\"+str(y) for name,categorie in zip(enc.feature_names_in_,enc.categories_) for y in categorie]\n",
    "display(ohed)\n",
    "\n",
    "\n",
    "\n",
    "\n"
   ]
  },
  {
   "cell_type": "code",
   "execution_count": 90,
   "metadata": {},
   "outputs": [
    {
     "data": {
      "text/html": [
       "<div>\n",
       "<style scoped>\n",
       "    .dataframe tbody tr th:only-of-type {\n",
       "        vertical-align: middle;\n",
       "    }\n",
       "\n",
       "    .dataframe tbody tr th {\n",
       "        vertical-align: top;\n",
       "    }\n",
       "\n",
       "    .dataframe thead th {\n",
       "        text-align: right;\n",
       "    }\n",
       "</style>\n",
       "<table border=\"1\" class=\"dataframe\">\n",
       "  <thead>\n",
       "    <tr style=\"text-align: right;\">\n",
       "      <th></th>\n",
       "      <th>Unnamed: 0</th>\n",
       "      <th>customer_ID</th>\n",
       "      <th>S_2</th>\n",
       "      <th>P_2</th>\n",
       "      <th>D_39</th>\n",
       "      <th>B_1</th>\n",
       "      <th>B_2</th>\n",
       "      <th>R_1</th>\n",
       "      <th>S_3</th>\n",
       "      <th>D_41</th>\n",
       "      <th>...</th>\n",
       "      <th>D_66_0</th>\n",
       "      <th>D_66_1</th>\n",
       "      <th>D_68_0.0</th>\n",
       "      <th>D_68_1.0</th>\n",
       "      <th>D_68_2.0</th>\n",
       "      <th>D_68_3.0</th>\n",
       "      <th>D_68_4.0</th>\n",
       "      <th>D_68_5.0</th>\n",
       "      <th>D_68_6.0</th>\n",
       "      <th>D_68_nan</th>\n",
       "    </tr>\n",
       "  </thead>\n",
       "  <tbody>\n",
       "    <tr>\n",
       "      <th>0</th>\n",
       "      <td>2518955</td>\n",
       "      <td>743d55408505dee752adc6e62b273f4397db6e89f19034...</td>\n",
       "      <td>2017-08-10</td>\n",
       "      <td>0.947242</td>\n",
       "      <td>0.002204</td>\n",
       "      <td>0.008002</td>\n",
       "      <td>1.007516</td>\n",
       "      <td>0.002830</td>\n",
       "      <td>0.453227</td>\n",
       "      <td>0.005992</td>\n",
       "      <td>...</td>\n",
       "      <td>1.0</td>\n",
       "      <td>0.0</td>\n",
       "      <td>0.0</td>\n",
       "      <td>0.0</td>\n",
       "      <td>0.0</td>\n",
       "      <td>0.0</td>\n",
       "      <td>0.0</td>\n",
       "      <td>0.0</td>\n",
       "      <td>1.0</td>\n",
       "      <td>0.0</td>\n",
       "    </tr>\n",
       "    <tr>\n",
       "      <th>1</th>\n",
       "      <td>1781039</td>\n",
       "      <td>522c85a354bfec790067b54e9db7353d20d4709ae5dc93...</td>\n",
       "      <td>2017-07-04</td>\n",
       "      <td>0.757648</td>\n",
       "      <td>0.002076</td>\n",
       "      <td>0.008751</td>\n",
       "      <td>0.814083</td>\n",
       "      <td>0.000408</td>\n",
       "      <td>0.155700</td>\n",
       "      <td>0.004156</td>\n",
       "      <td>...</td>\n",
       "      <td>1.0</td>\n",
       "      <td>0.0</td>\n",
       "      <td>0.0</td>\n",
       "      <td>0.0</td>\n",
       "      <td>0.0</td>\n",
       "      <td>0.0</td>\n",
       "      <td>0.0</td>\n",
       "      <td>1.0</td>\n",
       "      <td>0.0</td>\n",
       "      <td>0.0</td>\n",
       "    </tr>\n",
       "    <tr>\n",
       "      <th>2</th>\n",
       "      <td>1488700</td>\n",
       "      <td>4488928018c20bf6261e69c8a94a47b6206a2fe91480b8...</td>\n",
       "      <td>2017-07-29</td>\n",
       "      <td>0.392041</td>\n",
       "      <td>0.005770</td>\n",
       "      <td>0.029682</td>\n",
       "      <td>0.810262</td>\n",
       "      <td>0.006672</td>\n",
       "      <td>0.180378</td>\n",
       "      <td>0.005028</td>\n",
       "      <td>...</td>\n",
       "      <td>1.0</td>\n",
       "      <td>0.0</td>\n",
       "      <td>0.0</td>\n",
       "      <td>0.0</td>\n",
       "      <td>0.0</td>\n",
       "      <td>0.0</td>\n",
       "      <td>0.0</td>\n",
       "      <td>0.0</td>\n",
       "      <td>0.0</td>\n",
       "      <td>1.0</td>\n",
       "    </tr>\n",
       "    <tr>\n",
       "      <th>3</th>\n",
       "      <td>3174307</td>\n",
       "      <td>9296e983c3e4f99b046952397fc4ba950abf1032a9bd6c...</td>\n",
       "      <td>2017-03-30</td>\n",
       "      <td>0.673978</td>\n",
       "      <td>0.588604</td>\n",
       "      <td>0.295201</td>\n",
       "      <td>0.024650</td>\n",
       "      <td>0.007951</td>\n",
       "      <td>0.125583</td>\n",
       "      <td>0.008760</td>\n",
       "      <td>...</td>\n",
       "      <td>1.0</td>\n",
       "      <td>0.0</td>\n",
       "      <td>0.0</td>\n",
       "      <td>0.0</td>\n",
       "      <td>0.0</td>\n",
       "      <td>0.0</td>\n",
       "      <td>0.0</td>\n",
       "      <td>0.0</td>\n",
       "      <td>1.0</td>\n",
       "      <td>0.0</td>\n",
       "    </tr>\n",
       "    <tr>\n",
       "      <th>4</th>\n",
       "      <td>1379981</td>\n",
       "      <td>3fa10314686e0e51d8f76235eceab91d70aa3f24a98c3e...</td>\n",
       "      <td>2018-01-17</td>\n",
       "      <td>0.778075</td>\n",
       "      <td>0.006930</td>\n",
       "      <td>0.056721</td>\n",
       "      <td>0.819369</td>\n",
       "      <td>0.004922</td>\n",
       "      <td>0.089214</td>\n",
       "      <td>0.006884</td>\n",
       "      <td>...</td>\n",
       "      <td>1.0</td>\n",
       "      <td>0.0</td>\n",
       "      <td>0.0</td>\n",
       "      <td>0.0</td>\n",
       "      <td>0.0</td>\n",
       "      <td>0.0</td>\n",
       "      <td>1.0</td>\n",
       "      <td>0.0</td>\n",
       "      <td>0.0</td>\n",
       "      <td>0.0</td>\n",
       "    </tr>\n",
       "    <tr>\n",
       "      <th>...</th>\n",
       "      <td>...</td>\n",
       "      <td>...</td>\n",
       "      <td>...</td>\n",
       "      <td>...</td>\n",
       "      <td>...</td>\n",
       "      <td>...</td>\n",
       "      <td>...</td>\n",
       "      <td>...</td>\n",
       "      <td>...</td>\n",
       "      <td>...</td>\n",
       "      <td>...</td>\n",
       "      <td>...</td>\n",
       "      <td>...</td>\n",
       "      <td>...</td>\n",
       "      <td>...</td>\n",
       "      <td>...</td>\n",
       "      <td>...</td>\n",
       "      <td>...</td>\n",
       "      <td>...</td>\n",
       "      <td>...</td>\n",
       "      <td>...</td>\n",
       "    </tr>\n",
       "    <tr>\n",
       "      <th>276567</th>\n",
       "      <td>873580</td>\n",
       "      <td>288144823325d823e5f8a47dda65d2e0ed09a9f78bebcb...</td>\n",
       "      <td>2017-03-10</td>\n",
       "      <td>0.193743</td>\n",
       "      <td>0.533914</td>\n",
       "      <td>0.140841</td>\n",
       "      <td>0.126221</td>\n",
       "      <td>0.500161</td>\n",
       "      <td>0.158571</td>\n",
       "      <td>0.165877</td>\n",
       "      <td>...</td>\n",
       "      <td>1.0</td>\n",
       "      <td>0.0</td>\n",
       "      <td>0.0</td>\n",
       "      <td>0.0</td>\n",
       "      <td>0.0</td>\n",
       "      <td>0.0</td>\n",
       "      <td>0.0</td>\n",
       "      <td>1.0</td>\n",
       "      <td>0.0</td>\n",
       "      <td>0.0</td>\n",
       "    </tr>\n",
       "    <tr>\n",
       "      <th>276568</th>\n",
       "      <td>262686</td>\n",
       "      <td>0c3757cb750959c88f6edf19609e7195ca8ff2b6f72a30...</td>\n",
       "      <td>2017-09-29</td>\n",
       "      <td>0.402107</td>\n",
       "      <td>0.914917</td>\n",
       "      <td>0.442733</td>\n",
       "      <td>0.000432</td>\n",
       "      <td>0.003491</td>\n",
       "      <td>NaN</td>\n",
       "      <td>0.436728</td>\n",
       "      <td>...</td>\n",
       "      <td>1.0</td>\n",
       "      <td>0.0</td>\n",
       "      <td>0.0</td>\n",
       "      <td>0.0</td>\n",
       "      <td>0.0</td>\n",
       "      <td>1.0</td>\n",
       "      <td>0.0</td>\n",
       "      <td>0.0</td>\n",
       "      <td>0.0</td>\n",
       "      <td>0.0</td>\n",
       "    </tr>\n",
       "    <tr>\n",
       "      <th>276569</th>\n",
       "      <td>5441718</td>\n",
       "      <td>fbd8d187c9f8a05016512f66707160b600434293b06ecf...</td>\n",
       "      <td>2017-09-23</td>\n",
       "      <td>0.841845</td>\n",
       "      <td>0.004404</td>\n",
       "      <td>0.010854</td>\n",
       "      <td>1.001861</td>\n",
       "      <td>0.004759</td>\n",
       "      <td>0.163909</td>\n",
       "      <td>0.007592</td>\n",
       "      <td>...</td>\n",
       "      <td>1.0</td>\n",
       "      <td>0.0</td>\n",
       "      <td>0.0</td>\n",
       "      <td>0.0</td>\n",
       "      <td>0.0</td>\n",
       "      <td>0.0</td>\n",
       "      <td>0.0</td>\n",
       "      <td>0.0</td>\n",
       "      <td>1.0</td>\n",
       "      <td>0.0</td>\n",
       "    </tr>\n",
       "    <tr>\n",
       "      <th>276570</th>\n",
       "      <td>2296570</td>\n",
       "      <td>6a1c7ee2ef483998bd91b42107b18b84ab3012f57e9f81...</td>\n",
       "      <td>2017-04-30</td>\n",
       "      <td>0.393324</td>\n",
       "      <td>0.117837</td>\n",
       "      <td>0.205245</td>\n",
       "      <td>0.015611</td>\n",
       "      <td>0.004225</td>\n",
       "      <td>0.564817</td>\n",
       "      <td>0.008934</td>\n",
       "      <td>...</td>\n",
       "      <td>1.0</td>\n",
       "      <td>0.0</td>\n",
       "      <td>0.0</td>\n",
       "      <td>0.0</td>\n",
       "      <td>0.0</td>\n",
       "      <td>0.0</td>\n",
       "      <td>0.0</td>\n",
       "      <td>0.0</td>\n",
       "      <td>0.0</td>\n",
       "      <td>1.0</td>\n",
       "    </tr>\n",
       "    <tr>\n",
       "      <th>276571</th>\n",
       "      <td>868216</td>\n",
       "      <td>28414f3556fae6250e04f6d0523d68f3a87fafa1e12c15...</td>\n",
       "      <td>2017-03-03</td>\n",
       "      <td>0.281986</td>\n",
       "      <td>0.000776</td>\n",
       "      <td>0.126253</td>\n",
       "      <td>0.157348</td>\n",
       "      <td>0.509473</td>\n",
       "      <td>0.267404</td>\n",
       "      <td>0.001177</td>\n",
       "      <td>...</td>\n",
       "      <td>1.0</td>\n",
       "      <td>0.0</td>\n",
       "      <td>0.0</td>\n",
       "      <td>0.0</td>\n",
       "      <td>0.0</td>\n",
       "      <td>1.0</td>\n",
       "      <td>0.0</td>\n",
       "      <td>0.0</td>\n",
       "      <td>0.0</td>\n",
       "      <td>0.0</td>\n",
       "    </tr>\n",
       "  </tbody>\n",
       "</table>\n",
       "<p>276572 rows × 235 columns</p>\n",
       "</div>"
      ],
      "text/plain": [
       "        Unnamed: 0                                        customer_ID  \\\n",
       "0          2518955  743d55408505dee752adc6e62b273f4397db6e89f19034...   \n",
       "1          1781039  522c85a354bfec790067b54e9db7353d20d4709ae5dc93...   \n",
       "2          1488700  4488928018c20bf6261e69c8a94a47b6206a2fe91480b8...   \n",
       "3          3174307  9296e983c3e4f99b046952397fc4ba950abf1032a9bd6c...   \n",
       "4          1379981  3fa10314686e0e51d8f76235eceab91d70aa3f24a98c3e...   \n",
       "...            ...                                                ...   \n",
       "276567      873580  288144823325d823e5f8a47dda65d2e0ed09a9f78bebcb...   \n",
       "276568      262686  0c3757cb750959c88f6edf19609e7195ca8ff2b6f72a30...   \n",
       "276569     5441718  fbd8d187c9f8a05016512f66707160b600434293b06ecf...   \n",
       "276570     2296570  6a1c7ee2ef483998bd91b42107b18b84ab3012f57e9f81...   \n",
       "276571      868216  28414f3556fae6250e04f6d0523d68f3a87fafa1e12c15...   \n",
       "\n",
       "               S_2       P_2      D_39       B_1       B_2       R_1  \\\n",
       "0       2017-08-10  0.947242  0.002204  0.008002  1.007516  0.002830   \n",
       "1       2017-07-04  0.757648  0.002076  0.008751  0.814083  0.000408   \n",
       "2       2017-07-29  0.392041  0.005770  0.029682  0.810262  0.006672   \n",
       "3       2017-03-30  0.673978  0.588604  0.295201  0.024650  0.007951   \n",
       "4       2018-01-17  0.778075  0.006930  0.056721  0.819369  0.004922   \n",
       "...            ...       ...       ...       ...       ...       ...   \n",
       "276567  2017-03-10  0.193743  0.533914  0.140841  0.126221  0.500161   \n",
       "276568  2017-09-29  0.402107  0.914917  0.442733  0.000432  0.003491   \n",
       "276569  2017-09-23  0.841845  0.004404  0.010854  1.001861  0.004759   \n",
       "276570  2017-04-30  0.393324  0.117837  0.205245  0.015611  0.004225   \n",
       "276571  2017-03-03  0.281986  0.000776  0.126253  0.157348  0.509473   \n",
       "\n",
       "             S_3      D_41  ...  D_66_0  D_66_1  D_68_0.0  D_68_1.0  D_68_2.0  \\\n",
       "0       0.453227  0.005992  ...     1.0     0.0       0.0       0.0       0.0   \n",
       "1       0.155700  0.004156  ...     1.0     0.0       0.0       0.0       0.0   \n",
       "2       0.180378  0.005028  ...     1.0     0.0       0.0       0.0       0.0   \n",
       "3       0.125583  0.008760  ...     1.0     0.0       0.0       0.0       0.0   \n",
       "4       0.089214  0.006884  ...     1.0     0.0       0.0       0.0       0.0   \n",
       "...          ...       ...  ...     ...     ...       ...       ...       ...   \n",
       "276567  0.158571  0.165877  ...     1.0     0.0       0.0       0.0       0.0   \n",
       "276568       NaN  0.436728  ...     1.0     0.0       0.0       0.0       0.0   \n",
       "276569  0.163909  0.007592  ...     1.0     0.0       0.0       0.0       0.0   \n",
       "276570  0.564817  0.008934  ...     1.0     0.0       0.0       0.0       0.0   \n",
       "276571  0.267404  0.001177  ...     1.0     0.0       0.0       0.0       0.0   \n",
       "\n",
       "        D_68_3.0  D_68_4.0  D_68_5.0  D_68_6.0  D_68_nan  \n",
       "0            0.0       0.0       0.0       1.0       0.0  \n",
       "1            0.0       0.0       1.0       0.0       0.0  \n",
       "2            0.0       0.0       0.0       0.0       1.0  \n",
       "3            0.0       0.0       0.0       1.0       0.0  \n",
       "4            0.0       1.0       0.0       0.0       0.0  \n",
       "...          ...       ...       ...       ...       ...  \n",
       "276567       0.0       0.0       1.0       0.0       0.0  \n",
       "276568       1.0       0.0       0.0       0.0       0.0  \n",
       "276569       0.0       0.0       0.0       1.0       0.0  \n",
       "276570       0.0       0.0       0.0       0.0       1.0  \n",
       "276571       1.0       0.0       0.0       0.0       0.0  \n",
       "\n",
       "[276572 rows x 235 columns]"
      ]
     },
     "metadata": {},
     "output_type": "display_data"
    }
   ],
   "source": [
    "df_sin_na_categoricas = df.drop(columnas_categoricas,axis=1)\n",
    "\n",
    "df_concat = pd.concat([df_sin_na_categoricas,ohed],axis=1)\n",
    "\n",
    "display(df_concat)\n"
   ]
  }
 ],
 "metadata": {
  "kernelspec": {
   "display_name": "Python 3.10.5 64-bit",
   "language": "python",
   "name": "python3"
  },
  "language_info": {
   "codemirror_mode": {
    "name": "ipython",
    "version": 3
   },
   "file_extension": ".py",
   "mimetype": "text/x-python",
   "name": "python",
   "nbconvert_exporter": "python",
   "pygments_lexer": "ipython3",
   "version": "3.10.5"
  },
  "orig_nbformat": 4,
  "vscode": {
   "interpreter": {
    "hash": "1712a3e48da3334829ccbf0affceb95c1cc536e666a8c49a1f0262dd902fac97"
   }
  }
 },
 "nbformat": 4,
 "nbformat_minor": 2
}
