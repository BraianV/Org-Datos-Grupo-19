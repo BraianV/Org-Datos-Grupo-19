{
 "cells": [
  {
   "cell_type": "code",
   "execution_count": 1,
   "metadata": {},
   "outputs": [],
   "source": [
    "#IMPORTAMOS LO NECESARIO\n",
    "import pandas as pd\n",
    "import matplotlib.pyplot as plt\n",
    "import sklearn\n",
    "import numpy as np\n",
    "import seaborn as sns\n",
    "from scipy import stats"
   ]
  },
  {
   "cell_type": "markdown",
   "metadata": {},
   "source": [
    "## Resumen de mi analisis de datos y un 'merge manual' con algunas cosas de Braian."
   ]
  },
  {
   "cell_type": "code",
   "execution_count": 2,
   "metadata": {},
   "outputs": [
    {
     "data": {
      "text/html": [
       "<div>\n",
       "<style scoped>\n",
       "    .dataframe tbody tr th:only-of-type {\n",
       "        vertical-align: middle;\n",
       "    }\n",
       "\n",
       "    .dataframe tbody tr th {\n",
       "        vertical-align: top;\n",
       "    }\n",
       "\n",
       "    .dataframe thead th {\n",
       "        text-align: right;\n",
       "    }\n",
       "</style>\n",
       "<table border=\"1\" class=\"dataframe\">\n",
       "  <thead>\n",
       "    <tr style=\"text-align: right;\">\n",
       "      <th></th>\n",
       "      <th>Unnamed: 0</th>\n",
       "      <th>customer_ID</th>\n",
       "      <th>S_2</th>\n",
       "      <th>P_2</th>\n",
       "      <th>D_39</th>\n",
       "      <th>B_1</th>\n",
       "      <th>B_2</th>\n",
       "      <th>R_1</th>\n",
       "      <th>S_3</th>\n",
       "      <th>D_41</th>\n",
       "      <th>...</th>\n",
       "      <th>D_137</th>\n",
       "      <th>D_138</th>\n",
       "      <th>D_139</th>\n",
       "      <th>D_140</th>\n",
       "      <th>D_141</th>\n",
       "      <th>D_142</th>\n",
       "      <th>D_143</th>\n",
       "      <th>D_144</th>\n",
       "      <th>D_145</th>\n",
       "      <th>target</th>\n",
       "    </tr>\n",
       "  </thead>\n",
       "  <tbody>\n",
       "    <tr>\n",
       "      <th>276567</th>\n",
       "      <td>873580</td>\n",
       "      <td>288144823325d823e5f8a47dda65d2e0ed09a9f78bebcb...</td>\n",
       "      <td>2017-03-10</td>\n",
       "      <td>0.193743</td>\n",
       "      <td>0.533914</td>\n",
       "      <td>0.140841</td>\n",
       "      <td>0.126221</td>\n",
       "      <td>0.500161</td>\n",
       "      <td>0.158571</td>\n",
       "      <td>0.165877</td>\n",
       "      <td>...</td>\n",
       "      <td>NaN</td>\n",
       "      <td>NaN</td>\n",
       "      <td>1.008759</td>\n",
       "      <td>0.009847</td>\n",
       "      <td>0.979542</td>\n",
       "      <td>0.735387</td>\n",
       "      <td>1.000480</td>\n",
       "      <td>0.150231</td>\n",
       "      <td>0.276447</td>\n",
       "      <td>1</td>\n",
       "    </tr>\n",
       "    <tr>\n",
       "      <th>276568</th>\n",
       "      <td>262686</td>\n",
       "      <td>0c3757cb750959c88f6edf19609e7195ca8ff2b6f72a30...</td>\n",
       "      <td>2017-09-29</td>\n",
       "      <td>0.402107</td>\n",
       "      <td>0.914917</td>\n",
       "      <td>0.442733</td>\n",
       "      <td>0.000432</td>\n",
       "      <td>0.003491</td>\n",
       "      <td>NaN</td>\n",
       "      <td>0.436728</td>\n",
       "      <td>...</td>\n",
       "      <td>NaN</td>\n",
       "      <td>NaN</td>\n",
       "      <td>0.000951</td>\n",
       "      <td>0.006729</td>\n",
       "      <td>0.005159</td>\n",
       "      <td>NaN</td>\n",
       "      <td>0.007615</td>\n",
       "      <td>0.008715</td>\n",
       "      <td>0.005995</td>\n",
       "      <td>0</td>\n",
       "    </tr>\n",
       "    <tr>\n",
       "      <th>276569</th>\n",
       "      <td>5441718</td>\n",
       "      <td>fbd8d187c9f8a05016512f66707160b600434293b06ecf...</td>\n",
       "      <td>2017-09-23</td>\n",
       "      <td>0.841845</td>\n",
       "      <td>0.004404</td>\n",
       "      <td>0.010854</td>\n",
       "      <td>1.001861</td>\n",
       "      <td>0.004759</td>\n",
       "      <td>0.163909</td>\n",
       "      <td>0.007592</td>\n",
       "      <td>...</td>\n",
       "      <td>NaN</td>\n",
       "      <td>NaN</td>\n",
       "      <td>0.003941</td>\n",
       "      <td>0.007252</td>\n",
       "      <td>0.006897</td>\n",
       "      <td>NaN</td>\n",
       "      <td>0.008909</td>\n",
       "      <td>0.000816</td>\n",
       "      <td>0.006528</td>\n",
       "      <td>0</td>\n",
       "    </tr>\n",
       "    <tr>\n",
       "      <th>276570</th>\n",
       "      <td>2296570</td>\n",
       "      <td>6a1c7ee2ef483998bd91b42107b18b84ab3012f57e9f81...</td>\n",
       "      <td>2017-04-30</td>\n",
       "      <td>0.393324</td>\n",
       "      <td>0.117837</td>\n",
       "      <td>0.205245</td>\n",
       "      <td>0.015611</td>\n",
       "      <td>0.004225</td>\n",
       "      <td>0.564817</td>\n",
       "      <td>0.008934</td>\n",
       "      <td>...</td>\n",
       "      <td>NaN</td>\n",
       "      <td>NaN</td>\n",
       "      <td>0.008293</td>\n",
       "      <td>0.000285</td>\n",
       "      <td>0.009883</td>\n",
       "      <td>NaN</td>\n",
       "      <td>0.008599</td>\n",
       "      <td>0.004125</td>\n",
       "      <td>0.009582</td>\n",
       "      <td>1</td>\n",
       "    </tr>\n",
       "    <tr>\n",
       "      <th>276571</th>\n",
       "      <td>868216</td>\n",
       "      <td>28414f3556fae6250e04f6d0523d68f3a87fafa1e12c15...</td>\n",
       "      <td>2017-03-03</td>\n",
       "      <td>0.281986</td>\n",
       "      <td>0.000776</td>\n",
       "      <td>0.126253</td>\n",
       "      <td>0.157348</td>\n",
       "      <td>0.509473</td>\n",
       "      <td>0.267404</td>\n",
       "      <td>0.001177</td>\n",
       "      <td>...</td>\n",
       "      <td>NaN</td>\n",
       "      <td>NaN</td>\n",
       "      <td>0.005667</td>\n",
       "      <td>0.002016</td>\n",
       "      <td>0.002501</td>\n",
       "      <td>NaN</td>\n",
       "      <td>0.009089</td>\n",
       "      <td>0.008158</td>\n",
       "      <td>0.000012</td>\n",
       "      <td>1</td>\n",
       "    </tr>\n",
       "  </tbody>\n",
       "</table>\n",
       "<p>5 rows × 192 columns</p>\n",
       "</div>"
      ],
      "text/plain": [
       "        Unnamed: 0                                        customer_ID  \\\n",
       "276567      873580  288144823325d823e5f8a47dda65d2e0ed09a9f78bebcb...   \n",
       "276568      262686  0c3757cb750959c88f6edf19609e7195ca8ff2b6f72a30...   \n",
       "276569     5441718  fbd8d187c9f8a05016512f66707160b600434293b06ecf...   \n",
       "276570     2296570  6a1c7ee2ef483998bd91b42107b18b84ab3012f57e9f81...   \n",
       "276571      868216  28414f3556fae6250e04f6d0523d68f3a87fafa1e12c15...   \n",
       "\n",
       "               S_2       P_2      D_39       B_1       B_2       R_1  \\\n",
       "276567  2017-03-10  0.193743  0.533914  0.140841  0.126221  0.500161   \n",
       "276568  2017-09-29  0.402107  0.914917  0.442733  0.000432  0.003491   \n",
       "276569  2017-09-23  0.841845  0.004404  0.010854  1.001861  0.004759   \n",
       "276570  2017-04-30  0.393324  0.117837  0.205245  0.015611  0.004225   \n",
       "276571  2017-03-03  0.281986  0.000776  0.126253  0.157348  0.509473   \n",
       "\n",
       "             S_3      D_41  ...  D_137  D_138     D_139     D_140     D_141  \\\n",
       "276567  0.158571  0.165877  ...    NaN    NaN  1.008759  0.009847  0.979542   \n",
       "276568       NaN  0.436728  ...    NaN    NaN  0.000951  0.006729  0.005159   \n",
       "276569  0.163909  0.007592  ...    NaN    NaN  0.003941  0.007252  0.006897   \n",
       "276570  0.564817  0.008934  ...    NaN    NaN  0.008293  0.000285  0.009883   \n",
       "276571  0.267404  0.001177  ...    NaN    NaN  0.005667  0.002016  0.002501   \n",
       "\n",
       "           D_142     D_143     D_144     D_145  target  \n",
       "276567  0.735387  1.000480  0.150231  0.276447       1  \n",
       "276568       NaN  0.007615  0.008715  0.005995       0  \n",
       "276569       NaN  0.008909  0.000816  0.006528       0  \n",
       "276570       NaN  0.008599  0.004125  0.009582       1  \n",
       "276571       NaN  0.009089  0.008158  0.000012       1  \n",
       "\n",
       "[5 rows x 192 columns]"
      ]
     },
     "execution_count": 2,
     "metadata": {},
     "output_type": "execute_result"
    }
   ],
   "source": [
    "#CARGAMOS LAS VARIABLES EN UN DF\n",
    "df = pd.read_csv(\"C:/Users/Fran/Desktop/Facultad/Orga/tp3/Org-Datos-Grupo-19/train_data_final.csv\")\n",
    "\n",
    "\n",
    "#VERIFICO QUE SE HAYA CARGADO BIEN\n",
    "df.tail()"
   ]
  },
  {
   "cell_type": "markdown",
   "metadata": {},
   "source": [
    "Todo lo que es principios no esta, esta la parte de nulls y outliers. Este ultimo con z-score"
   ]
  },
  {
   "cell_type": "code",
   "execution_count": 3,
   "metadata": {},
   "outputs": [
    {
     "data": {
      "text/html": [
       "<div>\n",
       "<style scoped>\n",
       "    .dataframe tbody tr th:only-of-type {\n",
       "        vertical-align: middle;\n",
       "    }\n",
       "\n",
       "    .dataframe tbody tr th {\n",
       "        vertical-align: top;\n",
       "    }\n",
       "\n",
       "    .dataframe thead th {\n",
       "        text-align: right;\n",
       "    }\n",
       "</style>\n",
       "<table border=\"1\" class=\"dataframe\">\n",
       "  <thead>\n",
       "    <tr style=\"text-align: right;\">\n",
       "      <th></th>\n",
       "      <th>Cantidad de Nulos</th>\n",
       "      <th>Porcentaje Nulos</th>\n",
       "      <th>Porcentaje de nulos</th>\n",
       "    </tr>\n",
       "  </thead>\n",
       "  <tbody>\n",
       "    <tr>\n",
       "      <th>Unnamed: 0</th>\n",
       "      <td>0</td>\n",
       "      <td>0.00</td>\n",
       "      <td>Menores o iguales a 45%</td>\n",
       "    </tr>\n",
       "    <tr>\n",
       "      <th>customer_ID</th>\n",
       "      <td>0</td>\n",
       "      <td>0.00</td>\n",
       "      <td>Menores o iguales a 45%</td>\n",
       "    </tr>\n",
       "    <tr>\n",
       "      <th>S_2</th>\n",
       "      <td>0</td>\n",
       "      <td>0.00</td>\n",
       "      <td>Menores o iguales a 45%</td>\n",
       "    </tr>\n",
       "    <tr>\n",
       "      <th>P_2</th>\n",
       "      <td>2295</td>\n",
       "      <td>0.83</td>\n",
       "      <td>Menores o iguales a 45%</td>\n",
       "    </tr>\n",
       "    <tr>\n",
       "      <th>D_39</th>\n",
       "      <td>0</td>\n",
       "      <td>0.00</td>\n",
       "      <td>Menores o iguales a 45%</td>\n",
       "    </tr>\n",
       "    <tr>\n",
       "      <th>...</th>\n",
       "      <td>...</td>\n",
       "      <td>...</td>\n",
       "      <td>...</td>\n",
       "    </tr>\n",
       "    <tr>\n",
       "      <th>D_142</th>\n",
       "      <td>229717</td>\n",
       "      <td>83.06</td>\n",
       "      <td>Mayores a 45%</td>\n",
       "    </tr>\n",
       "    <tr>\n",
       "      <th>D_143</th>\n",
       "      <td>5139</td>\n",
       "      <td>1.86</td>\n",
       "      <td>Menores o iguales a 45%</td>\n",
       "    </tr>\n",
       "    <tr>\n",
       "      <th>D_144</th>\n",
       "      <td>2049</td>\n",
       "      <td>0.74</td>\n",
       "      <td>Menores o iguales a 45%</td>\n",
       "    </tr>\n",
       "    <tr>\n",
       "      <th>D_145</th>\n",
       "      <td>5139</td>\n",
       "      <td>1.86</td>\n",
       "      <td>Menores o iguales a 45%</td>\n",
       "    </tr>\n",
       "    <tr>\n",
       "      <th>target</th>\n",
       "      <td>0</td>\n",
       "      <td>0.00</td>\n",
       "      <td>Menores o iguales a 45%</td>\n",
       "    </tr>\n",
       "  </tbody>\n",
       "</table>\n",
       "<p>192 rows × 3 columns</p>\n",
       "</div>"
      ],
      "text/plain": [
       "             Cantidad de Nulos  Porcentaje Nulos      Porcentaje de nulos\n",
       "Unnamed: 0                   0              0.00  Menores o iguales a 45%\n",
       "customer_ID                  0              0.00  Menores o iguales a 45%\n",
       "S_2                          0              0.00  Menores o iguales a 45%\n",
       "P_2                       2295              0.83  Menores o iguales a 45%\n",
       "D_39                         0              0.00  Menores o iguales a 45%\n",
       "...                        ...               ...                      ...\n",
       "D_142                   229717             83.06            Mayores a 45%\n",
       "D_143                     5139              1.86  Menores o iguales a 45%\n",
       "D_144                     2049              0.74  Menores o iguales a 45%\n",
       "D_145                     5139              1.86  Menores o iguales a 45%\n",
       "target                       0              0.00  Menores o iguales a 45%\n",
       "\n",
       "[192 rows x 3 columns]"
      ]
     },
     "execution_count": 3,
     "metadata": {},
     "output_type": "execute_result"
    }
   ],
   "source": [
    "cantidad_nulos = df.isnull().sum()\n",
    "porcentaje_nulos = round(cantidad_nulos/len(df)*100,2)\n",
    "\n",
    "\n",
    "#Creo un dataframe aparte con los nulos y sus porcentajes.Si son mayores a 70, como grupo decidimos que se borra la columna.\n",
    "total_nulos = pd.DataFrame(cantidad_nulos,columns=[\"Cantidad de Nulos\"])\n",
    "total_nulos['Porcentaje Nulos']=porcentaje_nulos\n",
    "\n",
    "\n",
    "#Donde 1=True, 0=False\n",
    "total_nulos['Porcentaje de nulos'] = np.where(total_nulos['Porcentaje Nulos']>45,'Mayores a 45%',\n",
    "    'Menores o iguales a 45%')\n",
    "\n",
    "total_nulos"
   ]
  },
  {
   "cell_type": "markdown",
   "metadata": {},
   "source": [
    "###  Grafico de los porcentajes de nulos por columnas"
   ]
  },
  {
   "cell_type": "code",
   "execution_count": 4,
   "metadata": {},
   "outputs": [
    {
     "data": {
      "text/plain": [
       "Text(0.5, 0, 'Cantidad de Columnas')"
      ]
     },
     "execution_count": 4,
     "metadata": {},
     "output_type": "execute_result"
    },
    {
     "data": {
      "image/png": "[encoded data removed]",
      "text/plain": [
       "<Figure size 432x288 with 1 Axes>"
      ]
     },
     "metadata": {
      "needs_background": "light"
     },
     "output_type": "display_data"
    }
   ],
   "source": [
    "total_nulos['Porcentaje de nulos'].value_counts().plot.barh(color=['lightblue','orange'])\n",
    "plt.title(\"Porcentaje de todas las columnas\")\n",
    "plt.xlabel('Cantidad de Columnas')"
   ]
  },
  {
   "cell_type": "markdown",
   "metadata": {},
   "source": [
    "Agrego la parte de Braian donde borra las columnas. Iba a hacerlo de vuelta, pero si uso lo mismo es mas facil unirlo despues."
   ]
  },
  {
   "cell_type": "code",
   "execution_count": 5,
   "metadata": {},
   "outputs": [],
   "source": [
    "#Funcion que elimina columnas segun el porcentaje de nulos que tengan\n",
    "\n",
    "def rmissingvaluecol(dataframe, porcentaje):\n",
    "    l = []\n",
    "    l = list(dataframe.drop(dataframe.loc[:,list((100*(dataframe.isnull().sum()/len(dataframe.index)) >= porcentaje))].columns, 1).columns.values)\n",
    "    print(\"# Columns having more than %s percent missing values: \"%porcentaje, (dataframe.shape[1] - len(l)))\n",
    "    print(\"Columns:\\n\", list(set(list((dataframe.columns.values))) - set(l)))\n",
    "    return l"
   ]
  },
  {
   "cell_type": "code",
   "execution_count": 6,
   "metadata": {},
   "outputs": [
    {
     "name": "stdout",
     "output_type": "stream",
     "text": [
      "# Columns having more than 45 percent missing values:  31\n",
      "Columns:\n",
      " ['D_42', 'D_50', 'B_17', 'D_137', 'D_105', 'D_82', 'D_106', 'D_136', 'D_77', 'D_76', 'R_9', 'D_135', 'D_73', 'D_111', 'B_39', 'S_9', 'D_110', 'D_87', 'D_66', 'B_29', 'D_49', 'B_42', 'D_56', 'D_134', 'D_108', 'D_53', 'D_88', 'D_138', 'R_26', 'D_142', 'D_132']\n"
     ]
    },
    {
     "name": "stderr",
     "output_type": "stream",
     "text": [
      "C:\\Users\\Fran\\AppData\\Local\\Temp\\ipykernel_16556\\2839920292.py:5: FutureWarning: In a future version of pandas all arguments of DataFrame.drop except for the argument 'labels' will be keyword-only.\n",
      "  l = list(dataframe.drop(dataframe.loc[:,list((100*(dataframe.isnull().sum()/len(dataframe.index)) >= porcentaje))].columns, 1).columns.values)\n"
     ]
    },
    {
     "data": {
      "text/plain": [
       "(276572, 161)"
      ]
     },
     "execution_count": 6,
     "metadata": {},
     "output_type": "execute_result"
    }
   ],
   "source": [
    "filtrar_columnas = rmissingvaluecol(df,45)\n",
    "\n",
    "df_filtrado = df[filtrar_columnas]\n",
    "\n",
    "df_filtrado.shape"
   ]
  },
  {
   "cell_type": "markdown",
   "metadata": {},
   "source": [
    "Borrado de las correlativas"
   ]
  },
  {
   "cell_type": "code",
   "execution_count": 7,
   "metadata": {},
   "outputs": [],
   "source": [
    "corr = df_filtrado.drop(['target', 'Unnamed: 0'], axis=1).corr()\n",
    "correlated_features = set()\n",
    "\n",
    "for i in range(len(corr.columns)):\n",
    "    for j in range(i):\n",
    "        if abs(corr.iloc[i, j]) > 0.7:\n",
    "            colname = corr.columns[i]\n",
    "            correlated_features.add(colname)\n",
    "correlated_features.update(['target', 'Unnamed: 0'])\n",
    "corr = df_filtrado.drop(correlated_features, axis = 1).corr()\n",
    "\n",
    "\n",
    "df_reducido = df_filtrado.loc[:,list(corr.columns)]\n",
    "\n",
    "\n"
   ]
  },
  {
   "cell_type": "code",
   "execution_count": 8,
   "metadata": {},
   "outputs": [
    {
     "data": {
      "text/plain": [
       "(276572, 108)"
      ]
     },
     "execution_count": 8,
     "metadata": {},
     "output_type": "execute_result"
    }
   ],
   "source": [
    "columnas_categoricas = ['B_30', 'B_38', 'D_114', 'D_116', 'D_117', 'D_120', 'D_126', 'D_63', 'D_64', 'D_66', 'D_68']\n",
    "columnas_cuantitativas = []\n",
    "for columna in df_reducido.columns:\n",
    "    if columna not in columnas_categoricas:\n",
    "        columnas_cuantitativas.append(columna)\n",
    "df_cuantitativas = df_reducido[columnas_cuantitativas].copy()\n",
    "\n",
    "df_cuantitativas.shape"
   ]
  },
  {
   "cell_type": "markdown",
   "metadata": {},
   "source": [
    "Rellenando 'Nans' para variables numericas con su media"
   ]
  },
  {
   "cell_type": "code",
   "execution_count": 9,
   "metadata": {},
   "outputs": [],
   "source": [
    "from sklearn.impute import SimpleImputer\n",
    "columnas = df_cuantitativas.columns\n",
    "imp = SimpleImputer(missing_values = np.nan, strategy = 'mean')\n",
    "imp.fit(df_cuantitativas)\n",
    "df_sin_null = pd.DataFrame(imp.transform(df_cuantitativas), columns=columnas)\n",
    "#df_sin_null.drop('P_2')"
   ]
  },
  {
   "cell_type": "markdown",
   "metadata": {},
   "source": [
    "#### Ya teniendo el df necesario para el z-score, vemos outliers."
   ]
  },
  {
   "cell_type": "markdown",
   "metadata": {},
   "source": [
    "*Ahora que eliminamos los nulos queda trabajar con los outliers.\n",
    "Evaluamos la posibilidad de que todos los valores restantes del dataframe esten entre 0 y 1 pero cuando haces un df.sample ya ves que algunos casos no\n",
    "por lo que descartamos esa idea.*\n",
    "\n",
    "Proseguimos viendo un caso de ejemplo para ver Outliers."
   ]
  },
  {
   "cell_type": "code",
   "execution_count": 10,
   "metadata": {},
   "outputs": [
    {
     "name": "stdout",
     "output_type": "stream",
     "text": [
      "El valor maximo de la columna es:  4.81966993844126\n",
      "El valor minimo de la columna es:  1.2950453317506216e-08\n",
      "La cantidad de valores mayores a 3 son:  16\n"
     ]
    },
    {
     "name": "stderr",
     "output_type": "stream",
     "text": [
      "c:\\Users\\Fran\\AppData\\Local\\Programs\\Python\\Python310\\lib\\site-packages\\seaborn\\_decorators.py:36: FutureWarning: Pass the following variable as a keyword arg: x. From version 0.12, the only valid positional argument will be `data`, and passing other arguments without an explicit keyword will result in an error or misinterpretation.\n",
      "  warnings.warn(\n"
     ]
    },
    {
     "data": {
      "image/png": "[encoded data removed]",
      "text/plain": [
       "<Figure size 432x288 with 1 Axes>"
      ]
     },
     "metadata": {
      "needs_background": "light"
     },
     "output_type": "display_data"
    }
   ],
   "source": [
    "#Usando como ejemplo la columna D_145\n",
    "#Busco los valores maximos y minimos de otro ejemplo\n",
    "print(\"El valor maximo de la columna es: \",df_filtrado['D_145'].max())\n",
    "print(\"El valor minimo de la columna es: \",df_filtrado['D_145'].min())\n",
    "\n",
    "d_145=df_filtrado['D_145']\n",
    "sns.boxplot(d_145).set(title='Boxplot 1')\n",
    "print(\"La cantidad de valores mayores a 3 son: \",(d_145[d_145>3]).count())\n",
    "\n",
    "\n",
    "#En este caso lo logico seria borrar esos 16 valores ya que son considerados outliers."
   ]
  },
  {
   "cell_type": "code",
   "execution_count": 11,
   "metadata": {},
   "outputs": [
    {
     "name": "stderr",
     "output_type": "stream",
     "text": [
      "c:\\Users\\Fran\\AppData\\Local\\Programs\\Python\\Python310\\lib\\site-packages\\seaborn\\_decorators.py:36: FutureWarning: Pass the following variable as a keyword arg: x. From version 0.12, the only valid positional argument will be `data`, and passing other arguments without an explicit keyword will result in an error or misinterpretation.\n",
      "  warnings.warn(\n"
     ]
    },
    {
     "data": {
      "text/plain": [
       "[Text(0.5, 1.0, 'Boxplot 2')]"
      ]
     },
     "execution_count": 11,
     "metadata": {},
     "output_type": "execute_result"
    },
    {
     "data": {
      "image/png": "[encoded data removed]",
      "text/plain": [
       "<Figure size 432x288 with 1 Axes>"
      ]
     },
     "metadata": {
      "needs_background": "light"
     },
     "output_type": "display_data"
    }
   ],
   "source": [
    "#Le hago 'zoom' a la parte entre 0 y 1 para que se vea mejor el boxplot\n",
    "sns.boxplot(d_145[d_145<1]).set(title='Boxplot 2')\n",
    "\n",
    "#Volvemos a ver que la gran concentracion de datos esta entre valores muy cercanos a 0 y luego pega saltos de aproximadamente 0.1"
   ]
  },
  {
   "cell_type": "code",
   "execution_count": 12,
   "metadata": {},
   "outputs": [
    {
     "name": "stderr",
     "output_type": "stream",
     "text": [
      "c:\\Users\\Fran\\AppData\\Local\\Programs\\Python\\Python310\\lib\\site-packages\\seaborn\\_decorators.py:36: FutureWarning: Pass the following variable as a keyword arg: x. From version 0.12, the only valid positional argument will be `data`, and passing other arguments without an explicit keyword will result in an error or misinterpretation.\n",
      "  warnings.warn(\n"
     ]
    },
    {
     "data": {
      "text/plain": [
       "[Text(0.5, 1.0, 'Boxplot 3')]"
      ]
     },
     "execution_count": 12,
     "metadata": {},
     "output_type": "execute_result"
    },
    {
     "data": {
      "image/png": "[encoded data removed]",
      "text/plain": [
       "<Figure size 432x288 with 1 Axes>"
      ]
     },
     "metadata": {
      "needs_background": "light"
     },
     "output_type": "display_data"
    }
   ],
   "source": [
    "#Por ultimo grafico la misma columna para valores muy cercanos a 0\n",
    "sns.boxplot(d_145[d_145<.1]).set(title='Boxplot 3')"
   ]
  },
  {
   "cell_type": "markdown",
   "metadata": {},
   "source": [
    "Usando como ejemplo la columna D_145, vemos que segun el boxplot 3, se podrian 'considerar outliers' todos los valores que sean mayores a 0.02 pero como\n",
    "esta cantidad en proporcion a los datos es grande, decidimos no eliminar dichos valores. Aunque si podria ser de eliminar los 16 valores mayores a 3 del\n",
    "boxplot 1."
   ]
  },
  {
   "cell_type": "markdown",
   "metadata": {},
   "source": [
    "### Empiezo a utilizar z-score"
   ]
  },
  {
   "cell_type": "code",
   "execution_count": 13,
   "metadata": {},
   "outputs": [
    {
     "data": {
      "text/plain": [
       "<AxesSubplot:xlabel='Z_Score', ylabel='Density'>"
      ]
     },
     "execution_count": 13,
     "metadata": {},
     "output_type": "execute_result"
    },
    {
     "data": {
      "image/png": "[encoded data removed]",
      "text/plain": [
       "<Figure size 432x288 with 1 Axes>"
      ]
     },
     "metadata": {
      "needs_background": "light"
     },
     "output_type": "display_data"
    }
   ],
   "source": [
    "#Volvemos al ejemplo de la D_145 y creamos otro df para visualizarlo mejor\n",
    "z_sc = pd.DataFrame(d_145,columns=[\"D_145\"])\n",
    "z_sc['Z_Score'] = stats.zscore(d_145,nan_policy='omit') #Si no pongo el omit, lo propaga y no funciona\n",
    "\n",
    "z_sc\n",
    "\n",
    "sns.kdeplot(z_sc['Z_Score'])\n",
    "#sns.histplot(z_sc['Z_Score'])"
   ]
  },
  {
   "cell_type": "code",
   "execution_count": 14,
   "metadata": {},
   "outputs": [],
   "source": [
    "def eliminar_outliers(df):\n",
    "    nuevo_df = pd.DataFrame()\n",
    "    for col in df.columns:\n",
    "        # plt.boxplot(df_reducido[columna], vert = False)\n",
    "        # plt.show()\n",
    "        columna = df[col]\n",
    "        Q1 = columna.quantile(0.25)\n",
    "        Q3 = columna.quantile(0.75)\n",
    "        IQR = Q3 - Q1\n",
    "        outlier_inferior = (Q1 - 1.5 * IQR)\n",
    "        outlier_superior = (Q3 + 1.5 * IQR)\n",
    "\n",
    "        #df.iloc[lambda x: x.index % 2 == 0]\n",
    "        col_aux = np.where(columna[outlier_inferior<columna<outlier_superior],columna,)\n",
    "    \n",
    "\n",
    "        #nuevo_df[col]=col_aux\n",
    "        print(type(columna)) \n",
    "        #print(type())\n",
    "        #if columna[columna<outlier_superior]:\n",
    "        #    if columna[columna>outlier_inferior]:\n",
    "        #        nuevo_df[col] = columna[columna]\n",
    "        \n",
    "\n",
    "        nuevo_df[columna] = columna[(outlier_inferior<=columna) <= outlier_superior]\n",
    "    return nuevo_df"
   ]
  },
  {
   "cell_type": "code",
   "execution_count": 15,
   "metadata": {},
   "outputs": [
    {
     "ename": "ValueError",
     "evalue": "The truth value of a Series is ambiguous. Use a.empty, a.bool(), a.item(), a.any() or a.all().",
     "output_type": "error",
     "traceback": [
      "\u001b[1;31m---------------------------------------------------------------------------\u001b[0m",
      "\u001b[1;31mValueError\u001b[0m                                Traceback (most recent call last)",
      "\u001b[1;32mc:\\Users\\Fran\\Desktop\\Facultad\\Orga\\tp3\\Org-Datos-Grupo-19\\notebooks\\Analisis de datos.ipynb Celda 25\u001b[0m in \u001b[0;36m<cell line: 1>\u001b[1;34m()\u001b[0m\n\u001b[1;32m----> <a href='vscode-notebook-cell:/c%3A/Users/Fran/Desktop/Facultad/Orga/tp3/Org-Datos-Grupo-19/notebooks/Analisis%20de%20datos.ipynb#ch0000024?line=0'>1</a>\u001b[0m dff \u001b[39m=\u001b[39m eliminar_outliers(df_sin_null)\n\u001b[0;32m      <a href='vscode-notebook-cell:/c%3A/Users/Fran/Desktop/Facultad/Orga/tp3/Org-Datos-Grupo-19/notebooks/Analisis%20de%20datos.ipynb#ch0000024?line=1'>2</a>\u001b[0m dff\u001b[39m.\u001b[39msample()\n",
      "\u001b[1;32mc:\\Users\\Fran\\Desktop\\Facultad\\Orga\\tp3\\Org-Datos-Grupo-19\\notebooks\\Analisis de datos.ipynb Celda 25\u001b[0m in \u001b[0;36meliminar_outliers\u001b[1;34m(df)\u001b[0m\n\u001b[0;32m     <a href='vscode-notebook-cell:/c%3A/Users/Fran/Desktop/Facultad/Orga/tp3/Org-Datos-Grupo-19/notebooks/Analisis%20de%20datos.ipynb#ch0000024?line=10'>11</a>\u001b[0m outlier_superior \u001b[39m=\u001b[39m (Q3 \u001b[39m+\u001b[39m \u001b[39m1.5\u001b[39m \u001b[39m*\u001b[39m IQR)\n\u001b[0;32m     <a href='vscode-notebook-cell:/c%3A/Users/Fran/Desktop/Facultad/Orga/tp3/Org-Datos-Grupo-19/notebooks/Analisis%20de%20datos.ipynb#ch0000024?line=12'>13</a>\u001b[0m \u001b[39m#df.iloc[lambda x: x.index % 2 == 0]\u001b[39;00m\n\u001b[1;32m---> <a href='vscode-notebook-cell:/c%3A/Users/Fran/Desktop/Facultad/Orga/tp3/Org-Datos-Grupo-19/notebooks/Analisis%20de%20datos.ipynb#ch0000024?line=13'>14</a>\u001b[0m col_aux \u001b[39m=\u001b[39m np\u001b[39m.\u001b[39mwhere(columna[outlier_inferior\u001b[39m<\u001b[39mcolumna\u001b[39m<\u001b[39moutlier_superior],columna,)\n\u001b[0;32m     <a href='vscode-notebook-cell:/c%3A/Users/Fran/Desktop/Facultad/Orga/tp3/Org-Datos-Grupo-19/notebooks/Analisis%20de%20datos.ipynb#ch0000024?line=16'>17</a>\u001b[0m \u001b[39m#nuevo_df[col]=col_aux\u001b[39;00m\n\u001b[0;32m     <a href='vscode-notebook-cell:/c%3A/Users/Fran/Desktop/Facultad/Orga/tp3/Org-Datos-Grupo-19/notebooks/Analisis%20de%20datos.ipynb#ch0000024?line=17'>18</a>\u001b[0m \u001b[39mprint\u001b[39m(\u001b[39mtype\u001b[39m(columna)) \n",
      "File \u001b[1;32mc:\\Users\\Fran\\AppData\\Local\\Programs\\Python\\Python310\\lib\\site-packages\\pandas\\core\\generic.py:1527\u001b[0m, in \u001b[0;36mNDFrame.__nonzero__\u001b[1;34m(self)\u001b[0m\n\u001b[0;32m   1525\u001b[0m \u001b[39m@final\u001b[39m\n\u001b[0;32m   1526\u001b[0m \u001b[39mdef\u001b[39;00m \u001b[39m__nonzero__\u001b[39m(\u001b[39mself\u001b[39m):\n\u001b[1;32m-> 1527\u001b[0m     \u001b[39mraise\u001b[39;00m \u001b[39mValueError\u001b[39;00m(\n\u001b[0;32m   1528\u001b[0m         \u001b[39mf\u001b[39m\u001b[39m\"\u001b[39m\u001b[39mThe truth value of a \u001b[39m\u001b[39m{\u001b[39;00m\u001b[39mtype\u001b[39m(\u001b[39mself\u001b[39m)\u001b[39m.\u001b[39m\u001b[39m__name__\u001b[39m\u001b[39m}\u001b[39;00m\u001b[39m is ambiguous. \u001b[39m\u001b[39m\"\u001b[39m\n\u001b[0;32m   1529\u001b[0m         \u001b[39m\"\u001b[39m\u001b[39mUse a.empty, a.bool(), a.item(), a.any() or a.all().\u001b[39m\u001b[39m\"\u001b[39m\n\u001b[0;32m   1530\u001b[0m     )\n",
      "\u001b[1;31mValueError\u001b[0m: The truth value of a Series is ambiguous. Use a.empty, a.bool(), a.item(), a.any() or a.all()."
     ]
    }
   ],
   "source": [
    "dff = eliminar_outliers(df_sin_null)\n",
    "dff.sample()"
   ]
  },
  {
   "cell_type": "code",
   "execution_count": null,
   "metadata": {},
   "outputs": [
    {
     "name": "stdout",
     "output_type": "stream",
     "text": [
      "2.54983386178533\n",
      "0.0030296592973364 0.0090638160310821\n",
      "-0.0060215758032821495 0.01811505113170065\n",
      "False    276572\n",
      "Name: D_145, dtype: int64\n"
     ]
    },
    {
     "data": {
      "text/plain": [
       "Series([], Name: D_145, dtype: int64)"
      ]
     },
     "execution_count": 29,
     "metadata": {},
     "output_type": "execute_result"
    }
   ],
   "source": [
    "columna = df['D_145']\n",
    "q1 = columna.quantile(0.25)\n",
    "q3 = columna.quantile(0.75)\n",
    "iqr = q3 - q1\n",
    "outlier_inferior = (q1 - 1.5 * iqr)\n",
    "outlier_superior = (q3 + 1.5 * iqr)\n",
    "\n",
    "print(columna.quantile(0.9998))\n",
    "\n",
    "print(q1,q3)\n",
    "print(outlier_inferior,outlier_superior)\n",
    "\n",
    "print((columna == 2.54983386178533).value_counts())\n",
    "\n",
    "value=(columna[(outlier_inferior<=columna) <= outlier_superior])\n",
    "value.value_counts()\n",
    "\n"
   ]
  },
  {
   "cell_type": "code",
   "execution_count": 39,
   "metadata": {},
   "outputs": [],
   "source": [
    "\n",
    "def eliminar_por_zscore(df):\n",
    "    result = pd.DataFrame()\n",
    "    for col in df:\n",
    "        z_scores = stats.zscore(df[col])\n",
    "        intervalo = (-3< z_scores) & (z_scores < 3)\n",
    "\n",
    "        aux = pd.concat([df[col],intervalo],axis=1)\n",
    "        aux.loc[aux[1]==False,0] = np.nan\n",
    "        result[col] = aux[0]\n",
    "        print(result[col])\n",
    "    return result\n",
    "    \n",
    "\n"
   ]
  },
  {
   "cell_type": "code",
   "execution_count": 40,
   "metadata": {},
   "outputs": [
    {
     "ename": "KeyError",
     "evalue": "1",
     "output_type": "error",
     "traceback": [
      "\u001b[1;31m---------------------------------------------------------------------------\u001b[0m",
      "\u001b[1;31mTypeError\u001b[0m                                 Traceback (most recent call last)",
      "File \u001b[1;32mc:\\Users\\Fran\\AppData\\Local\\Programs\\Python\\Python310\\lib\\site-packages\\pandas\\_libs\\index.pyx:186\u001b[0m, in \u001b[0;36mpandas._libs.index.IndexEngine._get_loc_duplicates\u001b[1;34m()\u001b[0m\n",
      "\u001b[1;31mTypeError\u001b[0m: '<' not supported between instances of 'str' and 'int'",
      "\nDuring handling of the above exception, another exception occurred:\n",
      "\u001b[1;31mKeyError\u001b[0m                                  Traceback (most recent call last)",
      "File \u001b[1;32mc:\\Users\\Fran\\AppData\\Local\\Programs\\Python\\Python310\\lib\\site-packages\\pandas\\core\\indexes\\base.py:3621\u001b[0m, in \u001b[0;36mIndex.get_loc\u001b[1;34m(self, key, method, tolerance)\u001b[0m\n\u001b[0;32m   3620\u001b[0m \u001b[39mtry\u001b[39;00m:\n\u001b[1;32m-> 3621\u001b[0m     \u001b[39mreturn\u001b[39;00m \u001b[39mself\u001b[39;49m\u001b[39m.\u001b[39;49m_engine\u001b[39m.\u001b[39;49mget_loc(casted_key)\n\u001b[0;32m   3622\u001b[0m \u001b[39mexcept\u001b[39;00m \u001b[39mKeyError\u001b[39;00m \u001b[39mas\u001b[39;00m err:\n",
      "File \u001b[1;32mc:\\Users\\Fran\\AppData\\Local\\Programs\\Python\\Python310\\lib\\site-packages\\pandas\\_libs\\index.pyx:136\u001b[0m, in \u001b[0;36mpandas._libs.index.IndexEngine.get_loc\u001b[1;34m()\u001b[0m\n",
      "File \u001b[1;32mc:\\Users\\Fran\\AppData\\Local\\Programs\\Python\\Python310\\lib\\site-packages\\pandas\\_libs\\index.pyx:160\u001b[0m, in \u001b[0;36mpandas._libs.index.IndexEngine.get_loc\u001b[1;34m()\u001b[0m\n",
      "File \u001b[1;32mc:\\Users\\Fran\\AppData\\Local\\Programs\\Python\\Python310\\lib\\site-packages\\pandas\\_libs\\index.pyx:191\u001b[0m, in \u001b[0;36mpandas._libs.index.IndexEngine._get_loc_duplicates\u001b[1;34m()\u001b[0m\n",
      "\u001b[1;31mKeyError\u001b[0m: 1",
      "\nThe above exception was the direct cause of the following exception:\n",
      "\u001b[1;31mKeyError\u001b[0m                                  Traceback (most recent call last)",
      "\u001b[1;32mc:\\Users\\Fran\\Desktop\\Facultad\\Orga\\tp3\\Org-Datos-Grupo-19\\notebooks\\Analisis de datos.ipynb Celda 28\u001b[0m in \u001b[0;36m<cell line: 1>\u001b[1;34m()\u001b[0m\n\u001b[1;32m----> <a href='vscode-notebook-cell:/c%3A/Users/Fran/Desktop/Facultad/Orga/tp3/Org-Datos-Grupo-19/notebooks/Analisis%20de%20datos.ipynb#ch0000030?line=0'>1</a>\u001b[0m dfffff \u001b[39m=\u001b[39m eliminar_por_zscore(df_sin_null)\n\u001b[0;32m      <a href='vscode-notebook-cell:/c%3A/Users/Fran/Desktop/Facultad/Orga/tp3/Org-Datos-Grupo-19/notebooks/Analisis%20de%20datos.ipynb#ch0000030?line=1'>2</a>\u001b[0m display(dfffff)\n",
      "\u001b[1;32mc:\\Users\\Fran\\Desktop\\Facultad\\Orga\\tp3\\Org-Datos-Grupo-19\\notebooks\\Analisis de datos.ipynb Celda 28\u001b[0m in \u001b[0;36meliminar_por_zscore\u001b[1;34m(df)\u001b[0m\n\u001b[0;32m      <a href='vscode-notebook-cell:/c%3A/Users/Fran/Desktop/Facultad/Orga/tp3/Org-Datos-Grupo-19/notebooks/Analisis%20de%20datos.ipynb#ch0000030?line=4'>5</a>\u001b[0m intervalo \u001b[39m=\u001b[39m (\u001b[39m-\u001b[39m\u001b[39m3\u001b[39m\u001b[39m<\u001b[39m z_scores) \u001b[39m&\u001b[39m (z_scores \u001b[39m<\u001b[39m \u001b[39m3\u001b[39m)\n\u001b[0;32m      <a href='vscode-notebook-cell:/c%3A/Users/Fran/Desktop/Facultad/Orga/tp3/Org-Datos-Grupo-19/notebooks/Analisis%20de%20datos.ipynb#ch0000030?line=6'>7</a>\u001b[0m aux \u001b[39m=\u001b[39m pd\u001b[39m.\u001b[39mconcat([df[col],intervalo],axis\u001b[39m=\u001b[39m\u001b[39m1\u001b[39m)\n\u001b[1;32m----> <a href='vscode-notebook-cell:/c%3A/Users/Fran/Desktop/Facultad/Orga/tp3/Org-Datos-Grupo-19/notebooks/Analisis%20de%20datos.ipynb#ch0000030?line=7'>8</a>\u001b[0m aux\u001b[39m.\u001b[39mloc[aux[\u001b[39m1\u001b[39;49m]\u001b[39m==\u001b[39m\u001b[39mFalse\u001b[39;00m,\u001b[39m0\u001b[39m] \u001b[39m=\u001b[39m np\u001b[39m.\u001b[39mnan\n\u001b[0;32m      <a href='vscode-notebook-cell:/c%3A/Users/Fran/Desktop/Facultad/Orga/tp3/Org-Datos-Grupo-19/notebooks/Analisis%20de%20datos.ipynb#ch0000030?line=8'>9</a>\u001b[0m result[col] \u001b[39m=\u001b[39m aux[\u001b[39m0\u001b[39m]\n\u001b[0;32m     <a href='vscode-notebook-cell:/c%3A/Users/Fran/Desktop/Facultad/Orga/tp3/Org-Datos-Grupo-19/notebooks/Analisis%20de%20datos.ipynb#ch0000030?line=9'>10</a>\u001b[0m \u001b[39mprint\u001b[39m(result[col])\n",
      "File \u001b[1;32mc:\\Users\\Fran\\AppData\\Local\\Programs\\Python\\Python310\\lib\\site-packages\\pandas\\core\\frame.py:3505\u001b[0m, in \u001b[0;36mDataFrame.__getitem__\u001b[1;34m(self, key)\u001b[0m\n\u001b[0;32m   3503\u001b[0m \u001b[39mif\u001b[39;00m \u001b[39mself\u001b[39m\u001b[39m.\u001b[39mcolumns\u001b[39m.\u001b[39mnlevels \u001b[39m>\u001b[39m \u001b[39m1\u001b[39m:\n\u001b[0;32m   3504\u001b[0m     \u001b[39mreturn\u001b[39;00m \u001b[39mself\u001b[39m\u001b[39m.\u001b[39m_getitem_multilevel(key)\n\u001b[1;32m-> 3505\u001b[0m indexer \u001b[39m=\u001b[39m \u001b[39mself\u001b[39;49m\u001b[39m.\u001b[39;49mcolumns\u001b[39m.\u001b[39;49mget_loc(key)\n\u001b[0;32m   3506\u001b[0m \u001b[39mif\u001b[39;00m is_integer(indexer):\n\u001b[0;32m   3507\u001b[0m     indexer \u001b[39m=\u001b[39m [indexer]\n",
      "File \u001b[1;32mc:\\Users\\Fran\\AppData\\Local\\Programs\\Python\\Python310\\lib\\site-packages\\pandas\\core\\indexes\\base.py:3623\u001b[0m, in \u001b[0;36mIndex.get_loc\u001b[1;34m(self, key, method, tolerance)\u001b[0m\n\u001b[0;32m   3621\u001b[0m     \u001b[39mreturn\u001b[39;00m \u001b[39mself\u001b[39m\u001b[39m.\u001b[39m_engine\u001b[39m.\u001b[39mget_loc(casted_key)\n\u001b[0;32m   3622\u001b[0m \u001b[39mexcept\u001b[39;00m \u001b[39mKeyError\u001b[39;00m \u001b[39mas\u001b[39;00m err:\n\u001b[1;32m-> 3623\u001b[0m     \u001b[39mraise\u001b[39;00m \u001b[39mKeyError\u001b[39;00m(key) \u001b[39mfrom\u001b[39;00m \u001b[39merr\u001b[39;00m\n\u001b[0;32m   3624\u001b[0m \u001b[39mexcept\u001b[39;00m \u001b[39mTypeError\u001b[39;00m:\n\u001b[0;32m   3625\u001b[0m     \u001b[39m# If we have a listlike key, _check_indexing_error will raise\u001b[39;00m\n\u001b[0;32m   3626\u001b[0m     \u001b[39m#  InvalidIndexError. Otherwise we fall through and re-raise\u001b[39;00m\n\u001b[0;32m   3627\u001b[0m     \u001b[39m#  the TypeError.\u001b[39;00m\n\u001b[0;32m   3628\u001b[0m     \u001b[39mself\u001b[39m\u001b[39m.\u001b[39m_check_indexing_error(key)\n",
      "\u001b[1;31mKeyError\u001b[0m: 1"
     ]
    }
   ],
   "source": [
    "df_zsc = eliminar_por_zscore(df_sin_null)\n",
    "display(df_zsc)"
   ]
  },
  {
   "cell_type": "code",
   "execution_count": 23,
   "metadata": {},
   "outputs": [
    {
     "name": "stdout",
     "output_type": "stream",
     "text": [
      "2.618121703136993 -0.3237712819896245\n",
      "4.81966993844126 1.2950453317506216e-08\n"
     ]
    }
   ],
   "source": [
    "col = stats.zscore(df_sin_null['D_145'])\n",
    "val_col = (-3< col) & (col < 3)\n",
    "aux = col[val_col]\n",
    "print(aux.max(),aux.min())\n",
    "print(df_sin_null['D_145'].max(),df_sin_null['D_145'].min())\n"
   ]
  },
  {
   "cell_type": "code",
   "execution_count": 33,
   "metadata": {},
   "outputs": [
    {
     "data": {
      "text/html": [
       "<div>\n",
       "<style scoped>\n",
       "    .dataframe tbody tr th:only-of-type {\n",
       "        vertical-align: middle;\n",
       "    }\n",
       "\n",
       "    .dataframe tbody tr th {\n",
       "        vertical-align: top;\n",
       "    }\n",
       "\n",
       "    .dataframe thead th {\n",
       "        text-align: right;\n",
       "    }\n",
       "</style>\n",
       "<table border=\"1\" class=\"dataframe\">\n",
       "  <thead>\n",
       "    <tr style=\"text-align: right;\">\n",
       "      <th></th>\n",
       "      <th>D_145</th>\n",
       "      <th>Z-Score</th>\n",
       "      <th>Cumple?</th>\n",
       "    </tr>\n",
       "  </thead>\n",
       "  <tbody>\n",
       "    <tr>\n",
       "      <th>0</th>\n",
       "      <td>0.002719</td>\n",
       "      <td>-3.093681e-01</td>\n",
       "      <td>True</td>\n",
       "    </tr>\n",
       "    <tr>\n",
       "      <th>1</th>\n",
       "      <td>0.095926</td>\n",
       "      <td>1.842965e-01</td>\n",
       "      <td>True</td>\n",
       "    </tr>\n",
       "    <tr>\n",
       "      <th>2</th>\n",
       "      <td>0.061130</td>\n",
       "      <td>-3.675140e-17</td>\n",
       "      <td>True</td>\n",
       "    </tr>\n",
       "    <tr>\n",
       "      <th>3</th>\n",
       "      <td>0.002798</td>\n",
       "      <td>-3.089509e-01</td>\n",
       "      <td>True</td>\n",
       "    </tr>\n",
       "    <tr>\n",
       "      <th>4</th>\n",
       "      <td>0.000342</td>\n",
       "      <td>-3.219595e-01</td>\n",
       "      <td>True</td>\n",
       "    </tr>\n",
       "    <tr>\n",
       "      <th>...</th>\n",
       "      <td>...</td>\n",
       "      <td>...</td>\n",
       "      <td>...</td>\n",
       "    </tr>\n",
       "    <tr>\n",
       "      <th>276567</th>\n",
       "      <td>0.276447</td>\n",
       "      <td>1.140413e+00</td>\n",
       "      <td>True</td>\n",
       "    </tr>\n",
       "    <tr>\n",
       "      <th>276568</th>\n",
       "      <td>0.005995</td>\n",
       "      <td>-2.920201e-01</td>\n",
       "      <td>True</td>\n",
       "    </tr>\n",
       "    <tr>\n",
       "      <th>276569</th>\n",
       "      <td>0.006528</td>\n",
       "      <td>-2.891979e-01</td>\n",
       "      <td>True</td>\n",
       "    </tr>\n",
       "    <tr>\n",
       "      <th>276570</th>\n",
       "      <td>0.009582</td>\n",
       "      <td>-2.730215e-01</td>\n",
       "      <td>True</td>\n",
       "    </tr>\n",
       "    <tr>\n",
       "      <th>276571</th>\n",
       "      <td>0.000012</td>\n",
       "      <td>-3.237087e-01</td>\n",
       "      <td>True</td>\n",
       "    </tr>\n",
       "  </tbody>\n",
       "</table>\n",
       "<p>276572 rows × 3 columns</p>\n",
       "</div>"
      ],
      "text/plain": [
       "           D_145       Z-Score  Cumple?\n",
       "0       0.002719 -3.093681e-01     True\n",
       "1       0.095926  1.842965e-01     True\n",
       "2       0.061130 -3.675140e-17     True\n",
       "3       0.002798 -3.089509e-01     True\n",
       "4       0.000342 -3.219595e-01     True\n",
       "...          ...           ...      ...\n",
       "276567  0.276447  1.140413e+00     True\n",
       "276568  0.005995 -2.920201e-01     True\n",
       "276569  0.006528 -2.891979e-01     True\n",
       "276570  0.009582 -2.730215e-01     True\n",
       "276571  0.000012 -3.237087e-01     True\n",
       "\n",
       "[276572 rows x 3 columns]"
      ]
     },
     "execution_count": 33,
     "metadata": {},
     "output_type": "execute_result"
    }
   ],
   "source": [
    "df_xd = pd.DataFrame(df_sin_null['D_145'])\n",
    "df_xd['Z-Score'] = stats.zscore(df_sin_null['D_145'])\n",
    "df_xd['Cumple?'] = np.where( (-3< df_xd['Z-Score']) & (df_xd['Z-Score']<3),True,False)\n",
    "\n",
    "df_xd['Finalizado'] = np.where(df_xd.loc[:,'Cumple?'])\n",
    "\n",
    "#Relaciona la primera y tercer columna para crear una cuarta con valores originales cuando Cumple = True y nan si cumple igual = False"
   ]
  },
  {
   "cell_type": "code",
   "execution_count": null,
   "metadata": {},
   "outputs": [
    {
     "name": "stdout",
     "output_type": "stream",
     "text": [
      "None\n"
     ]
    }
   ],
   "source": [
    "df_sin_null = drop_numerical_outliers(df_sin_null)\n",
    "print(df_sin_null)"
   ]
  }
 ],
 "metadata": {
  "kernelspec": {
   "display_name": "Python 3.10.5 64-bit",
   "language": "python",
   "name": "python3"
  },
  "language_info": {
   "codemirror_mode": {
    "name": "ipython",
    "version": 3
   },
   "file_extension": ".py",
   "mimetype": "text/x-python",
   "name": "python",
   "nbconvert_exporter": "python",
   "pygments_lexer": "ipython3",
   "version": "3.10.5"
  },
  "orig_nbformat": 4,
  "vscode": {
   "interpreter": {
    "hash": "1712a3e48da3334829ccbf0affceb95c1cc536e666a8c49a1f0262dd902fac97"
   }
  }
 },
 "nbformat": 4,
 "nbformat_minor": 2
}
