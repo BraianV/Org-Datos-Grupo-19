{
 "cells": [
  {
   "cell_type": "code",
   "execution_count": 1,
   "id": "29d935bc",
   "metadata": {},
   "outputs": [],
   "source": [
    "import pandas as pd\n",
    "import numpy as np\n",
    "\n",
    "import matplotlib.pyplot as plt\n",
    "import seaborn as sns \n",
    "\n",
    "from sklearn.model_selection import train_test_split, GridSearchCV\n",
    "from sklearn.tree import DecisionTreeClassifier\n",
    "from sklearn.ensemble import RandomForestClassifier\n",
    "from sklearn.model_selection import StratifiedKFold, KFold,RandomizedSearchCV\n",
    "from sklearn.metrics import make_scorer, f1_score\n",
    "from sklearn.metrics import confusion_matrix, precision_score, recall_score, roc_auc_score\n",
    "from sklearn.metrics import classification_report, precision_recall_curve\n",
    "\n",
    "from scripts import featurizer_xgb\n",
    "\n",
    "import xgboost as xgb\n",
    "import sklearn\n",
    "from xgboost.sklearn import XGBClassifier\n",
    "\n",
    "\n",
    "%load_ext autoreload\n",
    "%autoreload 2"
   ]
  },
  {
   "cell_type": "markdown",
   "id": "cdd37963",
   "metadata": {},
   "source": [
    "### Lectura de set de datos ya depurado."
   ]
  },
  {
   "cell_type": "code",
   "execution_count": 2,
   "id": "88cf9d00",
   "metadata": {},
   "outputs": [],
   "source": [
    "df = pd.read_csv(\"../data/dataset-procesado.csv\", index_col=False)"
   ]
  },
  {
   "cell_type": "code",
   "execution_count": 3,
   "id": "c2fc58b8",
   "metadata": {},
   "outputs": [
    {
     "data": {
      "text/plain": [
       "(251091, 121)"
      ]
     },
     "execution_count": 3,
     "metadata": {},
     "output_type": "execute_result"
    }
   ],
   "source": [
    "df.shape"
   ]
  },
  {
   "cell_type": "code",
   "execution_count": 4,
   "id": "49b9cf3e",
   "metadata": {},
   "outputs": [
    {
     "data": {
      "text/html": [
       "<div>\n",
       "<style scoped>\n",
       "    .dataframe tbody tr th:only-of-type {\n",
       "        vertical-align: middle;\n",
       "    }\n",
       "\n",
       "    .dataframe tbody tr th {\n",
       "        vertical-align: top;\n",
       "    }\n",
       "\n",
       "    .dataframe thead th {\n",
       "        text-align: right;\n",
       "    }\n",
       "</style>\n",
       "<table border=\"1\" class=\"dataframe\">\n",
       "  <thead>\n",
       "    <tr style=\"text-align: right;\">\n",
       "      <th></th>\n",
       "      <th>P_2</th>\n",
       "      <th>D_39</th>\n",
       "      <th>B_1</th>\n",
       "      <th>B_2</th>\n",
       "      <th>R_1</th>\n",
       "      <th>S_3</th>\n",
       "      <th>D_41</th>\n",
       "      <th>D_43</th>\n",
       "      <th>D_44</th>\n",
       "      <th>B_4</th>\n",
       "      <th>...</th>\n",
       "      <th>R_28</th>\n",
       "      <th>D_139</th>\n",
       "      <th>D_140</th>\n",
       "      <th>D_144</th>\n",
       "      <th>D_145</th>\n",
       "      <th>customer_ID</th>\n",
       "      <th>S_2</th>\n",
       "      <th>D_63</th>\n",
       "      <th>D_64</th>\n",
       "      <th>target</th>\n",
       "    </tr>\n",
       "  </thead>\n",
       "  <tbody>\n",
       "    <tr>\n",
       "      <th>0</th>\n",
       "      <td>0.947242</td>\n",
       "      <td>0.002204</td>\n",
       "      <td>0.008002</td>\n",
       "      <td>1.007516</td>\n",
       "      <td>0.002830</td>\n",
       "      <td>0.453227</td>\n",
       "      <td>0.005992</td>\n",
       "      <td>0.145480</td>\n",
       "      <td>0.001613</td>\n",
       "      <td>0.029088</td>\n",
       "      <td>...</td>\n",
       "      <td>0.000518</td>\n",
       "      <td>0.003183</td>\n",
       "      <td>0.005264</td>\n",
       "      <td>0.004306</td>\n",
       "      <td>0.002719</td>\n",
       "      <td>743d55408505dee752adc6e62b273f4397db6e89f19034...</td>\n",
       "      <td>2017-08-10</td>\n",
       "      <td>CO</td>\n",
       "      <td>O</td>\n",
       "      <td>0</td>\n",
       "    </tr>\n",
       "    <tr>\n",
       "      <th>1</th>\n",
       "      <td>0.757648</td>\n",
       "      <td>0.002076</td>\n",
       "      <td>0.008751</td>\n",
       "      <td>0.814083</td>\n",
       "      <td>0.000408</td>\n",
       "      <td>0.155700</td>\n",
       "      <td>0.004156</td>\n",
       "      <td>0.127285</td>\n",
       "      <td>0.129051</td>\n",
       "      <td>0.040101</td>\n",
       "      <td>...</td>\n",
       "      <td>0.001186</td>\n",
       "      <td>1.000928</td>\n",
       "      <td>0.005655</td>\n",
       "      <td>0.007953</td>\n",
       "      <td>0.095926</td>\n",
       "      <td>522c85a354bfec790067b54e9db7353d20d4709ae5dc93...</td>\n",
       "      <td>2017-07-04</td>\n",
       "      <td>CO</td>\n",
       "      <td>O</td>\n",
       "      <td>0</td>\n",
       "    </tr>\n",
       "    <tr>\n",
       "      <th>2</th>\n",
       "      <td>0.673978</td>\n",
       "      <td>0.588604</td>\n",
       "      <td>0.295201</td>\n",
       "      <td>0.024650</td>\n",
       "      <td>0.007951</td>\n",
       "      <td>0.125583</td>\n",
       "      <td>0.008760</td>\n",
       "      <td>0.145480</td>\n",
       "      <td>0.005867</td>\n",
       "      <td>0.175950</td>\n",
       "      <td>...</td>\n",
       "      <td>0.000805</td>\n",
       "      <td>0.003558</td>\n",
       "      <td>0.008268</td>\n",
       "      <td>0.003020</td>\n",
       "      <td>0.002798</td>\n",
       "      <td>9296e983c3e4f99b046952397fc4ba950abf1032a9bd6c...</td>\n",
       "      <td>2017-03-30</td>\n",
       "      <td>CO</td>\n",
       "      <td>R</td>\n",
       "      <td>1</td>\n",
       "    </tr>\n",
       "    <tr>\n",
       "      <th>3</th>\n",
       "      <td>0.778075</td>\n",
       "      <td>0.006930</td>\n",
       "      <td>0.056721</td>\n",
       "      <td>0.819369</td>\n",
       "      <td>0.004922</td>\n",
       "      <td>0.089214</td>\n",
       "      <td>0.006884</td>\n",
       "      <td>0.041515</td>\n",
       "      <td>0.002841</td>\n",
       "      <td>0.001179</td>\n",
       "      <td>...</td>\n",
       "      <td>0.009053</td>\n",
       "      <td>0.004670</td>\n",
       "      <td>0.000125</td>\n",
       "      <td>0.000819</td>\n",
       "      <td>0.000342</td>\n",
       "      <td>3fa10314686e0e51d8f76235eceab91d70aa3f24a98c3e...</td>\n",
       "      <td>2018-01-17</td>\n",
       "      <td>CL</td>\n",
       "      <td>O</td>\n",
       "      <td>0</td>\n",
       "    </tr>\n",
       "    <tr>\n",
       "      <th>4</th>\n",
       "      <td>0.561622</td>\n",
       "      <td>0.032756</td>\n",
       "      <td>0.822028</td>\n",
       "      <td>0.025315</td>\n",
       "      <td>0.005570</td>\n",
       "      <td>1.147400</td>\n",
       "      <td>0.008290</td>\n",
       "      <td>0.145480</td>\n",
       "      <td>0.002991</td>\n",
       "      <td>0.316650</td>\n",
       "      <td>...</td>\n",
       "      <td>0.008689</td>\n",
       "      <td>0.003884</td>\n",
       "      <td>0.003367</td>\n",
       "      <td>0.009010</td>\n",
       "      <td>0.004627</td>\n",
       "      <td>1f81653f1397fe11839b585cb688e2e92ce1805023ba67...</td>\n",
       "      <td>2017-06-21</td>\n",
       "      <td>CO</td>\n",
       "      <td>O</td>\n",
       "      <td>1</td>\n",
       "    </tr>\n",
       "  </tbody>\n",
       "</table>\n",
       "<p>5 rows × 121 columns</p>\n",
       "</div>"
      ],
      "text/plain": [
       "        P_2      D_39       B_1       B_2       R_1       S_3      D_41  \\\n",
       "0  0.947242  0.002204  0.008002  1.007516  0.002830  0.453227  0.005992   \n",
       "1  0.757648  0.002076  0.008751  0.814083  0.000408  0.155700  0.004156   \n",
       "2  0.673978  0.588604  0.295201  0.024650  0.007951  0.125583  0.008760   \n",
       "3  0.778075  0.006930  0.056721  0.819369  0.004922  0.089214  0.006884   \n",
       "4  0.561622  0.032756  0.822028  0.025315  0.005570  1.147400  0.008290   \n",
       "\n",
       "       D_43      D_44       B_4  ...      R_28     D_139     D_140     D_144  \\\n",
       "0  0.145480  0.001613  0.029088  ...  0.000518  0.003183  0.005264  0.004306   \n",
       "1  0.127285  0.129051  0.040101  ...  0.001186  1.000928  0.005655  0.007953   \n",
       "2  0.145480  0.005867  0.175950  ...  0.000805  0.003558  0.008268  0.003020   \n",
       "3  0.041515  0.002841  0.001179  ...  0.009053  0.004670  0.000125  0.000819   \n",
       "4  0.145480  0.002991  0.316650  ...  0.008689  0.003884  0.003367  0.009010   \n",
       "\n",
       "      D_145                                        customer_ID         S_2  \\\n",
       "0  0.002719  743d55408505dee752adc6e62b273f4397db6e89f19034...  2017-08-10   \n",
       "1  0.095926  522c85a354bfec790067b54e9db7353d20d4709ae5dc93...  2017-07-04   \n",
       "2  0.002798  9296e983c3e4f99b046952397fc4ba950abf1032a9bd6c...  2017-03-30   \n",
       "3  0.000342  3fa10314686e0e51d8f76235eceab91d70aa3f24a98c3e...  2018-01-17   \n",
       "4  0.004627  1f81653f1397fe11839b585cb688e2e92ce1805023ba67...  2017-06-21   \n",
       "\n",
       "   D_63  D_64  target  \n",
       "0    CO     O       0  \n",
       "1    CO     O       0  \n",
       "2    CO     R       1  \n",
       "3    CL     O       0  \n",
       "4    CO     O       1  \n",
       "\n",
       "[5 rows x 121 columns]"
      ]
     },
     "execution_count": 4,
     "metadata": {},
     "output_type": "execute_result"
    }
   ],
   "source": [
    "df.head()"
   ]
  },
  {
   "cell_type": "markdown",
   "id": "4ea1302e",
   "metadata": {},
   "source": [
    "###### Aplicacion de un script como featurizador para agilizar la creacion e iteracion de features."
   ]
  },
  {
   "cell_type": "code",
   "execution_count": 5,
   "id": "c75cb980",
   "metadata": {},
   "outputs": [
    {
     "name": "stdout",
     "output_type": "stream",
     "text": [
      "-------\n"
     ]
    }
   ],
   "source": [
    "df_featurizado = featurizer_xgb.featurizer(df)"
   ]
  },
  {
   "cell_type": "code",
   "execution_count": 6,
   "id": "f428eea3",
   "metadata": {},
   "outputs": [
    {
     "data": {
      "text/plain": [
       "(251091, 152)"
      ]
     },
     "execution_count": 6,
     "metadata": {},
     "output_type": "execute_result"
    }
   ],
   "source": [
    "df_featurizado.shape"
   ]
  },
  {
   "cell_type": "markdown",
   "id": "3758593f",
   "metadata": {},
   "source": [
    "Como se puede observar, hay un incremento de columnas que viene por tratar con nuevas features en nuestro set de datos."
   ]
  },
  {
   "cell_type": "code",
   "execution_count": 7,
   "id": "8dda78c1",
   "metadata": {},
   "outputs": [],
   "source": [
    "X = df_featurizado.drop(axis = 1, columns = ['target'])\n",
    "y = df_featurizado.target\n",
    "\n",
    "features = X.columns"
   ]
  },
  {
   "cell_type": "code",
   "execution_count": 8,
   "id": "78acad63",
   "metadata": {},
   "outputs": [
    {
     "data": {
      "text/plain": [
       "(251091, 151)"
      ]
     },
     "execution_count": 8,
     "metadata": {},
     "output_type": "execute_result"
    }
   ],
   "source": [
    "X.shape"
   ]
  },
  {
   "cell_type": "code",
   "execution_count": 9,
   "id": "b46e33f3",
   "metadata": {},
   "outputs": [
    {
     "data": {
      "text/plain": [
       "251091"
      ]
     },
     "execution_count": 9,
     "metadata": {},
     "output_type": "execute_result"
    }
   ],
   "source": [
    "len(y)"
   ]
  },
  {
   "cell_type": "markdown",
   "id": "946d4a85",
   "metadata": {},
   "source": [
    "###### Train test split para poder diferenciar los sets de datos de entrenamiento de testing, stratifico la columna target ya que hay un desbalance de 70/30 entre labels positivos y negativos."
   ]
  },
  {
   "cell_type": "code",
   "execution_count": 10,
   "id": "11c82be6",
   "metadata": {},
   "outputs": [],
   "source": [
    "X_train, X_test, y_train, y_test = train_test_split(X, y, test_size = 0.2, stratify = y)"
   ]
  },
  {
   "cell_type": "code",
   "execution_count": null,
   "id": "d5cb77d2",
   "metadata": {},
   "outputs": [],
   "source": []
  },
  {
   "cell_type": "markdown",
   "id": "78bf24a6",
   "metadata": {},
   "source": [
    "### Clasificador "
   ]
  },
  {
   "cell_type": "code",
   "execution_count": 11,
   "id": "2c005af5",
   "metadata": {},
   "outputs": [],
   "source": [
    "xgb = XGBClassifier()"
   ]
  },
  {
   "cell_type": "markdown",
   "id": "70e861b5",
   "metadata": {},
   "source": [
    "Set de hiperparametros posibles para el random search"
   ]
  },
  {
   "cell_type": "code",
   "execution_count": 12,
   "id": "63cd5626",
   "metadata": {},
   "outputs": [],
   "source": [
    "param_dist = {'n_estimators':[50, 100, 150],\n",
    "              'max_depth':[5, 10],              \n",
    "              'subsample': [0.5,0.8,1],\n",
    "              'colsample_bytree': [0.5,0.8,1],              \n",
    "              'learning_rate':[0.2, 0.3]\n",
    "              }"
   ]
  },
  {
   "cell_type": "code",
   "execution_count": 13,
   "id": "a222ecca",
   "metadata": {},
   "outputs": [],
   "source": [
    "random_search_xgb = RandomizedSearchCV(xgb,\n",
    "                                       param_distributions = param_dist,\n",
    "                                       n_iter = 10,\n",
    "                                       scoring = 'roc_auc',\n",
    "                                       cv = 5,\n",
    "                                       n_jobs = -1,\n",
    "                                       verbose=1)"
   ]
  },
  {
   "cell_type": "code",
   "execution_count": 14,
   "id": "928ffccb",
   "metadata": {},
   "outputs": [
    {
     "name": "stdout",
     "output_type": "stream",
     "text": [
      "Fitting 5 folds for each of 10 candidates, totalling 50 fits\n",
      "CPU times: user 6min 55s, sys: 936 ms, total: 6min 56s\n",
      "Wall time: 50min 46s\n"
     ]
    },
    {
     "data": {
      "text/plain": [
       "RandomizedSearchCV(cv=5,\n",
       "                   estimator=XGBClassifier(base_score=None, booster=None,\n",
       "                                           callbacks=None,\n",
       "                                           colsample_bylevel=None,\n",
       "                                           colsample_bynode=None,\n",
       "                                           colsample_bytree=None,\n",
       "                                           early_stopping_rounds=None,\n",
       "                                           enable_categorical=False,\n",
       "                                           eval_metric=None, gamma=None,\n",
       "                                           gpu_id=None, grow_policy=None,\n",
       "                                           importance_type=None,\n",
       "                                           interaction_constraints=None,\n",
       "                                           learning_rate=None, max_bin=None,...\n",
       "                                           min_child_weight=None, missing=nan,\n",
       "                                           monotone_constraints=None,\n",
       "                                           n_estimators=100, n_jobs=None,\n",
       "                                           num_parallel_tree=None,\n",
       "                                           predictor=None, random_state=None,\n",
       "                                           reg_alpha=None, reg_lambda=None, ...),\n",
       "                   n_jobs=-1,\n",
       "                   param_distributions={'colsample_bytree': [0.5, 0.8, 1],\n",
       "                                        'learning_rate': [0.2, 0.3],\n",
       "                                        'max_depth': [5, 10],\n",
       "                                        'n_estimators': [50, 100, 150],\n",
       "                                        'subsample': [0.5, 0.8, 1]},\n",
       "                   scoring='roc_auc', verbose=1)"
      ]
     },
     "execution_count": 14,
     "metadata": {},
     "output_type": "execute_result"
    }
   ],
   "source": [
    "%%time\n",
    "random_search_xgb.fit(X_train, y_train)"
   ]
  },
  {
   "cell_type": "code",
   "execution_count": 15,
   "id": "3511a91c",
   "metadata": {},
   "outputs": [],
   "source": [
    "params_opt_xgb = random_search_xgb.best_params_"
   ]
  },
  {
   "cell_type": "markdown",
   "id": "136737b6",
   "metadata": {},
   "source": [
    "Los mejores hiperparametros sacados del random search para el modelo de xgboost final"
   ]
  },
  {
   "cell_type": "code",
   "execution_count": 16,
   "id": "6e3f4d86",
   "metadata": {},
   "outputs": [
    {
     "data": {
      "text/plain": [
       "{'subsample': 1,\n",
       " 'n_estimators': 100,\n",
       " 'max_depth': 5,\n",
       " 'learning_rate': 0.2,\n",
       " 'colsample_bytree': 0.5}"
      ]
     },
     "execution_count": 16,
     "metadata": {},
     "output_type": "execute_result"
    }
   ],
   "source": [
    "params_opt_xgb"
   ]
  },
  {
   "cell_type": "code",
   "execution_count": 17,
   "id": "318e7a61",
   "metadata": {},
   "outputs": [],
   "source": [
    "xgbModelBestParams = XGBClassifier(**params_opt_xgb)"
   ]
  },
  {
   "cell_type": "code",
   "execution_count": 18,
   "id": "e3425eac",
   "metadata": {},
   "outputs": [
    {
     "name": "stdout",
     "output_type": "stream",
     "text": [
      "CPU times: user 7min 11s, sys: 613 ms, total: 7min 12s\n",
      "Wall time: 27.9 s\n"
     ]
    },
    {
     "data": {
      "text/plain": [
       "XGBClassifier(base_score=0.5, booster='gbtree', callbacks=None,\n",
       "              colsample_bylevel=1, colsample_bynode=1, colsample_bytree=0.5,\n",
       "              early_stopping_rounds=None, enable_categorical=False,\n",
       "              eval_metric=None, gamma=0, gpu_id=-1, grow_policy='depthwise',\n",
       "              importance_type=None, interaction_constraints='',\n",
       "              learning_rate=0.2, max_bin=256, max_cat_to_onehot=4,\n",
       "              max_delta_step=0, max_depth=5, max_leaves=0, min_child_weight=1,\n",
       "              missing=nan, monotone_constraints='()', n_estimators=100,\n",
       "              n_jobs=0, num_parallel_tree=1, predictor='auto', random_state=0,\n",
       "              reg_alpha=0, reg_lambda=1, ...)"
      ]
     },
     "execution_count": 18,
     "metadata": {},
     "output_type": "execute_result"
    }
   ],
   "source": [
    "%%time\n",
    "xgbModelBestParams.fit(X_train, y_train)"
   ]
  },
  {
   "cell_type": "code",
   "execution_count": 19,
   "id": "5db101fe",
   "metadata": {},
   "outputs": [],
   "source": [
    "y_pred_temp2 = xgbModelBestParams.predict(X_train)"
   ]
  },
  {
   "cell_type": "code",
   "execution_count": 20,
   "id": "11b116e7",
   "metadata": {},
   "outputs": [],
   "source": [
    "y_pred_test2 = xgbModelBestParams.predict(X_test)"
   ]
  },
  {
   "cell_type": "markdown",
   "id": "c3d25fde",
   "metadata": {},
   "source": [
    "Metricas de testeo para el set de training"
   ]
  },
  {
   "cell_type": "code",
   "execution_count": 21,
   "id": "5908bfb2",
   "metadata": {},
   "outputs": [
    {
     "data": {
      "text/plain": [
       "array([[147860,  10016],\n",
       "       [ 11365,  31631]])"
      ]
     },
     "execution_count": 21,
     "metadata": {},
     "output_type": "execute_result"
    }
   ],
   "source": [
    "confusion_matrix(y_train, y_pred_temp2)"
   ]
  },
  {
   "cell_type": "code",
   "execution_count": 22,
   "id": "6f2fec19",
   "metadata": {},
   "outputs": [
    {
     "name": "stdout",
     "output_type": "stream",
     "text": [
      "precision =  0.7595024851730017\n",
      "recall =  0.7356730858684529\n",
      "auc =  0.8361154453639815\n",
      "f1 score =  0.7473978946870975\n"
     ]
    }
   ],
   "source": [
    "print(\"precision = \", precision_score(y_train, y_pred_temp2))\n",
    "print(\"recall = \", recall_score(y_train, y_pred_temp2))\n",
    "print(\"auc = \", roc_auc_score(y_train, y_pred_temp2))\n",
    "print(\"f1 score = \", f1_score(y_train, y_pred_temp2))"
   ]
  },
  {
   "cell_type": "markdown",
   "id": "f04e3838",
   "metadata": {},
   "source": [
    "Metricas de testeo para el set de testing"
   ]
  },
  {
   "cell_type": "code",
   "execution_count": 23,
   "id": "11faecb7",
   "metadata": {},
   "outputs": [
    {
     "data": {
      "text/plain": [
       "array([[36626,  2844],\n",
       "       [ 3188,  7561]])"
      ]
     },
     "execution_count": 23,
     "metadata": {},
     "output_type": "execute_result"
    }
   ],
   "source": [
    "confusion_matrix(y_test, y_pred_test2)"
   ]
  },
  {
   "cell_type": "code",
   "execution_count": 24,
   "id": "f0c063eb",
   "metadata": {},
   "outputs": [
    {
     "name": "stdout",
     "output_type": "stream",
     "text": [
      "precision =  0.7266698702546852\n",
      "recall =  0.7034142710949856\n",
      "auc =  0.8156797729936544\n",
      "f1 score =  0.7148529828873972\n"
     ]
    }
   ],
   "source": [
    "print(\"precision = \", precision_score(y_test, y_pred_test2))\n",
    "print(\"recall = \", recall_score(y_test, y_pred_test2))\n",
    "print(\"auc = \", roc_auc_score(y_test, y_pred_test2))\n",
    "print(\"f1 score = \", f1_score(y_test, y_pred_test2))"
   ]
  },
  {
   "cell_type": "code",
   "execution_count": null,
   "id": "b06c38c2",
   "metadata": {},
   "outputs": [],
   "source": []
  }
 ],
 "metadata": {
  "kernelspec": {
   "display_name": "Python 3",
   "language": "python",
   "name": "python3"
  },
  "language_info": {
   "codemirror_mode": {
    "name": "ipython",
    "version": 3
   },
   "file_extension": ".py",
   "mimetype": "text/x-python",
   "name": "python",
   "nbconvert_exporter": "python",
   "pygments_lexer": "ipython3",
   "version": "3.7.8"
  }
 },
 "nbformat": 4,
 "nbformat_minor": 5
}
