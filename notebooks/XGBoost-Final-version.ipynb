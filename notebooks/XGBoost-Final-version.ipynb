{
 "cells": [
  {
   "cell_type": "code",
   "execution_count": 25,
   "id": "29d935bc",
   "metadata": {},
   "outputs": [
    {
     "name": "stdout",
     "output_type": "stream",
     "text": [
      "The autoreload extension is already loaded. To reload it, use:\n",
      "  %reload_ext autoreload\n"
     ]
    }
   ],
   "source": [
    "import pandas as pd\n",
    "import numpy as np\n",
    "\n",
    "import matplotlib.pyplot as plt\n",
    "import seaborn as sns \n",
    "\n",
    "from sklearn.model_selection import train_test_split, GridSearchCV\n",
    "from sklearn.tree import DecisionTreeClassifier\n",
    "from sklearn.ensemble import RandomForestClassifier\n",
    "from sklearn.model_selection import StratifiedKFold, KFold,RandomizedSearchCV\n",
    "from sklearn.metrics import make_scorer, f1_score\n",
    "from sklearn.metrics import confusion_matrix, precision_score, recall_score, roc_auc_score\n",
    "from sklearn.metrics import classification_report, precision_recall_curve\n",
    "\n",
    "from scripts import featurizer_xgb\n",
    "\n",
    "import xgboost as xgb\n",
    "import sklearn\n",
    "from xgboost.sklearn import XGBClassifier\n",
    "\n",
    "\n",
    "%load_ext autoreload\n",
    "%autoreload 2"
   ]
  },
  {
   "cell_type": "markdown",
   "id": "cdd37963",
   "metadata": {},
   "source": [
    "### Lectura de set de datos ya depurado."
   ]
  },
  {
   "cell_type": "code",
   "execution_count": 26,
   "id": "88cf9d00",
   "metadata": {},
   "outputs": [],
   "source": [
    "df = pd.read_csv(\"../data/dataset-procesado.csv\", index_col=False)"
   ]
  },
  {
   "cell_type": "code",
   "execution_count": 27,
   "id": "c2fc58b8",
   "metadata": {},
   "outputs": [
    {
     "data": {
      "text/plain": [
       "(13256, 121)"
      ]
     },
     "execution_count": 27,
     "metadata": {},
     "output_type": "execute_result"
    }
   ],
   "source": [
    "df.shape"
   ]
  },
  {
   "cell_type": "code",
   "execution_count": 28,
   "id": "49b9cf3e",
   "metadata": {},
   "outputs": [
    {
     "data": {
      "text/html": [
       "<div>\n",
       "<style scoped>\n",
       "    .dataframe tbody tr th:only-of-type {\n",
       "        vertical-align: middle;\n",
       "    }\n",
       "\n",
       "    .dataframe tbody tr th {\n",
       "        vertical-align: top;\n",
       "    }\n",
       "\n",
       "    .dataframe thead th {\n",
       "        text-align: right;\n",
       "    }\n",
       "</style>\n",
       "<table border=\"1\" class=\"dataframe\">\n",
       "  <thead>\n",
       "    <tr style=\"text-align: right;\">\n",
       "      <th></th>\n",
       "      <th>P_2</th>\n",
       "      <th>D_39</th>\n",
       "      <th>B_1</th>\n",
       "      <th>B_2</th>\n",
       "      <th>R_1</th>\n",
       "      <th>S_3</th>\n",
       "      <th>D_41</th>\n",
       "      <th>D_43</th>\n",
       "      <th>D_44</th>\n",
       "      <th>B_4</th>\n",
       "      <th>...</th>\n",
       "      <th>R_28</th>\n",
       "      <th>D_139</th>\n",
       "      <th>D_140</th>\n",
       "      <th>D_144</th>\n",
       "      <th>D_145</th>\n",
       "      <th>customer_ID</th>\n",
       "      <th>S_2</th>\n",
       "      <th>D_63</th>\n",
       "      <th>D_64</th>\n",
       "      <th>target</th>\n",
       "    </tr>\n",
       "  </thead>\n",
       "  <tbody>\n",
       "    <tr>\n",
       "      <th>0</th>\n",
       "      <td>0.503081</td>\n",
       "      <td>0.122690</td>\n",
       "      <td>0.060852</td>\n",
       "      <td>0.818435</td>\n",
       "      <td>0.005692</td>\n",
       "      <td>0.150860</td>\n",
       "      <td>0.002214</td>\n",
       "      <td>0.150801</td>\n",
       "      <td>0.126017</td>\n",
       "      <td>0.275044</td>\n",
       "      <td>...</td>\n",
       "      <td>0.008680</td>\n",
       "      <td>0.004475</td>\n",
       "      <td>0.001958</td>\n",
       "      <td>0.009255</td>\n",
       "      <td>0.005948</td>\n",
       "      <td>dbc39818725bb5a6693839b2cc0aa6416619e257937f3b...</td>\n",
       "      <td>2017-07-31</td>\n",
       "      <td>CO</td>\n",
       "      <td>U</td>\n",
       "      <td>0</td>\n",
       "    </tr>\n",
       "    <tr>\n",
       "      <th>1</th>\n",
       "      <td>0.967004</td>\n",
       "      <td>0.147385</td>\n",
       "      <td>0.025202</td>\n",
       "      <td>1.006426</td>\n",
       "      <td>0.007549</td>\n",
       "      <td>0.112134</td>\n",
       "      <td>0.005367</td>\n",
       "      <td>0.071737</td>\n",
       "      <td>0.006661</td>\n",
       "      <td>0.034550</td>\n",
       "      <td>...</td>\n",
       "      <td>0.008593</td>\n",
       "      <td>0.006886</td>\n",
       "      <td>0.002667</td>\n",
       "      <td>0.009003</td>\n",
       "      <td>0.008484</td>\n",
       "      <td>cc6156327f2bb0f6d7026c8f4bd67925d07e90aa30c3f2...</td>\n",
       "      <td>2018-01-01</td>\n",
       "      <td>CL</td>\n",
       "      <td>O</td>\n",
       "      <td>0</td>\n",
       "    </tr>\n",
       "    <tr>\n",
       "      <th>2</th>\n",
       "      <td>0.606902</td>\n",
       "      <td>0.178559</td>\n",
       "      <td>0.200311</td>\n",
       "      <td>0.027147</td>\n",
       "      <td>0.009911</td>\n",
       "      <td>0.128841</td>\n",
       "      <td>0.003677</td>\n",
       "      <td>0.104828</td>\n",
       "      <td>0.257234</td>\n",
       "      <td>0.417678</td>\n",
       "      <td>...</td>\n",
       "      <td>0.006294</td>\n",
       "      <td>0.007027</td>\n",
       "      <td>0.006109</td>\n",
       "      <td>0.001858</td>\n",
       "      <td>0.001150</td>\n",
       "      <td>9a563afbb91edf3b91add14584e2cbead02cadecefa6a9...</td>\n",
       "      <td>2017-03-16</td>\n",
       "      <td>CO</td>\n",
       "      <td>O</td>\n",
       "      <td>1</td>\n",
       "    </tr>\n",
       "    <tr>\n",
       "      <th>3</th>\n",
       "      <td>0.499094</td>\n",
       "      <td>0.478672</td>\n",
       "      <td>0.040157</td>\n",
       "      <td>0.818853</td>\n",
       "      <td>0.008475</td>\n",
       "      <td>0.147698</td>\n",
       "      <td>0.003302</td>\n",
       "      <td>0.124946</td>\n",
       "      <td>0.255405</td>\n",
       "      <td>0.399290</td>\n",
       "      <td>...</td>\n",
       "      <td>0.006820</td>\n",
       "      <td>0.000544</td>\n",
       "      <td>0.004316</td>\n",
       "      <td>0.002098</td>\n",
       "      <td>0.008200</td>\n",
       "      <td>f83df258e87389552401e86124b840eb743986f025c230...</td>\n",
       "      <td>2017-09-01</td>\n",
       "      <td>CR</td>\n",
       "      <td>O</td>\n",
       "      <td>0</td>\n",
       "    </tr>\n",
       "    <tr>\n",
       "      <th>4</th>\n",
       "      <td>0.492151</td>\n",
       "      <td>0.009685</td>\n",
       "      <td>0.043034</td>\n",
       "      <td>1.005668</td>\n",
       "      <td>0.005704</td>\n",
       "      <td>0.243877</td>\n",
       "      <td>0.007754</td>\n",
       "      <td>0.322158</td>\n",
       "      <td>0.001200</td>\n",
       "      <td>0.047605</td>\n",
       "      <td>...</td>\n",
       "      <td>0.005398</td>\n",
       "      <td>0.009299</td>\n",
       "      <td>0.006047</td>\n",
       "      <td>0.002128</td>\n",
       "      <td>0.008260</td>\n",
       "      <td>5f0c9387f66a49b668e5475fce137cca4acc101d14f8a0...</td>\n",
       "      <td>2017-10-12</td>\n",
       "      <td>CL</td>\n",
       "      <td>R</td>\n",
       "      <td>1</td>\n",
       "    </tr>\n",
       "  </tbody>\n",
       "</table>\n",
       "<p>5 rows × 121 columns</p>\n",
       "</div>"
      ],
      "text/plain": [
       "        P_2      D_39       B_1       B_2       R_1       S_3      D_41  \\\n",
       "0  0.503081  0.122690  0.060852  0.818435  0.005692  0.150860  0.002214   \n",
       "1  0.967004  0.147385  0.025202  1.006426  0.007549  0.112134  0.005367   \n",
       "2  0.606902  0.178559  0.200311  0.027147  0.009911  0.128841  0.003677   \n",
       "3  0.499094  0.478672  0.040157  0.818853  0.008475  0.147698  0.003302   \n",
       "4  0.492151  0.009685  0.043034  1.005668  0.005704  0.243877  0.007754   \n",
       "\n",
       "       D_43      D_44       B_4  ...      R_28     D_139     D_140     D_144  \\\n",
       "0  0.150801  0.126017  0.275044  ...  0.008680  0.004475  0.001958  0.009255   \n",
       "1  0.071737  0.006661  0.034550  ...  0.008593  0.006886  0.002667  0.009003   \n",
       "2  0.104828  0.257234  0.417678  ...  0.006294  0.007027  0.006109  0.001858   \n",
       "3  0.124946  0.255405  0.399290  ...  0.006820  0.000544  0.004316  0.002098   \n",
       "4  0.322158  0.001200  0.047605  ...  0.005398  0.009299  0.006047  0.002128   \n",
       "\n",
       "      D_145                                        customer_ID         S_2  \\\n",
       "0  0.005948  dbc39818725bb5a6693839b2cc0aa6416619e257937f3b...  2017-07-31   \n",
       "1  0.008484  cc6156327f2bb0f6d7026c8f4bd67925d07e90aa30c3f2...  2018-01-01   \n",
       "2  0.001150  9a563afbb91edf3b91add14584e2cbead02cadecefa6a9...  2017-03-16   \n",
       "3  0.008200  f83df258e87389552401e86124b840eb743986f025c230...  2017-09-01   \n",
       "4  0.008260  5f0c9387f66a49b668e5475fce137cca4acc101d14f8a0...  2017-10-12   \n",
       "\n",
       "   D_63  D_64  target  \n",
       "0    CO     U       0  \n",
       "1    CL     O       0  \n",
       "2    CO     O       1  \n",
       "3    CR     O       0  \n",
       "4    CL     R       1  \n",
       "\n",
       "[5 rows x 121 columns]"
      ]
     },
     "execution_count": 28,
     "metadata": {},
     "output_type": "execute_result"
    }
   ],
   "source": [
    "df.head()"
   ]
  },
  {
   "cell_type": "markdown",
   "id": "4ea1302e",
   "metadata": {},
   "source": [
    "###### Aplicacion de un script como featurizador para agilizar la creacion e iteracion de features."
   ]
  },
  {
   "cell_type": "code",
   "execution_count": 29,
   "id": "c75cb980",
   "metadata": {},
   "outputs": [
    {
     "name": "stdout",
     "output_type": "stream",
     "text": [
      "-------\n"
     ]
    }
   ],
   "source": [
    "df_featurizado = featurizer_xgb.featurizer(df)"
   ]
  },
  {
   "cell_type": "code",
   "execution_count": 30,
   "id": "f428eea3",
   "metadata": {},
   "outputs": [
    {
     "data": {
      "text/plain": [
       "(13256, 152)"
      ]
     },
     "execution_count": 30,
     "metadata": {},
     "output_type": "execute_result"
    }
   ],
   "source": [
    "df_featurizado.shape"
   ]
  },
  {
   "cell_type": "markdown",
   "id": "3758593f",
   "metadata": {},
   "source": [
    "Como se puede observar, hay un incremento de columnas que viene por tratar con nuevas features en nuestro set de datos."
   ]
  },
  {
   "cell_type": "code",
   "execution_count": 31,
   "id": "8dda78c1",
   "metadata": {},
   "outputs": [],
   "source": [
    "X = df_featurizado.drop(axis = 1, columns = ['target'])\n",
    "y = df_featurizado.target\n",
    "\n",
    "features = X.columns"
   ]
  },
  {
   "cell_type": "code",
   "execution_count": 32,
   "id": "78acad63",
   "metadata": {},
   "outputs": [
    {
     "data": {
      "text/plain": [
       "(13256, 151)"
      ]
     },
     "execution_count": 32,
     "metadata": {},
     "output_type": "execute_result"
    }
   ],
   "source": [
    "X.shape"
   ]
  },
  {
   "cell_type": "code",
   "execution_count": 33,
   "id": "b46e33f3",
   "metadata": {},
   "outputs": [
    {
     "data": {
      "text/plain": [
       "13256"
      ]
     },
     "execution_count": 33,
     "metadata": {},
     "output_type": "execute_result"
    }
   ],
   "source": [
    "len(y)"
   ]
  },
  {
   "cell_type": "markdown",
   "id": "946d4a85",
   "metadata": {},
   "source": [
    "###### Train test split para poder diferenciar los sets de datos de entrenamiento de testing, stratifico la columna target ya que hay un desbalance de 70/30 entre labels positivos y negativos."
   ]
  },
  {
   "cell_type": "code",
   "execution_count": 34,
   "id": "11c82be6",
   "metadata": {},
   "outputs": [],
   "source": [
    "X_train, X_test, y_train, y_test = train_test_split(X, y, test_size = 0.2, stratify = y)"
   ]
  },
  {
   "cell_type": "code",
   "execution_count": null,
   "id": "d5cb77d2",
   "metadata": {},
   "outputs": [],
   "source": []
  },
  {
   "cell_type": "markdown",
   "id": "78bf24a6",
   "metadata": {},
   "source": [
    "### Clasificador "
   ]
  },
  {
   "cell_type": "code",
   "execution_count": 35,
   "id": "2c005af5",
   "metadata": {},
   "outputs": [],
   "source": [
    "xgb = XGBClassifier()"
   ]
  },
  {
   "cell_type": "markdown",
   "id": "70e861b5",
   "metadata": {},
   "source": [
    "Set de hiperparametros posibles para el random search"
   ]
  },
  {
   "cell_type": "code",
   "execution_count": 36,
   "id": "63cd5626",
   "metadata": {},
   "outputs": [],
   "source": [
    "param_dist = {'n_estimators':[50, 100],\n",
    "              'max_depth':[3, 5, 10],              \n",
    "              'subsample': [0.5,0.8,1],\n",
    "              'colsample_bytree': [0.5,0.8,1],              \n",
    "              'learning_rate':[0.2, 0.3]\n",
    "              }"
   ]
  },
  {
   "cell_type": "code",
   "execution_count": 37,
   "id": "a222ecca",
   "metadata": {},
   "outputs": [],
   "source": [
    "random_search_xgb = RandomizedSearchCV(xgb,\n",
    "                                       param_distributions = param_dist,\n",
    "                                       n_iter = 30,\n",
    "                                       scoring = 'roc_auc',\n",
    "                                       cv = 5,\n",
    "                                       n_jobs = -1,\n",
    "                                       verbose=1)"
   ]
  },
  {
   "cell_type": "code",
   "execution_count": null,
   "id": "928ffccb",
   "metadata": {},
   "outputs": [
    {
     "name": "stdout",
     "output_type": "stream",
     "text": [
      "Fitting 5 folds for each of 30 candidates, totalling 150 fits\n"
     ]
    }
   ],
   "source": [
    "%%time\n",
    "random_search_xgb.fit(X_train, y_train)"
   ]
  },
  {
   "cell_type": "code",
   "execution_count": null,
   "id": "3511a91c",
   "metadata": {},
   "outputs": [],
   "source": [
    "params_opt_xgb = random_search_xgb.best_params_"
   ]
  },
  {
   "cell_type": "markdown",
   "id": "136737b6",
   "metadata": {},
   "source": [
    "Los mejores hiperparametros sacados del random search para el modelo de xgboost final"
   ]
  },
  {
   "cell_type": "code",
   "execution_count": null,
   "id": "6e3f4d86",
   "metadata": {},
   "outputs": [],
   "source": [
    "params_opt_xgb"
   ]
  },
  {
   "cell_type": "code",
   "execution_count": null,
   "id": "318e7a61",
   "metadata": {},
   "outputs": [],
   "source": [
    "xgbModelBestParams = XGBClassifier(**params_opt_xgb)"
   ]
  },
  {
   "cell_type": "code",
   "execution_count": null,
   "id": "e3425eac",
   "metadata": {},
   "outputs": [],
   "source": [
    "%time\n",
    "xgbModelBestParams.fit(X_train, y_train)"
   ]
  },
  {
   "cell_type": "code",
   "execution_count": null,
   "id": "5db101fe",
   "metadata": {},
   "outputs": [],
   "source": [
    "y_pred_temp2 = xgbModelBestParams.predict(X_train)"
   ]
  },
  {
   "cell_type": "code",
   "execution_count": null,
   "id": "11b116e7",
   "metadata": {},
   "outputs": [],
   "source": [
    "y_pred_test2 = xgbModelBestParams.predict(X_test)"
   ]
  },
  {
   "cell_type": "markdown",
   "id": "c3d25fde",
   "metadata": {},
   "source": [
    "Metricas de testeo para el set de training"
   ]
  },
  {
   "cell_type": "code",
   "execution_count": null,
   "id": "5908bfb2",
   "metadata": {},
   "outputs": [],
   "source": [
    "confusion_matrix(y_train, y_pred_temp2)"
   ]
  },
  {
   "cell_type": "code",
   "execution_count": null,
   "id": "6f2fec19",
   "metadata": {},
   "outputs": [],
   "source": [
    "print(\"precision = \", precision_score(y_train, y_pred_temp2))\n",
    "print(\"recall = \", recall_score(y_train, y_pred_temp2))\n",
    "print(\"auc = \", roc_auc_score(y_train, y_pred_temp2))\n",
    "print(\"f1 score = \", f1_score(y_train, y_pred_temp2))"
   ]
  },
  {
   "cell_type": "markdown",
   "id": "f04e3838",
   "metadata": {},
   "source": [
    "Metricas de testeo para el set de testing"
   ]
  },
  {
   "cell_type": "code",
   "execution_count": null,
   "id": "11faecb7",
   "metadata": {},
   "outputs": [],
   "source": [
    "confusion_matrix(y_test, y_pred_test2)"
   ]
  },
  {
   "cell_type": "code",
   "execution_count": null,
   "id": "f0c063eb",
   "metadata": {},
   "outputs": [],
   "source": [
    "print(\"precision = \", precision_score(y_test, y_pred_test2))\n",
    "print(\"recall = \", recall_score(y_test, y_pred_test2))\n",
    "print(\"auc = \", roc_auc_score(y_test, y_pred_test2))\n",
    "print(\"f1 score = \", f1_score(y_test, y_pred_test2))"
   ]
  },
  {
   "cell_type": "code",
   "execution_count": null,
   "id": "b06c38c2",
   "metadata": {},
   "outputs": [],
   "source": []
  }
 ],
 "metadata": {
  "kernelspec": {
   "display_name": "Python 3",
   "language": "python",
   "name": "python3"
  },
  "language_info": {
   "codemirror_mode": {
    "name": "ipython",
    "version": 3
   },
   "file_extension": ".py",
   "mimetype": "text/x-python",
   "name": "python",
   "nbconvert_exporter": "python",
   "pygments_lexer": "ipython3",
   "version": "3.7.8"
  }
 },
 "nbformat": 4,
 "nbformat_minor": 5
}
