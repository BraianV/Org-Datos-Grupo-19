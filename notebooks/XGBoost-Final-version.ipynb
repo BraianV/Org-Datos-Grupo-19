{
 "cells": [
  {
   "cell_type": "code",
   "execution_count": 1,
   "id": "29d935bc",
   "metadata": {},
   "outputs": [],
   "source": [
    "import pandas as pd\n",
    "import numpy as np\n",
    "\n",
    "import matplotlib.pyplot as plt\n",
    "import seaborn as sns \n",
    "\n",
    "from sklearn.model_selection import train_test_split, GridSearchCV\n",
    "from sklearn.tree import DecisionTreeClassifier\n",
    "from sklearn.ensemble import RandomForestClassifier\n",
    "from sklearn.model_selection import StratifiedKFold, KFold,RandomizedSearchCV\n",
    "from sklearn.metrics import make_scorer, f1_score\n",
    "from sklearn.metrics import confusion_matrix, precision_score, recall_score, roc_auc_score\n",
    "from sklearn.metrics import classification_report, precision_recall_curve\n",
    "\n",
    "from scripts import featurizer_xgb\n",
    "\n",
    "import xgboost as xgb\n",
    "import sklearn\n",
    "from xgboost.sklearn import XGBClassifier\n",
    "\n",
    "\n",
    "%load_ext autoreload\n",
    "%autoreload 2"
   ]
  },
  {
   "cell_type": "markdown",
   "id": "cdd37963",
   "metadata": {},
   "source": [
    "### Lectura de set de datos ya depurado."
   ]
  },
  {
   "cell_type": "code",
   "execution_count": 2,
   "id": "88cf9d00",
   "metadata": {},
   "outputs": [],
   "source": [
    "df = pd.read_csv(\"../data/dataset-procesado.csv\", index_col=False)"
   ]
  },
  {
   "cell_type": "code",
   "execution_count": 3,
   "id": "c2fc58b8",
   "metadata": {},
   "outputs": [
    {
     "data": {
      "text/plain": [
       "(263965, 123)"
      ]
     },
     "execution_count": 3,
     "metadata": {},
     "output_type": "execute_result"
    }
   ],
   "source": [
    "df.shape"
   ]
  },
  {
   "cell_type": "code",
   "execution_count": 4,
   "id": "49b9cf3e",
   "metadata": {},
   "outputs": [
    {
     "data": {
      "text/html": [
       "<div>\n",
       "<style scoped>\n",
       "    .dataframe tbody tr th:only-of-type {\n",
       "        vertical-align: middle;\n",
       "    }\n",
       "\n",
       "    .dataframe tbody tr th {\n",
       "        vertical-align: top;\n",
       "    }\n",
       "\n",
       "    .dataframe thead th {\n",
       "        text-align: right;\n",
       "    }\n",
       "</style>\n",
       "<table border=\"1\" class=\"dataframe\">\n",
       "  <thead>\n",
       "    <tr style=\"text-align: right;\">\n",
       "      <th></th>\n",
       "      <th>P_2</th>\n",
       "      <th>D_39</th>\n",
       "      <th>B_1</th>\n",
       "      <th>B_2</th>\n",
       "      <th>R_1</th>\n",
       "      <th>S_3</th>\n",
       "      <th>D_41</th>\n",
       "      <th>D_43</th>\n",
       "      <th>D_44</th>\n",
       "      <th>B_4</th>\n",
       "      <th>...</th>\n",
       "      <th>R_28</th>\n",
       "      <th>D_139</th>\n",
       "      <th>D_140</th>\n",
       "      <th>D_144</th>\n",
       "      <th>D_145</th>\n",
       "      <th>customer_ID</th>\n",
       "      <th>S_2</th>\n",
       "      <th>D_63</th>\n",
       "      <th>D_64</th>\n",
       "      <th>target</th>\n",
       "    </tr>\n",
       "  </thead>\n",
       "  <tbody>\n",
       "    <tr>\n",
       "      <th>0</th>\n",
       "      <td>0.947242</td>\n",
       "      <td>0.002204</td>\n",
       "      <td>0.008002</td>\n",
       "      <td>1.007516</td>\n",
       "      <td>0.002830</td>\n",
       "      <td>0.453227</td>\n",
       "      <td>0.005992</td>\n",
       "      <td>0.153998</td>\n",
       "      <td>0.001613</td>\n",
       "      <td>0.029088</td>\n",
       "      <td>...</td>\n",
       "      <td>0.000518</td>\n",
       "      <td>0.003183</td>\n",
       "      <td>0.005264</td>\n",
       "      <td>0.004306</td>\n",
       "      <td>0.002719</td>\n",
       "      <td>743d55408505dee752adc6e62b273f4397db6e89f19034...</td>\n",
       "      <td>2017-08-10</td>\n",
       "      <td>CO</td>\n",
       "      <td>O</td>\n",
       "      <td>0</td>\n",
       "    </tr>\n",
       "    <tr>\n",
       "      <th>1</th>\n",
       "      <td>0.757648</td>\n",
       "      <td>0.002076</td>\n",
       "      <td>0.008751</td>\n",
       "      <td>0.814083</td>\n",
       "      <td>0.000408</td>\n",
       "      <td>0.155700</td>\n",
       "      <td>0.004156</td>\n",
       "      <td>0.127285</td>\n",
       "      <td>0.129051</td>\n",
       "      <td>0.040101</td>\n",
       "      <td>...</td>\n",
       "      <td>0.001186</td>\n",
       "      <td>1.000928</td>\n",
       "      <td>0.005655</td>\n",
       "      <td>0.007953</td>\n",
       "      <td>0.095926</td>\n",
       "      <td>522c85a354bfec790067b54e9db7353d20d4709ae5dc93...</td>\n",
       "      <td>2017-07-04</td>\n",
       "      <td>CO</td>\n",
       "      <td>O</td>\n",
       "      <td>0</td>\n",
       "    </tr>\n",
       "    <tr>\n",
       "      <th>2</th>\n",
       "      <td>0.673978</td>\n",
       "      <td>0.588604</td>\n",
       "      <td>0.295201</td>\n",
       "      <td>0.024650</td>\n",
       "      <td>0.007951</td>\n",
       "      <td>0.125583</td>\n",
       "      <td>0.008760</td>\n",
       "      <td>0.153998</td>\n",
       "      <td>0.005867</td>\n",
       "      <td>0.175950</td>\n",
       "      <td>...</td>\n",
       "      <td>0.000805</td>\n",
       "      <td>0.003558</td>\n",
       "      <td>0.008268</td>\n",
       "      <td>0.003020</td>\n",
       "      <td>0.002798</td>\n",
       "      <td>9296e983c3e4f99b046952397fc4ba950abf1032a9bd6c...</td>\n",
       "      <td>2017-03-30</td>\n",
       "      <td>CO</td>\n",
       "      <td>R</td>\n",
       "      <td>1</td>\n",
       "    </tr>\n",
       "    <tr>\n",
       "      <th>3</th>\n",
       "      <td>0.778075</td>\n",
       "      <td>0.006930</td>\n",
       "      <td>0.056721</td>\n",
       "      <td>0.819369</td>\n",
       "      <td>0.004922</td>\n",
       "      <td>0.089214</td>\n",
       "      <td>0.006884</td>\n",
       "      <td>0.041515</td>\n",
       "      <td>0.002841</td>\n",
       "      <td>0.001179</td>\n",
       "      <td>...</td>\n",
       "      <td>0.009053</td>\n",
       "      <td>0.004670</td>\n",
       "      <td>0.000125</td>\n",
       "      <td>0.000819</td>\n",
       "      <td>0.000342</td>\n",
       "      <td>3fa10314686e0e51d8f76235eceab91d70aa3f24a98c3e...</td>\n",
       "      <td>2018-01-17</td>\n",
       "      <td>CL</td>\n",
       "      <td>O</td>\n",
       "      <td>0</td>\n",
       "    </tr>\n",
       "    <tr>\n",
       "      <th>4</th>\n",
       "      <td>0.561622</td>\n",
       "      <td>0.032756</td>\n",
       "      <td>0.822028</td>\n",
       "      <td>0.025315</td>\n",
       "      <td>0.005570</td>\n",
       "      <td>1.147400</td>\n",
       "      <td>0.008290</td>\n",
       "      <td>0.153998</td>\n",
       "      <td>0.002991</td>\n",
       "      <td>0.316650</td>\n",
       "      <td>...</td>\n",
       "      <td>0.008689</td>\n",
       "      <td>0.003884</td>\n",
       "      <td>0.003367</td>\n",
       "      <td>0.009010</td>\n",
       "      <td>0.004627</td>\n",
       "      <td>1f81653f1397fe11839b585cb688e2e92ce1805023ba67...</td>\n",
       "      <td>2017-06-21</td>\n",
       "      <td>CO</td>\n",
       "      <td>O</td>\n",
       "      <td>1</td>\n",
       "    </tr>\n",
       "  </tbody>\n",
       "</table>\n",
       "<p>5 rows × 123 columns</p>\n",
       "</div>"
      ],
      "text/plain": [
       "        P_2      D_39       B_1       B_2       R_1       S_3      D_41  \\\n",
       "0  0.947242  0.002204  0.008002  1.007516  0.002830  0.453227  0.005992   \n",
       "1  0.757648  0.002076  0.008751  0.814083  0.000408  0.155700  0.004156   \n",
       "2  0.673978  0.588604  0.295201  0.024650  0.007951  0.125583  0.008760   \n",
       "3  0.778075  0.006930  0.056721  0.819369  0.004922  0.089214  0.006884   \n",
       "4  0.561622  0.032756  0.822028  0.025315  0.005570  1.147400  0.008290   \n",
       "\n",
       "       D_43      D_44       B_4  ...      R_28     D_139     D_140     D_144  \\\n",
       "0  0.153998  0.001613  0.029088  ...  0.000518  0.003183  0.005264  0.004306   \n",
       "1  0.127285  0.129051  0.040101  ...  0.001186  1.000928  0.005655  0.007953   \n",
       "2  0.153998  0.005867  0.175950  ...  0.000805  0.003558  0.008268  0.003020   \n",
       "3  0.041515  0.002841  0.001179  ...  0.009053  0.004670  0.000125  0.000819   \n",
       "4  0.153998  0.002991  0.316650  ...  0.008689  0.003884  0.003367  0.009010   \n",
       "\n",
       "      D_145                                        customer_ID         S_2  \\\n",
       "0  0.002719  743d55408505dee752adc6e62b273f4397db6e89f19034...  2017-08-10   \n",
       "1  0.095926  522c85a354bfec790067b54e9db7353d20d4709ae5dc93...  2017-07-04   \n",
       "2  0.002798  9296e983c3e4f99b046952397fc4ba950abf1032a9bd6c...  2017-03-30   \n",
       "3  0.000342  3fa10314686e0e51d8f76235eceab91d70aa3f24a98c3e...  2018-01-17   \n",
       "4  0.004627  1f81653f1397fe11839b585cb688e2e92ce1805023ba67...  2017-06-21   \n",
       "\n",
       "   D_63  D_64  target  \n",
       "0    CO     O       0  \n",
       "1    CO     O       0  \n",
       "2    CO     R       1  \n",
       "3    CL     O       0  \n",
       "4    CO     O       1  \n",
       "\n",
       "[5 rows x 123 columns]"
      ]
     },
     "execution_count": 4,
     "metadata": {},
     "output_type": "execute_result"
    }
   ],
   "source": [
    "df.head()"
   ]
  },
  {
   "cell_type": "markdown",
   "id": "4ea1302e",
   "metadata": {},
   "source": [
    "###### Aplicacion de un script como featurizador para agilizar la creacion e iteracion de features."
   ]
  },
  {
   "cell_type": "code",
   "execution_count": 5,
   "id": "c75cb980",
   "metadata": {},
   "outputs": [
    {
     "name": "stdout",
     "output_type": "stream",
     "text": [
      "----xgb-featurizer----\n"
     ]
    }
   ],
   "source": [
    "df_featurizado = featurizer_xgb.featurizer(df)"
   ]
  },
  {
   "cell_type": "code",
   "execution_count": 6,
   "id": "f428eea3",
   "metadata": {},
   "outputs": [
    {
     "data": {
      "text/plain": [
       "(263965, 154)"
      ]
     },
     "execution_count": 6,
     "metadata": {},
     "output_type": "execute_result"
    }
   ],
   "source": [
    "df_featurizado.shape"
   ]
  },
  {
   "cell_type": "code",
   "execution_count": 7,
   "id": "62700e41",
   "metadata": {},
   "outputs": [
    {
     "name": "stdout",
     "output_type": "stream",
     "text": [
      "<class 'pandas.core.frame.DataFrame'>\n",
      "Int64Index: 263965 entries, 0 to 263964\n",
      "Data columns (total 154 columns):\n",
      " #    Column                   Dtype  \n",
      "---   ------                   -----  \n",
      " 0    P_2                      float64\n",
      " 1    D_39                     float64\n",
      " 2    B_1                      float64\n",
      " 3    B_2                      float64\n",
      " 4    R_1                      float64\n",
      " 5    S_3                      float64\n",
      " 6    D_41                     float64\n",
      " 7    D_43                     float64\n",
      " 8    D_44                     float64\n",
      " 9    B_4                      float64\n",
      " 10   D_45                     float64\n",
      " 11   B_5                      float64\n",
      " 12   R_2                      float64\n",
      " 13   D_46                     float64\n",
      " 14   D_47                     float64\n",
      " 15   B_6                      float64\n",
      " 16   B_7                      float64\n",
      " 17   D_50                     float64\n",
      " 18   D_51                     float64\n",
      " 19   B_9                      float64\n",
      " 20   R_3                      float64\n",
      " 21   D_52                     float64\n",
      " 22   P_3                      float64\n",
      " 23   B_10                     float64\n",
      " 24   S_5                      float64\n",
      " 25   S_6                      float64\n",
      " 26   D_54                     float64\n",
      " 27   B_12                     float64\n",
      " 28   S_8                      float64\n",
      " 29   D_56                     float64\n",
      " 30   R_5                      float64\n",
      " 31   S_9                      float64\n",
      " 32   D_59                     float64\n",
      " 33   D_60                     float64\n",
      " 34   S_11                     float64\n",
      " 35   D_62                     float64\n",
      " 36   D_65                     float64\n",
      " 37   B_17                     float64\n",
      " 38   D_68                     float64\n",
      " 39   S_12                     float64\n",
      " 40   R_6                      float64\n",
      " 41   S_13                     float64\n",
      " 42   B_21                     float64\n",
      " 43   D_69                     float64\n",
      " 44   D_70                     float64\n",
      " 45   D_71                     float64\n",
      " 46   D_72                     float64\n",
      " 47   P_4                      float64\n",
      " 48   B_24                     float64\n",
      " 49   R_7                      float64\n",
      " 50   B_25                     float64\n",
      " 51   B_26                     float64\n",
      " 52   D_78                     float64\n",
      " 53   D_79                     float64\n",
      " 54   S_16                     float64\n",
      " 55   D_80                     float64\n",
      " 56   R_10                     float64\n",
      " 57   R_11                     float64\n",
      " 58   B_27                     float64\n",
      " 59   D_81                     float64\n",
      " 60   S_17                     float64\n",
      " 61   R_12                     float64\n",
      " 62   R_13                     float64\n",
      " 63   D_83                     float64\n",
      " 64   R_14                     float64\n",
      " 65   R_15                     float64\n",
      " 66   D_84                     float64\n",
      " 67   R_16                     float64\n",
      " 68   S_18                     float64\n",
      " 69   D_86                     float64\n",
      " 70   R_17                     float64\n",
      " 71   R_18                     float64\n",
      " 72   B_31                     int64  \n",
      " 73   S_19                     float64\n",
      " 74   R_19                     float64\n",
      " 75   B_32                     float64\n",
      " 76   S_20                     float64\n",
      " 77   R_20                     float64\n",
      " 78   D_89                     float64\n",
      " 79   R_22                     float64\n",
      " 80   R_23                     float64\n",
      " 81   D_91                     float64\n",
      " 82   D_92                     float64\n",
      " 83   D_93                     float64\n",
      " 84   D_94                     float64\n",
      " 85   R_24                     float64\n",
      " 86   R_25                     float64\n",
      " 87   D_96                     float64\n",
      " 88   S_22                     float64\n",
      " 89   S_23                     float64\n",
      " 90   S_25                     float64\n",
      " 91   S_26                     float64\n",
      " 92   D_102                    float64\n",
      " 93   B_36                     float64\n",
      " 94   R_27                     float64\n",
      " 95   D_109                    float64\n",
      " 96   D_112                    float64\n",
      " 97   B_40                     float64\n",
      " 98   S_27                     float64\n",
      " 99   D_114                    float64\n",
      " 100  D_115                    float64\n",
      " 101  D_116                    float64\n",
      " 102  D_117                    float64\n",
      " 103  D_120                    float64\n",
      " 104  D_122                    float64\n",
      " 105  D_123                    float64\n",
      " 106  D_124                    float64\n",
      " 107  D_125                    float64\n",
      " 108  D_126                    float64\n",
      " 109  D_127                    float64\n",
      " 110  D_128                    float64\n",
      " 111  B_41                     float64\n",
      " 112  D_130                    float64\n",
      " 113  R_28                     float64\n",
      " 114  D_139                    float64\n",
      " 115  D_140                    float64\n",
      " 116  D_144                    float64\n",
      " 117  D_145                    float64\n",
      " 118  target                   int64  \n",
      " 119  Year                     int64  \n",
      " 120  Month                    int64  \n",
      " 121  Day                      int64  \n",
      " 122  D_64_-1                  uint8  \n",
      " 123  D_64_O                   uint8  \n",
      " 124  D_64_R                   uint8  \n",
      " 125  D_64_U                   uint8  \n",
      " 126  D_63_CL                  uint8  \n",
      " 127  D_63_CO                  uint8  \n",
      " 128  D_63_CR                  uint8  \n",
      " 129  D_63_XL                  uint8  \n",
      " 130  D_63_XM                  uint8  \n",
      " 131  D_63_XZ                  uint8  \n",
      " 132  customer_id_repeat_size  int64  \n",
      " 133  repeat_customer_id       int64  \n",
      " 134  d_feats_mean             float64\n",
      " 135  d_feats_sum              float64\n",
      " 136  d_feats_median           float64\n",
      " 137  d_feats_variance         float64\n",
      " 138  s_feats_mean             float64\n",
      " 139  s_feats_sum              float64\n",
      " 140  s_feats_median           float64\n",
      " 141  s_feats_variance         float64\n",
      " 142  p_feats_mean             float64\n",
      " 143  p_feats_sum              float64\n",
      " 144  p_feats_median           float64\n",
      " 145  p_feats_variance         float64\n",
      " 146  b_feats_mean             float64\n",
      " 147  b_feats_sum              float64\n",
      " 148  b_feats_median           float64\n",
      " 149  b_feats_variance         float64\n",
      " 150  r_feats_mean             float64\n",
      " 151  r_feats_sum              float64\n",
      " 152  r_feats_median           float64\n",
      " 153  r_feats_variance         float64\n",
      "dtypes: float64(137), int64(7), uint8(10)\n",
      "memory usage: 294.5 MB\n"
     ]
    }
   ],
   "source": [
    "df_featurizado.info(verbose = True)"
   ]
  },
  {
   "cell_type": "markdown",
   "id": "3758593f",
   "metadata": {},
   "source": [
    "Como se puede observar, hay un incremento de columnas que viene por tratar con nuevas features en nuestro set de datos."
   ]
  },
  {
   "cell_type": "code",
   "execution_count": 8,
   "id": "8dda78c1",
   "metadata": {},
   "outputs": [],
   "source": [
    "X = df_featurizado.drop(axis = 1, columns = ['target'])\n",
    "y = df_featurizado.target\n",
    "\n",
    "features = X.columns"
   ]
  },
  {
   "cell_type": "code",
   "execution_count": 9,
   "id": "78acad63",
   "metadata": {},
   "outputs": [
    {
     "data": {
      "text/plain": [
       "(263965, 153)"
      ]
     },
     "execution_count": 9,
     "metadata": {},
     "output_type": "execute_result"
    }
   ],
   "source": [
    "X.shape"
   ]
  },
  {
   "cell_type": "code",
   "execution_count": 10,
   "id": "b46e33f3",
   "metadata": {},
   "outputs": [
    {
     "data": {
      "text/plain": [
       "263965"
      ]
     },
     "execution_count": 10,
     "metadata": {},
     "output_type": "execute_result"
    }
   ],
   "source": [
    "len(y)"
   ]
  },
  {
   "cell_type": "markdown",
   "id": "946d4a85",
   "metadata": {},
   "source": [
    "###### Train test split para poder diferenciar los sets de datos de entrenamiento de testing, stratifico la columna target ya que hay un desbalance de 70/30 entre labels positivos y negativos."
   ]
  },
  {
   "cell_type": "code",
   "execution_count": 11,
   "id": "11c82be6",
   "metadata": {},
   "outputs": [],
   "source": [
    "X_train, X_test, y_train, y_test = train_test_split(X, y, test_size = 0.2, stratify = y)"
   ]
  },
  {
   "cell_type": "code",
   "execution_count": null,
   "id": "d5cb77d2",
   "metadata": {},
   "outputs": [],
   "source": []
  },
  {
   "cell_type": "markdown",
   "id": "78bf24a6",
   "metadata": {},
   "source": [
    "### Clasificador "
   ]
  },
  {
   "cell_type": "code",
   "execution_count": 12,
   "id": "2c005af5",
   "metadata": {},
   "outputs": [],
   "source": [
    "xgb = XGBClassifier(random_state = 1)"
   ]
  },
  {
   "cell_type": "markdown",
   "id": "70e861b5",
   "metadata": {},
   "source": [
    "Set de hiperparametros posibles para el random search"
   ]
  },
  {
   "cell_type": "code",
   "execution_count": 13,
   "id": "63cd5626",
   "metadata": {},
   "outputs": [],
   "source": [
    "param_dist = {'n_estimators':[50, 100, 150],\n",
    "              'max_depth':[5, 10],              \n",
    "              'subsample': [0.5,0.8,1],\n",
    "              'colsample_bytree': [0.5,0.8,1],              \n",
    "              'learning_rate':[0.2, 0.3]\n",
    "              }"
   ]
  },
  {
   "cell_type": "code",
   "execution_count": 14,
   "id": "a222ecca",
   "metadata": {},
   "outputs": [],
   "source": [
    "random_search_xgb = RandomizedSearchCV(xgb,\n",
    "                                       param_distributions = param_dist,\n",
    "                                       n_iter = 10,\n",
    "                                       scoring = 'roc_auc',\n",
    "                                       cv = 5,\n",
    "                                       n_jobs = -1,\n",
    "                                       verbose=1)"
   ]
  },
  {
   "cell_type": "code",
   "execution_count": 15,
   "id": "928ffccb",
   "metadata": {},
   "outputs": [
    {
     "name": "stdout",
     "output_type": "stream",
     "text": [
      "Fitting 5 folds for each of 10 candidates, totalling 50 fits\n",
      "CPU times: user 5min 51s, sys: 578 ms, total: 5min 52s\n",
      "Wall time: 26min 55s\n"
     ]
    },
    {
     "data": {
      "text/html": [
       "<style>#sk-container-id-1 {color: black;background-color: white;}#sk-container-id-1 pre{padding: 0;}#sk-container-id-1 div.sk-toggleable {background-color: white;}#sk-container-id-1 label.sk-toggleable__label {cursor: pointer;display: block;width: 100%;margin-bottom: 0;padding: 0.3em;box-sizing: border-box;text-align: center;}#sk-container-id-1 label.sk-toggleable__label-arrow:before {content: \"▸\";float: left;margin-right: 0.25em;color: #696969;}#sk-container-id-1 label.sk-toggleable__label-arrow:hover:before {color: black;}#sk-container-id-1 div.sk-estimator:hover label.sk-toggleable__label-arrow:before {color: black;}#sk-container-id-1 div.sk-toggleable__content {max-height: 0;max-width: 0;overflow: hidden;text-align: left;background-color: #f0f8ff;}#sk-container-id-1 div.sk-toggleable__content pre {margin: 0.2em;color: black;border-radius: 0.25em;background-color: #f0f8ff;}#sk-container-id-1 input.sk-toggleable__control:checked~div.sk-toggleable__content {max-height: 200px;max-width: 100%;overflow: auto;}#sk-container-id-1 input.sk-toggleable__control:checked~label.sk-toggleable__label-arrow:before {content: \"▾\";}#sk-container-id-1 div.sk-estimator input.sk-toggleable__control:checked~label.sk-toggleable__label {background-color: #d4ebff;}#sk-container-id-1 div.sk-label input.sk-toggleable__control:checked~label.sk-toggleable__label {background-color: #d4ebff;}#sk-container-id-1 input.sk-hidden--visually {border: 0;clip: rect(1px 1px 1px 1px);clip: rect(1px, 1px, 1px, 1px);height: 1px;margin: -1px;overflow: hidden;padding: 0;position: absolute;width: 1px;}#sk-container-id-1 div.sk-estimator {font-family: monospace;background-color: #f0f8ff;border: 1px dotted black;border-radius: 0.25em;box-sizing: border-box;margin-bottom: 0.5em;}#sk-container-id-1 div.sk-estimator:hover {background-color: #d4ebff;}#sk-container-id-1 div.sk-parallel-item::after {content: \"\";width: 100%;border-bottom: 1px solid gray;flex-grow: 1;}#sk-container-id-1 div.sk-label:hover label.sk-toggleable__label {background-color: #d4ebff;}#sk-container-id-1 div.sk-serial::before {content: \"\";position: absolute;border-left: 1px solid gray;box-sizing: border-box;top: 0;bottom: 0;left: 50%;z-index: 0;}#sk-container-id-1 div.sk-serial {display: flex;flex-direction: column;align-items: center;background-color: white;padding-right: 0.2em;padding-left: 0.2em;position: relative;}#sk-container-id-1 div.sk-item {position: relative;z-index: 1;}#sk-container-id-1 div.sk-parallel {display: flex;align-items: stretch;justify-content: center;background-color: white;position: relative;}#sk-container-id-1 div.sk-item::before, #sk-container-id-1 div.sk-parallel-item::before {content: \"\";position: absolute;border-left: 1px solid gray;box-sizing: border-box;top: 0;bottom: 0;left: 50%;z-index: -1;}#sk-container-id-1 div.sk-parallel-item {display: flex;flex-direction: column;z-index: 1;position: relative;background-color: white;}#sk-container-id-1 div.sk-parallel-item:first-child::after {align-self: flex-end;width: 50%;}#sk-container-id-1 div.sk-parallel-item:last-child::after {align-self: flex-start;width: 50%;}#sk-container-id-1 div.sk-parallel-item:only-child::after {width: 0;}#sk-container-id-1 div.sk-dashed-wrapped {border: 1px dashed gray;margin: 0 0.4em 0.5em 0.4em;box-sizing: border-box;padding-bottom: 0.4em;background-color: white;}#sk-container-id-1 div.sk-label label {font-family: monospace;font-weight: bold;display: inline-block;line-height: 1.2em;}#sk-container-id-1 div.sk-label-container {text-align: center;}#sk-container-id-1 div.sk-container {/* jupyter's `normalize.less` sets `[hidden] { display: none; }` but bootstrap.min.css set `[hidden] { display: none !important; }` so we also need the `!important` here to be able to override the default hidden behavior on the sphinx rendered scikit-learn.org. See: https://github.com/scikit-learn/scikit-learn/issues/21755 */display: inline-block !important;position: relative;}#sk-container-id-1 div.sk-text-repr-fallback {display: none;}</style><div id=\"sk-container-id-1\" class=\"sk-top-container\"><div class=\"sk-text-repr-fallback\"><pre>RandomizedSearchCV(cv=5,\n",
       "                   estimator=XGBClassifier(base_score=None, booster=None,\n",
       "                                           callbacks=None,\n",
       "                                           colsample_bylevel=None,\n",
       "                                           colsample_bynode=None,\n",
       "                                           colsample_bytree=None,\n",
       "                                           early_stopping_rounds=None,\n",
       "                                           enable_categorical=False,\n",
       "                                           eval_metric=None, gamma=None,\n",
       "                                           gpu_id=None, grow_policy=None,\n",
       "                                           importance_type=None,\n",
       "                                           interaction_constraints=None,\n",
       "                                           learning_rate=None, max_bin=None,...\n",
       "                                           min_child_weight=None, missing=nan,\n",
       "                                           monotone_constraints=None,\n",
       "                                           n_estimators=100, n_jobs=None,\n",
       "                                           num_parallel_tree=None,\n",
       "                                           predictor=None, random_state=1,\n",
       "                                           reg_alpha=None, reg_lambda=None, ...),\n",
       "                   n_jobs=-1,\n",
       "                   param_distributions={&#x27;colsample_bytree&#x27;: [0.5, 0.8, 1],\n",
       "                                        &#x27;learning_rate&#x27;: [0.2, 0.3],\n",
       "                                        &#x27;max_depth&#x27;: [5, 10],\n",
       "                                        &#x27;n_estimators&#x27;: [50, 100, 150],\n",
       "                                        &#x27;subsample&#x27;: [0.5, 0.8, 1]},\n",
       "                   scoring=&#x27;roc_auc&#x27;, verbose=1)</pre><b>In a Jupyter environment, please rerun this cell to show the HTML representation or trust the notebook. <br />On GitHub, the HTML representation is unable to render, please try loading this page with nbviewer.org.</b></div><div class=\"sk-container\" hidden><div class=\"sk-item sk-dashed-wrapped\"><div class=\"sk-label-container\"><div class=\"sk-label sk-toggleable\"><input class=\"sk-toggleable__control sk-hidden--visually\" id=\"sk-estimator-id-1\" type=\"checkbox\" ><label for=\"sk-estimator-id-1\" class=\"sk-toggleable__label sk-toggleable__label-arrow\">RandomizedSearchCV</label><div class=\"sk-toggleable__content\"><pre>RandomizedSearchCV(cv=5,\n",
       "                   estimator=XGBClassifier(base_score=None, booster=None,\n",
       "                                           callbacks=None,\n",
       "                                           colsample_bylevel=None,\n",
       "                                           colsample_bynode=None,\n",
       "                                           colsample_bytree=None,\n",
       "                                           early_stopping_rounds=None,\n",
       "                                           enable_categorical=False,\n",
       "                                           eval_metric=None, gamma=None,\n",
       "                                           gpu_id=None, grow_policy=None,\n",
       "                                           importance_type=None,\n",
       "                                           interaction_constraints=None,\n",
       "                                           learning_rate=None, max_bin=None,...\n",
       "                                           min_child_weight=None, missing=nan,\n",
       "                                           monotone_constraints=None,\n",
       "                                           n_estimators=100, n_jobs=None,\n",
       "                                           num_parallel_tree=None,\n",
       "                                           predictor=None, random_state=1,\n",
       "                                           reg_alpha=None, reg_lambda=None, ...),\n",
       "                   n_jobs=-1,\n",
       "                   param_distributions={&#x27;colsample_bytree&#x27;: [0.5, 0.8, 1],\n",
       "                                        &#x27;learning_rate&#x27;: [0.2, 0.3],\n",
       "                                        &#x27;max_depth&#x27;: [5, 10],\n",
       "                                        &#x27;n_estimators&#x27;: [50, 100, 150],\n",
       "                                        &#x27;subsample&#x27;: [0.5, 0.8, 1]},\n",
       "                   scoring=&#x27;roc_auc&#x27;, verbose=1)</pre></div></div></div><div class=\"sk-parallel\"><div class=\"sk-parallel-item\"><div class=\"sk-item\"><div class=\"sk-label-container\"><div class=\"sk-label sk-toggleable\"><input class=\"sk-toggleable__control sk-hidden--visually\" id=\"sk-estimator-id-2\" type=\"checkbox\" ><label for=\"sk-estimator-id-2\" class=\"sk-toggleable__label sk-toggleable__label-arrow\">estimator: XGBClassifier</label><div class=\"sk-toggleable__content\"><pre>XGBClassifier(base_score=None, booster=None, callbacks=None,\n",
       "              colsample_bylevel=None, colsample_bynode=None,\n",
       "              colsample_bytree=None, early_stopping_rounds=None,\n",
       "              enable_categorical=False, eval_metric=None, gamma=None,\n",
       "              gpu_id=None, grow_policy=None, importance_type=None,\n",
       "              interaction_constraints=None, learning_rate=None, max_bin=None,\n",
       "              max_cat_to_onehot=None, max_delta_step=None, max_depth=None,\n",
       "              max_leaves=None, min_child_weight=None, missing=nan,\n",
       "              monotone_constraints=None, n_estimators=100, n_jobs=None,\n",
       "              num_parallel_tree=None, predictor=None, random_state=1,\n",
       "              reg_alpha=None, reg_lambda=None, ...)</pre></div></div></div><div class=\"sk-serial\"><div class=\"sk-item\"><div class=\"sk-estimator sk-toggleable\"><input class=\"sk-toggleable__control sk-hidden--visually\" id=\"sk-estimator-id-3\" type=\"checkbox\" ><label for=\"sk-estimator-id-3\" class=\"sk-toggleable__label sk-toggleable__label-arrow\">XGBClassifier</label><div class=\"sk-toggleable__content\"><pre>XGBClassifier(base_score=None, booster=None, callbacks=None,\n",
       "              colsample_bylevel=None, colsample_bynode=None,\n",
       "              colsample_bytree=None, early_stopping_rounds=None,\n",
       "              enable_categorical=False, eval_metric=None, gamma=None,\n",
       "              gpu_id=None, grow_policy=None, importance_type=None,\n",
       "              interaction_constraints=None, learning_rate=None, max_bin=None,\n",
       "              max_cat_to_onehot=None, max_delta_step=None, max_depth=None,\n",
       "              max_leaves=None, min_child_weight=None, missing=nan,\n",
       "              monotone_constraints=None, n_estimators=100, n_jobs=None,\n",
       "              num_parallel_tree=None, predictor=None, random_state=1,\n",
       "              reg_alpha=None, reg_lambda=None, ...)</pre></div></div></div></div></div></div></div></div></div></div>"
      ],
      "text/plain": [
       "RandomizedSearchCV(cv=5,\n",
       "                   estimator=XGBClassifier(base_score=None, booster=None,\n",
       "                                           callbacks=None,\n",
       "                                           colsample_bylevel=None,\n",
       "                                           colsample_bynode=None,\n",
       "                                           colsample_bytree=None,\n",
       "                                           early_stopping_rounds=None,\n",
       "                                           enable_categorical=False,\n",
       "                                           eval_metric=None, gamma=None,\n",
       "                                           gpu_id=None, grow_policy=None,\n",
       "                                           importance_type=None,\n",
       "                                           interaction_constraints=None,\n",
       "                                           learning_rate=None, max_bin=None,...\n",
       "                                           min_child_weight=None, missing=nan,\n",
       "                                           monotone_constraints=None,\n",
       "                                           n_estimators=100, n_jobs=None,\n",
       "                                           num_parallel_tree=None,\n",
       "                                           predictor=None, random_state=1,\n",
       "                                           reg_alpha=None, reg_lambda=None, ...),\n",
       "                   n_jobs=-1,\n",
       "                   param_distributions={'colsample_bytree': [0.5, 0.8, 1],\n",
       "                                        'learning_rate': [0.2, 0.3],\n",
       "                                        'max_depth': [5, 10],\n",
       "                                        'n_estimators': [50, 100, 150],\n",
       "                                        'subsample': [0.5, 0.8, 1]},\n",
       "                   scoring='roc_auc', verbose=1)"
      ]
     },
     "execution_count": 15,
     "metadata": {},
     "output_type": "execute_result"
    }
   ],
   "source": [
    "%%time\n",
    "random_search_xgb.fit(X_train, y_train)"
   ]
  },
  {
   "cell_type": "code",
   "execution_count": 16,
   "id": "3511a91c",
   "metadata": {},
   "outputs": [],
   "source": [
    "params_opt_xgb = random_search_xgb.best_params_"
   ]
  },
  {
   "cell_type": "markdown",
   "id": "136737b6",
   "metadata": {},
   "source": [
    "Los mejores hiperparametros sacados del random search para el modelo de xgboost final"
   ]
  },
  {
   "cell_type": "code",
   "execution_count": 17,
   "id": "6e3f4d86",
   "metadata": {},
   "outputs": [
    {
     "data": {
      "text/plain": [
       "{'subsample': 0.8,\n",
       " 'n_estimators': 100,\n",
       " 'max_depth': 5,\n",
       " 'learning_rate': 0.2,\n",
       " 'colsample_bytree': 0.5}"
      ]
     },
     "execution_count": 17,
     "metadata": {},
     "output_type": "execute_result"
    }
   ],
   "source": [
    "params_opt_xgb"
   ]
  },
  {
   "cell_type": "code",
   "execution_count": 18,
   "id": "318e7a61",
   "metadata": {},
   "outputs": [],
   "source": [
    "xgbModelBestParams = XGBClassifier(**params_opt_xgb)"
   ]
  },
  {
   "cell_type": "code",
   "execution_count": 19,
   "id": "e3425eac",
   "metadata": {},
   "outputs": [
    {
     "name": "stdout",
     "output_type": "stream",
     "text": [
      "CPU times: user 6min 39s, sys: 366 ms, total: 6min 39s\n",
      "Wall time: 25.5 s\n"
     ]
    },
    {
     "data": {
      "text/html": [
       "<style>#sk-container-id-2 {color: black;background-color: white;}#sk-container-id-2 pre{padding: 0;}#sk-container-id-2 div.sk-toggleable {background-color: white;}#sk-container-id-2 label.sk-toggleable__label {cursor: pointer;display: block;width: 100%;margin-bottom: 0;padding: 0.3em;box-sizing: border-box;text-align: center;}#sk-container-id-2 label.sk-toggleable__label-arrow:before {content: \"▸\";float: left;margin-right: 0.25em;color: #696969;}#sk-container-id-2 label.sk-toggleable__label-arrow:hover:before {color: black;}#sk-container-id-2 div.sk-estimator:hover label.sk-toggleable__label-arrow:before {color: black;}#sk-container-id-2 div.sk-toggleable__content {max-height: 0;max-width: 0;overflow: hidden;text-align: left;background-color: #f0f8ff;}#sk-container-id-2 div.sk-toggleable__content pre {margin: 0.2em;color: black;border-radius: 0.25em;background-color: #f0f8ff;}#sk-container-id-2 input.sk-toggleable__control:checked~div.sk-toggleable__content {max-height: 200px;max-width: 100%;overflow: auto;}#sk-container-id-2 input.sk-toggleable__control:checked~label.sk-toggleable__label-arrow:before {content: \"▾\";}#sk-container-id-2 div.sk-estimator input.sk-toggleable__control:checked~label.sk-toggleable__label {background-color: #d4ebff;}#sk-container-id-2 div.sk-label input.sk-toggleable__control:checked~label.sk-toggleable__label {background-color: #d4ebff;}#sk-container-id-2 input.sk-hidden--visually {border: 0;clip: rect(1px 1px 1px 1px);clip: rect(1px, 1px, 1px, 1px);height: 1px;margin: -1px;overflow: hidden;padding: 0;position: absolute;width: 1px;}#sk-container-id-2 div.sk-estimator {font-family: monospace;background-color: #f0f8ff;border: 1px dotted black;border-radius: 0.25em;box-sizing: border-box;margin-bottom: 0.5em;}#sk-container-id-2 div.sk-estimator:hover {background-color: #d4ebff;}#sk-container-id-2 div.sk-parallel-item::after {content: \"\";width: 100%;border-bottom: 1px solid gray;flex-grow: 1;}#sk-container-id-2 div.sk-label:hover label.sk-toggleable__label {background-color: #d4ebff;}#sk-container-id-2 div.sk-serial::before {content: \"\";position: absolute;border-left: 1px solid gray;box-sizing: border-box;top: 0;bottom: 0;left: 50%;z-index: 0;}#sk-container-id-2 div.sk-serial {display: flex;flex-direction: column;align-items: center;background-color: white;padding-right: 0.2em;padding-left: 0.2em;position: relative;}#sk-container-id-2 div.sk-item {position: relative;z-index: 1;}#sk-container-id-2 div.sk-parallel {display: flex;align-items: stretch;justify-content: center;background-color: white;position: relative;}#sk-container-id-2 div.sk-item::before, #sk-container-id-2 div.sk-parallel-item::before {content: \"\";position: absolute;border-left: 1px solid gray;box-sizing: border-box;top: 0;bottom: 0;left: 50%;z-index: -1;}#sk-container-id-2 div.sk-parallel-item {display: flex;flex-direction: column;z-index: 1;position: relative;background-color: white;}#sk-container-id-2 div.sk-parallel-item:first-child::after {align-self: flex-end;width: 50%;}#sk-container-id-2 div.sk-parallel-item:last-child::after {align-self: flex-start;width: 50%;}#sk-container-id-2 div.sk-parallel-item:only-child::after {width: 0;}#sk-container-id-2 div.sk-dashed-wrapped {border: 1px dashed gray;margin: 0 0.4em 0.5em 0.4em;box-sizing: border-box;padding-bottom: 0.4em;background-color: white;}#sk-container-id-2 div.sk-label label {font-family: monospace;font-weight: bold;display: inline-block;line-height: 1.2em;}#sk-container-id-2 div.sk-label-container {text-align: center;}#sk-container-id-2 div.sk-container {/* jupyter's `normalize.less` sets `[hidden] { display: none; }` but bootstrap.min.css set `[hidden] { display: none !important; }` so we also need the `!important` here to be able to override the default hidden behavior on the sphinx rendered scikit-learn.org. See: https://github.com/scikit-learn/scikit-learn/issues/21755 */display: inline-block !important;position: relative;}#sk-container-id-2 div.sk-text-repr-fallback {display: none;}</style><div id=\"sk-container-id-2\" class=\"sk-top-container\"><div class=\"sk-text-repr-fallback\"><pre>XGBClassifier(base_score=0.5, booster=&#x27;gbtree&#x27;, callbacks=None,\n",
       "              colsample_bylevel=1, colsample_bynode=1, colsample_bytree=0.5,\n",
       "              early_stopping_rounds=None, enable_categorical=False,\n",
       "              eval_metric=None, gamma=0, gpu_id=-1, grow_policy=&#x27;depthwise&#x27;,\n",
       "              importance_type=None, interaction_constraints=&#x27;&#x27;,\n",
       "              learning_rate=0.2, max_bin=256, max_cat_to_onehot=4,\n",
       "              max_delta_step=0, max_depth=5, max_leaves=0, min_child_weight=1,\n",
       "              missing=nan, monotone_constraints=&#x27;()&#x27;, n_estimators=100,\n",
       "              n_jobs=0, num_parallel_tree=1, predictor=&#x27;auto&#x27;, random_state=0,\n",
       "              reg_alpha=0, reg_lambda=1, ...)</pre><b>In a Jupyter environment, please rerun this cell to show the HTML representation or trust the notebook. <br />On GitHub, the HTML representation is unable to render, please try loading this page with nbviewer.org.</b></div><div class=\"sk-container\" hidden><div class=\"sk-item\"><div class=\"sk-estimator sk-toggleable\"><input class=\"sk-toggleable__control sk-hidden--visually\" id=\"sk-estimator-id-4\" type=\"checkbox\" checked><label for=\"sk-estimator-id-4\" class=\"sk-toggleable__label sk-toggleable__label-arrow\">XGBClassifier</label><div class=\"sk-toggleable__content\"><pre>XGBClassifier(base_score=0.5, booster=&#x27;gbtree&#x27;, callbacks=None,\n",
       "              colsample_bylevel=1, colsample_bynode=1, colsample_bytree=0.5,\n",
       "              early_stopping_rounds=None, enable_categorical=False,\n",
       "              eval_metric=None, gamma=0, gpu_id=-1, grow_policy=&#x27;depthwise&#x27;,\n",
       "              importance_type=None, interaction_constraints=&#x27;&#x27;,\n",
       "              learning_rate=0.2, max_bin=256, max_cat_to_onehot=4,\n",
       "              max_delta_step=0, max_depth=5, max_leaves=0, min_child_weight=1,\n",
       "              missing=nan, monotone_constraints=&#x27;()&#x27;, n_estimators=100,\n",
       "              n_jobs=0, num_parallel_tree=1, predictor=&#x27;auto&#x27;, random_state=0,\n",
       "              reg_alpha=0, reg_lambda=1, ...)</pre></div></div></div></div></div>"
      ],
      "text/plain": [
       "XGBClassifier(base_score=0.5, booster='gbtree', callbacks=None,\n",
       "              colsample_bylevel=1, colsample_bynode=1, colsample_bytree=0.5,\n",
       "              early_stopping_rounds=None, enable_categorical=False,\n",
       "              eval_metric=None, gamma=0, gpu_id=-1, grow_policy='depthwise',\n",
       "              importance_type=None, interaction_constraints='',\n",
       "              learning_rate=0.2, max_bin=256, max_cat_to_onehot=4,\n",
       "              max_delta_step=0, max_depth=5, max_leaves=0, min_child_weight=1,\n",
       "              missing=nan, monotone_constraints='()', n_estimators=100,\n",
       "              n_jobs=0, num_parallel_tree=1, predictor='auto', random_state=0,\n",
       "              reg_alpha=0, reg_lambda=1, ...)"
      ]
     },
     "execution_count": 19,
     "metadata": {},
     "output_type": "execute_result"
    }
   ],
   "source": [
    "%%time\n",
    "xgbModelBestParams.fit(X_train, y_train)"
   ]
  },
  {
   "cell_type": "code",
   "execution_count": 20,
   "id": "5db101fe",
   "metadata": {},
   "outputs": [],
   "source": [
    "y_pred_temp2 = xgbModelBestParams.predict(X_train)"
   ]
  },
  {
   "cell_type": "code",
   "execution_count": 21,
   "id": "11b116e7",
   "metadata": {},
   "outputs": [],
   "source": [
    "y_pred_test2 = xgbModelBestParams.predict(X_test)"
   ]
  },
  {
   "cell_type": "markdown",
   "id": "c3d25fde",
   "metadata": {},
   "source": [
    "Metricas de testeo para el set de training"
   ]
  },
  {
   "cell_type": "code",
   "execution_count": 22,
   "id": "5908bfb2",
   "metadata": {},
   "outputs": [
    {
     "data": {
      "text/plain": [
       "array([[148839,  11220],\n",
       "       [ 11922,  39191]])"
      ]
     },
     "execution_count": 22,
     "metadata": {},
     "output_type": "execute_result"
    }
   ],
   "source": [
    "confusion_matrix(y_train, y_pred_temp2)"
   ]
  },
  {
   "cell_type": "code",
   "execution_count": 23,
   "id": "6f2fec19",
   "metadata": {},
   "outputs": [
    {
     "name": "stdout",
     "output_type": "stream",
     "text": [
      "precision =  0.7774295292694055\n",
      "recall =  0.7667520982920196\n",
      "auc =  0.8483264736769641\n",
      "f1 score =  0.7720538985855561\n"
     ]
    }
   ],
   "source": [
    "print(\"precision = \", precision_score(y_train, y_pred_temp2))\n",
    "print(\"recall = \", recall_score(y_train, y_pred_temp2))\n",
    "print(\"auc = \", roc_auc_score(y_train, y_pred_temp2))\n",
    "print(\"f1 score = \", f1_score(y_train, y_pred_temp2))"
   ]
  },
  {
   "cell_type": "markdown",
   "id": "f04e3838",
   "metadata": {},
   "source": [
    "Metricas de testeo para el set de testing"
   ]
  },
  {
   "cell_type": "code",
   "execution_count": 24,
   "id": "11faecb7",
   "metadata": {},
   "outputs": [
    {
     "data": {
      "text/plain": [
       "array([[36863,  3152],\n",
       "       [ 3388,  9390]])"
      ]
     },
     "execution_count": 24,
     "metadata": {},
     "output_type": "execute_result"
    }
   ],
   "source": [
    "confusion_matrix(y_test, y_pred_test2)"
   ]
  },
  {
   "cell_type": "code",
   "execution_count": 25,
   "id": "f0c063eb",
   "metadata": {},
   "outputs": [
    {
     "name": "stdout",
     "output_type": "stream",
     "text": [
      "precision =  0.7486844203476319\n",
      "recall =  0.7348567850993896\n",
      "auc =  0.8280431620111468\n",
      "f1 score =  0.7417061611374408\n"
     ]
    }
   ],
   "source": [
    "print(\"precision = \", precision_score(y_test, y_pred_test2))\n",
    "print(\"recall = \", recall_score(y_test, y_pred_test2))\n",
    "print(\"auc = \", roc_auc_score(y_test, y_pred_test2))\n",
    "print(\"f1 score = \", f1_score(y_test, y_pred_test2))"
   ]
  },
  {
   "cell_type": "code",
   "execution_count": null,
   "id": "b06c38c2",
   "metadata": {},
   "outputs": [],
   "source": []
  },
  {
   "cell_type": "code",
   "execution_count": null,
   "id": "5da8dec1",
   "metadata": {},
   "outputs": [],
   "source": []
  },
  {
   "cell_type": "code",
   "execution_count": null,
   "id": "35092c89",
   "metadata": {},
   "outputs": [],
   "source": []
  }
 ],
 "metadata": {
  "kernelspec": {
   "display_name": "Python 3 (ipykernel)",
   "language": "python",
   "name": "python3"
  },
  "language_info": {
   "codemirror_mode": {
    "name": "ipython",
    "version": 3
   },
   "file_extension": ".py",
   "mimetype": "text/x-python",
   "name": "python",
   "nbconvert_exporter": "python",
   "pygments_lexer": "ipython3",
   "version": "3.8.10"
  }
 },
 "nbformat": 4,
 "nbformat_minor": 5
}
