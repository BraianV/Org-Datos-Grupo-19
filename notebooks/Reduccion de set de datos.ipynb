{
 "cells": [
  {
   "cell_type": "code",
   "execution_count": 4,
   "id": "3ea029e2",
   "metadata": {},
   "outputs": [],
   "source": [
    "import pandas as pd\n",
    "import numpy as np\n",
    "from sklearn.utils.random import sample_without_replacement"
   ]
  },
  {
   "cell_type": "code",
   "execution_count": 2,
   "id": "e562e94f",
   "metadata": {},
   "outputs": [],
   "source": [
    "df_completo = pd.read_csv(\"../data/train_data.csv\")"
   ]
  },
  {
   "cell_type": "code",
   "execution_count": 18,
   "id": "d81c2c45",
   "metadata": {},
   "outputs": [],
   "source": [
    "labels = pd.read_csv(\"../data/train_labels.csv\")"
   ]
  },
  {
   "cell_type": "code",
   "execution_count": 19,
   "id": "a211d4de",
   "metadata": {},
   "outputs": [
    {
     "data": {
      "text/plain": [
       "(5531451, 190)"
      ]
     },
     "execution_count": 19,
     "metadata": {},
     "output_type": "execute_result"
    }
   ],
   "source": [
    "df_completo.shape"
   ]
  },
  {
   "cell_type": "code",
   "execution_count": 20,
   "id": "9f4eff28",
   "metadata": {},
   "outputs": [
    {
     "data": {
      "text/plain": [
       "(458913, 2)"
      ]
     },
     "execution_count": 20,
     "metadata": {},
     "output_type": "execute_result"
    }
   ],
   "source": [
    "labels.shape"
   ]
  },
  {
   "cell_type": "code",
   "execution_count": 22,
   "id": "776b6f2c",
   "metadata": {},
   "outputs": [
    {
     "name": "stdout",
     "output_type": "stream",
     "text": [
      "<class 'pandas.core.frame.DataFrame'>\n",
      "RangeIndex: 458913 entries, 0 to 458912\n",
      "Data columns (total 2 columns):\n",
      " #   Column       Non-Null Count   Dtype \n",
      "---  ------       --------------   ----- \n",
      " 0   customer_ID  458913 non-null  object\n",
      " 1   target       458913 non-null  int64 \n",
      "dtypes: int64(1), object(1)\n",
      "memory usage: 7.0+ MB\n"
     ]
    }
   ],
   "source": [
    "labels.info()"
   ]
  },
  {
   "cell_type": "code",
   "execution_count": 24,
   "id": "d8a6fb48",
   "metadata": {},
   "outputs": [],
   "source": [
    "df = df_completo.join(labels.set_index(\"customer_ID\"), on = \"customer_ID\")"
   ]
  },
  {
   "cell_type": "code",
   "execution_count": 25,
   "id": "59b0f199",
   "metadata": {},
   "outputs": [],
   "source": [
    "tamaño_reducido = df.shape[0] * 0.05"
   ]
  },
  {
   "cell_type": "code",
   "execution_count": 26,
   "id": "b70f93e7",
   "metadata": {},
   "outputs": [
    {
     "data": {
      "text/plain": [
       "276572.55"
      ]
     },
     "execution_count": 26,
     "metadata": {},
     "output_type": "execute_result"
    }
   ],
   "source": [
    "tamaño_reducido"
   ]
  },
  {
   "cell_type": "code",
   "execution_count": 29,
   "id": "3cbc285c",
   "metadata": {},
   "outputs": [
    {
     "data": {
      "text/plain": [
       "5531451"
      ]
     },
     "execution_count": 29,
     "metadata": {},
     "output_type": "execute_result"
    }
   ],
   "source": [
    "tamaño_completo = df.shape[0]\n",
    "tamaño_completo"
   ]
  },
  {
   "cell_type": "code",
   "execution_count": 31,
   "id": "5a5d005c",
   "metadata": {},
   "outputs": [
    {
     "data": {
      "text/plain": [
       "904"
      ]
     },
     "execution_count": 31,
     "metadata": {},
     "output_type": "execute_result"
    }
   ],
   "source": [
    "grupo_19 = 19\n",
    "semilla = (31416 * grupo_19) % 1000\n",
    "semilla"
   ]
  },
  {
   "cell_type": "code",
   "execution_count": 33,
   "id": "f7626101",
   "metadata": {},
   "outputs": [],
   "source": [
    "reducido = sample_without_replacement(tamaño_completo, tamaño_reducido, random_state = semilla)"
   ]
  },
  {
   "cell_type": "code",
   "execution_count": 35,
   "id": "44fbc22d",
   "metadata": {},
   "outputs": [
    {
     "data": {
      "text/plain": [
       "276572"
      ]
     },
     "execution_count": 35,
     "metadata": {},
     "output_type": "execute_result"
    }
   ],
   "source": [
    "len(reducido)"
   ]
  },
  {
   "cell_type": "code",
   "execution_count": 36,
   "id": "e09a4c15",
   "metadata": {},
   "outputs": [],
   "source": [
    "df_final = df.iloc[reducido]"
   ]
  },
  {
   "cell_type": "code",
   "execution_count": 37,
   "id": "710c48fb",
   "metadata": {},
   "outputs": [
    {
     "data": {
      "text/plain": [
       "(276572, 191)"
      ]
     },
     "execution_count": 37,
     "metadata": {},
     "output_type": "execute_result"
    }
   ],
   "source": [
    "df_final.shape"
   ]
  },
  {
   "cell_type": "code",
   "execution_count": 38,
   "id": "7e95834e",
   "metadata": {},
   "outputs": [],
   "source": [
    "df_final.to_csv(\"../data/train_data_final.csv\")"
   ]
  },
  {
   "cell_type": "code",
   "execution_count": null,
   "id": "e5715e64",
   "metadata": {},
   "outputs": [],
   "source": []
  }
 ],
 "metadata": {
  "kernelspec": {
   "display_name": "Python 3.9.13 64-bit (windows store)",
   "language": "python",
   "name": "python3"
  },
  "language_info": {
   "codemirror_mode": {
    "name": "ipython",
    "version": 3
   },
   "file_extension": ".py",
   "mimetype": "text/x-python",
   "name": "python",
   "nbconvert_exporter": "python",
   "pygments_lexer": "ipython3",
   "version": "3.9.13"
  },
  "vscode": {
   "interpreter": {
    "hash": "6f7ef91bea4ea4c0666122001abe4a5fedf50b5f15e9241244512c5f056ca9c0"
   }
  }
 },
 "nbformat": 4,
 "nbformat_minor": 5
}
