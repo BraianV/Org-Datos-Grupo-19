{
 "cells": [
  {
   "cell_type": "code",
   "execution_count": 3,
   "metadata": {},
   "outputs": [],
   "source": [
    "import pandas as pd\n",
    "import numpy as np\n",
    "\n",
    "import matplotlib.pyplot as plt\n",
    "import seaborn as sns \n",
    "\n",
    "from scripts import featurizer_rf\n",
    "\n",
    "\n",
    "from sklearn.model_selection import train_test_split, GridSearchCV\n",
    "from sklearn.tree import DecisionTreeClassifier\n",
    "from sklearn.ensemble import RandomForestClassifier\n",
    "from sklearn.model_selection import StratifiedKFold, KFold,RandomizedSearchCV\n",
    "from sklearn.metrics import confusion_matrix, precision_recall_curve, roc_curve, recall_score, accuracy_score,precision_score ,f1_score"
   ]
  },
  {
   "cell_type": "code",
   "execution_count": 4,
   "metadata": {},
   "outputs": [],
   "source": [
    "df = pd.read_csv(\"../data/dataset-procesado.csv\", index_col=False)"
   ]
  },
  {
   "cell_type": "code",
   "execution_count": 5,
   "metadata": {},
   "outputs": [
    {
     "name": "stdout",
     "output_type": "stream",
     "text": [
      "----rf-featurizer----\n"
     ]
    }
   ],
   "source": [
    "df_trabajo = featurizer_rf.featurizer(df)"
   ]
  },
  {
   "cell_type": "code",
   "execution_count": 6,
   "metadata": {},
   "outputs": [
    {
     "data": {
      "text/plain": [
       "(263965, 138)"
      ]
     },
     "execution_count": 6,
     "metadata": {},
     "output_type": "execute_result"
    }
   ],
   "source": [
    "df_trabajo.shape"
   ]
  },
  {
   "cell_type": "code",
   "execution_count": 7,
   "metadata": {},
   "outputs": [
    {
     "data": {
      "text/plain": [
       "Index(['P_2', 'D_39', 'B_1', 'B_2', 'R_1', 'S_3', 'D_41', 'D_43', 'D_44',\n",
       "       'B_4',\n",
       "       ...\n",
       "       'D_63_CR', 'D_63_XL', 'D_63_XM', 'D_63_XZ', 'customer_id_repeat_size',\n",
       "       'd_feats_mean', 's_feats_mean', 'p_feats_mean', 'b_feats_mean',\n",
       "       'r_feats_mean'],\n",
       "      dtype='object', length=138)"
      ]
     },
     "execution_count": 7,
     "metadata": {},
     "output_type": "execute_result"
    }
   ],
   "source": [
    "df_trabajo.columns"
   ]
  },
  {
   "cell_type": "code",
   "execution_count": 8,
   "metadata": {},
   "outputs": [],
   "source": [
    "#Separo en train y test para trabajar los modelos\n",
    "df_trabajo_x=df_trabajo.drop(['target'], axis='columns', inplace=False)\n",
    "\n",
    "df_trabajo_y = df_trabajo['target'].copy()\n",
    "#Uso parametro stratify para balancear el target dentro de cada ser de datos de train test\n",
    "x_train, x_test, y_train, y_test = train_test_split(df_trabajo_x, df_trabajo_y, test_size=0.3, random_state=1, stratify = df_trabajo_y)"
   ]
  },
  {
   "cell_type": "markdown",
   "metadata": {},
   "source": [
    "Modelo Random forest"
   ]
  },
  {
   "cell_type": "markdown",
   "metadata": {},
   "source": [
    "Buscamos los mejores hiperparametros para el modelo Random forest"
   ]
  },
  {
   "cell_type": "code",
   "execution_count": 9,
   "metadata": {},
   "outputs": [],
   "source": [
    "rf_cv = RandomForestClassifier(random_state=1, n_jobs=-1)\n",
    "\n",
    "param_grid = { \"criterion\" : [\"gini\", \"entropy\"], \n",
    "               \"min_samples_leaf\" : [1, 5], \n",
    "               \"max_features\":[\"sqrt\", \"log2\"],\n",
    "               \"min_samples_split\" : [2, 5], \n",
    "               \"n_estimators\": [10,50] }\n",
    "\n",
    "#Probamos entrenando sólo con 1 métrica\n",
    "gs = GridSearchCV(estimator=rf_cv, param_grid=param_grid, scoring=\"roc_auc\", cv=5, n_jobs=-1)"
   ]
  },
  {
   "cell_type": "code",
   "execution_count": 10,
   "metadata": {},
   "outputs": [
    {
     "name": "stdout",
     "output_type": "stream",
     "text": [
      "{'criterion': 'entropy', 'max_features': 'sqrt', 'min_samples_leaf': 5, 'min_samples_split': 2, 'n_estimators': 50}\n"
     ]
    }
   ],
   "source": [
    "gs_fit = gs.fit(X = x_train, y = y_train)\n",
    "best_params_rfc = gs_fit.best_params_\n",
    "\n",
    "print(best_params_rfc)"
   ]
  },
  {
   "cell_type": "markdown",
   "metadata": {},
   "source": [
    "Predecimos utilizando el mejor modelo q obtuvimos"
   ]
  },
  {
   "cell_type": "code",
   "execution_count": 11,
   "metadata": {},
   "outputs": [],
   "source": [
    "rfc_best_model = RandomForestClassifier(**best_params_rfc)"
   ]
  },
  {
   "cell_type": "code",
   "execution_count": 12,
   "metadata": {},
   "outputs": [],
   "source": [
    "model_rfc = rfc_best_model.fit(X = x_train,y = y_train)\n",
    "y_pred_rfc = model_rfc.predict(x_test)\n",
    "df_resultados_rfc=pd.DataFrame(zip(y_test,y_pred_rfc),columns=['test','predicted'])"
   ]
  },
  {
   "cell_type": "markdown",
   "metadata": {},
   "source": [
    "Vamos a guardar el RFC en un archivo"
   ]
  },
  {
   "cell_type": "code",
   "execution_count": 19,
   "metadata": {},
   "outputs": [
    {
     "data": {
      "text/plain": [
       "['./random_forest.joblib']"
      ]
     },
     "execution_count": 19,
     "metadata": {},
     "output_type": "execute_result"
    }
   ],
   "source": [
    "import joblib\n",
    "joblib.dump(model_rfc, \"./random_forest.joblib\")"
   ]
  },
  {
   "cell_type": "code",
   "execution_count": 15,
   "metadata": {},
   "outputs": [
    {
     "data": {
      "text/html": [
       "<div>\n",
       "<style scoped>\n",
       "    .dataframe tbody tr th:only-of-type {\n",
       "        vertical-align: middle;\n",
       "    }\n",
       "\n",
       "    .dataframe tbody tr th {\n",
       "        vertical-align: top;\n",
       "    }\n",
       "\n",
       "    .dataframe thead th {\n",
       "        text-align: right;\n",
       "    }\n",
       "</style>\n",
       "<table border=\"1\" class=\"dataframe\">\n",
       "  <thead>\n",
       "    <tr style=\"text-align: right;\">\n",
       "      <th></th>\n",
       "      <th>test</th>\n",
       "      <th>predicted</th>\n",
       "    </tr>\n",
       "  </thead>\n",
       "  <tbody>\n",
       "    <tr>\n",
       "      <th>65849</th>\n",
       "      <td>1</td>\n",
       "      <td>1</td>\n",
       "    </tr>\n",
       "    <tr>\n",
       "      <th>13537</th>\n",
       "      <td>0</td>\n",
       "      <td>0</td>\n",
       "    </tr>\n",
       "    <tr>\n",
       "      <th>18844</th>\n",
       "      <td>0</td>\n",
       "      <td>0</td>\n",
       "    </tr>\n",
       "    <tr>\n",
       "      <th>58151</th>\n",
       "      <td>0</td>\n",
       "      <td>0</td>\n",
       "    </tr>\n",
       "    <tr>\n",
       "      <th>30547</th>\n",
       "      <td>1</td>\n",
       "      <td>1</td>\n",
       "    </tr>\n",
       "  </tbody>\n",
       "</table>\n",
       "</div>"
      ],
      "text/plain": [
       "       test  predicted\n",
       "65849     1          1\n",
       "13537     0          0\n",
       "18844     0          0\n",
       "58151     0          0\n",
       "30547     1          1"
      ]
     },
     "execution_count": 15,
     "metadata": {},
     "output_type": "execute_result"
    }
   ],
   "source": [
    "df_resultados_rfc.sample(5)"
   ]
  },
  {
   "cell_type": "code",
   "execution_count": 16,
   "metadata": {},
   "outputs": [
    {
     "data": {
      "image/png": "[encoded data removed]",
      "text/plain": [
       "<Figure size 432x288 with 2 Axes>"
      ]
     },
     "metadata": {
      "needs_background": "light"
     },
     "output_type": "display_data"
    }
   ],
   "source": [
    "tabla=confusion_matrix(df_resultados_rfc['test'], df_resultados_rfc['predicted'])\n",
    "\n",
    "grf=sns.heatmap(tabla,cmap='Blues',annot=True,fmt='g')\n",
    "plt.show()"
   ]
  },
  {
   "cell_type": "code",
   "execution_count": 17,
   "metadata": {},
   "outputs": [],
   "source": [
    "def results_comparation(df_predict):\n",
    "    df_predict[\"success\"] = (df_predict[\"test\"] == df_predict[\"predicted\"])\n",
    "    df_predict[\"success\"].value_counts().plot.pie(autopct='%1.1f%%')\n",
    "    plt.title(\"Cantidad de valores predecidos correctamente\") \n",
    "    plt.show()\n",
    "\n",
    "    precicion = precision_score(df_predict['test'], df_predict['predicted'])\n",
    "    f1=f1_score(df_predict['test'], df_predict['predicted'])\n",
    "    recall = recall_score(df_predict['test'], df_predict['predicted'])\n",
    "    \n",
    "    print(f\"Precision score: \\t{round(precicion,3)}\")\n",
    "    print(f\"Recall score: \\t\\t{round(recall,3)}\")\n",
    "    print(f\"F1 score: \\t\\t{round(f1,3)}\")\n",
    "\n",
    "    accuracy=accuracy_score(df_predict['test'], df_predict['predicted'], normalize=True)\n",
    "    print(\"Tiene una accuracy del: \" + str(round(accuracy, 3)) + \"% como muestra el pie chart\")\n"
   ]
  },
  {
   "cell_type": "code",
   "execution_count": 18,
   "metadata": {},
   "outputs": [
    {
     "data": {
      "image/png": "[encoded data removed]",
      "text/plain": [
       "<Figure size 432x288 with 1 Axes>"
      ]
     },
     "metadata": {},
     "output_type": "display_data"
    },
    {
     "name": "stdout",
     "output_type": "stream",
     "text": [
      "Precision score: \t0.743\n",
      "Recall score: \t\t0.714\n",
      "F1 score: \t\t0.728\n",
      "Tiene una accuracy del: 0.871% como muestra el pie chart\n"
     ]
    }
   ],
   "source": [
    "results_comparation(df_resultados_rfc)"
   ]
  }
 ],
 "metadata": {
  "kernelspec": {
   "display_name": "Python 3 (ipykernel)",
   "language": "python",
   "name": "python3"
  },
  "language_info": {
   "codemirror_mode": {
    "name": "ipython",
    "version": 3
   },
   "file_extension": ".py",
   "mimetype": "text/x-python",
   "name": "python",
   "nbconvert_exporter": "python",
   "pygments_lexer": "ipython3",
   "version": "3.9.13"
  },
  "vscode": {
   "interpreter": {
    "hash": "6f7ef91bea4ea4c0666122001abe4a5fedf50b5f15e9241244512c5f056ca9c0"
   }
  }
 },
 "nbformat": 4,
 "nbformat_minor": 2
}
