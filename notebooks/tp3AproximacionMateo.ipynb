{
 "cells": [
  {
   "cell_type": "code",
   "execution_count": 1,
   "metadata": {},
   "outputs": [],
   "source": [
    "import pandas as pd\n",
    "import numpy as np\n",
    "\n",
    "import matplotlib.pyplot as plt\n",
    "import seaborn as sns "
   ]
  },
  {
   "cell_type": "code",
   "execution_count": 2,
   "metadata": {},
   "outputs": [],
   "source": [
    "df = pd.read_csv(\"C:/Users/mlard/OneDrive/Escritorio/Mateo/Org de Datos/tp3Github/Org-Datos-Grupo-19/train_data_final.csv\")"
   ]
  },
  {
   "cell_type": "code",
   "execution_count": 3,
   "metadata": {},
   "outputs": [],
   "source": [
    "df_copy = df"
   ]
  },
  {
   "cell_type": "markdown",
   "id": "4534aa6e",
   "metadata": {},
   "source": [
    "Exploracion, preprocesamiento y transformacion de datos"
   ]
  },
  {
   "cell_type": "markdown",
   "metadata": {},
   "source": [
    "a) Visualizacion de datos"
   ]
  },
  {
   "cell_type": "code",
   "execution_count": 4,
   "metadata": {},
   "outputs": [
    {
     "data": {
      "text/plain": [
       "(276572, 192)"
      ]
     },
     "execution_count": 4,
     "metadata": {},
     "output_type": "execute_result"
    }
   ],
   "source": [
    "df.shape"
   ]
  },
  {
   "cell_type": "code",
   "execution_count": 5,
   "metadata": {},
   "outputs": [
    {
     "data": {
      "text/html": [
       "<div>\n",
       "<style scoped>\n",
       "    .dataframe tbody tr th:only-of-type {\n",
       "        vertical-align: middle;\n",
       "    }\n",
       "\n",
       "    .dataframe tbody tr th {\n",
       "        vertical-align: top;\n",
       "    }\n",
       "\n",
       "    .dataframe thead th {\n",
       "        text-align: right;\n",
       "    }\n",
       "</style>\n",
       "<table border=\"1\" class=\"dataframe\">\n",
       "  <thead>\n",
       "    <tr style=\"text-align: right;\">\n",
       "      <th></th>\n",
       "      <th>Unnamed: 0</th>\n",
       "      <th>customer_ID</th>\n",
       "      <th>S_2</th>\n",
       "      <th>P_2</th>\n",
       "      <th>D_39</th>\n",
       "      <th>B_1</th>\n",
       "      <th>B_2</th>\n",
       "      <th>R_1</th>\n",
       "      <th>S_3</th>\n",
       "      <th>D_41</th>\n",
       "      <th>...</th>\n",
       "      <th>D_137</th>\n",
       "      <th>D_138</th>\n",
       "      <th>D_139</th>\n",
       "      <th>D_140</th>\n",
       "      <th>D_141</th>\n",
       "      <th>D_142</th>\n",
       "      <th>D_143</th>\n",
       "      <th>D_144</th>\n",
       "      <th>D_145</th>\n",
       "      <th>target</th>\n",
       "    </tr>\n",
       "  </thead>\n",
       "  <tbody>\n",
       "    <tr>\n",
       "      <th>0</th>\n",
       "      <td>2518955</td>\n",
       "      <td>743d55408505dee752adc6e62b273f4397db6e89f19034...</td>\n",
       "      <td>2017-08-10</td>\n",
       "      <td>0.947242</td>\n",
       "      <td>0.002204</td>\n",
       "      <td>0.008002</td>\n",
       "      <td>1.007516</td>\n",
       "      <td>0.002830</td>\n",
       "      <td>0.453227</td>\n",
       "      <td>0.005992</td>\n",
       "      <td>...</td>\n",
       "      <td>NaN</td>\n",
       "      <td>NaN</td>\n",
       "      <td>0.003183</td>\n",
       "      <td>0.005264</td>\n",
       "      <td>0.007173</td>\n",
       "      <td>NaN</td>\n",
       "      <td>0.009359</td>\n",
       "      <td>0.004306</td>\n",
       "      <td>0.002719</td>\n",
       "      <td>0</td>\n",
       "    </tr>\n",
       "    <tr>\n",
       "      <th>1</th>\n",
       "      <td>1781039</td>\n",
       "      <td>522c85a354bfec790067b54e9db7353d20d4709ae5dc93...</td>\n",
       "      <td>2017-07-04</td>\n",
       "      <td>0.757648</td>\n",
       "      <td>0.002076</td>\n",
       "      <td>0.008751</td>\n",
       "      <td>0.814083</td>\n",
       "      <td>0.000408</td>\n",
       "      <td>0.155700</td>\n",
       "      <td>0.004156</td>\n",
       "      <td>...</td>\n",
       "      <td>NaN</td>\n",
       "      <td>NaN</td>\n",
       "      <td>1.000928</td>\n",
       "      <td>0.005655</td>\n",
       "      <td>0.891417</td>\n",
       "      <td>0.14907</td>\n",
       "      <td>1.009381</td>\n",
       "      <td>0.007953</td>\n",
       "      <td>0.095926</td>\n",
       "      <td>0</td>\n",
       "    </tr>\n",
       "    <tr>\n",
       "      <th>2</th>\n",
       "      <td>1488700</td>\n",
       "      <td>4488928018c20bf6261e69c8a94a47b6206a2fe91480b8...</td>\n",
       "      <td>2017-07-29</td>\n",
       "      <td>0.392041</td>\n",
       "      <td>0.005770</td>\n",
       "      <td>0.029682</td>\n",
       "      <td>0.810262</td>\n",
       "      <td>0.006672</td>\n",
       "      <td>0.180378</td>\n",
       "      <td>0.005028</td>\n",
       "      <td>...</td>\n",
       "      <td>NaN</td>\n",
       "      <td>NaN</td>\n",
       "      <td>NaN</td>\n",
       "      <td>NaN</td>\n",
       "      <td>NaN</td>\n",
       "      <td>NaN</td>\n",
       "      <td>NaN</td>\n",
       "      <td>NaN</td>\n",
       "      <td>NaN</td>\n",
       "      <td>1</td>\n",
       "    </tr>\n",
       "    <tr>\n",
       "      <th>3</th>\n",
       "      <td>3174307</td>\n",
       "      <td>9296e983c3e4f99b046952397fc4ba950abf1032a9bd6c...</td>\n",
       "      <td>2017-03-30</td>\n",
       "      <td>0.673978</td>\n",
       "      <td>0.588604</td>\n",
       "      <td>0.295201</td>\n",
       "      <td>0.024650</td>\n",
       "      <td>0.007951</td>\n",
       "      <td>0.125583</td>\n",
       "      <td>0.008760</td>\n",
       "      <td>...</td>\n",
       "      <td>NaN</td>\n",
       "      <td>NaN</td>\n",
       "      <td>0.003558</td>\n",
       "      <td>0.008268</td>\n",
       "      <td>0.000429</td>\n",
       "      <td>NaN</td>\n",
       "      <td>0.005009</td>\n",
       "      <td>0.003020</td>\n",
       "      <td>0.002798</td>\n",
       "      <td>1</td>\n",
       "    </tr>\n",
       "    <tr>\n",
       "      <th>4</th>\n",
       "      <td>1379981</td>\n",
       "      <td>3fa10314686e0e51d8f76235eceab91d70aa3f24a98c3e...</td>\n",
       "      <td>2018-01-17</td>\n",
       "      <td>0.778075</td>\n",
       "      <td>0.006930</td>\n",
       "      <td>0.056721</td>\n",
       "      <td>0.819369</td>\n",
       "      <td>0.004922</td>\n",
       "      <td>0.089214</td>\n",
       "      <td>0.006884</td>\n",
       "      <td>...</td>\n",
       "      <td>NaN</td>\n",
       "      <td>NaN</td>\n",
       "      <td>0.004670</td>\n",
       "      <td>0.000125</td>\n",
       "      <td>0.003151</td>\n",
       "      <td>NaN</td>\n",
       "      <td>0.008442</td>\n",
       "      <td>0.000819</td>\n",
       "      <td>0.000342</td>\n",
       "      <td>0</td>\n",
       "    </tr>\n",
       "  </tbody>\n",
       "</table>\n",
       "<p>5 rows × 192 columns</p>\n",
       "</div>"
      ],
      "text/plain": [
       "   Unnamed: 0                                        customer_ID         S_2  \\\n",
       "0     2518955  743d55408505dee752adc6e62b273f4397db6e89f19034...  2017-08-10   \n",
       "1     1781039  522c85a354bfec790067b54e9db7353d20d4709ae5dc93...  2017-07-04   \n",
       "2     1488700  4488928018c20bf6261e69c8a94a47b6206a2fe91480b8...  2017-07-29   \n",
       "3     3174307  9296e983c3e4f99b046952397fc4ba950abf1032a9bd6c...  2017-03-30   \n",
       "4     1379981  3fa10314686e0e51d8f76235eceab91d70aa3f24a98c3e...  2018-01-17   \n",
       "\n",
       "        P_2      D_39       B_1       B_2       R_1       S_3      D_41  ...  \\\n",
       "0  0.947242  0.002204  0.008002  1.007516  0.002830  0.453227  0.005992  ...   \n",
       "1  0.757648  0.002076  0.008751  0.814083  0.000408  0.155700  0.004156  ...   \n",
       "2  0.392041  0.005770  0.029682  0.810262  0.006672  0.180378  0.005028  ...   \n",
       "3  0.673978  0.588604  0.295201  0.024650  0.007951  0.125583  0.008760  ...   \n",
       "4  0.778075  0.006930  0.056721  0.819369  0.004922  0.089214  0.006884  ...   \n",
       "\n",
       "   D_137  D_138     D_139     D_140     D_141    D_142     D_143     D_144  \\\n",
       "0    NaN    NaN  0.003183  0.005264  0.007173      NaN  0.009359  0.004306   \n",
       "1    NaN    NaN  1.000928  0.005655  0.891417  0.14907  1.009381  0.007953   \n",
       "2    NaN    NaN       NaN       NaN       NaN      NaN       NaN       NaN   \n",
       "3    NaN    NaN  0.003558  0.008268  0.000429      NaN  0.005009  0.003020   \n",
       "4    NaN    NaN  0.004670  0.000125  0.003151      NaN  0.008442  0.000819   \n",
       "\n",
       "      D_145  target  \n",
       "0  0.002719       0  \n",
       "1  0.095926       0  \n",
       "2       NaN       1  \n",
       "3  0.002798       1  \n",
       "4  0.000342       0  \n",
       "\n",
       "[5 rows x 192 columns]"
      ]
     },
     "execution_count": 5,
     "metadata": {},
     "output_type": "execute_result"
    }
   ],
   "source": [
    "df.head()"
   ]
  },
  {
   "cell_type": "code",
   "execution_count": 6,
   "metadata": {},
   "outputs": [
    {
     "name": "stderr",
     "output_type": "stream",
     "text": [
      "C:\\Users\\mlard\\AppData\\Local\\Temp\\ipykernel_7592\\2612161665.py:1: FutureWarning: null_counts is deprecated. Use show_counts instead\n",
      "  df.info(verbose=True, null_counts=True)\n"
     ]
    },
    {
     "name": "stdout",
     "output_type": "stream",
     "text": [
      "<class 'pandas.core.frame.DataFrame'>\n",
      "RangeIndex: 276572 entries, 0 to 276571\n",
      "Data columns (total 192 columns):\n",
      " #    Column       Non-Null Count   Dtype  \n",
      "---   ------       --------------   -----  \n",
      " 0    Unnamed: 0   276572 non-null  int64  \n",
      " 1    customer_ID  276572 non-null  object \n",
      " 2    S_2          276572 non-null  object \n",
      " 3    P_2          274277 non-null  float64\n",
      " 4    D_39         276572 non-null  float64\n",
      " 5    B_1          276572 non-null  float64\n",
      " 6    B_2          276476 non-null  float64\n",
      " 7    R_1          276572 non-null  float64\n",
      " 8    S_3          225400 non-null  float64\n",
      " 9    D_41         276476 non-null  float64\n",
      " 10   B_3          276476 non-null  float64\n",
      " 11   D_42         39357 non-null   float64\n",
      " 12   D_43         193452 non-null  float64\n",
      " 13   D_44         262857 non-null  float64\n",
      " 14   B_4          276572 non-null  float64\n",
      " 15   D_45         276476 non-null  float64\n",
      " 16   B_5          276572 non-null  float64\n",
      " 17   R_2          276572 non-null  float64\n",
      " 18   D_46         215973 non-null  float64\n",
      " 19   D_47         276572 non-null  float64\n",
      " 20   D_48         240733 non-null  float64\n",
      " 21   D_49         27226 non-null   float64\n",
      " 22   B_6          276568 non-null  float64\n",
      " 23   B_7          276572 non-null  float64\n",
      " 24   B_8          275402 non-null  float64\n",
      " 25   D_50         119378 non-null  float64\n",
      " 26   D_51         276572 non-null  float64\n",
      " 27   B_9          276572 non-null  float64\n",
      " 28   R_3          276572 non-null  float64\n",
      " 29   D_52         275080 non-null  float64\n",
      " 30   P_3          261411 non-null  float64\n",
      " 31   B_10         276572 non-null  float64\n",
      " 32   D_53         72394 non-null   float64\n",
      " 33   S_5          276572 non-null  float64\n",
      " 34   B_11         276572 non-null  float64\n",
      " 35   S_6          276572 non-null  float64\n",
      " 36   D_54         276476 non-null  float64\n",
      " 37   R_4          276572 non-null  float64\n",
      " 38   S_7          225400 non-null  float64\n",
      " 39   B_12         276572 non-null  float64\n",
      " 40   S_8          276572 non-null  float64\n",
      " 41   D_55         267353 non-null  float64\n",
      " 42   D_56         126557 non-null  float64\n",
      " 43   B_13         274054 non-null  float64\n",
      " 44   R_5          276572 non-null  float64\n",
      " 45   D_58         276572 non-null  float64\n",
      " 46   S_9          129671 non-null  float64\n",
      " 47   B_14         276572 non-null  float64\n",
      " 48   D_59         271173 non-null  float64\n",
      " 49   D_60         276572 non-null  float64\n",
      " 50   D_61         246765 non-null  float64\n",
      " 51   B_15         276187 non-null  float64\n",
      " 52   S_11         276572 non-null  float64\n",
      " 53   D_62         238680 non-null  float64\n",
      " 54   D_63         276572 non-null  object \n",
      " 55   D_64         265523 non-null  object \n",
      " 56   D_65         276572 non-null  float64\n",
      " 57   B_16         276476 non-null  float64\n",
      " 58   B_17         119556 non-null  float64\n",
      " 59   B_18         276572 non-null  float64\n",
      " 60   B_19         276476 non-null  float64\n",
      " 61   D_66         31108 non-null   float64\n",
      " 62   B_20         276476 non-null  float64\n",
      " 63   D_68         265588 non-null  float64\n",
      " 64   S_12         276572 non-null  float64\n",
      " 65   R_6          276572 non-null  float64\n",
      " 66   S_13         276572 non-null  float64\n",
      " 67   B_21         276572 non-null  float64\n",
      " 68   D_69         266689 non-null  float64\n",
      " 69   B_22         276476 non-null  float64\n",
      " 70   D_70         271759 non-null  float64\n",
      " 71   D_71         276572 non-null  float64\n",
      " 72   D_72         275379 non-null  float64\n",
      " 73   S_15         276572 non-null  float64\n",
      " 74   B_23         276572 non-null  float64\n",
      " 75   D_73         2722 non-null    float64\n",
      " 76   P_4          276572 non-null  float64\n",
      " 77   D_74         275503 non-null  float64\n",
      " 78   D_75         276572 non-null  float64\n",
      " 79   D_76         31123 non-null   float64\n",
      " 80   B_24         276572 non-null  float64\n",
      " 81   R_7          276572 non-null  float64\n",
      " 82   D_77         150464 non-null  float64\n",
      " 83   B_25         276187 non-null  float64\n",
      " 84   B_26         276476 non-null  float64\n",
      " 85   D_78         262857 non-null  float64\n",
      " 86   D_79         272703 non-null  float64\n",
      " 87   R_8          276572 non-null  float64\n",
      " 88   R_9          15681 non-null   float64\n",
      " 89   S_16         276572 non-null  float64\n",
      " 90   D_80         275503 non-null  float64\n",
      " 91   R_10         276572 non-null  float64\n",
      " 92   R_11         276572 non-null  float64\n",
      " 93   B_27         276476 non-null  float64\n",
      " 94   D_81         275282 non-null  float64\n",
      " 95   D_82         73987 non-null   float64\n",
      " 96   S_17         276572 non-null  float64\n",
      " 97   R_12         276572 non-null  float64\n",
      " 98   B_28         276572 non-null  float64\n",
      " 99   R_13         276572 non-null  float64\n",
      " 100  D_83         266689 non-null  float64\n",
      " 101  R_14         276572 non-null  float64\n",
      " 102  R_15         276572 non-null  float64\n",
      " 103  D_84         275080 non-null  float64\n",
      " 104  R_16         276572 non-null  float64\n",
      " 105  B_29         18980 non-null   float64\n",
      " 106  B_30         276476 non-null  float64\n",
      " 107  S_18         276572 non-null  float64\n",
      " 108  D_86         276572 non-null  float64\n",
      " 109  D_87         213 non-null     float64\n",
      " 110  R_17         276572 non-null  float64\n",
      " 111  R_18         276572 non-null  float64\n",
      " 112  D_88         294 non-null     float64\n",
      " 113  B_31         276572 non-null  int64  \n",
      " 114  S_19         276572 non-null  float64\n",
      " 115  R_19         276572 non-null  float64\n",
      " 116  B_32         276572 non-null  float64\n",
      " 117  S_20         276572 non-null  float64\n",
      " 118  R_20         276569 non-null  float64\n",
      " 119  R_21         276572 non-null  float64\n",
      " 120  B_33         276476 non-null  float64\n",
      " 121  D_89         275080 non-null  float64\n",
      " 122  R_22         276572 non-null  float64\n",
      " 123  R_23         276572 non-null  float64\n",
      " 124  D_91         268616 non-null  float64\n",
      " 125  D_92         276572 non-null  float64\n",
      " 126  D_93         276572 non-null  float64\n",
      " 127  D_94         276572 non-null  float64\n",
      " 128  R_24         276572 non-null  float64\n",
      " 129  R_25         276572 non-null  float64\n",
      " 130  D_96         276572 non-null  float64\n",
      " 131  S_22         275654 non-null  float64\n",
      " 132  S_23         276544 non-null  float64\n",
      " 133  S_24         275678 non-null  float64\n",
      " 134  S_25         275863 non-null  float64\n",
      " 135  S_26         276534 non-null  float64\n",
      " 136  D_102        274529 non-null  float64\n",
      " 137  D_103        271433 non-null  float64\n",
      " 138  D_104        271433 non-null  float64\n",
      " 139  D_105        125117 non-null  float64\n",
      " 140  D_106        27014 non-null   float64\n",
      " 141  D_107        271433 non-null  float64\n",
      " 142  B_36         276572 non-null  float64\n",
      " 143  B_37         276567 non-null  float64\n",
      " 144  R_26         30545 non-null   float64\n",
      " 145  R_27         270063 non-null  float64\n",
      " 146  B_38         276476 non-null  float64\n",
      " 147  D_108        1437 non-null    float64\n",
      " 148  D_109        276481 non-null  float64\n",
      " 149  D_110        1602 non-null    float64\n",
      " 150  D_111        1602 non-null    float64\n",
      " 151  B_39         1700 non-null    float64\n",
      " 152  D_112        276438 non-null  float64\n",
      " 153  B_40         276567 non-null  float64\n",
      " 154  S_27         206608 non-null  float64\n",
      " 155  D_113        267644 non-null  float64\n",
      " 156  D_114        267644 non-null  float64\n",
      " 157  D_115        267644 non-null  float64\n",
      " 158  D_116        267644 non-null  float64\n",
      " 159  D_117        267644 non-null  float64\n",
      " 160  D_118        267644 non-null  float64\n",
      " 161  D_119        267644 non-null  float64\n",
      " 162  D_120        267644 non-null  float64\n",
      " 163  D_121        267644 non-null  float64\n",
      " 164  D_122        267644 non-null  float64\n",
      " 165  D_123        267644 non-null  float64\n",
      " 166  D_124        267644 non-null  float64\n",
      " 167  D_125        267644 non-null  float64\n",
      " 168  D_126        270645 non-null  float64\n",
      " 169  D_127        276572 non-null  float64\n",
      " 170  D_128        271433 non-null  float64\n",
      " 171  D_129        271433 non-null  float64\n",
      " 172  B_41         276534 non-null  float64\n",
      " 173  B_42         3626 non-null    float64\n",
      " 174  D_130        271433 non-null  float64\n",
      " 175  D_131        271433 non-null  float64\n",
      " 176  D_132        27085 non-null   float64\n",
      " 177  D_133        274427 non-null  float64\n",
      " 178  R_28         276572 non-null  float64\n",
      " 179  D_134        9538 non-null    float64\n",
      " 180  D_135        9538 non-null    float64\n",
      " 181  D_136        9538 non-null    float64\n",
      " 182  D_137        9538 non-null    float64\n",
      " 183  D_138        9538 non-null    float64\n",
      " 184  D_139        271433 non-null  float64\n",
      " 185  D_140        274530 non-null  float64\n",
      " 186  D_141        271433 non-null  float64\n",
      " 187  D_142        46855 non-null   float64\n",
      " 188  D_143        271433 non-null  float64\n",
      " 189  D_144        274523 non-null  float64\n",
      " 190  D_145        271433 non-null  float64\n",
      " 191  target       276572 non-null  int64  \n",
      "dtypes: float64(185), int64(3), object(4)\n",
      "memory usage: 405.1+ MB\n"
     ]
    }
   ],
   "source": [
    "df.info(verbose=True, null_counts=True)"
   ]
  },
  {
   "cell_type": "code",
   "execution_count": 7,
   "metadata": {},
   "outputs": [
    {
     "data": {
      "text/plain": [
       "['customer_ID', 'S_2', 'D_63', 'D_64']"
      ]
     },
     "execution_count": 7,
     "metadata": {},
     "output_type": "execute_result"
    }
   ],
   "source": [
    "#Muestro las columnas de tipo object\n",
    "cole = [column for column in df.columns if df[column].dtype == 'object']\n",
    "cole"
   ]
  },
  {
   "cell_type": "code",
   "execution_count": 8,
   "metadata": {},
   "outputs": [
    {
     "data": {
      "text/html": [
       "<div>\n",
       "<style scoped>\n",
       "    .dataframe tbody tr th:only-of-type {\n",
       "        vertical-align: middle;\n",
       "    }\n",
       "\n",
       "    .dataframe tbody tr th {\n",
       "        vertical-align: top;\n",
       "    }\n",
       "\n",
       "    .dataframe thead th {\n",
       "        text-align: right;\n",
       "    }\n",
       "</style>\n",
       "<table border=\"1\" class=\"dataframe\">\n",
       "  <thead>\n",
       "    <tr style=\"text-align: right;\">\n",
       "      <th></th>\n",
       "      <th>Unnamed: 0</th>\n",
       "      <th>customer_ID</th>\n",
       "      <th>S_2</th>\n",
       "      <th>P_2</th>\n",
       "      <th>D_39</th>\n",
       "      <th>B_1</th>\n",
       "      <th>B_2</th>\n",
       "      <th>R_1</th>\n",
       "      <th>S_3</th>\n",
       "      <th>D_41</th>\n",
       "      <th>...</th>\n",
       "      <th>D_137</th>\n",
       "      <th>D_138</th>\n",
       "      <th>D_139</th>\n",
       "      <th>D_140</th>\n",
       "      <th>D_141</th>\n",
       "      <th>D_142</th>\n",
       "      <th>D_143</th>\n",
       "      <th>D_144</th>\n",
       "      <th>D_145</th>\n",
       "      <th>target</th>\n",
       "    </tr>\n",
       "  </thead>\n",
       "  <tbody>\n",
       "    <tr>\n",
       "      <th>198650</th>\n",
       "      <td>2482449</td>\n",
       "      <td>72995ba8a9aed809b29c79b86c83b67d4868893bfc1d3e...</td>\n",
       "      <td>2017-04-29</td>\n",
       "      <td>0.335150</td>\n",
       "      <td>0.005425</td>\n",
       "      <td>0.023604</td>\n",
       "      <td>1.003248</td>\n",
       "      <td>0.009384</td>\n",
       "      <td>0.602965</td>\n",
       "      <td>0.143077</td>\n",
       "      <td>...</td>\n",
       "      <td>NaN</td>\n",
       "      <td>NaN</td>\n",
       "      <td>0.007661</td>\n",
       "      <td>0.009246</td>\n",
       "      <td>0.007283</td>\n",
       "      <td>NaN</td>\n",
       "      <td>0.005463</td>\n",
       "      <td>0.006681</td>\n",
       "      <td>0.000507</td>\n",
       "      <td>0</td>\n",
       "    </tr>\n",
       "    <tr>\n",
       "      <th>97632</th>\n",
       "      <td>5141396</td>\n",
       "      <td>edce8f9f454729cca645e6d188884d7988bbd6bdad28c4...</td>\n",
       "      <td>2017-10-06</td>\n",
       "      <td>0.814842</td>\n",
       "      <td>0.475176</td>\n",
       "      <td>0.196171</td>\n",
       "      <td>0.150567</td>\n",
       "      <td>0.001888</td>\n",
       "      <td>0.257152</td>\n",
       "      <td>0.007628</td>\n",
       "      <td>...</td>\n",
       "      <td>NaN</td>\n",
       "      <td>NaN</td>\n",
       "      <td>0.007426</td>\n",
       "      <td>0.006177</td>\n",
       "      <td>0.000326</td>\n",
       "      <td>NaN</td>\n",
       "      <td>0.000285</td>\n",
       "      <td>0.006216</td>\n",
       "      <td>0.002280</td>\n",
       "      <td>1</td>\n",
       "    </tr>\n",
       "    <tr>\n",
       "      <th>128810</th>\n",
       "      <td>1971572</td>\n",
       "      <td>5b03f03c26b951d066b96a745ae9c4d69b681dcd6604c2...</td>\n",
       "      <td>2017-05-20</td>\n",
       "      <td>0.234256</td>\n",
       "      <td>0.008295</td>\n",
       "      <td>0.004448</td>\n",
       "      <td>0.814035</td>\n",
       "      <td>0.001904</td>\n",
       "      <td>NaN</td>\n",
       "      <td>0.001395</td>\n",
       "      <td>...</td>\n",
       "      <td>NaN</td>\n",
       "      <td>NaN</td>\n",
       "      <td>0.003123</td>\n",
       "      <td>0.005433</td>\n",
       "      <td>0.007443</td>\n",
       "      <td>NaN</td>\n",
       "      <td>0.008505</td>\n",
       "      <td>0.006112</td>\n",
       "      <td>0.006744</td>\n",
       "      <td>0</td>\n",
       "    </tr>\n",
       "    <tr>\n",
       "      <th>27802</th>\n",
       "      <td>3531462</td>\n",
       "      <td>a324b2216cf5039c9e3fbe3469f6e0febdfd74f1af9c08...</td>\n",
       "      <td>2017-10-25</td>\n",
       "      <td>0.850700</td>\n",
       "      <td>0.478909</td>\n",
       "      <td>0.091123</td>\n",
       "      <td>0.188402</td>\n",
       "      <td>0.003317</td>\n",
       "      <td>0.281097</td>\n",
       "      <td>0.005856</td>\n",
       "      <td>...</td>\n",
       "      <td>NaN</td>\n",
       "      <td>NaN</td>\n",
       "      <td>0.009347</td>\n",
       "      <td>0.008145</td>\n",
       "      <td>0.005867</td>\n",
       "      <td>NaN</td>\n",
       "      <td>0.008070</td>\n",
       "      <td>0.004193</td>\n",
       "      <td>0.009096</td>\n",
       "      <td>0</td>\n",
       "    </tr>\n",
       "    <tr>\n",
       "      <th>77615</th>\n",
       "      <td>3549656</td>\n",
       "      <td>a3f78503dec93e1e2a621665c3522377fcf27aefda7b8a...</td>\n",
       "      <td>2017-11-29</td>\n",
       "      <td>0.716824</td>\n",
       "      <td>0.648934</td>\n",
       "      <td>0.069095</td>\n",
       "      <td>0.237028</td>\n",
       "      <td>0.008042</td>\n",
       "      <td>0.289571</td>\n",
       "      <td>0.004184</td>\n",
       "      <td>...</td>\n",
       "      <td>NaN</td>\n",
       "      <td>NaN</td>\n",
       "      <td>0.006201</td>\n",
       "      <td>0.001866</td>\n",
       "      <td>0.003143</td>\n",
       "      <td>NaN</td>\n",
       "      <td>0.003538</td>\n",
       "      <td>0.005706</td>\n",
       "      <td>0.000863</td>\n",
       "      <td>0</td>\n",
       "    </tr>\n",
       "    <tr>\n",
       "      <th>164149</th>\n",
       "      <td>4299463</td>\n",
       "      <td>c6bc01fc5cc51cd7ed2e02e03f0ec4b724182bf3a10721...</td>\n",
       "      <td>2017-11-01</td>\n",
       "      <td>0.978547</td>\n",
       "      <td>0.568539</td>\n",
       "      <td>0.008888</td>\n",
       "      <td>1.009416</td>\n",
       "      <td>0.007011</td>\n",
       "      <td>0.070367</td>\n",
       "      <td>0.002061</td>\n",
       "      <td>...</td>\n",
       "      <td>NaN</td>\n",
       "      <td>NaN</td>\n",
       "      <td>0.009376</td>\n",
       "      <td>0.000241</td>\n",
       "      <td>0.003509</td>\n",
       "      <td>NaN</td>\n",
       "      <td>0.005273</td>\n",
       "      <td>0.003701</td>\n",
       "      <td>0.004312</td>\n",
       "      <td>0</td>\n",
       "    </tr>\n",
       "    <tr>\n",
       "      <th>261646</th>\n",
       "      <td>1958181</td>\n",
       "      <td>5a60ee2f5aa274a83895bfa616d51cbe1a4303c4047932...</td>\n",
       "      <td>2018-03-30</td>\n",
       "      <td>0.840129</td>\n",
       "      <td>0.007876</td>\n",
       "      <td>0.014911</td>\n",
       "      <td>1.007606</td>\n",
       "      <td>0.009170</td>\n",
       "      <td>0.247972</td>\n",
       "      <td>0.003636</td>\n",
       "      <td>...</td>\n",
       "      <td>NaN</td>\n",
       "      <td>NaN</td>\n",
       "      <td>0.009834</td>\n",
       "      <td>0.000485</td>\n",
       "      <td>0.003385</td>\n",
       "      <td>NaN</td>\n",
       "      <td>0.003768</td>\n",
       "      <td>0.008844</td>\n",
       "      <td>0.008359</td>\n",
       "      <td>0</td>\n",
       "    </tr>\n",
       "    <tr>\n",
       "      <th>80976</th>\n",
       "      <td>2781093</td>\n",
       "      <td>805a96ed4ba10000b00a291affc180bea0bf2ea968eb53...</td>\n",
       "      <td>2017-07-19</td>\n",
       "      <td>0.263179</td>\n",
       "      <td>0.506360</td>\n",
       "      <td>0.224436</td>\n",
       "      <td>0.031448</td>\n",
       "      <td>0.508386</td>\n",
       "      <td>0.438056</td>\n",
       "      <td>0.004145</td>\n",
       "      <td>...</td>\n",
       "      <td>NaN</td>\n",
       "      <td>NaN</td>\n",
       "      <td>0.005897</td>\n",
       "      <td>0.002402</td>\n",
       "      <td>0.003572</td>\n",
       "      <td>NaN</td>\n",
       "      <td>0.006920</td>\n",
       "      <td>0.000519</td>\n",
       "      <td>0.001538</td>\n",
       "      <td>0</td>\n",
       "    </tr>\n",
       "    <tr>\n",
       "      <th>25500</th>\n",
       "      <td>3136862</td>\n",
       "      <td>90d783638c3cf065bedabe223fa3b0191148866fe2066b...</td>\n",
       "      <td>2017-11-13</td>\n",
       "      <td>0.890093</td>\n",
       "      <td>0.036138</td>\n",
       "      <td>0.184419</td>\n",
       "      <td>0.358323</td>\n",
       "      <td>0.006647</td>\n",
       "      <td>0.177796</td>\n",
       "      <td>0.001718</td>\n",
       "      <td>...</td>\n",
       "      <td>NaN</td>\n",
       "      <td>NaN</td>\n",
       "      <td>0.001334</td>\n",
       "      <td>0.008802</td>\n",
       "      <td>0.009138</td>\n",
       "      <td>NaN</td>\n",
       "      <td>0.009515</td>\n",
       "      <td>0.006639</td>\n",
       "      <td>0.008377</td>\n",
       "      <td>0</td>\n",
       "    </tr>\n",
       "    <tr>\n",
       "      <th>2625</th>\n",
       "      <td>3970690</td>\n",
       "      <td>b777c65b5d54427e3d4064c789497eb14b70f023a11176...</td>\n",
       "      <td>2018-02-04</td>\n",
       "      <td>0.927651</td>\n",
       "      <td>0.001034</td>\n",
       "      <td>0.036559</td>\n",
       "      <td>1.005100</td>\n",
       "      <td>0.001485</td>\n",
       "      <td>0.089312</td>\n",
       "      <td>0.000651</td>\n",
       "      <td>...</td>\n",
       "      <td>NaN</td>\n",
       "      <td>NaN</td>\n",
       "      <td>0.002366</td>\n",
       "      <td>0.003524</td>\n",
       "      <td>0.007938</td>\n",
       "      <td>NaN</td>\n",
       "      <td>0.009326</td>\n",
       "      <td>0.005122</td>\n",
       "      <td>0.004013</td>\n",
       "      <td>0</td>\n",
       "    </tr>\n",
       "  </tbody>\n",
       "</table>\n",
       "<p>10 rows × 192 columns</p>\n",
       "</div>"
      ],
      "text/plain": [
       "        Unnamed: 0                                        customer_ID  \\\n",
       "198650     2482449  72995ba8a9aed809b29c79b86c83b67d4868893bfc1d3e...   \n",
       "97632      5141396  edce8f9f454729cca645e6d188884d7988bbd6bdad28c4...   \n",
       "128810     1971572  5b03f03c26b951d066b96a745ae9c4d69b681dcd6604c2...   \n",
       "27802      3531462  a324b2216cf5039c9e3fbe3469f6e0febdfd74f1af9c08...   \n",
       "77615      3549656  a3f78503dec93e1e2a621665c3522377fcf27aefda7b8a...   \n",
       "164149     4299463  c6bc01fc5cc51cd7ed2e02e03f0ec4b724182bf3a10721...   \n",
       "261646     1958181  5a60ee2f5aa274a83895bfa616d51cbe1a4303c4047932...   \n",
       "80976      2781093  805a96ed4ba10000b00a291affc180bea0bf2ea968eb53...   \n",
       "25500      3136862  90d783638c3cf065bedabe223fa3b0191148866fe2066b...   \n",
       "2625       3970690  b777c65b5d54427e3d4064c789497eb14b70f023a11176...   \n",
       "\n",
       "               S_2       P_2      D_39       B_1       B_2       R_1  \\\n",
       "198650  2017-04-29  0.335150  0.005425  0.023604  1.003248  0.009384   \n",
       "97632   2017-10-06  0.814842  0.475176  0.196171  0.150567  0.001888   \n",
       "128810  2017-05-20  0.234256  0.008295  0.004448  0.814035  0.001904   \n",
       "27802   2017-10-25  0.850700  0.478909  0.091123  0.188402  0.003317   \n",
       "77615   2017-11-29  0.716824  0.648934  0.069095  0.237028  0.008042   \n",
       "164149  2017-11-01  0.978547  0.568539  0.008888  1.009416  0.007011   \n",
       "261646  2018-03-30  0.840129  0.007876  0.014911  1.007606  0.009170   \n",
       "80976   2017-07-19  0.263179  0.506360  0.224436  0.031448  0.508386   \n",
       "25500   2017-11-13  0.890093  0.036138  0.184419  0.358323  0.006647   \n",
       "2625    2018-02-04  0.927651  0.001034  0.036559  1.005100  0.001485   \n",
       "\n",
       "             S_3      D_41  ...  D_137  D_138     D_139     D_140     D_141  \\\n",
       "198650  0.602965  0.143077  ...    NaN    NaN  0.007661  0.009246  0.007283   \n",
       "97632   0.257152  0.007628  ...    NaN    NaN  0.007426  0.006177  0.000326   \n",
       "128810       NaN  0.001395  ...    NaN    NaN  0.003123  0.005433  0.007443   \n",
       "27802   0.281097  0.005856  ...    NaN    NaN  0.009347  0.008145  0.005867   \n",
       "77615   0.289571  0.004184  ...    NaN    NaN  0.006201  0.001866  0.003143   \n",
       "164149  0.070367  0.002061  ...    NaN    NaN  0.009376  0.000241  0.003509   \n",
       "261646  0.247972  0.003636  ...    NaN    NaN  0.009834  0.000485  0.003385   \n",
       "80976   0.438056  0.004145  ...    NaN    NaN  0.005897  0.002402  0.003572   \n",
       "25500   0.177796  0.001718  ...    NaN    NaN  0.001334  0.008802  0.009138   \n",
       "2625    0.089312  0.000651  ...    NaN    NaN  0.002366  0.003524  0.007938   \n",
       "\n",
       "        D_142     D_143     D_144     D_145  target  \n",
       "198650    NaN  0.005463  0.006681  0.000507       0  \n",
       "97632     NaN  0.000285  0.006216  0.002280       1  \n",
       "128810    NaN  0.008505  0.006112  0.006744       0  \n",
       "27802     NaN  0.008070  0.004193  0.009096       0  \n",
       "77615     NaN  0.003538  0.005706  0.000863       0  \n",
       "164149    NaN  0.005273  0.003701  0.004312       0  \n",
       "261646    NaN  0.003768  0.008844  0.008359       0  \n",
       "80976     NaN  0.006920  0.000519  0.001538       0  \n",
       "25500     NaN  0.009515  0.006639  0.008377       0  \n",
       "2625      NaN  0.009326  0.005122  0.004013       0  \n",
       "\n",
       "[10 rows x 192 columns]"
      ]
     },
     "execution_count": 8,
     "metadata": {},
     "output_type": "execute_result"
    }
   ],
   "source": [
    "df.sample(10)"
   ]
  },
  {
   "cell_type": "markdown",
   "metadata": {},
   "source": [
    "American Airlines en la descripcion de la data del dataset define:\n",
    "\n",
    "D_* = Delinquency variables\n",
    "S_* = Spend variables\n",
    "P_* = Payment variables\n",
    "B_* = Balance variables\n",
    "R_* = Risk variables\n",
    "\n",
    "Por lo tanto las letras de los nombres de las columnas ya sabemos a que hacen referencia. Nos queda por deducir a que hace referencia el numero que le sigue a la letra.\n",
    "(Se podria suponer que el numero hace referencia a un individuo, o a un vuelo ?)"
   ]
  },
  {
   "cell_type": "code",
   "execution_count": 9,
   "metadata": {},
   "outputs": [],
   "source": [
    "#las variables categoricas que presenta American Airlines\n",
    "categoricas = ['B_30', 'B_38', 'D_114', 'D_116', 'D_117', 'D_120', 'D_126', 'D_63', 'D_64', 'D_66', 'D_68']"
   ]
  },
  {
   "cell_type": "code",
   "execution_count": 10,
   "metadata": {},
   "outputs": [
    {
     "data": {
      "text/plain": [
       "Unnamed: 0          0\n",
       "customer_ID         0\n",
       "S_2                 0\n",
       "P_2              2295\n",
       "D_39                0\n",
       "                ...  \n",
       "D_142          229717\n",
       "D_143            5139\n",
       "D_144            2049\n",
       "D_145            5139\n",
       "target              0\n",
       "Length: 192, dtype: int64"
      ]
     },
     "execution_count": 10,
     "metadata": {},
     "output_type": "execute_result"
    }
   ],
   "source": [
    "df.isnull().sum()"
   ]
  },
  {
   "cell_type": "code",
   "execution_count": 11,
   "metadata": {},
   "outputs": [
    {
     "data": {
      "text/plain": [
       "customer_ID\n",
       "a19c49b64f5eea11b318c4c61bcc151d93c48bf8baa782211d3d9e66577095f6    7\n",
       "d29fcecb3105a8d463b8f0292a9617f4b52a9bfe6b90e2b60d9961814880280f    6\n",
       "5e932111d5a199c9bbefa64ccb1ca44ea43c9440af73c9d8f43ea119e74c1ce7    6\n",
       "5e08357268f0bf1066130b754f5c850a9ce83d5833b4ef9af6d6ddc5e764a27d    6\n",
       "a947b96a507d35fe5b66587e12ae7a87a057d27c44d002ffb341a2e501cb9a53    6\n",
       "                                                                   ..\n",
       "8316c95fb178243bf9969efc2cbfe4e80ac610e0d019496c083cb85cca6153be    1\n",
       "8317b681e31ff5b723e9714177602f98090084d56ddbd190867a149fecc2fa22    1\n",
       "23cb2c7cfc227cb7be4009ea8df22c2909e7fab8301e861dc2df4335e0d85dac    1\n",
       "8318884b9d7bb60770eae665624d2a5ce77b8a06c88ee19cb53fa4187aaf31a2    1\n",
       "38a00b5320f6b4b9b721f87e5ba722f8a4f8d12f2aa3ea9ba3223e72888b1bb5    1\n",
       "Length: 208766, dtype: int64"
      ]
     },
     "execution_count": 11,
     "metadata": {},
     "output_type": "execute_result"
    }
   ],
   "source": [
    "df.groupby(\"customer_ID\").size().sort_values(ascending = False)"
   ]
  },
  {
   "cell_type": "code",
   "execution_count": 12,
   "metadata": {},
   "outputs": [
    {
     "data": {
      "text/plain": [
       "0"
      ]
     },
     "execution_count": 12,
     "metadata": {},
     "output_type": "execute_result"
    }
   ],
   "source": [
    "df.duplicated().isnull().sum()\n",
    "###no tiene duplicados"
   ]
  },
  {
   "cell_type": "code",
   "execution_count": 13,
   "metadata": {},
   "outputs": [
    {
     "data": {
      "text/html": [
       "<div>\n",
       "<style scoped>\n",
       "    .dataframe tbody tr th:only-of-type {\n",
       "        vertical-align: middle;\n",
       "    }\n",
       "\n",
       "    .dataframe tbody tr th {\n",
       "        vertical-align: top;\n",
       "    }\n",
       "\n",
       "    .dataframe thead th {\n",
       "        text-align: right;\n",
       "    }\n",
       "</style>\n",
       "<table border=\"1\" class=\"dataframe\">\n",
       "  <thead>\n",
       "    <tr style=\"text-align: right;\">\n",
       "      <th></th>\n",
       "      <th>Unnamed: 0</th>\n",
       "      <th>customer_ID</th>\n",
       "      <th>S_2</th>\n",
       "      <th>P_2</th>\n",
       "      <th>D_39</th>\n",
       "      <th>B_1</th>\n",
       "      <th>B_2</th>\n",
       "      <th>R_1</th>\n",
       "      <th>S_3</th>\n",
       "      <th>D_41</th>\n",
       "      <th>...</th>\n",
       "      <th>D_137</th>\n",
       "      <th>D_138</th>\n",
       "      <th>D_139</th>\n",
       "      <th>D_140</th>\n",
       "      <th>D_141</th>\n",
       "      <th>D_142</th>\n",
       "      <th>D_143</th>\n",
       "      <th>D_144</th>\n",
       "      <th>D_145</th>\n",
       "      <th>target</th>\n",
       "    </tr>\n",
       "  </thead>\n",
       "  <tbody>\n",
       "    <tr>\n",
       "      <th>60755</th>\n",
       "      <td>2763825</td>\n",
       "      <td>7f8bad340abc5d94482f7db1f89a37b17471d708c69ae1...</td>\n",
       "      <td>2018-01-14</td>\n",
       "      <td>0.645086</td>\n",
       "      <td>0.009651</td>\n",
       "      <td>0.023724</td>\n",
       "      <td>1.007245</td>\n",
       "      <td>0.005181</td>\n",
       "      <td>1.370044</td>\n",
       "      <td>0.001932</td>\n",
       "      <td>...</td>\n",
       "      <td>NaN</td>\n",
       "      <td>NaN</td>\n",
       "      <td>0.002274</td>\n",
       "      <td>0.001682</td>\n",
       "      <td>0.006578</td>\n",
       "      <td>NaN</td>\n",
       "      <td>0.005607</td>\n",
       "      <td>0.008905</td>\n",
       "      <td>0.00506</td>\n",
       "      <td>0</td>\n",
       "    </tr>\n",
       "  </tbody>\n",
       "</table>\n",
       "<p>1 rows × 192 columns</p>\n",
       "</div>"
      ],
      "text/plain": [
       "       Unnamed: 0                                        customer_ID  \\\n",
       "60755     2763825  7f8bad340abc5d94482f7db1f89a37b17471d708c69ae1...   \n",
       "\n",
       "              S_2       P_2      D_39       B_1       B_2       R_1       S_3  \\\n",
       "60755  2018-01-14  0.645086  0.009651  0.023724  1.007245  0.005181  1.370044   \n",
       "\n",
       "           D_41  ...  D_137  D_138     D_139     D_140     D_141  D_142  \\\n",
       "60755  0.001932  ...    NaN    NaN  0.002274  0.001682  0.006578    NaN   \n",
       "\n",
       "          D_143     D_144    D_145  target  \n",
       "60755  0.005607  0.008905  0.00506       0  \n",
       "\n",
       "[1 rows x 192 columns]"
      ]
     },
     "execution_count": 13,
     "metadata": {},
     "output_type": "execute_result"
    }
   ],
   "source": [
    "df.sample(1)"
   ]
  },
  {
   "cell_type": "code",
   "execution_count": 14,
   "metadata": {},
   "outputs": [
    {
     "data": {
      "text/plain": [
       "Index(['Unnamed: 0', 'customer_ID', 'S_2', 'P_2', 'D_39', 'B_1', 'B_2', 'R_1',\n",
       "       'S_3', 'D_41',\n",
       "       ...\n",
       "       'D_137', 'D_138', 'D_139', 'D_140', 'D_141', 'D_142', 'D_143', 'D_144',\n",
       "       'D_145', 'target'],\n",
       "      dtype='object', length=192)"
      ]
     },
     "execution_count": 14,
     "metadata": {},
     "output_type": "execute_result"
    }
   ],
   "source": [
    "df.columns"
   ]
  },
  {
   "cell_type": "markdown",
   "metadata": {},
   "source": [
    "Mostramos la cantidad de columnas que tiene cada tipo de variable"
   ]
  },
  {
   "cell_type": "code",
   "execution_count": 15,
   "metadata": {},
   "outputs": [
    {
     "name": "stdout",
     "output_type": "stream",
     "text": [
      "Number of Delinquency variables: 96\n",
      "Number of Spend variables: 22\n",
      "Number of Payment variables: 3\n",
      "Number of Balance variables: 40\n",
      "Number of Risk variables: 28\n",
      "Total variable counts: 189\n"
     ]
    }
   ],
   "source": [
    "d_feats = [c for c in df.columns if c.startswith('D_')]\n",
    "s_feats = [c for c in df.columns if c.startswith('S_')]\n",
    "p_feats = [c for c in df.columns if c.startswith('P_')]\n",
    "b_feats = [c for c in df.columns if c.startswith('B_')]\n",
    "r_feats = [c for c in df.columns if c.startswith('R_')]\n",
    "print(f'Number of Delinquency variables: {len(d_feats)}')\n",
    "print(f'Number of Spend variables: {len(s_feats)}')\n",
    "print(f'Number of Payment variables: {len(p_feats)}')\n",
    "print(f'Number of Balance variables: {len(b_feats)}')\n",
    "print(f'Number of Risk variables: {len(r_feats)}')\n",
    "print(f'Total variable counts: {len(d_feats)+ len(s_feats)+ len(p_feats) + len(b_feats) + len(r_feats)}')"
   ]
  },
  {
   "cell_type": "markdown",
   "metadata": {},
   "source": [
    "Analizamos la columna que muestra fechas"
   ]
  },
  {
   "cell_type": "code",
   "execution_count": 16,
   "metadata": {},
   "outputs": [],
   "source": [
    "df['S_2'] = pd.to_datetime(df['S_2'])"
   ]
  },
  {
   "cell_type": "code",
   "execution_count": 17,
   "metadata": {},
   "outputs": [
    {
     "data": {
      "text/plain": [
       "<AxesSubplot:>"
      ]
     },
     "execution_count": 17,
     "metadata": {},
     "output_type": "execute_result"
    },
    {
     "data": {
      "image/png": "[encoded data removed]",
      "text/plain": [
       "<Figure size 432x288 with 1 Axes>"
      ]
     },
     "metadata": {
      "needs_background": "light"
     },
     "output_type": "display_data"
    }
   ],
   "source": [
    "df.S_2.dt.year.value_counts().plot(kind = 'barh')"
   ]
  },
  {
   "cell_type": "code",
   "execution_count": 18,
   "metadata": {},
   "outputs": [
    {
     "data": {
      "text/plain": [
       "<AxesSubplot:>"
      ]
     },
     "execution_count": 18,
     "metadata": {},
     "output_type": "execute_result"
    },
    {
     "data": {
      "image/png": "[encoded data removed]",
      "text/plain": [
       "<Figure size 432x288 with 1 Axes>"
      ]
     },
     "metadata": {
      "needs_background": "light"
     },
     "output_type": "display_data"
    }
   ],
   "source": [
    "df.S_2.dt.month.value_counts().sort_index().plot(kind = 'bar')"
   ]
  },
  {
   "cell_type": "code",
   "execution_count": 19,
   "metadata": {},
   "outputs": [
    {
     "data": {
      "text/plain": [
       "<AxesSubplot:>"
      ]
     },
     "execution_count": 19,
     "metadata": {},
     "output_type": "execute_result"
    },
    {
     "data": {
      "image/png": "[encoded data removed]",
      "text/plain": [
       "<Figure size 432x288 with 1 Axes>"
      ]
     },
     "metadata": {
      "needs_background": "light"
     },
     "output_type": "display_data"
    }
   ],
   "source": [
    "df.S_2.dt.day.value_counts().sort_index().plot(kind = 'bar')"
   ]
  },
  {
   "cell_type": "markdown",
   "metadata": {},
   "source": [
    "Vemos cantidad de valores nulos que tiene cada columna"
   ]
  },
  {
   "cell_type": "code",
   "execution_count": 20,
   "metadata": {},
   "outputs": [
    {
     "data": {
      "text/plain": [
       "D_87      276359\n",
       "D_88      276278\n",
       "D_108     275135\n",
       "D_110     274970\n",
       "D_111     274970\n",
       "           ...  \n",
       "B_24           0\n",
       "D_75           0\n",
       "P_4            0\n",
       "B_23           0\n",
       "target         0\n",
       "Length: 192, dtype: int64"
      ]
     },
     "execution_count": 20,
     "metadata": {},
     "output_type": "execute_result"
    }
   ],
   "source": [
    "df.isnull().sum().sort_values(ascending = False)"
   ]
  },
  {
   "cell_type": "markdown",
   "metadata": {},
   "source": [
    "El porcentaje de valores nulos que tiene cada columna"
   ]
  },
  {
   "cell_type": "code",
   "execution_count": 21,
   "metadata": {},
   "outputs": [
    {
     "data": {
      "text/plain": [
       "D_87      0.999230\n",
       "D_88      0.998937\n",
       "D_108     0.994804\n",
       "D_110     0.994208\n",
       "D_111     0.994208\n",
       "            ...   \n",
       "B_24      0.000000\n",
       "D_75      0.000000\n",
       "P_4       0.000000\n",
       "B_23      0.000000\n",
       "target    0.000000\n",
       "Length: 192, dtype: float64"
      ]
     },
     "execution_count": 21,
     "metadata": {},
     "output_type": "execute_result"
    }
   ],
   "source": [
    "df.isnull().sum().sort_values(ascending = False)/df.shape[0] "
   ]
  },
  {
   "cell_type": "code",
   "execution_count": 22,
   "metadata": {},
   "outputs": [
    {
     "name": "stdout",
     "output_type": "stream",
     "text": [
      "# Columns having more than 45 percent missing values:  31\n",
      "Columns:\n",
      " ['D_88', 'D_111', 'D_110', 'D_77', 'R_26', 'D_49', 'B_39', 'D_53', 'D_50', 'D_82', 'D_108', 'D_132', 'D_105', 'D_56', 'D_42', 'D_76', 'D_73', 'B_42', 'D_138', 'S_9', 'B_17', 'D_134', 'D_66', 'D_106', 'D_135', 'D_87', 'D_136', 'D_137', 'D_142', 'R_9', 'B_29']\n"
     ]
    },
    {
     "name": "stderr",
     "output_type": "stream",
     "text": [
      "C:\\Users\\mlard\\AppData\\Local\\Temp\\ipykernel_7592\\2948624976.py:3: FutureWarning: In a future version of pandas all arguments of DataFrame.drop except for the argument 'labels' will be keyword-only.\n",
      "  l = list(dff.drop(dff.loc[:,list((100*(dff.isnull().sum()/len(dff.index)) >= threshold))].columns, 1).columns.values)\n"
     ]
    }
   ],
   "source": [
    "def rmissingvaluecol(dff, threshold):\n",
    "    l = []\n",
    "    l = list(dff.drop(dff.loc[:,list((100*(dff.isnull().sum()/len(dff.index)) >= threshold))].columns, 1).columns.values)\n",
    "    print(\"# Columns having more than %s percent missing values: \"%threshold, (dff.shape[1] - len(l)))\n",
    "    print(\"Columns:\\n\", list(set(list((dff.columns.values))) - set(l)))\n",
    "    return l\n",
    "\n",
    "\n",
    "filterscolumnsname = rmissingvaluecol(df,45)"
   ]
  },
  {
   "cell_type": "code",
   "execution_count": 23,
   "metadata": {},
   "outputs": [],
   "source": [
    "#funcion para eliminar rows en base a porcentaje de nans en cada row (no es relevante al parecer usar esta funcion)\n",
    "def rmissingvaluerow(df, perc):\n",
    "    min_count =  int(((100-perc)/100)*df.shape[1] + 1)\n",
    "    mod_df = df.dropna( axis=0, thresh=min_count)\n",
    "    return mod_df"
   ]
  },
  {
   "cell_type": "code",
   "execution_count": 24,
   "metadata": {},
   "outputs": [],
   "source": [
    "dff = df[filterscolumnsname]"
   ]
  },
  {
   "cell_type": "code",
   "execution_count": 25,
   "metadata": {},
   "outputs": [
    {
     "data": {
      "text/plain": [
       "(276572, 161)"
      ]
     },
     "execution_count": 25,
     "metadata": {},
     "output_type": "execute_result"
    }
   ],
   "source": [
    "dff.shape"
   ]
  },
  {
   "cell_type": "code",
   "execution_count": 26,
   "metadata": {},
   "outputs": [
    {
     "data": {
      "text/plain": [
       "D_43      0.300537\n",
       "S_27      0.252968\n",
       "D_46      0.219108\n",
       "S_3       0.185022\n",
       "S_7       0.185022\n",
       "            ...   \n",
       "B_23      0.000000\n",
       "S_15      0.000000\n",
       "D_71      0.000000\n",
       "B_21      0.000000\n",
       "target    0.000000\n",
       "Length: 161, dtype: float64"
      ]
     },
     "execution_count": 26,
     "metadata": {},
     "output_type": "execute_result"
    }
   ],
   "source": [
    "dff.isnull().sum().sort_values(ascending = False)/dff.shape[0] "
   ]
  },
  {
   "cell_type": "code",
   "execution_count": 27,
   "metadata": {},
   "outputs": [
    {
     "name": "stdout",
     "output_type": "stream",
     "text": [
      "cantidad de registros originales: 276572\n",
      "cantidad de registros finales: 276572\n",
      "Eliminamos el 0.0 % de los registros\n"
     ]
    }
   ],
   "source": [
    "print(\"cantidad de registros originales: \"+str(df_copy.shape[0]))\n",
    "print(\"cantidad de registros finales: \"+str(dff.shape[0]))\n",
    "\n",
    "porcentaje=(df_copy.shape[0]-dff.shape[0])/df_copy.shape[0]*100\n",
    "\n",
    "print(\"Eliminamos el \"+str(porcentaje)+\" % de los registros\")\n",
    "#No pierdo ninguna fila al eliminar estas columnas"
   ]
  },
  {
   "cell_type": "markdown",
   "metadata": {},
   "source": [
    "Cantidad de columnas que tiene cada tipo de variable, con limpieza de datos"
   ]
  },
  {
   "cell_type": "code",
   "execution_count": 28,
   "metadata": {},
   "outputs": [
    {
     "name": "stdout",
     "output_type": "stream",
     "text": [
      "Number of Delinquency variables: 72\n",
      "Number of Spend variables: 21\n",
      "Number of Payment variables: 3\n",
      "Number of Balance variables: 36\n",
      "Number of Risk variables: 26\n",
      "Total variable counts: 158\n"
     ]
    }
   ],
   "source": [
    "d_feats = [c for c in dff.columns if c.startswith('D_')]\n",
    "s_feats = [c for c in dff.columns if c.startswith('S_')]\n",
    "p_feats = [c for c in dff.columns if c.startswith('P_')]\n",
    "b_feats = [c for c in dff.columns if c.startswith('B_')]\n",
    "r_feats = [c for c in dff.columns if c.startswith('R_')]\n",
    "print(f'Number of Delinquency variables: {len(d_feats)}')\n",
    "print(f'Number of Spend variables: {len(s_feats)}')\n",
    "print(f'Number of Payment variables: {len(p_feats)}')\n",
    "print(f'Number of Balance variables: {len(b_feats)}')\n",
    "print(f'Number of Risk variables: {len(r_feats)}')\n",
    "print(f'Total variable counts: {len(d_feats)+ len(s_feats)+ len(p_feats) + len(b_feats) + len(r_feats)}')"
   ]
  },
  {
   "cell_type": "code",
   "execution_count": 29,
   "metadata": {},
   "outputs": [
    {
     "data": {
      "image/png": "[encoded data removed]",
      "text/plain": [
       "<Figure size 1728x864 with 2 Axes>"
      ]
     },
     "metadata": {
      "needs_background": "light"
     },
     "output_type": "display_data"
    }
   ],
   "source": [
    "plt.figure(figsize = (24, 12))\n",
    "\n",
    "corr = dff.drop(['target', 'Unnamed: 0'], axis=1).corr()\n",
    "sns.heatmap(corr, annot = False, linewidths = 1)\n",
    "plt.show()"
   ]
  },
  {
   "cell_type": "code",
   "execution_count": 30,
   "metadata": {},
   "outputs": [],
   "source": [
    "correlated_features = set()\n",
    "\n",
    "for i in range(len(corr.columns)):\n",
    "    for j in range(i):\n",
    "        if abs(corr.iloc[i, j]) > 0.7:\n",
    "            colname = corr.columns[i]\n",
    "            correlated_features.add(colname)\n"
   ]
  },
  {
   "cell_type": "code",
   "execution_count": 31,
   "metadata": {},
   "outputs": [
    {
     "data": {
      "text/plain": [
       "{'B_11',\n",
       " 'B_13',\n",
       " 'B_14',\n",
       " 'B_15',\n",
       " 'B_16',\n",
       " 'B_18',\n",
       " 'B_19',\n",
       " 'B_20',\n",
       " 'B_22',\n",
       " 'B_23',\n",
       " 'B_28',\n",
       " 'B_3',\n",
       " 'B_30',\n",
       " 'B_33',\n",
       " 'B_37',\n",
       " 'B_38',\n",
       " 'B_8',\n",
       " 'D_103',\n",
       " 'D_104',\n",
       " 'D_107',\n",
       " 'D_113',\n",
       " 'D_118',\n",
       " 'D_119',\n",
       " 'D_121',\n",
       " 'D_129',\n",
       " 'D_131',\n",
       " 'D_133',\n",
       " 'D_141',\n",
       " 'D_143',\n",
       " 'D_48',\n",
       " 'D_55',\n",
       " 'D_58',\n",
       " 'D_61',\n",
       " 'D_74',\n",
       " 'D_75',\n",
       " 'R_21',\n",
       " 'R_4',\n",
       " 'R_8',\n",
       " 'S_15',\n",
       " 'S_24',\n",
       " 'S_7'}"
      ]
     },
     "execution_count": 31,
     "metadata": {},
     "output_type": "execute_result"
    }
   ],
   "source": [
    "correlated_features"
   ]
  },
  {
   "cell_type": "code",
   "execution_count": 32,
   "metadata": {},
   "outputs": [
    {
     "data": {
      "text/plain": [
       "set"
      ]
     },
     "execution_count": 32,
     "metadata": {},
     "output_type": "execute_result"
    }
   ],
   "source": [
    "type(correlated_features)"
   ]
  },
  {
   "cell_type": "code",
   "execution_count": 33,
   "metadata": {},
   "outputs": [
    {
     "data": {
      "text/plain": [
       "{'B_11',\n",
       " 'B_13',\n",
       " 'B_14',\n",
       " 'B_15',\n",
       " 'B_16',\n",
       " 'B_18',\n",
       " 'B_19',\n",
       " 'B_20',\n",
       " 'B_22',\n",
       " 'B_23',\n",
       " 'B_28',\n",
       " 'B_3',\n",
       " 'B_30',\n",
       " 'B_33',\n",
       " 'B_37',\n",
       " 'B_38',\n",
       " 'B_8',\n",
       " 'D_103',\n",
       " 'D_104',\n",
       " 'D_107',\n",
       " 'D_113',\n",
       " 'D_118',\n",
       " 'D_119',\n",
       " 'D_121',\n",
       " 'D_129',\n",
       " 'D_131',\n",
       " 'D_133',\n",
       " 'D_141',\n",
       " 'D_143',\n",
       " 'D_48',\n",
       " 'D_55',\n",
       " 'D_58',\n",
       " 'D_61',\n",
       " 'D_74',\n",
       " 'D_75',\n",
       " 'R_21',\n",
       " 'R_4',\n",
       " 'R_8',\n",
       " 'S_15',\n",
       " 'S_24',\n",
       " 'S_7',\n",
       " 'Unnamed: 0'}"
      ]
     },
     "execution_count": 33,
     "metadata": {},
     "output_type": "execute_result"
    }
   ],
   "source": [
    "correlated_features.update(['Unnamed: 0'])\n",
    "correlated_features"
   ]
  },
  {
   "cell_type": "markdown",
   "metadata": {},
   "source": [
    "Eliminamos las columnas que tengan una correlacion de Pearson mayor al 70% con otra columna"
   ]
  },
  {
   "cell_type": "code",
   "execution_count": 34,
   "metadata": {},
   "outputs": [
    {
     "data": {
      "image/png": "[encoded data removed]",
      "text/plain": [
       "<Figure size 1728x864 with 2 Axes>"
      ]
     },
     "metadata": {
      "needs_background": "light"
     },
     "output_type": "display_data"
    }
   ],
   "source": [
    "plt.figure(figsize = (24, 12))\n",
    "\n",
    "corr = dff.drop(correlated_features, axis = 1).corr()\n",
    "sns.heatmap(corr, annot = False, linewidths = 1, vmax=1, vmin= -1)\n",
    "plt.show()"
   ]
  },
  {
   "cell_type": "code",
   "execution_count": 35,
   "metadata": {},
   "outputs": [
    {
     "data": {
      "text/plain": [
       "Index(['P_2', 'D_39', 'B_1', 'B_2', 'R_1', 'S_3', 'D_41', 'D_43', 'D_44',\n",
       "       'B_4',\n",
       "       ...\n",
       "       'D_127', 'D_128', 'B_41', 'D_130', 'R_28', 'D_139', 'D_140', 'D_144',\n",
       "       'D_145', 'target'],\n",
       "      dtype='object', length=115)"
      ]
     },
     "execution_count": 35,
     "metadata": {},
     "output_type": "execute_result"
    }
   ],
   "source": [
    "corr.columns"
   ]
  },
  {
   "cell_type": "code",
   "execution_count": 36,
   "metadata": {},
   "outputs": [
    {
     "data": {
      "text/plain": [
       "Index(['P_2', 'D_39', 'B_1', 'B_2', 'R_1', 'S_3', 'D_41', 'D_43', 'D_44',\n",
       "       'B_4',\n",
       "       ...\n",
       "       'D_127', 'D_128', 'B_41', 'D_130', 'R_28', 'D_139', 'D_140', 'D_144',\n",
       "       'D_145', 'target'],\n",
       "      dtype='object', length=115)"
      ]
     },
     "execution_count": 36,
     "metadata": {},
     "output_type": "execute_result"
    }
   ],
   "source": [
    "corr.index"
   ]
  },
  {
   "cell_type": "code",
   "execution_count": 37,
   "metadata": {},
   "outputs": [],
   "source": [
    "# df_reducido = dff.loc[:,list(corr.columns) + cole]\n",
    "df_reducido = dff.loc[:,list(corr.columns)]"
   ]
  },
  {
   "cell_type": "code",
   "execution_count": 38,
   "metadata": {},
   "outputs": [
    {
     "data": {
      "text/plain": [
       "(276572, 115)"
      ]
     },
     "execution_count": 38,
     "metadata": {},
     "output_type": "execute_result"
    }
   ],
   "source": [
    "df_reducido.shape"
   ]
  },
  {
   "cell_type": "code",
   "execution_count": 39,
   "metadata": {},
   "outputs": [
    {
     "name": "stdout",
     "output_type": "stream",
     "text": [
      "<class 'pandas.core.frame.DataFrame'>\n",
      "RangeIndex: 276572 entries, 0 to 276571\n",
      "Data columns (total 115 columns):\n",
      " #    Column  Non-Null Count   Dtype  \n",
      "---   ------  --------------   -----  \n",
      " 0    P_2     274277 non-null  float64\n",
      " 1    D_39    276572 non-null  float64\n",
      " 2    B_1     276572 non-null  float64\n",
      " 3    B_2     276476 non-null  float64\n",
      " 4    R_1     276572 non-null  float64\n",
      " 5    S_3     225400 non-null  float64\n",
      " 6    D_41    276476 non-null  float64\n",
      " 7    D_43    193452 non-null  float64\n",
      " 8    D_44    262857 non-null  float64\n",
      " 9    B_4     276572 non-null  float64\n",
      " 10   D_45    276476 non-null  float64\n",
      " 11   B_5     276572 non-null  float64\n",
      " 12   R_2     276572 non-null  float64\n",
      " 13   D_46    215973 non-null  float64\n",
      " 14   D_47    276572 non-null  float64\n",
      " 15   B_6     276568 non-null  float64\n",
      " 16   B_7     276572 non-null  float64\n",
      " 17   D_51    276572 non-null  float64\n",
      " 18   B_9     276572 non-null  float64\n",
      " 19   R_3     276572 non-null  float64\n",
      " 20   D_52    275080 non-null  float64\n",
      " 21   P_3     261411 non-null  float64\n",
      " 22   B_10    276572 non-null  float64\n",
      " 23   S_5     276572 non-null  float64\n",
      " 24   S_6     276572 non-null  float64\n",
      " 25   D_54    276476 non-null  float64\n",
      " 26   B_12    276572 non-null  float64\n",
      " 27   S_8     276572 non-null  float64\n",
      " 28   R_5     276572 non-null  float64\n",
      " 29   D_59    271173 non-null  float64\n",
      " 30   D_60    276572 non-null  float64\n",
      " 31   S_11    276572 non-null  float64\n",
      " 32   D_62    238680 non-null  float64\n",
      " 33   D_65    276572 non-null  float64\n",
      " 34   D_68    265588 non-null  float64\n",
      " 35   S_12    276572 non-null  float64\n",
      " 36   R_6     276572 non-null  float64\n",
      " 37   S_13    276572 non-null  float64\n",
      " 38   B_21    276572 non-null  float64\n",
      " 39   D_69    266689 non-null  float64\n",
      " 40   D_70    271759 non-null  float64\n",
      " 41   D_71    276572 non-null  float64\n",
      " 42   D_72    275379 non-null  float64\n",
      " 43   P_4     276572 non-null  float64\n",
      " 44   B_24    276572 non-null  float64\n",
      " 45   R_7     276572 non-null  float64\n",
      " 46   B_25    276187 non-null  float64\n",
      " 47   B_26    276476 non-null  float64\n",
      " 48   D_78    262857 non-null  float64\n",
      " 49   D_79    272703 non-null  float64\n",
      " 50   S_16    276572 non-null  float64\n",
      " 51   D_80    275503 non-null  float64\n",
      " 52   R_10    276572 non-null  float64\n",
      " 53   R_11    276572 non-null  float64\n",
      " 54   B_27    276476 non-null  float64\n",
      " 55   D_81    275282 non-null  float64\n",
      " 56   S_17    276572 non-null  float64\n",
      " 57   R_12    276572 non-null  float64\n",
      " 58   R_13    276572 non-null  float64\n",
      " 59   D_83    266689 non-null  float64\n",
      " 60   R_14    276572 non-null  float64\n",
      " 61   R_15    276572 non-null  float64\n",
      " 62   D_84    275080 non-null  float64\n",
      " 63   R_16    276572 non-null  float64\n",
      " 64   S_18    276572 non-null  float64\n",
      " 65   D_86    276572 non-null  float64\n",
      " 66   R_17    276572 non-null  float64\n",
      " 67   R_18    276572 non-null  float64\n",
      " 68   B_31    276572 non-null  int64  \n",
      " 69   S_19    276572 non-null  float64\n",
      " 70   R_19    276572 non-null  float64\n",
      " 71   B_32    276572 non-null  float64\n",
      " 72   S_20    276572 non-null  float64\n",
      " 73   R_20    276569 non-null  float64\n",
      " 74   D_89    275080 non-null  float64\n",
      " 75   R_22    276572 non-null  float64\n",
      " 76   R_23    276572 non-null  float64\n",
      " 77   D_91    268616 non-null  float64\n",
      " 78   D_92    276572 non-null  float64\n",
      " 79   D_93    276572 non-null  float64\n",
      " 80   D_94    276572 non-null  float64\n",
      " 81   R_24    276572 non-null  float64\n",
      " 82   R_25    276572 non-null  float64\n",
      " 83   D_96    276572 non-null  float64\n",
      " 84   S_22    275654 non-null  float64\n",
      " 85   S_23    276544 non-null  float64\n",
      " 86   S_25    275863 non-null  float64\n",
      " 87   S_26    276534 non-null  float64\n",
      " 88   D_102   274529 non-null  float64\n",
      " 89   B_36    276572 non-null  float64\n",
      " 90   R_27    270063 non-null  float64\n",
      " 91   D_109   276481 non-null  float64\n",
      " 92   D_112   276438 non-null  float64\n",
      " 93   B_40    276567 non-null  float64\n",
      " 94   S_27    206608 non-null  float64\n",
      " 95   D_114   267644 non-null  float64\n",
      " 96   D_115   267644 non-null  float64\n",
      " 97   D_116   267644 non-null  float64\n",
      " 98   D_117   267644 non-null  float64\n",
      " 99   D_120   267644 non-null  float64\n",
      " 100  D_122   267644 non-null  float64\n",
      " 101  D_123   267644 non-null  float64\n",
      " 102  D_124   267644 non-null  float64\n",
      " 103  D_125   267644 non-null  float64\n",
      " 104  D_126   270645 non-null  float64\n",
      " 105  D_127   276572 non-null  float64\n",
      " 106  D_128   271433 non-null  float64\n",
      " 107  B_41    276534 non-null  float64\n",
      " 108  D_130   271433 non-null  float64\n",
      " 109  R_28    276572 non-null  float64\n",
      " 110  D_139   271433 non-null  float64\n",
      " 111  D_140   274530 non-null  float64\n",
      " 112  D_144   274523 non-null  float64\n",
      " 113  D_145   271433 non-null  float64\n",
      " 114  target  276572 non-null  int64  \n",
      "dtypes: float64(113), int64(2)\n",
      "memory usage: 242.7 MB\n"
     ]
    },
    {
     "name": "stderr",
     "output_type": "stream",
     "text": [
      "C:\\Users\\mlard\\AppData\\Local\\Temp\\ipykernel_7592\\1208170624.py:1: FutureWarning: null_counts is deprecated. Use show_counts instead\n",
      "  df_reducido.info(verbose=True, null_counts=True)\n"
     ]
    }
   ],
   "source": [
    "df_reducido.info(verbose=True, null_counts=True)"
   ]
  },
  {
   "cell_type": "code",
   "execution_count": 40,
   "metadata": {},
   "outputs": [
    {
     "data": {
      "text/html": [
       "<div>\n",
       "<style scoped>\n",
       "    .dataframe tbody tr th:only-of-type {\n",
       "        vertical-align: middle;\n",
       "    }\n",
       "\n",
       "    .dataframe tbody tr th {\n",
       "        vertical-align: top;\n",
       "    }\n",
       "\n",
       "    .dataframe thead th {\n",
       "        text-align: right;\n",
       "    }\n",
       "</style>\n",
       "<table border=\"1\" class=\"dataframe\">\n",
       "  <thead>\n",
       "    <tr style=\"text-align: right;\">\n",
       "      <th></th>\n",
       "      <th>P_2</th>\n",
       "      <th>D_39</th>\n",
       "      <th>B_1</th>\n",
       "      <th>B_2</th>\n",
       "      <th>R_1</th>\n",
       "      <th>S_3</th>\n",
       "      <th>D_41</th>\n",
       "      <th>D_43</th>\n",
       "      <th>D_44</th>\n",
       "      <th>B_4</th>\n",
       "      <th>...</th>\n",
       "      <th>D_127</th>\n",
       "      <th>D_128</th>\n",
       "      <th>B_41</th>\n",
       "      <th>D_130</th>\n",
       "      <th>R_28</th>\n",
       "      <th>D_139</th>\n",
       "      <th>D_140</th>\n",
       "      <th>D_144</th>\n",
       "      <th>D_145</th>\n",
       "      <th>target</th>\n",
       "    </tr>\n",
       "  </thead>\n",
       "  <tbody>\n",
       "    <tr>\n",
       "      <th>count</th>\n",
       "      <td>274277.000000</td>\n",
       "      <td>2.765720e+05</td>\n",
       "      <td>276572.000000</td>\n",
       "      <td>2.764760e+05</td>\n",
       "      <td>2.765720e+05</td>\n",
       "      <td>225400.000000</td>\n",
       "      <td>2.764760e+05</td>\n",
       "      <td>193452.000000</td>\n",
       "      <td>2.628570e+05</td>\n",
       "      <td>2.765720e+05</td>\n",
       "      <td>...</td>\n",
       "      <td>2.765720e+05</td>\n",
       "      <td>2.714330e+05</td>\n",
       "      <td>2.765340e+05</td>\n",
       "      <td>2.714330e+05</td>\n",
       "      <td>2.765720e+05</td>\n",
       "      <td>2.714330e+05</td>\n",
       "      <td>2.745300e+05</td>\n",
       "      <td>2.745230e+05</td>\n",
       "      <td>2.714330e+05</td>\n",
       "      <td>276572.000000</td>\n",
       "    </tr>\n",
       "    <tr>\n",
       "      <th>mean</th>\n",
       "      <td>0.656094</td>\n",
       "      <td>1.534640e-01</td>\n",
       "      <td>0.124308</td>\n",
       "      <td>6.218612e-01</td>\n",
       "      <td>7.864847e-02</td>\n",
       "      <td>0.225812</td>\n",
       "      <td>5.941618e-02</td>\n",
       "      <td>0.153990</td>\n",
       "      <td>1.185817e-01</td>\n",
       "      <td>1.730830e-01</td>\n",
       "      <td>...</td>\n",
       "      <td>1.072242e-01</td>\n",
       "      <td>5.831390e-01</td>\n",
       "      <td>3.222594e-02</td>\n",
       "      <td>2.016633e-01</td>\n",
       "      <td>5.860529e-03</td>\n",
       "      <td>1.776248e-01</td>\n",
       "      <td>2.673155e-02</td>\n",
       "      <td>5.165175e-02</td>\n",
       "      <td>6.113005e-02</td>\n",
       "      <td>0.248923</td>\n",
       "    </tr>\n",
       "    <tr>\n",
       "      <th>std</th>\n",
       "      <td>0.244733</td>\n",
       "      <td>2.706362e-01</td>\n",
       "      <td>0.212576</td>\n",
       "      <td>4.013308e-01</td>\n",
       "      <td>2.255157e-01</td>\n",
       "      <td>0.192625</td>\n",
       "      <td>2.006907e-01</td>\n",
       "      <td>0.211072</td>\n",
       "      <td>2.204076e-01</td>\n",
       "      <td>2.227333e-01</td>\n",
       "      <td>...</td>\n",
       "      <td>3.029530e-01</td>\n",
       "      <td>4.933003e-01</td>\n",
       "      <td>2.191798e-01</td>\n",
       "      <td>3.974979e-01</td>\n",
       "      <td>2.953451e-02</td>\n",
       "      <td>3.779312e-01</td>\n",
       "      <td>1.458412e-01</td>\n",
       "      <td>1.806857e-01</td>\n",
       "      <td>1.905855e-01</td>\n",
       "      <td>0.432390</td>\n",
       "    </tr>\n",
       "    <tr>\n",
       "      <th>min</th>\n",
       "      <td>-0.440337</td>\n",
       "      <td>5.081586e-08</td>\n",
       "      <td>-0.529935</td>\n",
       "      <td>5.455276e-07</td>\n",
       "      <td>2.153178e-07</td>\n",
       "      <td>-0.443089</td>\n",
       "      <td>2.581347e-07</td>\n",
       "      <td>0.000003</td>\n",
       "      <td>2.222165e-09</td>\n",
       "      <td>2.042271e-07</td>\n",
       "      <td>...</td>\n",
       "      <td>6.665625e-09</td>\n",
       "      <td>9.328776e-09</td>\n",
       "      <td>2.735268e-08</td>\n",
       "      <td>8.005983e-08</td>\n",
       "      <td>4.699454e-09</td>\n",
       "      <td>2.547751e-08</td>\n",
       "      <td>2.158847e-08</td>\n",
       "      <td>1.969412e-08</td>\n",
       "      <td>1.295045e-08</td>\n",
       "      <td>0.000000</td>\n",
       "    </tr>\n",
       "    <tr>\n",
       "      <th>25%</th>\n",
       "      <td>0.479994</td>\n",
       "      <td>4.525406e-03</td>\n",
       "      <td>0.008890</td>\n",
       "      <td>1.062215e-01</td>\n",
       "      <td>2.899602e-03</td>\n",
       "      <td>0.127284</td>\n",
       "      <td>2.870306e-03</td>\n",
       "      <td>0.042251</td>\n",
       "      <td>3.829458e-03</td>\n",
       "      <td>2.766178e-02</td>\n",
       "      <td>...</td>\n",
       "      <td>2.780404e-03</td>\n",
       "      <td>5.956792e-03</td>\n",
       "      <td>2.547009e-03</td>\n",
       "      <td>3.124682e-03</td>\n",
       "      <td>2.494037e-03</td>\n",
       "      <td>3.035184e-03</td>\n",
       "      <td>2.562787e-03</td>\n",
       "      <td>2.748156e-03</td>\n",
       "      <td>3.029659e-03</td>\n",
       "      <td>0.000000</td>\n",
       "    </tr>\n",
       "    <tr>\n",
       "      <th>50%</th>\n",
       "      <td>0.694160</td>\n",
       "      <td>9.069601e-03</td>\n",
       "      <td>0.031279</td>\n",
       "      <td>8.143633e-01</td>\n",
       "      <td>5.781294e-03</td>\n",
       "      <td>0.163867</td>\n",
       "      <td>5.749618e-03</td>\n",
       "      <td>0.088102</td>\n",
       "      <td>7.670775e-03</td>\n",
       "      <td>8.243567e-02</td>\n",
       "      <td>...</td>\n",
       "      <td>5.574577e-03</td>\n",
       "      <td>1.000421e+00</td>\n",
       "      <td>5.101276e-03</td>\n",
       "      <td>6.216258e-03</td>\n",
       "      <td>5.005939e-03</td>\n",
       "      <td>6.034572e-03</td>\n",
       "      <td>5.112665e-03</td>\n",
       "      <td>5.501956e-03</td>\n",
       "      <td>6.047234e-03</td>\n",
       "      <td>0.000000</td>\n",
       "    </tr>\n",
       "    <tr>\n",
       "      <th>75%</th>\n",
       "      <td>0.864573</td>\n",
       "      <td>2.371768e-01</td>\n",
       "      <td>0.126282</td>\n",
       "      <td>1.002397e+00</td>\n",
       "      <td>8.655511e-03</td>\n",
       "      <td>0.258549</td>\n",
       "      <td>8.611234e-03</td>\n",
       "      <td>0.183644</td>\n",
       "      <td>1.320540e-01</td>\n",
       "      <td>2.391026e-01</td>\n",
       "      <td>...</td>\n",
       "      <td>8.362830e-03</td>\n",
       "      <td>1.004705e+00</td>\n",
       "      <td>7.657362e-03</td>\n",
       "      <td>9.323672e-03</td>\n",
       "      <td>7.504035e-03</td>\n",
       "      <td>9.075780e-03</td>\n",
       "      <td>7.657841e-03</td>\n",
       "      <td>8.259950e-03</td>\n",
       "      <td>9.063816e-03</td>\n",
       "      <td>0.000000</td>\n",
       "    </tr>\n",
       "    <tr>\n",
       "      <th>max</th>\n",
       "      <td>1.009999</td>\n",
       "      <td>5.362538e+00</td>\n",
       "      <td>1.324049</td>\n",
       "      <td>1.010000e+00</td>\n",
       "      <td>3.256284e+00</td>\n",
       "      <td>5.482888</td>\n",
       "      <td>6.315744e+00</td>\n",
       "      <td>7.548966</td>\n",
       "      <td>3.506895e+00</td>\n",
       "      <td>4.800353e+00</td>\n",
       "      <td>...</td>\n",
       "      <td>1.010000e+00</td>\n",
       "      <td>1.017865e+00</td>\n",
       "      <td>1.500785e+01</td>\n",
       "      <td>1.026128e+00</td>\n",
       "      <td>1.009961e+00</td>\n",
       "      <td>1.010000e+00</td>\n",
       "      <td>1.009999e+00</td>\n",
       "      <td>1.343272e+00</td>\n",
       "      <td>4.819670e+00</td>\n",
       "      <td>1.000000</td>\n",
       "    </tr>\n",
       "  </tbody>\n",
       "</table>\n",
       "<p>8 rows × 115 columns</p>\n",
       "</div>"
      ],
      "text/plain": [
       "                 P_2          D_39            B_1           B_2           R_1  \\\n",
       "count  274277.000000  2.765720e+05  276572.000000  2.764760e+05  2.765720e+05   \n",
       "mean        0.656094  1.534640e-01       0.124308  6.218612e-01  7.864847e-02   \n",
       "std         0.244733  2.706362e-01       0.212576  4.013308e-01  2.255157e-01   \n",
       "min        -0.440337  5.081586e-08      -0.529935  5.455276e-07  2.153178e-07   \n",
       "25%         0.479994  4.525406e-03       0.008890  1.062215e-01  2.899602e-03   \n",
       "50%         0.694160  9.069601e-03       0.031279  8.143633e-01  5.781294e-03   \n",
       "75%         0.864573  2.371768e-01       0.126282  1.002397e+00  8.655511e-03   \n",
       "max         1.009999  5.362538e+00       1.324049  1.010000e+00  3.256284e+00   \n",
       "\n",
       "                 S_3          D_41           D_43          D_44           B_4  \\\n",
       "count  225400.000000  2.764760e+05  193452.000000  2.628570e+05  2.765720e+05   \n",
       "mean        0.225812  5.941618e-02       0.153990  1.185817e-01  1.730830e-01   \n",
       "std         0.192625  2.006907e-01       0.211072  2.204076e-01  2.227333e-01   \n",
       "min        -0.443089  2.581347e-07       0.000003  2.222165e-09  2.042271e-07   \n",
       "25%         0.127284  2.870306e-03       0.042251  3.829458e-03  2.766178e-02   \n",
       "50%         0.163867  5.749618e-03       0.088102  7.670775e-03  8.243567e-02   \n",
       "75%         0.258549  8.611234e-03       0.183644  1.320540e-01  2.391026e-01   \n",
       "max         5.482888  6.315744e+00       7.548966  3.506895e+00  4.800353e+00   \n",
       "\n",
       "       ...         D_127         D_128          B_41         D_130  \\\n",
       "count  ...  2.765720e+05  2.714330e+05  2.765340e+05  2.714330e+05   \n",
       "mean   ...  1.072242e-01  5.831390e-01  3.222594e-02  2.016633e-01   \n",
       "std    ...  3.029530e-01  4.933003e-01  2.191798e-01  3.974979e-01   \n",
       "min    ...  6.665625e-09  9.328776e-09  2.735268e-08  8.005983e-08   \n",
       "25%    ...  2.780404e-03  5.956792e-03  2.547009e-03  3.124682e-03   \n",
       "50%    ...  5.574577e-03  1.000421e+00  5.101276e-03  6.216258e-03   \n",
       "75%    ...  8.362830e-03  1.004705e+00  7.657362e-03  9.323672e-03   \n",
       "max    ...  1.010000e+00  1.017865e+00  1.500785e+01  1.026128e+00   \n",
       "\n",
       "               R_28         D_139         D_140         D_144         D_145  \\\n",
       "count  2.765720e+05  2.714330e+05  2.745300e+05  2.745230e+05  2.714330e+05   \n",
       "mean   5.860529e-03  1.776248e-01  2.673155e-02  5.165175e-02  6.113005e-02   \n",
       "std    2.953451e-02  3.779312e-01  1.458412e-01  1.806857e-01  1.905855e-01   \n",
       "min    4.699454e-09  2.547751e-08  2.158847e-08  1.969412e-08  1.295045e-08   \n",
       "25%    2.494037e-03  3.035184e-03  2.562787e-03  2.748156e-03  3.029659e-03   \n",
       "50%    5.005939e-03  6.034572e-03  5.112665e-03  5.501956e-03  6.047234e-03   \n",
       "75%    7.504035e-03  9.075780e-03  7.657841e-03  8.259950e-03  9.063816e-03   \n",
       "max    1.009961e+00  1.010000e+00  1.009999e+00  1.343272e+00  4.819670e+00   \n",
       "\n",
       "              target  \n",
       "count  276572.000000  \n",
       "mean        0.248923  \n",
       "std         0.432390  \n",
       "min         0.000000  \n",
       "25%         0.000000  \n",
       "50%         0.000000  \n",
       "75%         0.000000  \n",
       "max         1.000000  \n",
       "\n",
       "[8 rows x 115 columns]"
      ]
     },
     "execution_count": 40,
     "metadata": {},
     "output_type": "execute_result"
    }
   ],
   "source": [
    "df_reducido.describe()"
   ]
  },
  {
   "cell_type": "code",
   "execution_count": 41,
   "metadata": {},
   "outputs": [],
   "source": [
    "#Las columnas categorias se encuentran en el kaggle de American Airlines\n",
    "columnas_categoricas = ['B_30', 'B_38', 'D_114', 'D_116', 'D_117', 'D_120', 'D_126', 'D_63', 'D_64', 'D_66', 'D_68']\n",
    "columnas_cuantitativas = []\n",
    "for columna in df_reducido.columns:\n",
    "    if columna not in columnas_categoricas:\n",
    "        columnas_cuantitativas.append(columna)\n",
    "df_cuantitativas = df_reducido[columnas_cuantitativas].copy()\n",
    "# df_categoricas = df_reducido[columnas_categoricas].copy()"
   ]
  },
  {
   "cell_type": "code",
   "execution_count": 42,
   "metadata": {},
   "outputs": [
    {
     "data": {
      "text/html": [
       "<div>\n",
       "<style scoped>\n",
       "    .dataframe tbody tr th:only-of-type {\n",
       "        vertical-align: middle;\n",
       "    }\n",
       "\n",
       "    .dataframe tbody tr th {\n",
       "        vertical-align: top;\n",
       "    }\n",
       "\n",
       "    .dataframe thead th {\n",
       "        text-align: right;\n",
       "    }\n",
       "</style>\n",
       "<table border=\"1\" class=\"dataframe\">\n",
       "  <thead>\n",
       "    <tr style=\"text-align: right;\">\n",
       "      <th></th>\n",
       "      <th>P_2</th>\n",
       "      <th>D_39</th>\n",
       "      <th>B_1</th>\n",
       "      <th>B_2</th>\n",
       "      <th>R_1</th>\n",
       "      <th>S_3</th>\n",
       "      <th>D_41</th>\n",
       "      <th>D_43</th>\n",
       "      <th>D_44</th>\n",
       "      <th>B_4</th>\n",
       "      <th>...</th>\n",
       "      <th>D_127</th>\n",
       "      <th>D_128</th>\n",
       "      <th>B_41</th>\n",
       "      <th>D_130</th>\n",
       "      <th>R_28</th>\n",
       "      <th>D_139</th>\n",
       "      <th>D_140</th>\n",
       "      <th>D_144</th>\n",
       "      <th>D_145</th>\n",
       "      <th>target</th>\n",
       "    </tr>\n",
       "  </thead>\n",
       "  <tbody>\n",
       "    <tr>\n",
       "      <th>49619</th>\n",
       "      <td>NaN</td>\n",
       "      <td>0.000144</td>\n",
       "      <td>0.006671</td>\n",
       "      <td>0.814122</td>\n",
       "      <td>0.009612</td>\n",
       "      <td>0.168519</td>\n",
       "      <td>0.002647</td>\n",
       "      <td>NaN</td>\n",
       "      <td>0.003645</td>\n",
       "      <td>0.006096</td>\n",
       "      <td>...</td>\n",
       "      <td>0.000914</td>\n",
       "      <td>NaN</td>\n",
       "      <td>0.007734</td>\n",
       "      <td>NaN</td>\n",
       "      <td>0.000206</td>\n",
       "      <td>NaN</td>\n",
       "      <td>NaN</td>\n",
       "      <td>NaN</td>\n",
       "      <td>NaN</td>\n",
       "      <td>0</td>\n",
       "    </tr>\n",
       "  </tbody>\n",
       "</table>\n",
       "<p>1 rows × 109 columns</p>\n",
       "</div>"
      ],
      "text/plain": [
       "       P_2      D_39       B_1       B_2       R_1       S_3      D_41  D_43  \\\n",
       "49619  NaN  0.000144  0.006671  0.814122  0.009612  0.168519  0.002647   NaN   \n",
       "\n",
       "           D_44       B_4  ...     D_127  D_128      B_41  D_130      R_28  \\\n",
       "49619  0.003645  0.006096  ...  0.000914    NaN  0.007734    NaN  0.000206   \n",
       "\n",
       "       D_139  D_140  D_144  D_145  target  \n",
       "49619    NaN    NaN    NaN    NaN       0  \n",
       "\n",
       "[1 rows x 109 columns]"
      ]
     },
     "execution_count": 42,
     "metadata": {},
     "output_type": "execute_result"
    }
   ],
   "source": [
    "df_cuantitativas.sample()"
   ]
  },
  {
   "cell_type": "code",
   "execution_count": 43,
   "metadata": {},
   "outputs": [
    {
     "data": {
      "text/plain": [
       "(276572, 109)"
      ]
     },
     "execution_count": 43,
     "metadata": {},
     "output_type": "execute_result"
    }
   ],
   "source": [
    "df_cuantitativas.shape"
   ]
  },
  {
   "cell_type": "markdown",
   "metadata": {},
   "source": [
    "Relleno los valores faltantes con la media"
   ]
  },
  {
   "cell_type": "code",
   "execution_count": 44,
   "metadata": {},
   "outputs": [],
   "source": [
    "from sklearn.impute import SimpleImputer\n",
    "columnas = df_cuantitativas.columns\n",
    "imp = SimpleImputer(missing_values = np.nan, strategy = 'mean')\n",
    "imp.fit(df_cuantitativas)\n",
    "df_sin_null = pd.DataFrame(imp.transform(df_cuantitativas), columns=columnas)"
   ]
  },
  {
   "cell_type": "code",
   "execution_count": 45,
   "metadata": {},
   "outputs": [
    {
     "data": {
      "text/plain": [
       "P_2       0.0\n",
       "R_19      0.0\n",
       "R_24      0.0\n",
       "D_94      0.0\n",
       "D_93      0.0\n",
       "         ... \n",
       "D_65      0.0\n",
       "D_62      0.0\n",
       "S_11      0.0\n",
       "D_60      0.0\n",
       "target    0.0\n",
       "Length: 109, dtype: float64"
      ]
     },
     "execution_count": 45,
     "metadata": {},
     "output_type": "execute_result"
    }
   ],
   "source": [
    "df_sin_null.isnull().sum().sort_values(ascending = False)/df.shape[0]"
   ]
  },
  {
   "cell_type": "code",
   "execution_count": 46,
   "metadata": {},
   "outputs": [
    {
     "data": {
      "text/html": [
       "<div>\n",
       "<style scoped>\n",
       "    .dataframe tbody tr th:only-of-type {\n",
       "        vertical-align: middle;\n",
       "    }\n",
       "\n",
       "    .dataframe tbody tr th {\n",
       "        vertical-align: top;\n",
       "    }\n",
       "\n",
       "    .dataframe thead th {\n",
       "        text-align: right;\n",
       "    }\n",
       "</style>\n",
       "<table border=\"1\" class=\"dataframe\">\n",
       "  <thead>\n",
       "    <tr style=\"text-align: right;\">\n",
       "      <th></th>\n",
       "      <th>P_2</th>\n",
       "      <th>D_39</th>\n",
       "      <th>B_1</th>\n",
       "      <th>B_2</th>\n",
       "      <th>R_1</th>\n",
       "      <th>S_3</th>\n",
       "      <th>D_41</th>\n",
       "      <th>D_43</th>\n",
       "      <th>D_44</th>\n",
       "      <th>B_4</th>\n",
       "      <th>...</th>\n",
       "      <th>D_127</th>\n",
       "      <th>D_128</th>\n",
       "      <th>B_41</th>\n",
       "      <th>D_130</th>\n",
       "      <th>R_28</th>\n",
       "      <th>D_139</th>\n",
       "      <th>D_140</th>\n",
       "      <th>D_144</th>\n",
       "      <th>D_145</th>\n",
       "      <th>target</th>\n",
       "    </tr>\n",
       "  </thead>\n",
       "  <tbody>\n",
       "    <tr>\n",
       "      <th>249421</th>\n",
       "      <td>0.458127</td>\n",
       "      <td>0.122256</td>\n",
       "      <td>0.033974</td>\n",
       "      <td>1.002874</td>\n",
       "      <td>0.003749</td>\n",
       "      <td>0.085201</td>\n",
       "      <td>0.005903</td>\n",
       "      <td>0.050767</td>\n",
       "      <td>0.003793</td>\n",
       "      <td>0.09203</td>\n",
       "      <td>...</td>\n",
       "      <td>0.001357</td>\n",
       "      <td>1.005604</td>\n",
       "      <td>0.002312</td>\n",
       "      <td>0.003851</td>\n",
       "      <td>0.008608</td>\n",
       "      <td>0.009046</td>\n",
       "      <td>0.00048</td>\n",
       "      <td>0.007271</td>\n",
       "      <td>0.009417</td>\n",
       "      <td>0.0</td>\n",
       "    </tr>\n",
       "  </tbody>\n",
       "</table>\n",
       "<p>1 rows × 109 columns</p>\n",
       "</div>"
      ],
      "text/plain": [
       "             P_2      D_39       B_1       B_2       R_1       S_3      D_41  \\\n",
       "249421  0.458127  0.122256  0.033974  1.002874  0.003749  0.085201  0.005903   \n",
       "\n",
       "            D_43      D_44      B_4  ...     D_127     D_128      B_41  \\\n",
       "249421  0.050767  0.003793  0.09203  ...  0.001357  1.005604  0.002312   \n",
       "\n",
       "           D_130      R_28     D_139    D_140     D_144     D_145  target  \n",
       "249421  0.003851  0.008608  0.009046  0.00048  0.007271  0.009417     0.0  \n",
       "\n",
       "[1 rows x 109 columns]"
      ]
     },
     "execution_count": 46,
     "metadata": {},
     "output_type": "execute_result"
    }
   ],
   "source": [
    "df_sin_null.sample()"
   ]
  },
  {
   "cell_type": "code",
   "execution_count": 47,
   "metadata": {},
   "outputs": [
    {
     "data": {
      "text/plain": [
       "(276572, 109)"
      ]
     },
     "execution_count": 47,
     "metadata": {},
     "output_type": "execute_result"
    }
   ],
   "source": [
    "df_sin_null.shape"
   ]
  },
  {
   "cell_type": "markdown",
   "metadata": {},
   "source": [
    "Eliminamos los outliers"
   ]
  },
  {
   "cell_type": "code",
   "execution_count": 48,
   "metadata": {},
   "outputs": [],
   "source": [
    "# Eliminamos los outliers analizando los rangos intercuartiles\n",
    "#Esta funcion no sirve. Elimina el 95% de los valores\n",
    "def sacar_outliers(df):\n",
    "    indices_outliers = list()\n",
    "    for columna in df.columns:\n",
    "        #Cuartiles\n",
    "        Q1 = df[columna].quantile(0.25)\n",
    "        Q3 = df[columna].quantile(0.75)\n",
    "        IQR = Q3 - Q1\n",
    "        out_inf = (Q1 - 1.5 * IQR)\n",
    "        out_sup = (Q3 + 1.5 * IQR)\n",
    "    \n",
    "        indice_outlier_inferior=df[df[columna]<out_inf].index.tolist()\n",
    "        for indice in indice_outlier_inferior:\n",
    "            indices_outliers.append(indice)\n",
    "        \n",
    "        indice_outlier_superior=df[df[columna]>out_sup].index.tolist()\n",
    "        for indice in indice_outlier_superior:\n",
    "            indices_outliers.append(indice)\n",
    "    print('Indices con duplicado: ', len(indices_outliers))\n",
    "    list_to_set = set(indices_outliers)\n",
    "    indices_sin_duplicado = list(list_to_set)\n",
    "    print('Indices sin duplicado: ', len(indices_sin_duplicado))\n",
    "\n",
    "    for indice_outlier in indices_sin_duplicado:\n",
    "        df_reducido.drop(indice_outlier, inplace=True)"
   ]
  },
  {
   "cell_type": "code",
   "execution_count": 49,
   "metadata": {},
   "outputs": [
    {
     "data": {
      "text/plain": [
       "(276572, 109)"
      ]
     },
     "execution_count": 49,
     "metadata": {},
     "output_type": "execute_result"
    }
   ],
   "source": [
    "# sacar_outliers(df_sin_null)\n",
    "df_sin_null.shape"
   ]
  },
  {
   "cell_type": "markdown",
   "metadata": {},
   "source": [
    "Hay que poner una Descripción de los datos como dice la consigna del tp"
   ]
  },
  {
   "cell_type": "code",
   "execution_count": 50,
   "metadata": {},
   "outputs": [],
   "source": [
    "df_sin_null.to_csv(\"C:/Users/mlard/OneDrive/Escritorio/Mateo/Org de Datos/tp3Github/Org-Datos-Grupo-19/df_trabajo.csv\" ,index=False)"
   ]
  }
 ],
 "metadata": {
  "kernelspec": {
   "display_name": "Python 3.9.13 64-bit (windows store)",
   "language": "python",
   "name": "python3"
  },
  "language_info": {
   "codemirror_mode": {
    "name": "ipython",
    "version": 3
   },
   "file_extension": ".py",
   "mimetype": "text/x-python",
   "name": "python",
   "nbconvert_exporter": "python",
   "pygments_lexer": "ipython3",
   "version": "3.9.13"
  },
  "orig_nbformat": 4,
  "vscode": {
   "interpreter": {
    "hash": "6f7ef91bea4ea4c0666122001abe4a5fedf50b5f15e9241244512c5f056ca9c0"
   }
  }
 },
 "nbformat": 4,
 "nbformat_minor": 2
}
