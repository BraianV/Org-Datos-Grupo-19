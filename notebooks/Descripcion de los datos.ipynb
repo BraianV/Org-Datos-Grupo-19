{
 "cells": [
  {
   "cell_type": "markdown",
   "metadata": {},
   "source": [
    "c) Descripción de los datos: se espera que puedan explicar qué se ha podido averiguar\n",
    "hasta ahora sobre el conjunto de datos. Esta información debe ser complementaria a la\n",
    "que se describe en la página de Kaggle. En este punto se debe definir qué métricas se\n",
    "utilizarán para medir el desempeño de los modelos."
   ]
  },
  {
   "cell_type": "markdown",
   "metadata": {},
   "source": [
    "### Origen de los datos\n"
   ]
  },
  {
   "cell_type": "markdown",
   "metadata": {},
   "source": [
    "Para comenzar a describir los datos con los que estuvimos trabajando podemos ver que hay una gran cantidad de columnas con porcentajes\n",
    "de nulos muy grandes (mayor a 45%) las cuales suponemos que no aportan nada al ser o no null. Pensamos en encodear las columnas y hacer \n",
    "un 1 si tenia valor o 0 sino pero al no tener ninguna forma de saber si esto era asi o no, decidimos borrar las columnas.\n"
   ]
  },
  {
   "cell_type": "markdown",
   "metadata": {},
   "source": [
    "De las 11 columnas que estaban dadas como 'categorical' solamente dos de ellas eran de tipo 'string', el resto estaban encodeadas. Asumimos\n",
    "esto debido a que (sacando las que tienen solo 0 y 1) eran todas variables que habian valores numericos flotantes y que los mas probable era \n",
    "que representaba un valor encodeado de alguna forma. Contando a las binarias, podia ser que representen lo dicho mas arriba. Que habia valores\n",
    "o no. Al no tener la forma de encodeo, ni que palabras u objetos eran antes, es imposible 'desencodearlas'. No era necesario ya que \n",
    "igual habia que encodear las de tipo 'string' para utilizarlas en los modelos, pero si se quisiese saber el valor original, tendriamos\n",
    "que tener la forma de encodeo y las variables utilizadas"
   ]
  },
  {
   "cell_type": "markdown",
   "metadata": {},
   "source": [
    "Una de las cosas mas notorias que vimos en el conjunto de datos, es que sacando la primer columna que aparece despues de Unnamed :0 e ID, habia \n",
    "una columna de fechas. El resto de las columnas asumimos que eran valores de cantidad de veces que hubo 'pagos' o 'delincuencia' ya que cualquier\n",
    "otra aproximacion hacia la posible informacion brindada, no cerraba por ningun lado. "
   ]
  },
  {
   "cell_type": "markdown",
   "metadata": {},
   "source": [
    "### OUTLIERS"
   ]
  },
  {
   "cell_type": "markdown",
   "metadata": {},
   "source": [
    "El principal problema de intentar trabajar con los outliers es que dependiendo de la forma de querer resolverlo, podias casi vaciar\n",
    "la cantidad de datos ingresados. El metodo que nosotros utilizamos al final fue el de 'Isolation forest' ya que nos parecio\n",
    "que la cantidad de datos final para trabajar con los modelos era suficientemente grande como para que no varie los posibles\n",
    "resultados.\n",
    "\n",
    "Utilizando tanto Z-Score como el metodo de usar 'topes de outliers' con la frecuencia de aparicion de datos, vimos que se eliminaban\n",
    "una gran cantidad de datos. Esto debido a que como los valores no tenian una 'relacion notoria', borraban datos a partir de \n",
    "los valores por columna entonces por ahi borraba 2500 filas por columna y si lo multiplicas por la cantidad de columnas que habia,\n",
    "sacando las de ID, eliminaban mas de la mitad de los datos."
   ]
  },
  {
   "cell_type": "markdown",
   "metadata": {},
   "source": [
    "### METRICAS\n"
   ]
  },
  {
   "cell_type": "markdown",
   "metadata": {},
   "source": [
    "Las metricas que se usaran para medir la efectividad de los modelos son los que hemos utilizado en los trabajos practicos anteriores\n",
    "ya que nos parece una buena manera de visualizar los resultados mas importantes. Utilizaremos 4 metricas:\n",
    "<p>\n",
    "Precision\n",
    "<p>\n",
    "Recall\n",
    "<p>\n",
    "F1 Score\n",
    "<p>\n",
    "Area bajo la curva (AUC)\n"
   ]
  }
 ],
 "metadata": {
  "language_info": {
   "name": "python"
  },
  "orig_nbformat": 4
 },
 "nbformat": 4,
 "nbformat_minor": 2
}
