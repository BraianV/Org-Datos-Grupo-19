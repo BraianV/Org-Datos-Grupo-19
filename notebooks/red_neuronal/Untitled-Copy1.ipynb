{
 "cells": [
  {
   "cell_type": "code",
   "execution_count": 1,
   "id": "e30cbb6a",
   "metadata": {},
   "outputs": [
    {
     "name": "stderr",
     "output_type": "stream",
     "text": [
      "2022-08-09 21:50:41.324334: I tensorflow/core/util/util.cc:169] oneDNN custom operations are on. You may see slightly different numerical results due to floating-point round-off errors from different computation orders. To turn them off, set the environment variable `TF_ENABLE_ONEDNN_OPTS=0`.\n",
      "2022-08-09 21:50:41.327645: W tensorflow/stream_executor/platform/default/dso_loader.cc:64] Could not load dynamic library 'libcudart.so.11.0'; dlerror: libcudart.so.11.0: cannot open shared object file: No such file or directory\n",
      "2022-08-09 21:50:41.327656: I tensorflow/stream_executor/cuda/cudart_stub.cc:29] Ignore above cudart dlerror if you do not have a GPU set up on your machine.\n"
     ]
    }
   ],
   "source": [
    "import pandas as pd\n",
    "import numpy as np\n",
    "\n",
    "from tensorflow.keras.models import Sequential\n",
    "from tensorflow.keras.layers import Dense, Dropout\n",
    "from scikeras.wrappers import KerasClassifier\n",
    "from sklearn.model_selection import cross_val_score\n",
    "from sklearn.preprocessing import LabelEncoder\n",
    "from sklearn.model_selection import StratifiedKFold\n",
    "from sklearn.preprocessing import StandardScaler\n",
    "from sklearn.pipeline import Pipeline\n",
    "import tensorflow\n",
    "\n",
    "\n",
    "from sklearn.model_selection import train_test_split, GridSearchCV\n",
    "\n",
    "\n",
    "import sys\n",
    "sys.path.append('../')\n",
    "from scripts import featurizer_rn"
   ]
  },
  {
   "cell_type": "code",
   "execution_count": 2,
   "id": "3c414df0",
   "metadata": {},
   "outputs": [],
   "source": [
    "# load dataset\n",
    "df = pd.read_csv(\"../../data/dfff.csv\", low_memory=False)\n"
   ]
  },
  {
   "cell_type": "code",
   "execution_count": 3,
   "id": "ef69220c",
   "metadata": {},
   "outputs": [
    {
     "data": {
      "text/html": [
       "<div>\n",
       "<style scoped>\n",
       "    .dataframe tbody tr th:only-of-type {\n",
       "        vertical-align: middle;\n",
       "    }\n",
       "\n",
       "    .dataframe tbody tr th {\n",
       "        vertical-align: top;\n",
       "    }\n",
       "\n",
       "    .dataframe thead th {\n",
       "        text-align: right;\n",
       "    }\n",
       "</style>\n",
       "<table border=\"1\" class=\"dataframe\">\n",
       "  <thead>\n",
       "    <tr style=\"text-align: right;\">\n",
       "      <th></th>\n",
       "      <th>P_2</th>\n",
       "      <th>D_39</th>\n",
       "      <th>B_1</th>\n",
       "      <th>B_2</th>\n",
       "      <th>R_1</th>\n",
       "      <th>S_3</th>\n",
       "      <th>D_41</th>\n",
       "      <th>D_43</th>\n",
       "      <th>D_44</th>\n",
       "      <th>B_4</th>\n",
       "      <th>...</th>\n",
       "      <th>R_28</th>\n",
       "      <th>D_139</th>\n",
       "      <th>D_140</th>\n",
       "      <th>D_144</th>\n",
       "      <th>D_145</th>\n",
       "      <th>customer_ID</th>\n",
       "      <th>S_2</th>\n",
       "      <th>D_63</th>\n",
       "      <th>D_64</th>\n",
       "      <th>target</th>\n",
       "    </tr>\n",
       "  </thead>\n",
       "  <tbody>\n",
       "    <tr>\n",
       "      <th>0</th>\n",
       "      <td>0.947242</td>\n",
       "      <td>0.002204</td>\n",
       "      <td>0.008002</td>\n",
       "      <td>1.007516</td>\n",
       "      <td>0.002830</td>\n",
       "      <td>0.453227</td>\n",
       "      <td>0.005992</td>\n",
       "      <td>NaN</td>\n",
       "      <td>0.001613</td>\n",
       "      <td>0.029088</td>\n",
       "      <td>...</td>\n",
       "      <td>0.000518</td>\n",
       "      <td>0.003183</td>\n",
       "      <td>0.005264</td>\n",
       "      <td>0.004306</td>\n",
       "      <td>0.002719</td>\n",
       "      <td>743d55408505dee752adc6e62b273f4397db6e89f19034...</td>\n",
       "      <td>2017-08-10</td>\n",
       "      <td>CO</td>\n",
       "      <td>O</td>\n",
       "      <td>0</td>\n",
       "    </tr>\n",
       "    <tr>\n",
       "      <th>1</th>\n",
       "      <td>0.757648</td>\n",
       "      <td>0.002076</td>\n",
       "      <td>0.008751</td>\n",
       "      <td>0.814083</td>\n",
       "      <td>0.000408</td>\n",
       "      <td>0.155700</td>\n",
       "      <td>0.004156</td>\n",
       "      <td>0.127285</td>\n",
       "      <td>0.129051</td>\n",
       "      <td>0.040101</td>\n",
       "      <td>...</td>\n",
       "      <td>0.001186</td>\n",
       "      <td>1.000928</td>\n",
       "      <td>0.005655</td>\n",
       "      <td>0.007953</td>\n",
       "      <td>0.095926</td>\n",
       "      <td>522c85a354bfec790067b54e9db7353d20d4709ae5dc93...</td>\n",
       "      <td>2017-07-04</td>\n",
       "      <td>CO</td>\n",
       "      <td>O</td>\n",
       "      <td>0</td>\n",
       "    </tr>\n",
       "    <tr>\n",
       "      <th>2</th>\n",
       "      <td>0.392041</td>\n",
       "      <td>0.005770</td>\n",
       "      <td>0.029682</td>\n",
       "      <td>0.810262</td>\n",
       "      <td>0.006672</td>\n",
       "      <td>0.180378</td>\n",
       "      <td>0.005028</td>\n",
       "      <td>NaN</td>\n",
       "      <td>0.126794</td>\n",
       "      <td>0.210560</td>\n",
       "      <td>...</td>\n",
       "      <td>0.006967</td>\n",
       "      <td>NaN</td>\n",
       "      <td>NaN</td>\n",
       "      <td>NaN</td>\n",
       "      <td>NaN</td>\n",
       "      <td>4488928018c20bf6261e69c8a94a47b6206a2fe91480b8...</td>\n",
       "      <td>2017-07-29</td>\n",
       "      <td>CR</td>\n",
       "      <td>NaN</td>\n",
       "      <td>1</td>\n",
       "    </tr>\n",
       "    <tr>\n",
       "      <th>3</th>\n",
       "      <td>0.673978</td>\n",
       "      <td>0.588604</td>\n",
       "      <td>0.295201</td>\n",
       "      <td>0.024650</td>\n",
       "      <td>0.007951</td>\n",
       "      <td>0.125583</td>\n",
       "      <td>0.008760</td>\n",
       "      <td>NaN</td>\n",
       "      <td>0.005867</td>\n",
       "      <td>0.175950</td>\n",
       "      <td>...</td>\n",
       "      <td>0.000805</td>\n",
       "      <td>0.003558</td>\n",
       "      <td>0.008268</td>\n",
       "      <td>0.003020</td>\n",
       "      <td>0.002798</td>\n",
       "      <td>9296e983c3e4f99b046952397fc4ba950abf1032a9bd6c...</td>\n",
       "      <td>2017-03-30</td>\n",
       "      <td>CO</td>\n",
       "      <td>R</td>\n",
       "      <td>1</td>\n",
       "    </tr>\n",
       "    <tr>\n",
       "      <th>4</th>\n",
       "      <td>0.778075</td>\n",
       "      <td>0.006930</td>\n",
       "      <td>0.056721</td>\n",
       "      <td>0.819369</td>\n",
       "      <td>0.004922</td>\n",
       "      <td>0.089214</td>\n",
       "      <td>0.006884</td>\n",
       "      <td>0.041515</td>\n",
       "      <td>0.002841</td>\n",
       "      <td>0.001179</td>\n",
       "      <td>...</td>\n",
       "      <td>0.009053</td>\n",
       "      <td>0.004670</td>\n",
       "      <td>0.000125</td>\n",
       "      <td>0.000819</td>\n",
       "      <td>0.000342</td>\n",
       "      <td>3fa10314686e0e51d8f76235eceab91d70aa3f24a98c3e...</td>\n",
       "      <td>2018-01-17</td>\n",
       "      <td>CL</td>\n",
       "      <td>O</td>\n",
       "      <td>0</td>\n",
       "    </tr>\n",
       "  </tbody>\n",
       "</table>\n",
       "<p>5 rows × 123 columns</p>\n",
       "</div>"
      ],
      "text/plain": [
       "        P_2      D_39       B_1       B_2       R_1       S_3      D_41  \\\n",
       "0  0.947242  0.002204  0.008002  1.007516  0.002830  0.453227  0.005992   \n",
       "1  0.757648  0.002076  0.008751  0.814083  0.000408  0.155700  0.004156   \n",
       "2  0.392041  0.005770  0.029682  0.810262  0.006672  0.180378  0.005028   \n",
       "3  0.673978  0.588604  0.295201  0.024650  0.007951  0.125583  0.008760   \n",
       "4  0.778075  0.006930  0.056721  0.819369  0.004922  0.089214  0.006884   \n",
       "\n",
       "       D_43      D_44       B_4  ...      R_28     D_139     D_140     D_144  \\\n",
       "0       NaN  0.001613  0.029088  ...  0.000518  0.003183  0.005264  0.004306   \n",
       "1  0.127285  0.129051  0.040101  ...  0.001186  1.000928  0.005655  0.007953   \n",
       "2       NaN  0.126794  0.210560  ...  0.006967       NaN       NaN       NaN   \n",
       "3       NaN  0.005867  0.175950  ...  0.000805  0.003558  0.008268  0.003020   \n",
       "4  0.041515  0.002841  0.001179  ...  0.009053  0.004670  0.000125  0.000819   \n",
       "\n",
       "      D_145                                        customer_ID         S_2  \\\n",
       "0  0.002719  743d55408505dee752adc6e62b273f4397db6e89f19034...  2017-08-10   \n",
       "1  0.095926  522c85a354bfec790067b54e9db7353d20d4709ae5dc93...  2017-07-04   \n",
       "2       NaN  4488928018c20bf6261e69c8a94a47b6206a2fe91480b8...  2017-07-29   \n",
       "3  0.002798  9296e983c3e4f99b046952397fc4ba950abf1032a9bd6c...  2017-03-30   \n",
       "4  0.000342  3fa10314686e0e51d8f76235eceab91d70aa3f24a98c3e...  2018-01-17   \n",
       "\n",
       "   D_63  D_64  target  \n",
       "0    CO     O       0  \n",
       "1    CO     O       0  \n",
       "2    CR   NaN       1  \n",
       "3    CO     R       1  \n",
       "4    CL     O       0  \n",
       "\n",
       "[5 rows x 123 columns]"
      ]
     },
     "execution_count": 3,
     "metadata": {},
     "output_type": "execute_result"
    }
   ],
   "source": [
    "df.head()"
   ]
  },
  {
   "cell_type": "code",
   "execution_count": null,
   "id": "d4ab0709",
   "metadata": {},
   "outputs": [],
   "source": [
    "X, Y = featurizer_rn.featurizer(df)"
   ]
  },
  {
   "cell_type": "code",
   "execution_count": null,
   "id": "92bf982f",
   "metadata": {},
   "outputs": [],
   "source": [
    "X_train, X_test, y_train, y_test = train_test_split(X, y, test_size = 0.2)"
   ]
  },
  {
   "cell_type": "code",
   "execution_count": 5,
   "id": "3b170a1c",
   "metadata": {},
   "outputs": [
    {
     "data": {
      "text/plain": [
       "(276572, 128)"
      ]
     },
     "execution_count": 5,
     "metadata": {},
     "output_type": "execute_result"
    }
   ],
   "source": [
    "X.shape"
   ]
  },
  {
   "cell_type": "code",
   "execution_count": 6,
   "id": "50d75d2a",
   "metadata": {},
   "outputs": [],
   "source": [
    "dataset = X.values"
   ]
  },
  {
   "cell_type": "code",
   "execution_count": 7,
   "id": "e3b08ab4",
   "metadata": {},
   "outputs": [],
   "source": [
    "X = dataset.astype(float)\n",
    "y = Y"
   ]
  },
  {
   "cell_type": "code",
   "execution_count": 8,
   "id": "8f430a13",
   "metadata": {},
   "outputs": [],
   "source": [
    "kfold = StratifiedKFold(n_splits=10, shuffle=True)"
   ]
  },
  {
   "cell_type": "code",
   "execution_count": 9,
   "id": "afa3aa6a",
   "metadata": {},
   "outputs": [],
   "source": [
    "# baseline model\n",
    "def create_baseline(input_dim):\n",
    "    # create model\n",
    "    model = Sequential()\n",
    "    model.add(Dense(120, input_dim=input_dim, activation='relu'))\n",
    "    model.add(Dense(400, activation='relu'))\n",
    "    model.add(Dense(400, activation='relu'))\n",
    "    model.add(Dense(400, activation='relu'))\n",
    "    model.add(Dense(1, activation='sigmoid'))\n",
    "    # Compile model\n",
    "    model.compile(loss='binary_crossentropy', optimizer='adam', metrics=['accuracy'])\n",
    "    return model"
   ]
  },
  {
   "cell_type": "code",
   "execution_count": 10,
   "id": "92ce8199",
   "metadata": {},
   "outputs": [],
   "source": [
    "for train, test in kfold.split(X, y):\n",
    "    X_train, X_test = X[train], X[test]\n",
    "    y_train, y_test = y[train], y[test]"
   ]
  },
  {
   "cell_type": "code",
   "execution_count": 11,
   "id": "2da5ba9c",
   "metadata": {},
   "outputs": [
    {
     "name": "stderr",
     "output_type": "stream",
     "text": [
      "2022-08-09 21:46:44.625893: W tensorflow/stream_executor/platform/default/dso_loader.cc:64] Could not load dynamic library 'libcuda.so.1'; dlerror: libcuda.so.1: cannot open shared object file: No such file or directory\n",
      "2022-08-09 21:46:44.625909: W tensorflow/stream_executor/cuda/cuda_driver.cc:269] failed call to cuInit: UNKNOWN ERROR (303)\n",
      "2022-08-09 21:46:44.625930: I tensorflow/stream_executor/cuda/cuda_diagnostics.cc:156] kernel driver does not appear to be running on this host (latitude5421): /proc/driver/nvidia/version does not exist\n",
      "2022-08-09 21:46:44.626102: I tensorflow/core/platform/cpu_feature_guard.cc:193] This TensorFlow binary is optimized with oneAPI Deep Neural Network Library (oneDNN) to use the following CPU instructions in performance-critical operations:  AVX2 AVX512F AVX512_VNNI FMA\n",
      "To enable them in other operations, rebuild TensorFlow with the appropriate compiler flags.\n"
     ]
    }
   ],
   "source": [
    "model_baseline = create_baseline(X_train.shape[1])"
   ]
  },
  {
   "cell_type": "code",
   "execution_count": null,
   "id": "7ba10e5f",
   "metadata": {},
   "outputs": [
    {
     "name": "stdout",
     "output_type": "stream",
     "text": [
      "Epoch 1/10\n",
      "19914/19914 [==============================] - 25s 1ms/step - loss: 0.5644 - accuracy: 0.7513 - val_loss: 0.5620 - val_accuracy: 0.7503\n",
      "Epoch 2/10\n",
      "19914/19914 [==============================] - 25s 1ms/step - loss: 0.5610 - accuracy: 0.7513 - val_loss: 0.5620 - val_accuracy: 0.7503\n",
      "Epoch 3/10\n",
      "19914/19914 [==============================] - 25s 1ms/step - loss: 0.5610 - accuracy: 0.7513 - val_loss: 0.5620 - val_accuracy: 0.7503\n",
      "Epoch 4/10\n",
      "19914/19914 [==============================] - 25s 1ms/step - loss: 0.5610 - accuracy: 0.7513 - val_loss: 0.5620 - val_accuracy: 0.7503\n",
      "Epoch 5/10\n",
      "19914/19914 [==============================] - 25s 1ms/step - loss: 0.5610 - accuracy: 0.7513 - val_loss: 0.5620 - val_accuracy: 0.7503\n",
      "Epoch 6/10\n",
      "10148/19914 [==============>...............] - ETA: 11s - loss: 0.5602 - accuracy: 0.7520"
     ]
    }
   ],
   "source": [
    "model_baseline.fit(X_train, y_train, epochs=10, verbose=1, batch_size=10,validation_split=0.2)"
   ]
  },
  {
   "cell_type": "code",
   "execution_count": null,
   "id": "716a9b59",
   "metadata": {},
   "outputs": [],
   "source": []
  },
  {
   "cell_type": "code",
   "execution_count": null,
   "id": "d2a96c44",
   "metadata": {},
   "outputs": [],
   "source": []
  }
 ],
 "metadata": {
  "kernelspec": {
   "display_name": "Python 3 (ipykernel)",
   "language": "python",
   "name": "python3"
  },
  "language_info": {
   "codemirror_mode": {
    "name": "ipython",
    "version": 3
   },
   "file_extension": ".py",
   "mimetype": "text/x-python",
   "name": "python",
   "nbconvert_exporter": "python",
   "pygments_lexer": "ipython3",
   "version": "3.8.10"
  }
 },
 "nbformat": 4,
 "nbformat_minor": 5
}
