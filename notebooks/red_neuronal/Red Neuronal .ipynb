{
 "cells": [
  {
   "cell_type": "code",
   "execution_count": 1,
   "id": "b1cca1a3",
   "metadata": {},
   "outputs": [
    {
     "name": "stderr",
     "output_type": "stream",
     "text": [
      "2022-08-10 01:44:13.156113: I tensorflow/core/util/util.cc:169] oneDNN custom operations are on. You may see slightly different numerical results due to floating-point round-off errors from different computation orders. To turn them off, set the environment variable `TF_ENABLE_ONEDNN_OPTS=0`.\n",
      "2022-08-10 01:44:13.158923: W tensorflow/stream_executor/platform/default/dso_loader.cc:64] Could not load dynamic library 'libcudart.so.11.0'; dlerror: libcudart.so.11.0: cannot open shared object file: No such file or directory\n",
      "2022-08-10 01:44:13.158932: I tensorflow/stream_executor/cuda/cudart_stub.cc:29] Ignore above cudart dlerror if you do not have a GPU set up on your machine.\n"
     ]
    }
   ],
   "source": [
    "import pandas as pd\n",
    "import numpy as np\n",
    "\n",
    "from tensorflow.keras.models import Sequential\n",
    "from tensorflow.keras.layers import Dense, Dropout\n",
    "from scikeras.wrappers import KerasClassifier\n",
    "from sklearn.model_selection import cross_val_score\n",
    "from sklearn.preprocessing import LabelEncoder\n",
    "from sklearn.model_selection import StratifiedKFold\n",
    "from sklearn.preprocessing import StandardScaler\n",
    "from sklearn.pipeline import Pipeline\n",
    "import tensorflow\n",
    "\n",
    "\n",
    "from sklearn.model_selection import train_test_split, GridSearchCV\n",
    "\n",
    "\n",
    "import sys\n",
    "sys.path.append('../')\n",
    "from scripts import featurizer_rn\n",
    "\n",
    "\n",
    "%load_ext autoreload\n",
    "%autoreload 2"
   ]
  },
  {
   "cell_type": "code",
   "execution_count": 2,
   "id": "96348f21",
   "metadata": {},
   "outputs": [],
   "source": [
    "# load dataset\n",
    "df = pd.read_csv(\"../../data/dfff.csv\", low_memory=False)\n"
   ]
  },
  {
   "cell_type": "code",
   "execution_count": 3,
   "id": "fefba1e3",
   "metadata": {},
   "outputs": [
    {
     "data": {
      "text/html": [
       "<div>\n",
       "<style scoped>\n",
       "    .dataframe tbody tr th:only-of-type {\n",
       "        vertical-align: middle;\n",
       "    }\n",
       "\n",
       "    .dataframe tbody tr th {\n",
       "        vertical-align: top;\n",
       "    }\n",
       "\n",
       "    .dataframe thead th {\n",
       "        text-align: right;\n",
       "    }\n",
       "</style>\n",
       "<table border=\"1\" class=\"dataframe\">\n",
       "  <thead>\n",
       "    <tr style=\"text-align: right;\">\n",
       "      <th></th>\n",
       "      <th>P_2</th>\n",
       "      <th>D_39</th>\n",
       "      <th>B_1</th>\n",
       "      <th>B_2</th>\n",
       "      <th>R_1</th>\n",
       "      <th>S_3</th>\n",
       "      <th>D_41</th>\n",
       "      <th>D_43</th>\n",
       "      <th>D_44</th>\n",
       "      <th>B_4</th>\n",
       "      <th>...</th>\n",
       "      <th>R_28</th>\n",
       "      <th>D_139</th>\n",
       "      <th>D_140</th>\n",
       "      <th>D_144</th>\n",
       "      <th>D_145</th>\n",
       "      <th>customer_ID</th>\n",
       "      <th>S_2</th>\n",
       "      <th>D_63</th>\n",
       "      <th>D_64</th>\n",
       "      <th>target</th>\n",
       "    </tr>\n",
       "  </thead>\n",
       "  <tbody>\n",
       "    <tr>\n",
       "      <th>0</th>\n",
       "      <td>0.947242</td>\n",
       "      <td>0.002204</td>\n",
       "      <td>0.008002</td>\n",
       "      <td>1.007516</td>\n",
       "      <td>0.002830</td>\n",
       "      <td>0.453227</td>\n",
       "      <td>0.005992</td>\n",
       "      <td>NaN</td>\n",
       "      <td>0.001613</td>\n",
       "      <td>0.029088</td>\n",
       "      <td>...</td>\n",
       "      <td>0.000518</td>\n",
       "      <td>0.003183</td>\n",
       "      <td>0.005264</td>\n",
       "      <td>0.004306</td>\n",
       "      <td>0.002719</td>\n",
       "      <td>743d55408505dee752adc6e62b273f4397db6e89f19034...</td>\n",
       "      <td>2017-08-10</td>\n",
       "      <td>CO</td>\n",
       "      <td>O</td>\n",
       "      <td>0</td>\n",
       "    </tr>\n",
       "    <tr>\n",
       "      <th>1</th>\n",
       "      <td>0.757648</td>\n",
       "      <td>0.002076</td>\n",
       "      <td>0.008751</td>\n",
       "      <td>0.814083</td>\n",
       "      <td>0.000408</td>\n",
       "      <td>0.155700</td>\n",
       "      <td>0.004156</td>\n",
       "      <td>0.127285</td>\n",
       "      <td>0.129051</td>\n",
       "      <td>0.040101</td>\n",
       "      <td>...</td>\n",
       "      <td>0.001186</td>\n",
       "      <td>1.000928</td>\n",
       "      <td>0.005655</td>\n",
       "      <td>0.007953</td>\n",
       "      <td>0.095926</td>\n",
       "      <td>522c85a354bfec790067b54e9db7353d20d4709ae5dc93...</td>\n",
       "      <td>2017-07-04</td>\n",
       "      <td>CO</td>\n",
       "      <td>O</td>\n",
       "      <td>0</td>\n",
       "    </tr>\n",
       "    <tr>\n",
       "      <th>2</th>\n",
       "      <td>0.392041</td>\n",
       "      <td>0.005770</td>\n",
       "      <td>0.029682</td>\n",
       "      <td>0.810262</td>\n",
       "      <td>0.006672</td>\n",
       "      <td>0.180378</td>\n",
       "      <td>0.005028</td>\n",
       "      <td>NaN</td>\n",
       "      <td>0.126794</td>\n",
       "      <td>0.210560</td>\n",
       "      <td>...</td>\n",
       "      <td>0.006967</td>\n",
       "      <td>NaN</td>\n",
       "      <td>NaN</td>\n",
       "      <td>NaN</td>\n",
       "      <td>NaN</td>\n",
       "      <td>4488928018c20bf6261e69c8a94a47b6206a2fe91480b8...</td>\n",
       "      <td>2017-07-29</td>\n",
       "      <td>CR</td>\n",
       "      <td>NaN</td>\n",
       "      <td>1</td>\n",
       "    </tr>\n",
       "    <tr>\n",
       "      <th>3</th>\n",
       "      <td>0.673978</td>\n",
       "      <td>0.588604</td>\n",
       "      <td>0.295201</td>\n",
       "      <td>0.024650</td>\n",
       "      <td>0.007951</td>\n",
       "      <td>0.125583</td>\n",
       "      <td>0.008760</td>\n",
       "      <td>NaN</td>\n",
       "      <td>0.005867</td>\n",
       "      <td>0.175950</td>\n",
       "      <td>...</td>\n",
       "      <td>0.000805</td>\n",
       "      <td>0.003558</td>\n",
       "      <td>0.008268</td>\n",
       "      <td>0.003020</td>\n",
       "      <td>0.002798</td>\n",
       "      <td>9296e983c3e4f99b046952397fc4ba950abf1032a9bd6c...</td>\n",
       "      <td>2017-03-30</td>\n",
       "      <td>CO</td>\n",
       "      <td>R</td>\n",
       "      <td>1</td>\n",
       "    </tr>\n",
       "    <tr>\n",
       "      <th>4</th>\n",
       "      <td>0.778075</td>\n",
       "      <td>0.006930</td>\n",
       "      <td>0.056721</td>\n",
       "      <td>0.819369</td>\n",
       "      <td>0.004922</td>\n",
       "      <td>0.089214</td>\n",
       "      <td>0.006884</td>\n",
       "      <td>0.041515</td>\n",
       "      <td>0.002841</td>\n",
       "      <td>0.001179</td>\n",
       "      <td>...</td>\n",
       "      <td>0.009053</td>\n",
       "      <td>0.004670</td>\n",
       "      <td>0.000125</td>\n",
       "      <td>0.000819</td>\n",
       "      <td>0.000342</td>\n",
       "      <td>3fa10314686e0e51d8f76235eceab91d70aa3f24a98c3e...</td>\n",
       "      <td>2018-01-17</td>\n",
       "      <td>CL</td>\n",
       "      <td>O</td>\n",
       "      <td>0</td>\n",
       "    </tr>\n",
       "  </tbody>\n",
       "</table>\n",
       "<p>5 rows × 123 columns</p>\n",
       "</div>"
      ],
      "text/plain": [
       "        P_2      D_39       B_1       B_2       R_1       S_3      D_41  \\\n",
       "0  0.947242  0.002204  0.008002  1.007516  0.002830  0.453227  0.005992   \n",
       "1  0.757648  0.002076  0.008751  0.814083  0.000408  0.155700  0.004156   \n",
       "2  0.392041  0.005770  0.029682  0.810262  0.006672  0.180378  0.005028   \n",
       "3  0.673978  0.588604  0.295201  0.024650  0.007951  0.125583  0.008760   \n",
       "4  0.778075  0.006930  0.056721  0.819369  0.004922  0.089214  0.006884   \n",
       "\n",
       "       D_43      D_44       B_4  ...      R_28     D_139     D_140     D_144  \\\n",
       "0       NaN  0.001613  0.029088  ...  0.000518  0.003183  0.005264  0.004306   \n",
       "1  0.127285  0.129051  0.040101  ...  0.001186  1.000928  0.005655  0.007953   \n",
       "2       NaN  0.126794  0.210560  ...  0.006967       NaN       NaN       NaN   \n",
       "3       NaN  0.005867  0.175950  ...  0.000805  0.003558  0.008268  0.003020   \n",
       "4  0.041515  0.002841  0.001179  ...  0.009053  0.004670  0.000125  0.000819   \n",
       "\n",
       "      D_145                                        customer_ID         S_2  \\\n",
       "0  0.002719  743d55408505dee752adc6e62b273f4397db6e89f19034...  2017-08-10   \n",
       "1  0.095926  522c85a354bfec790067b54e9db7353d20d4709ae5dc93...  2017-07-04   \n",
       "2       NaN  4488928018c20bf6261e69c8a94a47b6206a2fe91480b8...  2017-07-29   \n",
       "3  0.002798  9296e983c3e4f99b046952397fc4ba950abf1032a9bd6c...  2017-03-30   \n",
       "4  0.000342  3fa10314686e0e51d8f76235eceab91d70aa3f24a98c3e...  2018-01-17   \n",
       "\n",
       "   D_63  D_64  target  \n",
       "0    CO     O       0  \n",
       "1    CO     O       0  \n",
       "2    CR   NaN       1  \n",
       "3    CO     R       1  \n",
       "4    CL     O       0  \n",
       "\n",
       "[5 rows x 123 columns]"
      ]
     },
     "execution_count": 3,
     "metadata": {},
     "output_type": "execute_result"
    }
   ],
   "source": [
    "df.head()"
   ]
  },
  {
   "cell_type": "code",
   "execution_count": 4,
   "id": "68256182",
   "metadata": {},
   "outputs": [
    {
     "data": {
      "text/plain": [
       "(276572, 123)"
      ]
     },
     "execution_count": 4,
     "metadata": {},
     "output_type": "execute_result"
    }
   ],
   "source": [
    "df.shape"
   ]
  },
  {
   "cell_type": "code",
   "execution_count": 5,
   "id": "b1e76caa",
   "metadata": {},
   "outputs": [],
   "source": [
    "X, Y = featurizer_rn.featurizer(df)"
   ]
  },
  {
   "cell_type": "code",
   "execution_count": 7,
   "id": "3065ac27",
   "metadata": {},
   "outputs": [
    {
     "data": {
      "text/plain": [
       "(276572, 148)"
      ]
     },
     "execution_count": 7,
     "metadata": {},
     "output_type": "execute_result"
    }
   ],
   "source": [
    "X.shape"
   ]
  },
  {
   "cell_type": "code",
   "execution_count": 8,
   "id": "e0946bce",
   "metadata": {},
   "outputs": [],
   "source": [
    "dataset = X.values"
   ]
  },
  {
   "cell_type": "code",
   "execution_count": 9,
   "id": "9b121367",
   "metadata": {},
   "outputs": [
    {
     "data": {
      "text/plain": [
       "0         0\n",
       "1         0\n",
       "2         1\n",
       "3         1\n",
       "4         0\n",
       "         ..\n",
       "276567    1\n",
       "276568    0\n",
       "276569    0\n",
       "276570    1\n",
       "276571    1\n",
       "Name: target, Length: 276572, dtype: int64"
      ]
     },
     "execution_count": 9,
     "metadata": {},
     "output_type": "execute_result"
    }
   ],
   "source": [
    "Y"
   ]
  },
  {
   "cell_type": "code",
   "execution_count": 10,
   "id": "e528254a",
   "metadata": {},
   "outputs": [],
   "source": [
    "X = dataset.astype(float)\n",
    "y = Y"
   ]
  },
  {
   "cell_type": "code",
   "execution_count": 11,
   "id": "1b443505",
   "metadata": {},
   "outputs": [],
   "source": [
    "kfold = StratifiedKFold(n_splits=5, shuffle=True)"
   ]
  },
  {
   "cell_type": "code",
   "execution_count": 12,
   "id": "65c93a30",
   "metadata": {},
   "outputs": [],
   "source": [
    "for train, test in kfold.split(X, y):\n",
    "    X_train, X_test = X[train], X[test]\n",
    "    y_train, y_test = y[train], y[test]"
   ]
  },
  {
   "cell_type": "code",
   "execution_count": 13,
   "id": "e12f294a",
   "metadata": {},
   "outputs": [
    {
     "data": {
      "text/plain": [
       "276572"
      ]
     },
     "execution_count": 13,
     "metadata": {},
     "output_type": "execute_result"
    }
   ],
   "source": [
    "X.shape[0]"
   ]
  },
  {
   "cell_type": "code",
   "execution_count": 14,
   "id": "481c2117",
   "metadata": {},
   "outputs": [
    {
     "data": {
      "text/plain": [
       "0.8000014462780035"
      ]
     },
     "execution_count": 14,
     "metadata": {},
     "output_type": "execute_result"
    }
   ],
   "source": [
    "X_train.shape[0]/X.shape[0]"
   ]
  },
  {
   "cell_type": "code",
   "execution_count": 15,
   "id": "91ce72a0",
   "metadata": {},
   "outputs": [
    {
     "data": {
      "text/plain": [
       "0.19999855372199643"
      ]
     },
     "execution_count": 15,
     "metadata": {},
     "output_type": "execute_result"
    }
   ],
   "source": [
    "X_test.shape[0]/X.shape[0]"
   ]
  },
  {
   "cell_type": "code",
   "execution_count": 16,
   "id": "cc00ca65",
   "metadata": {},
   "outputs": [],
   "source": [
    "# baseline model\n",
    "def create_baseline(input_dim, opt):\n",
    "    # create model\n",
    "    model = Sequential()\n",
    "    model.add(Dense(8, input_dim=input_dim, activation='relu'))\n",
    "    model.add(Dense(10, activation='relu'))\n",
    "    model.add(Dense(1, activation=\"sigmoid\"))\n",
    "    # Compile model\n",
    "    model.compile(loss='binary_crossentropy', optimizer=opt, metrics=['binary_accuracy'])\n",
    "    return model"
   ]
  },
  {
   "cell_type": "code",
   "execution_count": 17,
   "id": "83134b7d",
   "metadata": {},
   "outputs": [
    {
     "name": "stderr",
     "output_type": "stream",
     "text": [
      "2022-08-10 01:44:27.307895: W tensorflow/stream_executor/platform/default/dso_loader.cc:64] Could not load dynamic library 'libcuda.so.1'; dlerror: libcuda.so.1: cannot open shared object file: No such file or directory\n",
      "2022-08-10 01:44:27.307911: W tensorflow/stream_executor/cuda/cuda_driver.cc:269] failed call to cuInit: UNKNOWN ERROR (303)\n",
      "2022-08-10 01:44:27.307923: I tensorflow/stream_executor/cuda/cuda_diagnostics.cc:156] kernel driver does not appear to be running on this host (latitude5421): /proc/driver/nvidia/version does not exist\n",
      "2022-08-10 01:44:27.308113: I tensorflow/core/platform/cpu_feature_guard.cc:193] This TensorFlow binary is optimized with oneAPI Deep Neural Network Library (oneDNN) to use the following CPU instructions in performance-critical operations:  AVX2 AVX512F AVX512_VNNI FMA\n",
      "To enable them in other operations, rebuild TensorFlow with the appropriate compiler flags.\n"
     ]
    }
   ],
   "source": [
    "from keras.optimizers import SGD\n",
    "opt = SGD(learning_rate=0.01, decay=1e-6, momentum=0.9, nesterov=True)\n",
    "\n",
    "model_baseline = create_baseline(X_train.shape[1],opt)"
   ]
  },
  {
   "cell_type": "code",
   "execution_count": 18,
   "id": "f573acf9",
   "metadata": {},
   "outputs": [
    {
     "name": "stdout",
     "output_type": "stream",
     "text": [
      "Epoch 1/100\n",
      "8851/8851 [==============================] - 5s 566us/step - loss: 0.5615 - binary_accuracy: 0.7513 - val_loss: 0.5623 - val_binary_accuracy: 0.7501\n",
      "Epoch 2/100\n",
      "8851/8851 [==============================] - 5s 549us/step - loss: 0.5611 - binary_accuracy: 0.7513 - val_loss: 0.5631 - val_binary_accuracy: 0.7501\n",
      "Epoch 3/100\n",
      "8851/8851 [==============================] - 5s 536us/step - loss: 0.5611 - binary_accuracy: 0.7513 - val_loss: 0.5623 - val_binary_accuracy: 0.7501\n",
      "Epoch 4/100\n",
      "8851/8851 [==============================] - 5s 564us/step - loss: 0.5611 - binary_accuracy: 0.7513 - val_loss: 0.5624 - val_binary_accuracy: 0.7501\n",
      "Epoch 5/100\n",
      "8851/8851 [==============================] - 5s 564us/step - loss: 0.5611 - binary_accuracy: 0.7513 - val_loss: 0.5624 - val_binary_accuracy: 0.7501\n",
      "Epoch 6/100\n",
      "8851/8851 [==============================] - 5s 556us/step - loss: 0.5611 - binary_accuracy: 0.7513 - val_loss: 0.5637 - val_binary_accuracy: 0.7501\n",
      "Epoch 7/100\n",
      "8851/8851 [==============================] - 5s 558us/step - loss: 0.5611 - binary_accuracy: 0.7513 - val_loss: 0.5624 - val_binary_accuracy: 0.7501\n",
      "Epoch 8/100\n",
      "8851/8851 [==============================] - 5s 547us/step - loss: 0.5610 - binary_accuracy: 0.7513 - val_loss: 0.5623 - val_binary_accuracy: 0.7501\n",
      "Epoch 9/100\n",
      "8851/8851 [==============================] - 5s 563us/step - loss: 0.5611 - binary_accuracy: 0.7513 - val_loss: 0.5625 - val_binary_accuracy: 0.7501\n",
      "Epoch 10/100\n",
      "8851/8851 [==============================] - 5s 565us/step - loss: 0.5611 - binary_accuracy: 0.7513 - val_loss: 0.5627 - val_binary_accuracy: 0.7501\n",
      "Epoch 11/100\n",
      "8851/8851 [==============================] - 5s 564us/step - loss: 0.5612 - binary_accuracy: 0.7513 - val_loss: 0.5623 - val_binary_accuracy: 0.7501\n",
      "Epoch 12/100\n",
      "8851/8851 [==============================] - 5s 558us/step - loss: 0.5611 - binary_accuracy: 0.7513 - val_loss: 0.5641 - val_binary_accuracy: 0.7501\n",
      "Epoch 13/100\n",
      "8851/8851 [==============================] - 5s 559us/step - loss: 0.5611 - binary_accuracy: 0.7513 - val_loss: 0.5626 - val_binary_accuracy: 0.7501\n",
      "Epoch 14/100\n",
      "8851/8851 [==============================] - 5s 557us/step - loss: 0.5611 - binary_accuracy: 0.7513 - val_loss: 0.5623 - val_binary_accuracy: 0.7501\n",
      "Epoch 15/100\n",
      "8851/8851 [==============================] - 5s 559us/step - loss: 0.5611 - binary_accuracy: 0.7513 - val_loss: 0.5625 - val_binary_accuracy: 0.7501\n",
      "Epoch 16/100\n",
      "8851/8851 [==============================] - 5s 555us/step - loss: 0.5611 - binary_accuracy: 0.7513 - val_loss: 0.5624 - val_binary_accuracy: 0.7501\n",
      "Epoch 17/100\n",
      "8851/8851 [==============================] - 5s 573us/step - loss: 0.5611 - binary_accuracy: 0.7513 - val_loss: 0.5623 - val_binary_accuracy: 0.7501\n",
      "Epoch 18/100\n",
      "8851/8851 [==============================] - 5s 565us/step - loss: 0.5610 - binary_accuracy: 0.7513 - val_loss: 0.5623 - val_binary_accuracy: 0.7501\n",
      "Epoch 19/100\n",
      "8851/8851 [==============================] - 5s 565us/step - loss: 0.5610 - binary_accuracy: 0.7513 - val_loss: 0.5628 - val_binary_accuracy: 0.7501\n",
      "Epoch 20/100\n",
      "8851/8851 [==============================] - 5s 569us/step - loss: 0.5611 - binary_accuracy: 0.7513 - val_loss: 0.5624 - val_binary_accuracy: 0.7501\n",
      "Epoch 21/100\n",
      "8851/8851 [==============================] - 5s 577us/step - loss: 0.5610 - binary_accuracy: 0.7513 - val_loss: 0.5625 - val_binary_accuracy: 0.7501\n",
      "Epoch 22/100\n",
      "8851/8851 [==============================] - 5s 579us/step - loss: 0.5610 - binary_accuracy: 0.7513 - val_loss: 0.5625 - val_binary_accuracy: 0.7501\n",
      "Epoch 23/100\n",
      "8851/8851 [==============================] - 5s 590us/step - loss: 0.5611 - binary_accuracy: 0.7513 - val_loss: 0.5624 - val_binary_accuracy: 0.7501\n",
      "Epoch 24/100\n",
      "8851/8851 [==============================] - 5s 588us/step - loss: 0.5610 - binary_accuracy: 0.7513 - val_loss: 0.5623 - val_binary_accuracy: 0.7501\n",
      "Epoch 25/100\n",
      "8851/8851 [==============================] - 5s 583us/step - loss: 0.5610 - binary_accuracy: 0.7513 - val_loss: 0.5623 - val_binary_accuracy: 0.7501\n",
      "Epoch 26/100\n",
      "8851/8851 [==============================] - 5s 576us/step - loss: 0.5611 - binary_accuracy: 0.7513 - val_loss: 0.5625 - val_binary_accuracy: 0.7501\n",
      "Epoch 27/100\n",
      "8851/8851 [==============================] - 5s 560us/step - loss: 0.5611 - binary_accuracy: 0.7513 - val_loss: 0.5630 - val_binary_accuracy: 0.7501\n",
      "Epoch 28/100\n",
      "8851/8851 [==============================] - 5s 567us/step - loss: 0.5611 - binary_accuracy: 0.7513 - val_loss: 0.5623 - val_binary_accuracy: 0.7501\n",
      "Epoch 29/100\n",
      "8851/8851 [==============================] - 5s 580us/step - loss: 0.5611 - binary_accuracy: 0.7513 - val_loss: 0.5623 - val_binary_accuracy: 0.7501\n",
      "Epoch 30/100\n",
      "8851/8851 [==============================] - 5s 599us/step - loss: 0.5610 - binary_accuracy: 0.7513 - val_loss: 0.5629 - val_binary_accuracy: 0.7501\n",
      "Epoch 31/100\n",
      "8851/8851 [==============================] - 5s 613us/step - loss: 0.5610 - binary_accuracy: 0.7513 - val_loss: 0.5623 - val_binary_accuracy: 0.7501\n",
      "Epoch 32/100\n",
      "8851/8851 [==============================] - 5s 596us/step - loss: 0.5611 - binary_accuracy: 0.7513 - val_loss: 0.5626 - val_binary_accuracy: 0.7501\n",
      "Epoch 33/100\n",
      "8851/8851 [==============================] - 5s 602us/step - loss: 0.5610 - binary_accuracy: 0.7513 - val_loss: 0.5623 - val_binary_accuracy: 0.7501\n",
      "Epoch 34/100\n",
      "8851/8851 [==============================] - 5s 609us/step - loss: 0.5611 - binary_accuracy: 0.7513 - val_loss: 0.5631 - val_binary_accuracy: 0.7501\n",
      "Epoch 35/100\n",
      "8851/8851 [==============================] - 5s 609us/step - loss: 0.5611 - binary_accuracy: 0.7513 - val_loss: 0.5623 - val_binary_accuracy: 0.7501\n",
      "Epoch 36/100\n",
      "8851/8851 [==============================] - 6s 638us/step - loss: 0.5610 - binary_accuracy: 0.7513 - val_loss: 0.5623 - val_binary_accuracy: 0.7501\n",
      "Epoch 37/100\n",
      "8851/8851 [==============================] - 6s 624us/step - loss: 0.5610 - binary_accuracy: 0.7513 - val_loss: 0.5627 - val_binary_accuracy: 0.7501\n",
      "Epoch 38/100\n",
      "8851/8851 [==============================] - 6s 632us/step - loss: 0.5610 - binary_accuracy: 0.7513 - val_loss: 0.5625 - val_binary_accuracy: 0.7501\n",
      "Epoch 39/100\n",
      "8851/8851 [==============================] - 6s 630us/step - loss: 0.5610 - binary_accuracy: 0.7513 - val_loss: 0.5626 - val_binary_accuracy: 0.7501\n",
      "Epoch 40/100\n",
      "8851/8851 [==============================] - 6s 644us/step - loss: 0.5611 - binary_accuracy: 0.7513 - val_loss: 0.5624 - val_binary_accuracy: 0.7501\n",
      "Epoch 41/100\n",
      "8851/8851 [==============================] - 6s 646us/step - loss: 0.5610 - binary_accuracy: 0.7513 - val_loss: 0.5628 - val_binary_accuracy: 0.7501\n",
      "Epoch 42/100\n",
      "8851/8851 [==============================] - 6s 631us/step - loss: 0.5611 - binary_accuracy: 0.7513 - val_loss: 0.5627 - val_binary_accuracy: 0.7501\n",
      "Epoch 43/100\n",
      "8851/8851 [==============================] - 6s 636us/step - loss: 0.5610 - binary_accuracy: 0.7513 - val_loss: 0.5623 - val_binary_accuracy: 0.7501\n",
      "Epoch 44/100\n",
      "8851/8851 [==============================] - 6s 647us/step - loss: 0.5611 - binary_accuracy: 0.7513 - val_loss: 0.5623 - val_binary_accuracy: 0.7501\n",
      "Epoch 45/100\n",
      "8851/8851 [==============================] - 6s 646us/step - loss: 0.5610 - binary_accuracy: 0.7513 - val_loss: 0.5624 - val_binary_accuracy: 0.7501\n",
      "Epoch 46/100\n",
      "8851/8851 [==============================] - 6s 673us/step - loss: 0.5611 - binary_accuracy: 0.7513 - val_loss: 0.5623 - val_binary_accuracy: 0.7501\n",
      "Epoch 47/100\n",
      "8851/8851 [==============================] - 6s 677us/step - loss: 0.5610 - binary_accuracy: 0.7513 - val_loss: 0.5633 - val_binary_accuracy: 0.7501\n",
      "Epoch 48/100\n",
      "8851/8851 [==============================] - 6s 656us/step - loss: 0.5610 - binary_accuracy: 0.7513 - val_loss: 0.5623 - val_binary_accuracy: 0.7501\n",
      "Epoch 49/100\n",
      "8851/8851 [==============================] - 6s 652us/step - loss: 0.5610 - binary_accuracy: 0.7513 - val_loss: 0.5623 - val_binary_accuracy: 0.7501\n",
      "Epoch 50/100\n",
      "8851/8851 [==============================] - 6s 664us/step - loss: 0.5610 - binary_accuracy: 0.7513 - val_loss: 0.5623 - val_binary_accuracy: 0.7501\n",
      "Epoch 51/100\n"
     ]
    },
    {
     "name": "stdout",
     "output_type": "stream",
     "text": [
      "8851/8851 [==============================] - 6s 678us/step - loss: 0.5611 - binary_accuracy: 0.7513 - val_loss: 0.5623 - val_binary_accuracy: 0.7501\n",
      "Epoch 52/100\n",
      "8851/8851 [==============================] - 6s 689us/step - loss: 0.5610 - binary_accuracy: 0.7513 - val_loss: 0.5623 - val_binary_accuracy: 0.7501\n",
      "Epoch 53/100\n",
      "8851/8851 [==============================] - 6s 678us/step - loss: 0.5610 - binary_accuracy: 0.7513 - val_loss: 0.5623 - val_binary_accuracy: 0.7501\n",
      "Epoch 54/100\n",
      "8851/8851 [==============================] - 6s 688us/step - loss: 0.5610 - binary_accuracy: 0.7513 - val_loss: 0.5625 - val_binary_accuracy: 0.7501\n",
      "Epoch 55/100\n",
      "8851/8851 [==============================] - 6s 679us/step - loss: 0.5610 - binary_accuracy: 0.7513 - val_loss: 0.5624 - val_binary_accuracy: 0.7501\n",
      "Epoch 56/100\n",
      "8851/8851 [==============================] - 6s 709us/step - loss: 0.5610 - binary_accuracy: 0.7513 - val_loss: 0.5628 - val_binary_accuracy: 0.7501\n",
      "Epoch 57/100\n",
      "8851/8851 [==============================] - 6s 728us/step - loss: 0.5611 - binary_accuracy: 0.7513 - val_loss: 0.5623 - val_binary_accuracy: 0.7501\n",
      "Epoch 58/100\n",
      "8851/8851 [==============================] - 7s 745us/step - loss: 0.5610 - binary_accuracy: 0.7513 - val_loss: 0.5623 - val_binary_accuracy: 0.7501\n",
      "Epoch 59/100\n",
      "8851/8851 [==============================] - 7s 766us/step - loss: 0.5610 - binary_accuracy: 0.7513 - val_loss: 0.5623 - val_binary_accuracy: 0.7501\n",
      "Epoch 60/100\n",
      "8851/8851 [==============================] - 7s 775us/step - loss: 0.5610 - binary_accuracy: 0.7513 - val_loss: 0.5623 - val_binary_accuracy: 0.7501\n",
      "Epoch 61/100\n",
      "8851/8851 [==============================] - 7s 787us/step - loss: 0.5610 - binary_accuracy: 0.7513 - val_loss: 0.5623 - val_binary_accuracy: 0.7501\n",
      "Epoch 62/100\n",
      "8851/8851 [==============================] - 7s 769us/step - loss: 0.5610 - binary_accuracy: 0.7513 - val_loss: 0.5623 - val_binary_accuracy: 0.7501\n",
      "Epoch 63/100\n",
      "8851/8851 [==============================] - 7s 756us/step - loss: 0.5610 - binary_accuracy: 0.7513 - val_loss: 0.5623 - val_binary_accuracy: 0.7501\n",
      "Epoch 64/100\n",
      "8851/8851 [==============================] - 7s 765us/step - loss: 0.5611 - binary_accuracy: 0.7513 - val_loss: 0.5623 - val_binary_accuracy: 0.7501\n",
      "Epoch 65/100\n",
      "8851/8851 [==============================] - 7s 780us/step - loss: 0.5610 - binary_accuracy: 0.7513 - val_loss: 0.5623 - val_binary_accuracy: 0.7501\n",
      "Epoch 66/100\n",
      "8851/8851 [==============================] - 7s 783us/step - loss: 0.5610 - binary_accuracy: 0.7513 - val_loss: 0.5623 - val_binary_accuracy: 0.7501\n",
      "Epoch 67/100\n",
      "8851/8851 [==============================] - 7s 755us/step - loss: 0.5610 - binary_accuracy: 0.7513 - val_loss: 0.5625 - val_binary_accuracy: 0.7501\n",
      "Epoch 68/100\n",
      "8851/8851 [==============================] - 7s 757us/step - loss: 0.5610 - binary_accuracy: 0.7513 - val_loss: 0.5623 - val_binary_accuracy: 0.7501\n",
      "Epoch 69/100\n",
      "8851/8851 [==============================] - 7s 766us/step - loss: 0.5610 - binary_accuracy: 0.7513 - val_loss: 0.5626 - val_binary_accuracy: 0.7501\n",
      "Epoch 70/100\n",
      "8851/8851 [==============================] - 7s 781us/step - loss: 0.5610 - binary_accuracy: 0.7513 - val_loss: 0.5623 - val_binary_accuracy: 0.7501\n",
      "Epoch 71/100\n",
      "8851/8851 [==============================] - 7s 753us/step - loss: 0.5610 - binary_accuracy: 0.7513 - val_loss: 0.5627 - val_binary_accuracy: 0.7501\n",
      "Epoch 72/100\n",
      "8851/8851 [==============================] - 7s 760us/step - loss: 0.5610 - binary_accuracy: 0.7513 - val_loss: 0.5623 - val_binary_accuracy: 0.7501\n",
      "Epoch 73/100\n",
      "8851/8851 [==============================] - 7s 764us/step - loss: 0.5610 - binary_accuracy: 0.7513 - val_loss: 0.5629 - val_binary_accuracy: 0.7501\n",
      "Epoch 74/100\n",
      "8851/8851 [==============================] - 7s 759us/step - loss: 0.5610 - binary_accuracy: 0.7513 - val_loss: 0.5624 - val_binary_accuracy: 0.7501\n",
      "Epoch 75/100\n",
      "8851/8851 [==============================] - 7s 760us/step - loss: 0.5610 - binary_accuracy: 0.7513 - val_loss: 0.5623 - val_binary_accuracy: 0.7501\n",
      "Epoch 76/100\n",
      "8851/8851 [==============================] - 7s 773us/step - loss: 0.5610 - binary_accuracy: 0.7513 - val_loss: 0.5623 - val_binary_accuracy: 0.7501\n",
      "Epoch 77/100\n",
      "8851/8851 [==============================] - 7s 768us/step - loss: 0.5610 - binary_accuracy: 0.7513 - val_loss: 0.5623 - val_binary_accuracy: 0.7501\n",
      "Epoch 78/100\n",
      "8851/8851 [==============================] - 7s 763us/step - loss: 0.5610 - binary_accuracy: 0.7513 - val_loss: 0.5624 - val_binary_accuracy: 0.7501\n",
      "Epoch 79/100\n",
      "8851/8851 [==============================] - 7s 808us/step - loss: 0.5610 - binary_accuracy: 0.7513 - val_loss: 0.5623 - val_binary_accuracy: 0.7501\n",
      "Epoch 80/100\n",
      "8851/8851 [==============================] - 7s 765us/step - loss: 0.5610 - binary_accuracy: 0.7513 - val_loss: 0.5623 - val_binary_accuracy: 0.7501\n",
      "Epoch 81/100\n",
      "8851/8851 [==============================] - 7s 754us/step - loss: 0.5610 - binary_accuracy: 0.7513 - val_loss: 0.5623 - val_binary_accuracy: 0.7501\n",
      "Epoch 82/100\n",
      "8851/8851 [==============================] - 7s 776us/step - loss: 0.5610 - binary_accuracy: 0.7513 - val_loss: 0.5625 - val_binary_accuracy: 0.7501\n",
      "Epoch 83/100\n",
      "8851/8851 [==============================] - 7s 780us/step - loss: 0.5610 - binary_accuracy: 0.7513 - val_loss: 0.5623 - val_binary_accuracy: 0.7501\n",
      "Epoch 84/100\n",
      "8851/8851 [==============================] - 7s 762us/step - loss: 0.5610 - binary_accuracy: 0.7513 - val_loss: 0.5624 - val_binary_accuracy: 0.7501\n",
      "Epoch 85/100\n",
      "8851/8851 [==============================] - 7s 757us/step - loss: 0.5610 - binary_accuracy: 0.7513 - val_loss: 0.5623 - val_binary_accuracy: 0.7501\n",
      "Epoch 86/100\n",
      "8851/8851 [==============================] - 7s 754us/step - loss: 0.5610 - binary_accuracy: 0.7513 - val_loss: 0.5623 - val_binary_accuracy: 0.7501\n",
      "Epoch 87/100\n",
      "8851/8851 [==============================] - 7s 767us/step - loss: 0.5610 - binary_accuracy: 0.7513 - val_loss: 0.5624 - val_binary_accuracy: 0.7501\n",
      "Epoch 88/100\n",
      "8851/8851 [==============================] - 7s 777us/step - loss: 0.5610 - binary_accuracy: 0.7513 - val_loss: 0.5629 - val_binary_accuracy: 0.7501\n",
      "Epoch 89/100\n",
      "8851/8851 [==============================] - 7s 754us/step - loss: 0.5610 - binary_accuracy: 0.7513 - val_loss: 0.5623 - val_binary_accuracy: 0.7501\n",
      "Epoch 90/100\n",
      "8851/8851 [==============================] - 7s 755us/step - loss: 0.5610 - binary_accuracy: 0.7513 - val_loss: 0.5623 - val_binary_accuracy: 0.7501\n",
      "Epoch 91/100\n",
      "8851/8851 [==============================] - 7s 752us/step - loss: 0.5610 - binary_accuracy: 0.7513 - val_loss: 0.5623 - val_binary_accuracy: 0.7501\n",
      "Epoch 92/100\n",
      "8851/8851 [==============================] - 7s 782us/step - loss: 0.5610 - binary_accuracy: 0.7513 - val_loss: 0.5625 - val_binary_accuracy: 0.7501\n",
      "Epoch 93/100\n",
      "8851/8851 [==============================] - 7s 754us/step - loss: 0.5610 - binary_accuracy: 0.7513 - val_loss: 0.5625 - val_binary_accuracy: 0.7501\n",
      "Epoch 94/100\n",
      "8851/8851 [==============================] - 7s 745us/step - loss: 0.5610 - binary_accuracy: 0.7513 - val_loss: 0.5623 - val_binary_accuracy: 0.7501\n",
      "Epoch 95/100\n",
      "8851/8851 [==============================] - 7s 752us/step - loss: 0.5610 - binary_accuracy: 0.7513 - val_loss: 0.5623 - val_binary_accuracy: 0.7501\n",
      "Epoch 96/100\n",
      "8851/8851 [==============================] - 7s 768us/step - loss: 0.5610 - binary_accuracy: 0.7513 - val_loss: 0.5623 - val_binary_accuracy: 0.7501\n",
      "Epoch 97/100\n",
      "8851/8851 [==============================] - 7s 770us/step - loss: 0.5610 - binary_accuracy: 0.7513 - val_loss: 0.5628 - val_binary_accuracy: 0.7501\n",
      "Epoch 98/100\n",
      "8851/8851 [==============================] - 7s 749us/step - loss: 0.5610 - binary_accuracy: 0.7513 - val_loss: 0.5624 - val_binary_accuracy: 0.7501\n",
      "Epoch 99/100\n",
      "8851/8851 [==============================] - 7s 753us/step - loss: 0.5610 - binary_accuracy: 0.7513 - val_loss: 0.5626 - val_binary_accuracy: 0.7501\n",
      "Epoch 100/100\n",
      "8851/8851 [==============================] - 7s 762us/step - loss: 0.5610 - binary_accuracy: 0.7513 - val_loss: 0.5623 - val_binary_accuracy: 0.7501\n"
     ]
    },
    {
     "data": {
      "text/plain": [
       "<keras.callbacks.History at 0x7f45e6d38070>"
      ]
     },
     "execution_count": 18,
     "metadata": {},
     "output_type": "execute_result"
    }
   ],
   "source": [
    "model_baseline.fit(X_train, y_train, epochs=100, verbose=1, batch_size=20,validation_split=0.2)"
   ]
  },
  {
   "cell_type": "code",
   "execution_count": 20,
   "id": "25f082b5",
   "metadata": {},
   "outputs": [
    {
     "name": "stdout",
     "output_type": "stream",
     "text": [
      "6915/6915 [==============================] - 3s 413us/step - loss: 0.5611 - binary_accuracy: 0.7511\n",
      "\n",
      "binary_accuracy: 75.11%\n"
     ]
    }
   ],
   "source": [
    "scores_train = model_baseline.evaluate(X_train, y_train)\n",
    "print(\"\\n%s: %.2f%%\" % (model_baseline.metrics_names[1], scores_train[1]*100))\n",
    "\n"
   ]
  },
  {
   "cell_type": "code",
   "execution_count": 23,
   "id": "68447683",
   "metadata": {},
   "outputs": [
    {
     "name": "stdout",
     "output_type": "stream",
     "text": [
      "1729/1729 [==============================] - 1s 412us/step - loss: 0.5612 - binary_accuracy: 0.7511\n",
      "\n",
      "binary_accuracy: 75.11%\n"
     ]
    }
   ],
   "source": [
    "scores_test = model_baseline.evaluate(X_test, y_test)\n",
    "print(\"\\n%s: %.2f%%\" % (model_baseline.metrics_names[1], scores_test[1]*100))\n"
   ]
  },
  {
   "cell_type": "code",
   "execution_count": null,
   "id": "db64c99b",
   "metadata": {},
   "outputs": [],
   "source": []
  }
 ],
 "metadata": {
  "kernelspec": {
   "display_name": "Python 3 (ipykernel)",
   "language": "python",
   "name": "python3"
  },
  "language_info": {
   "codemirror_mode": {
    "name": "ipython",
    "version": 3
   },
   "file_extension": ".py",
   "mimetype": "text/x-python",
   "name": "python",
   "nbconvert_exporter": "python",
   "pygments_lexer": "ipython3",
   "version": "3.8.10"
  }
 },
 "nbformat": 4,
 "nbformat_minor": 5
}
